{
 "cells": [
  {
   "cell_type": "markdown",
   "metadata": {},
   "source": [
    "### OLS vs KNN Regression"
   ]
  },
  {
   "cell_type": "code",
   "execution_count": 32,
   "metadata": {},
   "outputs": [],
   "source": [
    "from sklearn import neighbors\n",
    "from sklearn.linear_model import LinearRegression\n",
    "from sklearn.model_selection import train_test_split\n",
    "from sklearn.model_selection import cross_val_score\n",
    "from sklearn.metrics import mean_absolute_error\n",
    "from statsmodels.tools.eval_measures import mse, rmse\n",
    "\n",
    "import numpy as np\n",
    "import pandas as pd\n",
    "import matplotlib.pyplot as plt\n",
    "import seaborn as sns\n",
    "\n",
    "pd.options.display.max_rows = 999\n",
    "pd.set_option('display.max_columns', 500)\n",
    "\n",
    "pd.options.display.float_format = '{:.3f}'.format"
   ]
  },
  {
   "cell_type": "code",
   "execution_count": 33,
   "metadata": {},
   "outputs": [],
   "source": [
    "milage = pd.read_csv('data/Auto.csv')"
   ]
  },
  {
   "cell_type": "code",
   "execution_count": 34,
   "metadata": {},
   "outputs": [
    {
     "data": {
      "text/html": [
       "<div>\n",
       "<style scoped>\n",
       "    .dataframe tbody tr th:only-of-type {\n",
       "        vertical-align: middle;\n",
       "    }\n",
       "\n",
       "    .dataframe tbody tr th {\n",
       "        vertical-align: top;\n",
       "    }\n",
       "\n",
       "    .dataframe thead th {\n",
       "        text-align: right;\n",
       "    }\n",
       "</style>\n",
       "<table border=\"1\" class=\"dataframe\">\n",
       "  <thead>\n",
       "    <tr style=\"text-align: right;\">\n",
       "      <th></th>\n",
       "      <th>mpg</th>\n",
       "      <th>cylinders</th>\n",
       "      <th>displacement</th>\n",
       "      <th>horsepower</th>\n",
       "      <th>weight</th>\n",
       "      <th>acceleration</th>\n",
       "      <th>year</th>\n",
       "      <th>origin</th>\n",
       "      <th>name</th>\n",
       "    </tr>\n",
       "  </thead>\n",
       "  <tbody>\n",
       "    <tr>\n",
       "      <td>0</td>\n",
       "      <td>18.000</td>\n",
       "      <td>8</td>\n",
       "      <td>307.000</td>\n",
       "      <td>130</td>\n",
       "      <td>3504</td>\n",
       "      <td>12.000</td>\n",
       "      <td>70</td>\n",
       "      <td>1</td>\n",
       "      <td>chevrolet chevelle malibu</td>\n",
       "    </tr>\n",
       "    <tr>\n",
       "      <td>1</td>\n",
       "      <td>15.000</td>\n",
       "      <td>8</td>\n",
       "      <td>350.000</td>\n",
       "      <td>165</td>\n",
       "      <td>3693</td>\n",
       "      <td>11.500</td>\n",
       "      <td>70</td>\n",
       "      <td>1</td>\n",
       "      <td>buick skylark 320</td>\n",
       "    </tr>\n",
       "    <tr>\n",
       "      <td>2</td>\n",
       "      <td>18.000</td>\n",
       "      <td>8</td>\n",
       "      <td>318.000</td>\n",
       "      <td>150</td>\n",
       "      <td>3436</td>\n",
       "      <td>11.000</td>\n",
       "      <td>70</td>\n",
       "      <td>1</td>\n",
       "      <td>plymouth satellite</td>\n",
       "    </tr>\n",
       "    <tr>\n",
       "      <td>3</td>\n",
       "      <td>16.000</td>\n",
       "      <td>8</td>\n",
       "      <td>304.000</td>\n",
       "      <td>150</td>\n",
       "      <td>3433</td>\n",
       "      <td>12.000</td>\n",
       "      <td>70</td>\n",
       "      <td>1</td>\n",
       "      <td>amc rebel sst</td>\n",
       "    </tr>\n",
       "    <tr>\n",
       "      <td>4</td>\n",
       "      <td>17.000</td>\n",
       "      <td>8</td>\n",
       "      <td>302.000</td>\n",
       "      <td>140</td>\n",
       "      <td>3449</td>\n",
       "      <td>10.500</td>\n",
       "      <td>70</td>\n",
       "      <td>1</td>\n",
       "      <td>ford torino</td>\n",
       "    </tr>\n",
       "  </tbody>\n",
       "</table>\n",
       "</div>"
      ],
      "text/plain": [
       "     mpg  cylinders  displacement horsepower  weight  acceleration  year  \\\n",
       "0 18.000          8       307.000        130    3504        12.000    70   \n",
       "1 15.000          8       350.000        165    3693        11.500    70   \n",
       "2 18.000          8       318.000        150    3436        11.000    70   \n",
       "3 16.000          8       304.000        150    3433        12.000    70   \n",
       "4 17.000          8       302.000        140    3449        10.500    70   \n",
       "\n",
       "   origin                       name  \n",
       "0       1  chevrolet chevelle malibu  \n",
       "1       1          buick skylark 320  \n",
       "2       1         plymouth satellite  \n",
       "3       1              amc rebel sst  \n",
       "4       1                ford torino  "
      ]
     },
     "execution_count": 34,
     "metadata": {},
     "output_type": "execute_result"
    }
   ],
   "source": [
    "milage.head()"
   ]
  },
  {
   "cell_type": "code",
   "execution_count": 113,
   "metadata": {},
   "outputs": [
    {
     "data": {
      "text/plain": [
       "mpg             float64\n",
       "cylinders         int64\n",
       "displacement    float64\n",
       "horsepower       object\n",
       "weight            int64\n",
       "acceleration    float64\n",
       "year              int64\n",
       "origin            int64\n",
       "name             object\n",
       "dtype: object"
      ]
     },
     "execution_count": 113,
     "metadata": {},
     "output_type": "execute_result"
    }
   ],
   "source": [
    "milage.dtypes"
   ]
  },
  {
   "cell_type": "code",
   "execution_count": 114,
   "metadata": {},
   "outputs": [],
   "source": [
    "Y = milage.mpg\n",
    "\n",
    "X = milage.iloc[:,[1,4,5]]"
   ]
  },
  {
   "cell_type": "code",
   "execution_count": 115,
   "metadata": {},
   "outputs": [
    {
     "data": {
      "text/html": [
       "<div>\n",
       "<style scoped>\n",
       "    .dataframe tbody tr th:only-of-type {\n",
       "        vertical-align: middle;\n",
       "    }\n",
       "\n",
       "    .dataframe tbody tr th {\n",
       "        vertical-align: top;\n",
       "    }\n",
       "\n",
       "    .dataframe thead th {\n",
       "        text-align: right;\n",
       "    }\n",
       "</style>\n",
       "<table border=\"1\" class=\"dataframe\">\n",
       "  <thead>\n",
       "    <tr style=\"text-align: right;\">\n",
       "      <th></th>\n",
       "      <th>cylinders</th>\n",
       "      <th>weight</th>\n",
       "      <th>acceleration</th>\n",
       "    </tr>\n",
       "  </thead>\n",
       "  <tbody>\n",
       "    <tr>\n",
       "      <td>0</td>\n",
       "      <td>8</td>\n",
       "      <td>3504</td>\n",
       "      <td>12.000</td>\n",
       "    </tr>\n",
       "    <tr>\n",
       "      <td>1</td>\n",
       "      <td>8</td>\n",
       "      <td>3693</td>\n",
       "      <td>11.500</td>\n",
       "    </tr>\n",
       "    <tr>\n",
       "      <td>2</td>\n",
       "      <td>8</td>\n",
       "      <td>3436</td>\n",
       "      <td>11.000</td>\n",
       "    </tr>\n",
       "    <tr>\n",
       "      <td>3</td>\n",
       "      <td>8</td>\n",
       "      <td>3433</td>\n",
       "      <td>12.000</td>\n",
       "    </tr>\n",
       "    <tr>\n",
       "      <td>4</td>\n",
       "      <td>8</td>\n",
       "      <td>3449</td>\n",
       "      <td>10.500</td>\n",
       "    </tr>\n",
       "  </tbody>\n",
       "</table>\n",
       "</div>"
      ],
      "text/plain": [
       "   cylinders  weight  acceleration\n",
       "0          8    3504        12.000\n",
       "1          8    3693        11.500\n",
       "2          8    3436        11.000\n",
       "3          8    3433        12.000\n",
       "4          8    3449        10.500"
      ]
     },
     "execution_count": 115,
     "metadata": {},
     "output_type": "execute_result"
    }
   ],
   "source": [
    "X.head()"
   ]
  },
  {
   "cell_type": "code",
   "execution_count": 116,
   "metadata": {},
   "outputs": [
    {
     "data": {
      "text/plain": [
       "0   18.000\n",
       "1   15.000\n",
       "2   18.000\n",
       "3   16.000\n",
       "4   17.000\n",
       "Name: mpg, dtype: float64"
      ]
     },
     "execution_count": 116,
     "metadata": {},
     "output_type": "execute_result"
    }
   ],
   "source": [
    "Y.head()"
   ]
  },
  {
   "cell_type": "code",
   "execution_count": 117,
   "metadata": {},
   "outputs": [
    {
     "name": "stdout",
     "output_type": "stream",
     "text": [
      "The number of observations in training set is 317\n",
      "The number of observations in test set is 80\n"
     ]
    }
   ],
   "source": [
    "# split data\n",
    "X_train, X_test, y_train, y_test = train_test_split(X, Y, test_size = 0.2, random_state = 123)\n",
    "\n",
    "print(\"The number of observations in training set is {}\".format(X_train.shape[0]))\n",
    "print(\"The number of observations in test set is {}\".format(X_test.shape[0]))"
   ]
  },
  {
   "cell_type": "markdown",
   "metadata": {},
   "source": [
    "### Linear Regression Model"
   ]
  },
  {
   "cell_type": "code",
   "execution_count": 118,
   "metadata": {},
   "outputs": [
    {
     "name": "stdout",
     "output_type": "stream",
     "text": [
      "R-squared of the model in the training set is: 0.6959199745032396\n",
      "-----Test set statistics-----\n",
      "R-squared of the model in the test set is: 0.7116940969939705\n",
      "Mean absolute error of the prediction is: 2.878100691149599\n",
      "Mean squared error of the prediction is: 17.504474431414174\n",
      "Root mean squared error of the prediction is: 4.183834895333965\n",
      "Mean absolute percentage error of the prediction is: 11.955216087449404\n"
     ]
    }
   ],
   "source": [
    "# We fit an OLS model using sklearn\n",
    "lrm = LinearRegression()\n",
    "lrm.fit(X_train, y_train)\n",
    "\n",
    "# We are making predictions here\n",
    "y_preds_train = lrm.predict(X_train)\n",
    "y_preds_test = lrm.predict(X_test)\n",
    "\n",
    "print(\"R-squared of the model in the training set is: {}\".format(lrm.score(X_train, y_train)))\n",
    "print(\"-----Test set statistics-----\")\n",
    "print(\"R-squared of the model in the test set is: {}\".format(lrm.score(X_test, y_test)))\n",
    "print(\"Mean absolute error of the prediction is: {}\".format(mean_absolute_error(y_test, y_preds_test)))\n",
    "print(\"Mean squared error of the prediction is: {}\".format(mse(y_test, y_preds_test)))\n",
    "print(\"Root mean squared error of the prediction is: {}\".format(rmse(y_test, y_preds_test)))\n",
    "print(\"Mean absolute percentage error of the prediction is: {}\".format(np.mean(np.abs((y_test - y_preds_test) / y_test)) * 100))"
   ]
  },
  {
   "cell_type": "code",
   "execution_count": 119,
   "metadata": {},
   "outputs": [
    {
     "name": "stdout",
     "output_type": "stream",
     "text": [
      "0.30 (+/- 1.08)\n"
     ]
    }
   ],
   "source": [
    "score = cross_val_score(lrm, X, Y, cv=5)\n",
    "print(\"%0.2f (+/- %0.2f)\" % (score.mean(), score.std() * 2))"
   ]
  },
  {
   "cell_type": "code",
   "execution_count": 120,
   "metadata": {},
   "outputs": [
    {
     "data": {
      "text/plain": [
       "array([ 0.44953109,  0.34774392,  0.76514528,  0.67346586, -0.73297068])"
      ]
     },
     "execution_count": 120,
     "metadata": {},
     "output_type": "execute_result"
    }
   ],
   "source": [
    "score"
   ]
  },
  {
   "cell_type": "markdown",
   "metadata": {},
   "source": [
    "### KNN Model n_neighbors=20"
   ]
  },
  {
   "cell_type": "code",
   "execution_count": 121,
   "metadata": {},
   "outputs": [
    {
     "name": "stdout",
     "output_type": "stream",
     "text": [
      "R-squared of the model in the training set is: 0.7294056628758515\n",
      "-----Test set statistics-----\n",
      "R-squared of the model in the test set is: 0.7140217119660037\n",
      "Mean absolute error of the prediction is: 2.9376874999999996\n",
      "Mean squared error of the prediction is: 17.363153437500003\n",
      "Root mean squared error of the prediction is: 4.166911738626101\n",
      "Mean absolute percentage error of the prediction is: 11.990349186074903\n"
     ]
    }
   ],
   "source": [
    "knn = neighbors.KNeighborsRegressor(n_neighbors=20)\n",
    "knn.fit(X, Y)\n",
    "\n",
    "# Trailing underscores are a common convention for a prediction.\n",
    "y_preds_train = knn.predict(X_train)\n",
    "y_preds_test = knn.predict(X_test)\n",
    "\n",
    "print(\"R-squared of the model in the training set is: {}\".format(knn.score(X_train, y_train)))\n",
    "print(\"-----Test set statistics-----\")\n",
    "print(\"R-squared of the model in the test set is: {}\".format(knn.score(X_test, y_test)))\n",
    "print(\"Mean absolute error of the prediction is: {}\".format(mean_absolute_error(y_test, y_preds_test)))\n",
    "print(\"Mean squared error of the prediction is: {}\".format(mse(y_test, y_preds_test)))\n",
    "print(\"Root mean squared error of the prediction is: {}\".format(rmse(y_test, y_preds_test)))\n",
    "print(\"Mean absolute percentage error of the prediction is: {}\".format(np.mean(np.abs((y_test - y_preds_test) / y_test)) * 100))"
   ]
  },
  {
   "cell_type": "code",
   "execution_count": 122,
   "metadata": {},
   "outputs": [
    {
     "name": "stdout",
     "output_type": "stream",
     "text": [
      "0.31 (+/- 1.18)\n"
     ]
    }
   ],
   "source": [
    "score = cross_val_score(knn, X, Y, cv=5)\n",
    "print(\"%0.2f (+/- %0.2f)\" % (score.mean(), score.std() * 2))"
   ]
  },
  {
   "cell_type": "code",
   "execution_count": 123,
   "metadata": {},
   "outputs": [
    {
     "data": {
      "text/plain": [
       "array([ 0.44771673,  0.41546285,  0.78498844,  0.72042151, -0.84336205])"
      ]
     },
     "execution_count": 123,
     "metadata": {},
     "output_type": "execute_result"
    }
   ],
   "source": [
    "score"
   ]
  },
  {
   "cell_type": "markdown",
   "metadata": {},
   "source": [
    "### KNN Model n_neighbors=10"
   ]
  },
  {
   "cell_type": "code",
   "execution_count": 124,
   "metadata": {},
   "outputs": [
    {
     "name": "stdout",
     "output_type": "stream",
     "text": [
      "R-squared of the model in the training set is: 0.7424871501812503\n",
      "-----Test set statistics-----\n",
      "R-squared of the model in the test set is: 0.7225406979373048\n",
      "Mean absolute error of the prediction is: 2.8661250000000003\n",
      "Mean squared error of the prediction is: 16.845923750000004\n",
      "Root mean squared error of the prediction is: 4.104378607048819\n",
      "Mean absolute percentage error of the prediction is: 11.80677337183074\n"
     ]
    }
   ],
   "source": [
    "knn = neighbors.KNeighborsRegressor(n_neighbors=10)\n",
    "knn.fit(X, Y)\n",
    "\n",
    "# Trailing underscores are a common convention for a prediction.\n",
    "y_preds_train = knn.predict(X_train)\n",
    "y_preds_test = knn.predict(X_test)\n",
    "\n",
    "print(\"R-squared of the model in the training set is: {}\".format(knn.score(X_train, y_train)))\n",
    "print(\"-----Test set statistics-----\")\n",
    "print(\"R-squared of the model in the test set is: {}\".format(knn.score(X_test, y_test)))\n",
    "print(\"Mean absolute error of the prediction is: {}\".format(mean_absolute_error(y_test, y_preds_test)))\n",
    "print(\"Mean squared error of the prediction is: {}\".format(mse(y_test, y_preds_test)))\n",
    "print(\"Root mean squared error of the prediction is: {}\".format(rmse(y_test, y_preds_test)))\n",
    "print(\"Mean absolute percentage error of the prediction is: {}\".format(np.mean(np.abs((y_test - y_preds_test) / y_test)) * 100))"
   ]
  },
  {
   "cell_type": "code",
   "execution_count": 125,
   "metadata": {},
   "outputs": [
    {
     "name": "stdout",
     "output_type": "stream",
     "text": [
      "0.30 (+/- 1.24)\n"
     ]
    }
   ],
   "source": [
    "score = cross_val_score(knn, X, Y, cv=5)\n",
    "print(\"%0.2f (+/- %0.2f)\" % (score.mean(), score.std() * 2))"
   ]
  },
  {
   "cell_type": "code",
   "execution_count": 126,
   "metadata": {},
   "outputs": [
    {
     "data": {
      "text/plain": [
       "array([ 0.42481427,  0.47974404,  0.77029552,  0.71624922, -0.91133331])"
      ]
     },
     "execution_count": 126,
     "metadata": {},
     "output_type": "execute_result"
    }
   ],
   "source": [
    "score"
   ]
  },
  {
   "cell_type": "markdown",
   "metadata": {},
   "source": [
    "### KNN Model n_neighbors=3"
   ]
  },
  {
   "cell_type": "code",
   "execution_count": 127,
   "metadata": {},
   "outputs": [
    {
     "name": "stdout",
     "output_type": "stream",
     "text": [
      "R-squared of the model in the training set is: 0.8120843979520599\n",
      "-----Test set statistics-----\n",
      "R-squared of the model in the test set is: 0.7607883134856149\n",
      "Mean absolute error of the prediction is: 2.7175\n",
      "Mean squared error of the prediction is: 14.523722222222224\n",
      "Root mean squared error of the prediction is: 3.811000160354526\n",
      "Mean absolute percentage error of the prediction is: 10.989400635760767\n"
     ]
    }
   ],
   "source": [
    "knn = neighbors.KNeighborsRegressor(n_neighbors=3)\n",
    "knn.fit(X, Y)\n",
    "\n",
    "# Trailing underscores are a common convention for a prediction.\n",
    "y_preds_train = knn.predict(X_train)\n",
    "y_preds_test = knn.predict(X_test)\n",
    "\n",
    "print(\"R-squared of the model in the training set is: {}\".format(knn.score(X_train, y_train)))\n",
    "print(\"-----Test set statistics-----\")\n",
    "print(\"R-squared of the model in the test set is: {}\".format(knn.score(X_test, y_test)))\n",
    "print(\"Mean absolute error of the prediction is: {}\".format(mean_absolute_error(y_test, y_preds_test)))\n",
    "print(\"Mean squared error of the prediction is: {}\".format(mse(y_test, y_preds_test)))\n",
    "print(\"Root mean squared error of the prediction is: {}\".format(rmse(y_test, y_preds_test)))\n",
    "print(\"Mean absolute percentage error of the prediction is: {}\".format(np.mean(np.abs((y_test - y_preds_test) / y_test)) * 100))"
   ]
  },
  {
   "cell_type": "code",
   "execution_count": 128,
   "metadata": {},
   "outputs": [
    {
     "name": "stdout",
     "output_type": "stream",
     "text": [
      "0.18 (+/- 1.24)\n"
     ]
    }
   ],
   "source": [
    "score = cross_val_score(knn, X, Y, cv=5)\n",
    "print(\"%0.2f (+/- %0.2f)\" % (score.mean(), score.std() * 2))"
   ]
  },
  {
   "cell_type": "code",
   "execution_count": 129,
   "metadata": {},
   "outputs": [
    {
     "data": {
      "text/plain": [
       "array([ 0.40603588,  0.14922127,  0.69137651,  0.659147  , -0.9981415 ])"
      ]
     },
     "execution_count": 129,
     "metadata": {},
     "output_type": "execute_result"
    }
   ],
   "source": [
    "score"
   ]
  },
  {
   "cell_type": "markdown",
   "metadata": {},
   "source": [
    "### KNN model with weights"
   ]
  },
  {
   "cell_type": "code",
   "execution_count": 136,
   "metadata": {},
   "outputs": [
    {
     "name": "stdout",
     "output_type": "stream",
     "text": [
      "R-squared of the model in the training set is: 1.0\n",
      "-----Test set statistics-----\n",
      "R-squared of the model in the test set is: 0.9990735393337498\n",
      "Mean absolute error of the prediction is: 0.0375\n",
      "Mean squared error of the prediction is: 0.05625\n",
      "Root mean squared error of the prediction is: 0.23717082451262844\n",
      "Mean absolute percentage error of the prediction is: 0.24422268907563024\n"
     ]
    }
   ],
   "source": [
    "knn = neighbors.KNeighborsRegressor(n_neighbors=10, weights='distance')\n",
    "knn.fit(X, Y)\n",
    "\n",
    "# Trailing underscores are a common convention for a prediction.\n",
    "y_preds_train = knn.predict(X_train)\n",
    "y_preds_test = knn.predict(X_test)\n",
    "\n",
    "print(\"R-squared of the model in the training set is: {}\".format(knn.score(X_train, y_train)))\n",
    "print(\"-----Test set statistics-----\")\n",
    "print(\"R-squared of the model in the test set is: {}\".format(knn.score(X_test, y_test)))\n",
    "print(\"Mean absolute error of the prediction is: {}\".format(mean_absolute_error(y_test, y_preds_test)))\n",
    "print(\"Mean squared error of the prediction is: {}\".format(mse(y_test, y_preds_test)))\n",
    "print(\"Root mean squared error of the prediction is: {}\".format(rmse(y_test, y_preds_test)))\n",
    "print(\"Mean absolute percentage error of the prediction is: {}\".format(np.mean(np.abs((y_test - y_preds_test) / y_test)) * 100))"
   ]
  },
  {
   "cell_type": "code",
   "execution_count": 131,
   "metadata": {},
   "outputs": [
    {
     "name": "stdout",
     "output_type": "stream",
     "text": [
      "0.23 (+/- 1.29)\n"
     ]
    }
   ],
   "source": [
    "score = cross_val_score(knn, X, Y, cv=5)\n",
    "print(\"%0.2f (+/- %0.2f)\" % (score.mean(), score.std() * 2))"
   ]
  },
  {
   "cell_type": "code",
   "execution_count": 132,
   "metadata": {},
   "outputs": [
    {
     "data": {
      "text/plain": [
       "array([ 0.42536642,  0.31997815,  0.73463618,  0.70575255, -1.01871641])"
      ]
     },
     "execution_count": 132,
     "metadata": {},
     "output_type": "execute_result"
    }
   ],
   "source": [
    "score"
   ]
  },
  {
   "cell_type": "markdown",
   "metadata": {},
   "source": [
    "### Comparison/Contrast\n",
    "\n",
    "1. each of the models has a roughly similar difference between the training set and test set\n",
    "1. as the n_neighbors variable increases for the KNN models, the training and test scores increase, however the cross validation score decreases, and the standard deviation of the cross validation score also increases.\n",
    "1. I'm not sure there is a situation where I would absolutely choose one over the other.  Overall, the KNN models have better R-squared values, but this comes at at a cost with cross validation scores having a much higher standard deviation than linear regression. \n",
    "\n"
   ]
  },
  {
   "cell_type": "code",
   "execution_count": null,
   "metadata": {},
   "outputs": [],
   "source": [
    "df.nlargest(10, ['Weight']) \n"
   ]
  },
  {
   "cell_type": "code",
   "execution_count": 144,
   "metadata": {},
   "outputs": [],
   "source": [
    "milage.reset_index(inplace=True)"
   ]
  },
  {
   "cell_type": "code",
   "execution_count": 147,
   "metadata": {},
   "outputs": [
    {
     "data": {
      "text/plain": [
       "397"
      ]
     },
     "execution_count": 147,
     "metadata": {},
     "output_type": "execute_result"
    }
   ],
   "source": [
    "milage.index.shape[0]"
   ]
  },
  {
   "cell_type": "code",
   "execution_count": 149,
   "metadata": {},
   "outputs": [],
   "source": [
    "from math import ceil"
   ]
  },
  {
   "cell_type": "code",
   "execution_count": 150,
   "metadata": {},
   "outputs": [
    {
     "data": {
      "text/plain": [
       "40"
      ]
     },
     "execution_count": 150,
     "metadata": {},
     "output_type": "execute_result"
    }
   ],
   "source": [
    "ceil(.1*milage.index.shape[0])"
   ]
  },
  {
   "cell_type": "code",
   "execution_count": 152,
   "metadata": {},
   "outputs": [
    {
     "name": "stdout",
     "output_type": "stream",
     "text": [
      "40\n",
      "80\n",
      "120\n",
      "179\n",
      "239\n"
     ]
    }
   ],
   "source": [
    "percentages = [.1,\n",
    "              .2,\n",
    "              .3,\n",
    "              .45,\n",
    "               .6]\n",
    "\n",
    "for percent in percentages: \n",
    "    print(ceil(percent*milage.index.shape[0]))"
   ]
  },
  {
   "cell_type": "code",
   "execution_count": 176,
   "metadata": {},
   "outputs": [
    {
     "data": {
      "text/plain": [
       "Int64Index([ 53, 129, 131, 144, 145, 151, 181, 198, 204, 216, 220, 238, 246,\n",
       "            278, 293, 294, 301, 303, 308, 311, 317, 319, 321, 331, 333, 337,\n",
       "            346, 349, 353, 355, 356, 357, 358, 369, 370, 376, 381, 383, 389,\n",
       "            394],\n",
       "           dtype='int64')"
      ]
     },
     "execution_count": 176,
     "metadata": {},
     "output_type": "execute_result"
    }
   ],
   "source": [
    "milage.nlargest(ceil(.2 * milage.mpg.shape[0]),['mpg']).index.difference(milage.nlargest(ceil(.1 * milage.mpg.shape[0]),['mpg']).index\n",
    "\n",
    ")\n",
    "\n",
    "# df1.index.difference(df2.index)\n",
    "\n",
    "# - milage.nlargest(ceil(.1 * milage.mpg.shape[0]),['mpg'])"
   ]
  },
  {
   "cell_type": "code",
   "execution_count": 175,
   "metadata": {},
   "outputs": [
    {
     "data": {
      "text/plain": [
       "Int64Index([322, 329, 325, 393, 326, 244, 309, 330, 324, 247, 343, 344, 310,\n",
       "            377, 382, 384, 386, 348, 304, 312, 320, 347, 375, 327, 245, 248,\n",
       "            218, 374, 378, 379, 380, 390, 295, 345,  54, 335, 350, 302, 354,\n",
       "            351],\n",
       "           dtype='int64')"
      ]
     },
     "execution_count": 175,
     "metadata": {},
     "output_type": "execute_result"
    }
   ],
   "source": [
    "milage.nlargest(ceil(.1 * milage.mpg.shape[0]),['mpg']).index"
   ]
  },
  {
   "cell_type": "code",
   "execution_count": null,
   "metadata": {},
   "outputs": [],
   "source": [
    "milage.nlargest(.1*milage.index.shape[0])"
   ]
  },
  {
   "cell_type": "code",
   "execution_count": 161,
   "metadata": {},
   "outputs": [
    {
     "data": {
      "text/plain": [
       "397"
      ]
     },
     "execution_count": 161,
     "metadata": {},
     "output_type": "execute_result"
    }
   ],
   "source": [
    "milage.mpg.shape[0]"
   ]
  },
  {
   "cell_type": "code",
   "execution_count": 198,
   "metadata": {},
   "outputs": [],
   "source": [
    "milage.sort_values(by='mpg', ascending=False, inplace=True)"
   ]
  },
  {
   "cell_type": "code",
   "execution_count": 199,
   "metadata": {},
   "outputs": [],
   "source": [
    "cut_labels = ['0 - 10%', '11 - 20%', '21 - 30%', '31 - 45%', '46- 60%', '60% +']\n",
    "cut_bins = [0,\n",
    "            .1 * milage.index.shape[0],\n",
    "              .2 * milage.index.shape[0],\n",
    "              .3 * milage.index.shape[0],\n",
    "              .45 * milage.index.shape[0],\n",
    "               .6 * milage.index.shape[0],\n",
    "           milage.index.shape[0]]\n",
    "\n",
    "milage['bins'] = pd.cut(milage.index, bins=cut_bins, labels=cut_labels)"
   ]
  },
  {
   "cell_type": "code",
   "execution_count": 200,
   "metadata": {},
   "outputs": [
    {
     "data": {
      "text/html": [
       "<div>\n",
       "<style scoped>\n",
       "    .dataframe tbody tr th:only-of-type {\n",
       "        vertical-align: middle;\n",
       "    }\n",
       "\n",
       "    .dataframe tbody tr th {\n",
       "        vertical-align: top;\n",
       "    }\n",
       "\n",
       "    .dataframe thead th {\n",
       "        text-align: right;\n",
       "    }\n",
       "</style>\n",
       "<table border=\"1\" class=\"dataframe\">\n",
       "  <thead>\n",
       "    <tr style=\"text-align: right;\">\n",
       "      <th></th>\n",
       "      <th>index</th>\n",
       "      <th>mpg</th>\n",
       "      <th>cylinders</th>\n",
       "      <th>displacement</th>\n",
       "      <th>horsepower</th>\n",
       "      <th>weight</th>\n",
       "      <th>acceleration</th>\n",
       "      <th>year</th>\n",
       "      <th>origin</th>\n",
       "      <th>name</th>\n",
       "      <th>bins</th>\n",
       "    </tr>\n",
       "  </thead>\n",
       "  <tbody>\n",
       "    <tr>\n",
       "      <td>322</td>\n",
       "      <td>322</td>\n",
       "      <td>46.600</td>\n",
       "      <td>4</td>\n",
       "      <td>86.000</td>\n",
       "      <td>65</td>\n",
       "      <td>2110</td>\n",
       "      <td>17.900</td>\n",
       "      <td>80</td>\n",
       "      <td>3</td>\n",
       "      <td>mazda glc</td>\n",
       "      <td>60% +</td>\n",
       "    </tr>\n",
       "    <tr>\n",
       "      <td>329</td>\n",
       "      <td>329</td>\n",
       "      <td>44.600</td>\n",
       "      <td>4</td>\n",
       "      <td>91.000</td>\n",
       "      <td>67</td>\n",
       "      <td>1850</td>\n",
       "      <td>13.800</td>\n",
       "      <td>80</td>\n",
       "      <td>3</td>\n",
       "      <td>honda civic 1500 gl</td>\n",
       "      <td>60% +</td>\n",
       "    </tr>\n",
       "    <tr>\n",
       "      <td>325</td>\n",
       "      <td>325</td>\n",
       "      <td>44.300</td>\n",
       "      <td>4</td>\n",
       "      <td>90.000</td>\n",
       "      <td>48</td>\n",
       "      <td>2085</td>\n",
       "      <td>21.700</td>\n",
       "      <td>80</td>\n",
       "      <td>2</td>\n",
       "      <td>vw rabbit c (diesel)</td>\n",
       "      <td>60% +</td>\n",
       "    </tr>\n",
       "    <tr>\n",
       "      <td>393</td>\n",
       "      <td>393</td>\n",
       "      <td>44.000</td>\n",
       "      <td>4</td>\n",
       "      <td>97.000</td>\n",
       "      <td>52</td>\n",
       "      <td>2130</td>\n",
       "      <td>24.600</td>\n",
       "      <td>82</td>\n",
       "      <td>2</td>\n",
       "      <td>vw pickup</td>\n",
       "      <td>60% +</td>\n",
       "    </tr>\n",
       "    <tr>\n",
       "      <td>326</td>\n",
       "      <td>326</td>\n",
       "      <td>43.400</td>\n",
       "      <td>4</td>\n",
       "      <td>90.000</td>\n",
       "      <td>48</td>\n",
       "      <td>2335</td>\n",
       "      <td>23.700</td>\n",
       "      <td>80</td>\n",
       "      <td>2</td>\n",
       "      <td>vw dasher (diesel)</td>\n",
       "      <td>60% +</td>\n",
       "    </tr>\n",
       "  </tbody>\n",
       "</table>\n",
       "</div>"
      ],
      "text/plain": [
       "     index    mpg  cylinders  displacement horsepower  weight  acceleration  \\\n",
       "322    322 46.600          4        86.000         65    2110        17.900   \n",
       "329    329 44.600          4        91.000         67    1850        13.800   \n",
       "325    325 44.300          4        90.000         48    2085        21.700   \n",
       "393    393 44.000          4        97.000         52    2130        24.600   \n",
       "326    326 43.400          4        90.000         48    2335        23.700   \n",
       "\n",
       "     year  origin                  name   bins  \n",
       "322    80       3             mazda glc  60% +  \n",
       "329    80       3   honda civic 1500 gl  60% +  \n",
       "325    80       2  vw rabbit c (diesel)  60% +  \n",
       "393    82       2             vw pickup  60% +  \n",
       "326    80       2    vw dasher (diesel)  60% +  "
      ]
     },
     "execution_count": 200,
     "metadata": {},
     "output_type": "execute_result"
    }
   ],
   "source": [
    "milage.head()"
   ]
  },
  {
   "cell_type": "code",
   "execution_count": 197,
   "metadata": {},
   "outputs": [
    {
     "data": {
      "text/html": [
       "<div>\n",
       "<style scoped>\n",
       "    .dataframe tbody tr th:only-of-type {\n",
       "        vertical-align: middle;\n",
       "    }\n",
       "\n",
       "    .dataframe tbody tr th {\n",
       "        vertical-align: top;\n",
       "    }\n",
       "\n",
       "    .dataframe thead th {\n",
       "        text-align: right;\n",
       "    }\n",
       "</style>\n",
       "<table border=\"1\" class=\"dataframe\">\n",
       "  <thead>\n",
       "    <tr style=\"text-align: right;\">\n",
       "      <th>bins</th>\n",
       "      <th>0 - 10%</th>\n",
       "      <th>11 - 20%</th>\n",
       "      <th>21 - 30%</th>\n",
       "      <th>31 - 45%</th>\n",
       "      <th>46- 60%</th>\n",
       "      <th>60% +</th>\n",
       "    </tr>\n",
       "    <tr>\n",
       "      <th>year</th>\n",
       "      <th></th>\n",
       "      <th></th>\n",
       "      <th></th>\n",
       "      <th></th>\n",
       "      <th></th>\n",
       "      <th></th>\n",
       "    </tr>\n",
       "  </thead>\n",
       "  <tbody>\n",
       "    <tr>\n",
       "      <td>70</td>\n",
       "      <td>17.679</td>\n",
       "      <td>nan</td>\n",
       "      <td>nan</td>\n",
       "      <td>nan</td>\n",
       "      <td>nan</td>\n",
       "      <td>nan</td>\n",
       "    </tr>\n",
       "    <tr>\n",
       "      <td>71</td>\n",
       "      <td>20.182</td>\n",
       "      <td>21.941</td>\n",
       "      <td>nan</td>\n",
       "      <td>nan</td>\n",
       "      <td>nan</td>\n",
       "      <td>nan</td>\n",
       "    </tr>\n",
       "    <tr>\n",
       "      <td>72</td>\n",
       "      <td>nan</td>\n",
       "      <td>17.217</td>\n",
       "      <td>25.600</td>\n",
       "      <td>nan</td>\n",
       "      <td>nan</td>\n",
       "      <td>nan</td>\n",
       "    </tr>\n",
       "    <tr>\n",
       "      <td>73</td>\n",
       "      <td>nan</td>\n",
       "      <td>nan</td>\n",
       "      <td>17.000</td>\n",
       "      <td>17.800</td>\n",
       "      <td>nan</td>\n",
       "      <td>nan</td>\n",
       "    </tr>\n",
       "    <tr>\n",
       "      <td>74</td>\n",
       "      <td>nan</td>\n",
       "      <td>nan</td>\n",
       "      <td>nan</td>\n",
       "      <td>22.704</td>\n",
       "      <td>nan</td>\n",
       "      <td>nan</td>\n",
       "    </tr>\n",
       "    <tr>\n",
       "      <td>75</td>\n",
       "      <td>nan</td>\n",
       "      <td>nan</td>\n",
       "      <td>nan</td>\n",
       "      <td>19.556</td>\n",
       "      <td>26.667</td>\n",
       "      <td>nan</td>\n",
       "    </tr>\n",
       "    <tr>\n",
       "      <td>76</td>\n",
       "      <td>nan</td>\n",
       "      <td>nan</td>\n",
       "      <td>nan</td>\n",
       "      <td>nan</td>\n",
       "      <td>21.574</td>\n",
       "      <td>nan</td>\n",
       "    </tr>\n",
       "    <tr>\n",
       "      <td>77</td>\n",
       "      <td>nan</td>\n",
       "      <td>nan</td>\n",
       "      <td>nan</td>\n",
       "      <td>nan</td>\n",
       "      <td>23.000</td>\n",
       "      <td>25.100</td>\n",
       "    </tr>\n",
       "    <tr>\n",
       "      <td>78</td>\n",
       "      <td>nan</td>\n",
       "      <td>nan</td>\n",
       "      <td>nan</td>\n",
       "      <td>nan</td>\n",
       "      <td>nan</td>\n",
       "      <td>24.061</td>\n",
       "    </tr>\n",
       "    <tr>\n",
       "      <td>79</td>\n",
       "      <td>nan</td>\n",
       "      <td>nan</td>\n",
       "      <td>nan</td>\n",
       "      <td>nan</td>\n",
       "      <td>nan</td>\n",
       "      <td>25.093</td>\n",
       "    </tr>\n",
       "    <tr>\n",
       "      <td>80</td>\n",
       "      <td>nan</td>\n",
       "      <td>nan</td>\n",
       "      <td>nan</td>\n",
       "      <td>nan</td>\n",
       "      <td>nan</td>\n",
       "      <td>33.697</td>\n",
       "    </tr>\n",
       "    <tr>\n",
       "      <td>81</td>\n",
       "      <td>nan</td>\n",
       "      <td>nan</td>\n",
       "      <td>nan</td>\n",
       "      <td>nan</td>\n",
       "      <td>nan</td>\n",
       "      <td>30.334</td>\n",
       "    </tr>\n",
       "    <tr>\n",
       "      <td>82</td>\n",
       "      <td>nan</td>\n",
       "      <td>nan</td>\n",
       "      <td>nan</td>\n",
       "      <td>nan</td>\n",
       "      <td>nan</td>\n",
       "      <td>32.000</td>\n",
       "    </tr>\n",
       "  </tbody>\n",
       "</table>\n",
       "</div>"
      ],
      "text/plain": [
       "bins  0 - 10%  11 - 20%  21 - 30%  31 - 45%  46- 60%  60% +\n",
       "year                                                       \n",
       "70     17.679       nan       nan       nan      nan    nan\n",
       "71     20.182    21.941       nan       nan      nan    nan\n",
       "72        nan    17.217    25.600       nan      nan    nan\n",
       "73        nan       nan    17.000    17.800      nan    nan\n",
       "74        nan       nan       nan    22.704      nan    nan\n",
       "75        nan       nan       nan    19.556   26.667    nan\n",
       "76        nan       nan       nan       nan   21.574    nan\n",
       "77        nan       nan       nan       nan   23.000 25.100\n",
       "78        nan       nan       nan       nan      nan 24.061\n",
       "79        nan       nan       nan       nan      nan 25.093\n",
       "80        nan       nan       nan       nan      nan 33.697\n",
       "81        nan       nan       nan       nan      nan 30.334\n",
       "82        nan       nan       nan       nan      nan 32.000"
      ]
     },
     "execution_count": 197,
     "metadata": {},
     "output_type": "execute_result"
    }
   ],
   "source": [
    "pd.crosstab(milage.year, milage.bins, values=milage.mpg, aggfunc='mean')"
   ]
  }
 ],
 "metadata": {
  "kernelspec": {
   "display_name": "Python 3",
   "language": "python",
   "name": "python3"
  },
  "language_info": {
   "codemirror_mode": {
    "name": "ipython",
    "version": 3
   },
   "file_extension": ".py",
   "mimetype": "text/x-python",
   "name": "python",
   "nbconvert_exporter": "python",
   "pygments_lexer": "ipython3",
   "version": "3.7.3"
  }
 },
 "nbformat": 4,
 "nbformat_minor": 4
}
