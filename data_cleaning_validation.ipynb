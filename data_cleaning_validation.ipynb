{
 "cells": [
  {
   "cell_type": "markdown",
   "metadata": {},
   "source": [
    "## Data Cleaning & Validation Exercise"
   ]
  },
  {
   "cell_type": "code",
   "execution_count": 2,
   "metadata": {},
   "outputs": [],
   "source": [
    "import pandas as pd\n",
    "import numpy as np\n",
    "import spacy\n",
    "# nlp = spacy.load('en_core_web_sm')\n",
    "import en_core_web_sm\n",
    "nlp = en_core_web_sm.load()\n",
    "\n",
    "pd.options.display.max_rows = 999"
   ]
  },
  {
   "cell_type": "code",
   "execution_count": 71,
   "metadata": {},
   "outputs": [],
   "source": [
    "df = pd.read_csv(r'data\\WELLCOME_APCspend2013_forThinkful.csv', encoding = 'unicode_escape')"
   ]
  },
  {
   "cell_type": "code",
   "execution_count": 4,
   "metadata": {},
   "outputs": [
    {
     "data": {
      "text/plain": [
       "PMID/PMCID                                             object\n",
       "Publisher                                              object\n",
       "Journal title                                          object\n",
       "Article title                                          object\n",
       "COST (£) charged to Wellcome (inc VAT when charged)    object\n",
       "dtype: object"
      ]
     },
     "execution_count": 4,
     "metadata": {},
     "output_type": "execute_result"
    }
   ],
   "source": [
    "# I'm going to want to change the cost column to int data type to be able to perform math\n",
    "df.dtypes"
   ]
  },
  {
   "cell_type": "code",
   "execution_count": 72,
   "metadata": {},
   "outputs": [],
   "source": [
    "# remove spaces, change to lowercase\n",
    "df.columns = df.columns.str.replace(' ', '_')\n",
    "df.columns = map(str.lower, df.columns)\n",
    "\n",
    "# abbreviate cost column\n",
    "df.rename(columns={'cost_(£)_charged_to_wellcome_(inc_vat_when_charged)': \"cost\"}, inplace=True)"
   ]
  },
  {
   "cell_type": "code",
   "execution_count": 6,
   "metadata": {},
   "outputs": [
    {
     "data": {
      "text/html": [
       "<div>\n",
       "<style scoped>\n",
       "    .dataframe tbody tr th:only-of-type {\n",
       "        vertical-align: middle;\n",
       "    }\n",
       "\n",
       "    .dataframe tbody tr th {\n",
       "        vertical-align: top;\n",
       "    }\n",
       "\n",
       "    .dataframe thead th {\n",
       "        text-align: right;\n",
       "    }\n",
       "</style>\n",
       "<table border=\"1\" class=\"dataframe\">\n",
       "  <thead>\n",
       "    <tr style=\"text-align: right;\">\n",
       "      <th></th>\n",
       "      <th>pmid/pmcid</th>\n",
       "      <th>publisher</th>\n",
       "      <th>journal_title</th>\n",
       "      <th>article_title</th>\n",
       "      <th>cost</th>\n",
       "    </tr>\n",
       "  </thead>\n",
       "  <tbody>\n",
       "    <tr>\n",
       "      <td>0</td>\n",
       "      <td>NaN</td>\n",
       "      <td>CUP</td>\n",
       "      <td>Psychological Medicine</td>\n",
       "      <td>Reduced parahippocampal cortical thickness in ...</td>\n",
       "      <td>£0.00</td>\n",
       "    </tr>\n",
       "    <tr>\n",
       "      <td>1</td>\n",
       "      <td>PMC3679557</td>\n",
       "      <td>ACS</td>\n",
       "      <td>Biomacromolecules</td>\n",
       "      <td>Structural characterization of a Model Gram-ne...</td>\n",
       "      <td>£2381.04</td>\n",
       "    </tr>\n",
       "    <tr>\n",
       "      <td>2</td>\n",
       "      <td>23043264  PMC3506128</td>\n",
       "      <td>ACS</td>\n",
       "      <td>J Med Chem</td>\n",
       "      <td>Fumaroylamino-4,5-epoxymorphinans and related ...</td>\n",
       "      <td>£642.56</td>\n",
       "    </tr>\n",
       "    <tr>\n",
       "      <td>3</td>\n",
       "      <td>23438330 PMC3646402</td>\n",
       "      <td>ACS</td>\n",
       "      <td>J Med Chem</td>\n",
       "      <td>Orvinols with mixed kappa/mu opioid receptor a...</td>\n",
       "      <td>£669.64</td>\n",
       "    </tr>\n",
       "    <tr>\n",
       "      <td>4</td>\n",
       "      <td>23438216 PMC3601604</td>\n",
       "      <td>ACS</td>\n",
       "      <td>J Org Chem</td>\n",
       "      <td>Regioselective opening of myo-inositol orthoes...</td>\n",
       "      <td>£685.88</td>\n",
       "    </tr>\n",
       "  </tbody>\n",
       "</table>\n",
       "</div>"
      ],
      "text/plain": [
       "              pmid/pmcid publisher           journal_title  \\\n",
       "0                    NaN       CUP  Psychological Medicine   \n",
       "1             PMC3679557       ACS       Biomacromolecules   \n",
       "2  23043264  PMC3506128        ACS              J Med Chem   \n",
       "3    23438330 PMC3646402       ACS              J Med Chem   \n",
       "4   23438216 PMC3601604        ACS              J Org Chem   \n",
       "\n",
       "                                       article_title      cost  \n",
       "0  Reduced parahippocampal cortical thickness in ...     £0.00  \n",
       "1  Structural characterization of a Model Gram-ne...  £2381.04  \n",
       "2  Fumaroylamino-4,5-epoxymorphinans and related ...   £642.56  \n",
       "3  Orvinols with mixed kappa/mu opioid receptor a...   £669.64  \n",
       "4  Regioselective opening of myo-inositol orthoes...   £685.88  "
      ]
     },
     "execution_count": 6,
     "metadata": {},
     "output_type": "execute_result"
    }
   ],
   "source": [
    "df.head()"
   ]
  },
  {
   "cell_type": "code",
   "execution_count": 7,
   "metadata": {},
   "outputs": [
    {
     "data": {
      "text/plain": [
       "(2127, 5)"
      ]
     },
     "execution_count": 7,
     "metadata": {},
     "output_type": "execute_result"
    }
   ],
   "source": [
    "df.shape"
   ]
  },
  {
   "cell_type": "markdown",
   "metadata": {},
   "source": [
    "## 1. Determine the five most common journals and the total articles for each. "
   ]
  },
  {
   "cell_type": "code",
   "execution_count": 8,
   "metadata": {},
   "outputs": [
    {
     "data": {
      "text/plain": [
       "PLoS One                                           92\n",
       "PLoS ONE                                           62\n",
       "Journal of Biological Chemistry                    48\n",
       "Nucleic Acids Research                             21\n",
       "Proceedings of the National Academy of Sciences    19\n",
       "Name: journal_title, dtype: int64"
      ]
     },
     "execution_count": 8,
     "metadata": {},
     "output_type": "execute_result"
    }
   ],
   "source": [
    "# text clearly isn't consistent between journal articles\n",
    "df.journal_title.value_counts().head()"
   ]
  },
  {
   "cell_type": "code",
   "execution_count": 9,
   "metadata": {},
   "outputs": [],
   "source": [
    "# lowercase journal names\n",
    "df.journal_title = df.journal_title.apply(lambda x: str(x).lower())\n",
    "\n",
    "# strip whitespace\n",
    "df.journal_title = df.journal_title.apply(lambda x: str(x).strip())"
   ]
  },
  {
   "cell_type": "code",
   "execution_count": 10,
   "metadata": {},
   "outputs": [
    {
     "data": {
      "text/plain": [
       "plos one                                           190\n",
       "journal of biological chemistry                     53\n",
       "neuroimage                                          29\n",
       "nucleic acids research                              26\n",
       "plos pathogens                                      24\n",
       "plos genetics                                       24\n",
       "proceedings of the national academy of sciences     22\n",
       "plos neglected tropical diseases                    20\n",
       "nature communications                               19\n",
       "human molecular genetics                            19\n",
       "movement disorders                                  15\n",
       "bmc public health                                   14\n",
       "brain                                               14\n",
       "journal of neuroscience                             13\n",
       "developmental cell                                  12\n",
       "biochemical journal                                 12\n",
       "current biology                                     11\n",
       "journal of general virology                         11\n",
       "malaria journal                                     10\n",
       "bmj                                                 10\n",
       "Name: journal_title, dtype: int64"
      ]
     },
     "execution_count": 10,
     "metadata": {},
     "output_type": "execute_result"
    }
   ],
   "source": [
    "df.journal_title.value_counts().head(20)"
   ]
  },
  {
   "cell_type": "code",
   "execution_count": 11,
   "metadata": {},
   "outputs": [
    {
     "data": {
      "text/plain": [
       "plos one                            190\n",
       "plos genetics                        24\n",
       "plos pathogens                       24\n",
       "plos neglected tropical diseases     20\n",
       "plosone                               9\n",
       "plos computational biology            9\n",
       "plos 1                                7\n",
       "plos                                  4\n",
       "plos medicine                         4\n",
       "plos biology                          2\n",
       "plos  computational biology           1\n",
       "plos ntd                              1\n",
       "plos  one                             1\n",
       "plos negected tropical diseases       1\n",
       "plos medicine journal                 1\n",
       "Name: journal_title, dtype: int64"
      ]
     },
     "execution_count": 11,
     "metadata": {},
     "output_type": "execute_result"
    }
   ],
   "source": [
    "# how many journal articles contain 'plos'\n",
    "df.loc[df.journal_title.str.contains('plos'), 'journal_title'].value_counts()"
   ]
  },
  {
   "cell_type": "code",
   "execution_count": 12,
   "metadata": {},
   "outputs": [],
   "source": [
    "# create list of values to change based on similarities\n",
    "plos_one = ['plos 1',\n",
    "            'plos  one',\n",
    "            'plosone',\n",
    "            'plos']"
   ]
  },
  {
   "cell_type": "code",
   "execution_count": 13,
   "metadata": {},
   "outputs": [],
   "source": [
    "# is there a better way to do this with a lambda function?\n",
    "df.loc[df.journal_title.isin(plos_one), 'journal_title'] = 'plos one'"
   ]
  },
  {
   "cell_type": "code",
   "execution_count": 14,
   "metadata": {},
   "outputs": [
    {
     "data": {
      "text/plain": [
       "plos one                            211\n",
       "plos genetics                        24\n",
       "plos pathogens                       24\n",
       "plos neglected tropical diseases     20\n",
       "plos computational biology            9\n",
       "plos medicine                         4\n",
       "plos biology                          2\n",
       "plos  computational biology           1\n",
       "plos ntd                              1\n",
       "plos negected tropical diseases       1\n",
       "plos medicine journal                 1\n",
       "Name: journal_title, dtype: int64"
      ]
     },
     "execution_count": 14,
     "metadata": {},
     "output_type": "execute_result"
    }
   ],
   "source": [
    "# now verify value counts\n",
    "df.loc[df.journal_title.str.contains('plos'), 'journal_title'].value_counts()"
   ]
  },
  {
   "cell_type": "code",
   "execution_count": 15,
   "metadata": {},
   "outputs": [
    {
     "data": {
      "text/plain": [
       "0            psychological medicine\n",
       "1                 biomacromolecules\n",
       "2                        j med chem\n",
       "3                        j med chem\n",
       "4                        j org chem\n",
       "5    journal of medicinal chemistry\n",
       "6      journal of proteome research\n",
       "7                         mol pharm\n",
       "8              acs chemical biology\n",
       "9              acs chemical biology\n",
       "Name: journal_title, dtype: object"
      ]
     },
     "execution_count": 15,
     "metadata": {},
     "output_type": "execute_result"
    }
   ],
   "source": [
    "# there are still a number of similar names\n",
    "df.journal_title.sort_index().head(10)"
   ]
  },
  {
   "cell_type": "code",
   "execution_count": 16,
   "metadata": {},
   "outputs": [
    {
     "data": {
      "text/plain": [
       "plos one                           211\n",
       "journal of biological chemistry     53\n",
       "neuroimage                          29\n",
       "nucleic acids research              26\n",
       "plos pathogens                      24\n",
       "Name: journal_title, dtype: int64"
      ]
     },
     "execution_count": 16,
     "metadata": {},
     "output_type": "execute_result"
    }
   ],
   "source": [
    "df.journal_title.value_counts().head()"
   ]
  },
  {
   "cell_type": "markdown",
   "metadata": {},
   "source": [
    "## 2. Next, calculate the mean, median, and standard deviation of the open-access cost per article for each journal."
   ]
  },
  {
   "cell_type": "code",
   "execution_count": 17,
   "metadata": {},
   "outputs": [],
   "source": [
    "# strip the £ character off the front\n",
    "df.cost = df.cost.apply(lambda x: x[1:])\n",
    "\n",
    "# I could have also use the .str.replace('£', '') to do the same as the above"
   ]
  },
  {
   "cell_type": "code",
   "execution_count": 18,
   "metadata": {},
   "outputs": [],
   "source": [
    "# remove $ character\n",
    "df.cost = df.cost.str.replace('$', '')"
   ]
  },
  {
   "cell_type": "code",
   "execution_count": 19,
   "metadata": {},
   "outputs": [],
   "source": [
    "# change format of column to numeric\n",
    "df.cost = pd.to_numeric(df.cost)"
   ]
  },
  {
   "cell_type": "code",
   "execution_count": 20,
   "metadata": {},
   "outputs": [
    {
     "data": {
      "text/plain": [
       "pmid/pmcid        object\n",
       "publisher         object\n",
       "journal_title     object\n",
       "article_title     object\n",
       "cost             float64\n",
       "dtype: object"
      ]
     },
     "execution_count": 20,
     "metadata": {},
     "output_type": "execute_result"
    }
   ],
   "source": [
    "# verify data types are correct\n",
    "df.dtypes"
   ]
  },
  {
   "cell_type": "code",
   "execution_count": 21,
   "metadata": {},
   "outputs": [
    {
     "data": {
      "text/plain": [
       "2040.00      94\n",
       "999999.00    47\n",
       "1500.00      37\n",
       "2400.00      32\n",
       "2100.00      30\n",
       "1800.00      28\n",
       "3000.00      26\n",
       "1700.00      21\n",
       "825.68       19\n",
       "1834.77      18\n",
       "Name: cost, dtype: int64"
      ]
     },
     "execution_count": 21,
     "metadata": {},
     "output_type": "execute_result"
    }
   ],
   "source": [
    "df.cost.value_counts().head(10)"
   ]
  },
  {
   "cell_type": "code",
   "execution_count": 22,
   "metadata": {},
   "outputs": [],
   "source": [
    "# remove values that seem out of proportion\n",
    "replace = {\n",
    "    999999.0: 0\n",
    "}\n",
    "\n",
    "df.replace({'cost': replace}, inplace=True)"
   ]
  },
  {
   "cell_type": "code",
   "execution_count": 23,
   "metadata": {},
   "outputs": [
    {
     "data": {
      "text/html": [
       "<div>\n",
       "<style scoped>\n",
       "    .dataframe tbody tr th:only-of-type {\n",
       "        vertical-align: middle;\n",
       "    }\n",
       "\n",
       "    .dataframe tbody tr th {\n",
       "        vertical-align: top;\n",
       "    }\n",
       "\n",
       "    .dataframe thead th {\n",
       "        text-align: right;\n",
       "    }\n",
       "</style>\n",
       "<table border=\"1\" class=\"dataframe\">\n",
       "  <thead>\n",
       "    <tr style=\"text-align: right;\">\n",
       "      <th></th>\n",
       "      <th>mean</th>\n",
       "      <th>median</th>\n",
       "      <th>std</th>\n",
       "    </tr>\n",
       "    <tr>\n",
       "      <th>journal_title</th>\n",
       "      <th></th>\n",
       "      <th></th>\n",
       "      <th></th>\n",
       "    </tr>\n",
       "  </thead>\n",
       "  <tbody>\n",
       "    <tr>\n",
       "      <td>movement disorders</td>\n",
       "      <td>15176.788000</td>\n",
       "      <td>2010.24</td>\n",
       "      <td>51414.460186</td>\n",
       "    </tr>\n",
       "    <tr>\n",
       "      <td>nan</td>\n",
       "      <td>13200.000000</td>\n",
       "      <td>13200.00</td>\n",
       "      <td>NaN</td>\n",
       "    </tr>\n",
       "    <tr>\n",
       "      <td>public service review</td>\n",
       "      <td>6000.000000</td>\n",
       "      <td>6000.00</td>\n",
       "      <td>NaN</td>\n",
       "    </tr>\n",
       "    <tr>\n",
       "      <td>the lancet neurology</td>\n",
       "      <td>5040.000000</td>\n",
       "      <td>5040.00</td>\n",
       "      <td>1018.233765</td>\n",
       "    </tr>\n",
       "    <tr>\n",
       "      <td>the lancet</td>\n",
       "      <td>4558.003333</td>\n",
       "      <td>4554.01</td>\n",
       "      <td>240.024915</td>\n",
       "    </tr>\n",
       "    <tr>\n",
       "      <td>cell host &amp; microbe</td>\n",
       "      <td>4226.040000</td>\n",
       "      <td>4226.04</td>\n",
       "      <td>NaN</td>\n",
       "    </tr>\n",
       "    <tr>\n",
       "      <td>curr biol.</td>\n",
       "      <td>4151.770000</td>\n",
       "      <td>4151.77</td>\n",
       "      <td>NaN</td>\n",
       "    </tr>\n",
       "    <tr>\n",
       "      <td>cell journal</td>\n",
       "      <td>4041.050000</td>\n",
       "      <td>4041.05</td>\n",
       "      <td>NaN</td>\n",
       "    </tr>\n",
       "    <tr>\n",
       "      <td>immunity</td>\n",
       "      <td>3934.750000</td>\n",
       "      <td>3934.75</td>\n",
       "      <td>190.791552</td>\n",
       "    </tr>\n",
       "    <tr>\n",
       "      <td>cell metabolism</td>\n",
       "      <td>3924.260000</td>\n",
       "      <td>3904.46</td>\n",
       "      <td>151.324659</td>\n",
       "    </tr>\n",
       "  </tbody>\n",
       "</table>\n",
       "</div>"
      ],
      "text/plain": [
       "                               mean    median           std\n",
       "journal_title                                              \n",
       "movement disorders     15176.788000   2010.24  51414.460186\n",
       "nan                    13200.000000  13200.00           NaN\n",
       "public service review   6000.000000   6000.00           NaN\n",
       "the lancet neurology    5040.000000   5040.00   1018.233765\n",
       "the lancet              4558.003333   4554.01    240.024915\n",
       "cell host & microbe     4226.040000   4226.04           NaN\n",
       "curr biol.              4151.770000   4151.77           NaN\n",
       "cell journal            4041.050000   4041.05           NaN\n",
       "immunity                3934.750000   3934.75    190.791552\n",
       "cell metabolism         3924.260000   3904.46    151.324659"
      ]
     },
     "execution_count": 23,
     "metadata": {},
     "output_type": "execute_result"
    }
   ],
   "source": [
    "df.groupby('journal_title')['cost'].agg(['mean', 'median', 'std']) \\\n",
    "  .sort_values(by='mean', ascending=False).head(10)"
   ]
  },
  {
   "cell_type": "markdown",
   "metadata": {},
   "source": [
    "## 3. Identify the open access prices paid by subject area."
   ]
  },
  {
   "cell_type": "markdown",
   "metadata": {},
   "source": [
    "1. for the top 50 journal titles\n",
    "1. identify key words that seem to go together, form them into lists\n",
    "1. use those lists to assign the journals into categories\n",
    "1. maybe identify 5 categories, see how many remain after that"
   ]
  },
  {
   "cell_type": "markdown",
   "metadata": {},
   "source": [
    "### Method 1"
   ]
  },
  {
   "cell_type": "code",
   "execution_count": 163,
   "metadata": {},
   "outputs": [],
   "source": [
    "# df.journal_title.value_counts().head(10)"
   ]
  },
  {
   "cell_type": "code",
   "execution_count": 25,
   "metadata": {},
   "outputs": [],
   "source": [
    "# brain = ('cereb'or\n",
    "#         'brain'or\n",
    "#         'neuro'or\n",
    "#          'cortex')\n",
    "\n",
    "# # seems like I can't do a list if I want to use str.contains \n",
    "# # in order to hunt down smaller patterns in journal titles\n",
    "# # is a string chained together the best option here?\n",
    "# disease = ('virol'or\n",
    "#           'immun'or\n",
    "#           'malaria'or\n",
    "#           'patho'or\n",
    "#           'disea'or\n",
    "#           'infec'or\n",
    "#           'para')\n",
    "\n",
    "# df.loc[df.journal_title.str.contains(brain), 'journal_bin'] = 'brain'\n",
    "\n",
    "# df.loc[df.journal_title.str.contains(disease), 'journal_bin'] = 'disease'"
   ]
  },
  {
   "cell_type": "code",
   "execution_count": 26,
   "metadata": {},
   "outputs": [],
   "source": [
    "# df.loc[df.journal_bin.notnull()].shape"
   ]
  },
  {
   "cell_type": "markdown",
   "metadata": {},
   "source": [
    "### Method 2"
   ]
  },
  {
   "cell_type": "code",
   "execution_count": 27,
   "metadata": {},
   "outputs": [],
   "source": [
    "# split up each journal title based on spaces\n",
    "# df['split_journals'] = df.journal_title.str.split(' ')"
   ]
  },
  {
   "cell_type": "code",
   "execution_count": 162,
   "metadata": {},
   "outputs": [],
   "source": [
    "# df.head(10)"
   ]
  },
  {
   "cell_type": "code",
   "execution_count": 29,
   "metadata": {},
   "outputs": [],
   "source": [
    "# break up tokens from journal titles\n",
    "# find the count of each token\n",
    "# based on the tokens with the highest counts, form buckets\n",
    "\n",
    "# journal_words = []\n",
    "\n",
    "# for row in df.split_journals:\n",
    "#     for word in row:\n",
    "#         if len(word) > 3:\n",
    "#             journal_words.append(word)\n",
    "\n",
    "# journal_words_df = pd.DataFrame(journal_words, columns=['tokens'])\n",
    "\n",
    "# journal_words_df_count = journal_words_df.groupby('tokens')['tokens'] \\\n",
    "#     .count() \\\n",
    "#     .reset_index(name= 'token_count') \\\n",
    "#     .sort_values(by='token_count', ascending=False)"
   ]
  },
  {
   "cell_type": "code",
   "execution_count": 30,
   "metadata": {},
   "outputs": [],
   "source": [
    "# assign labels based on key words\n",
    "# df.loc[df.journal_title.str.contains('biol'), 'journal_bin2'] = 'biology'\n",
    "# df.loc[df.journal_title.str.contains('gene'), 'journal_bin2'] = 'genetics'\n",
    "# df.loc[df.journal_title.str.contains('neuro'), 'journal_bin2'] = 'neurology'\n",
    "# df.loc[df.journal_title.str.contains('psych'), 'journal_bin2'] = 'psychology'\n",
    "# df.loc[df.journal_title.str.contains('endo'), 'journal_bin2'] = 'endocrinology'\n",
    "# df.loc[df.journal_title.str.contains('epid'), 'journal_bin2'] = 'epidemiology'\n",
    "# df.loc[df.journal_title.str.contains('pharma'), 'journal_bin2'] = 'pharmacology'"
   ]
  },
  {
   "cell_type": "code",
   "execution_count": 31,
   "metadata": {},
   "outputs": [],
   "source": [
    "# this seemed much more effective\n",
    "# df.loc[df.journal_bin2.notnull()].shape"
   ]
  },
  {
   "cell_type": "code",
   "execution_count": 32,
   "metadata": {},
   "outputs": [],
   "source": [
    "# some aren't labeled quite properly\n",
    "# for instance chemical biology is being assigned to biology right now\n",
    "\n",
    "# df.loc[df.journal_bin2.notnull()].head(20)"
   ]
  },
  {
   "cell_type": "code",
   "execution_count": 33,
   "metadata": {},
   "outputs": [],
   "source": [
    "# journal_words_df_count.head(90)"
   ]
  },
  {
   "cell_type": "markdown",
   "metadata": {},
   "source": [
    "### Method 3"
   ]
  },
  {
   "cell_type": "code",
   "execution_count": 161,
   "metadata": {},
   "outputs": [
    {
     "data": {
      "text/html": [
       "<div>\n",
       "<style scoped>\n",
       "    .dataframe tbody tr th:only-of-type {\n",
       "        vertical-align: middle;\n",
       "    }\n",
       "\n",
       "    .dataframe tbody tr th {\n",
       "        vertical-align: top;\n",
       "    }\n",
       "\n",
       "    .dataframe thead th {\n",
       "        text-align: right;\n",
       "    }\n",
       "</style>\n",
       "<table border=\"1\" class=\"dataframe\">\n",
       "  <thead>\n",
       "    <tr style=\"text-align: right;\">\n",
       "      <th></th>\n",
       "      <th>pmid/pmcid</th>\n",
       "      <th>publisher</th>\n",
       "      <th>journal_title</th>\n",
       "      <th>article_title</th>\n",
       "      <th>cost</th>\n",
       "      <th>journal_lemma</th>\n",
       "      <th>journal_bin</th>\n",
       "    </tr>\n",
       "  </thead>\n",
       "  <tbody>\n",
       "    <tr>\n",
       "      <td>0</td>\n",
       "      <td>NaN</td>\n",
       "      <td>CUP</td>\n",
       "      <td>Psychological Medicine</td>\n",
       "      <td>Reduced parahippocampal cortical thickness in ...</td>\n",
       "      <td>£0.00</td>\n",
       "      <td>[psychological, medicine]</td>\n",
       "      <td>medicine</td>\n",
       "    </tr>\n",
       "    <tr>\n",
       "      <td>1</td>\n",
       "      <td>PMC3679557</td>\n",
       "      <td>ACS</td>\n",
       "      <td>Biomacromolecules</td>\n",
       "      <td>Structural characterization of a Model Gram-ne...</td>\n",
       "      <td>£2381.04</td>\n",
       "      <td>[biomacromolecule]</td>\n",
       "      <td>NaN</td>\n",
       "    </tr>\n",
       "    <tr>\n",
       "      <td>2</td>\n",
       "      <td>23043264  PMC3506128</td>\n",
       "      <td>ACS</td>\n",
       "      <td>J Med Chem</td>\n",
       "      <td>Fumaroylamino-4,5-epoxymorphinans and related ...</td>\n",
       "      <td>£642.56</td>\n",
       "      <td>[j, med, chem]</td>\n",
       "      <td>NaN</td>\n",
       "    </tr>\n",
       "    <tr>\n",
       "      <td>3</td>\n",
       "      <td>23438330 PMC3646402</td>\n",
       "      <td>ACS</td>\n",
       "      <td>J Med Chem</td>\n",
       "      <td>Orvinols with mixed kappa/mu opioid receptor a...</td>\n",
       "      <td>£669.64</td>\n",
       "      <td>[j, med, chem]</td>\n",
       "      <td>NaN</td>\n",
       "    </tr>\n",
       "    <tr>\n",
       "      <td>4</td>\n",
       "      <td>23438216 PMC3601604</td>\n",
       "      <td>ACS</td>\n",
       "      <td>J Org Chem</td>\n",
       "      <td>Regioselective opening of myo-inositol orthoes...</td>\n",
       "      <td>£685.88</td>\n",
       "      <td>[j, org, chem]</td>\n",
       "      <td>NaN</td>\n",
       "    </tr>\n",
       "  </tbody>\n",
       "</table>\n",
       "</div>"
      ],
      "text/plain": [
       "              pmid/pmcid publisher           journal_title  \\\n",
       "0                    NaN       CUP  Psychological Medicine   \n",
       "1             PMC3679557       ACS       Biomacromolecules   \n",
       "2  23043264  PMC3506128        ACS              J Med Chem   \n",
       "3    23438330 PMC3646402       ACS              J Med Chem   \n",
       "4   23438216 PMC3601604        ACS              J Org Chem   \n",
       "\n",
       "                                       article_title      cost  \\\n",
       "0  Reduced parahippocampal cortical thickness in ...     £0.00   \n",
       "1  Structural characterization of a Model Gram-ne...  £2381.04   \n",
       "2  Fumaroylamino-4,5-epoxymorphinans and related ...   £642.56   \n",
       "3  Orvinols with mixed kappa/mu opioid receptor a...   £669.64   \n",
       "4  Regioselective opening of myo-inositol orthoes...   £685.88   \n",
       "\n",
       "               journal_lemma journal_bin  \n",
       "0  [psychological, medicine]    medicine  \n",
       "1         [biomacromolecule]         NaN  \n",
       "2             [j, med, chem]         NaN  \n",
       "3             [j, med, chem]         NaN  \n",
       "4             [j, org, chem]         NaN  "
      ]
     },
     "execution_count": 161,
     "metadata": {},
     "output_type": "execute_result"
    }
   ],
   "source": [
    "df.head()"
   ]
  },
  {
   "cell_type": "code",
   "execution_count": 35,
   "metadata": {},
   "outputs": [
    {
     "name": "stdout",
     "output_type": "stream",
     "text": [
      "Apple apple PROPN NNP nsubj Xxxxx True False\n",
      "is be VERB VBZ aux xx True True\n",
      "looking look VERB VBG ROOT xxxx True False\n",
      "at at ADP IN prep xx True True\n",
      "buying buy VERB VBG pcomp xxxx True False\n",
      "U.K. u.k. PROPN NNP compound X.X. False False\n",
      "startup startup NOUN NN dobj xxxx True False\n",
      "for for ADP IN prep xxx True True\n",
      "$ $ SYM $ quantmod $ False False\n",
      "1 1 NUM CD compound d False False\n",
      "billion billion NUM CD pobj xxxx True False\n"
     ]
    }
   ],
   "source": [
    "# example of spacy in use\n",
    "doc = nlp(u'Apple is looking at buying U.K. startup for $1 billion')\n",
    "\n",
    "for token in doc:\n",
    "    print(token.text, token.lemma_, token.pos_, token.tag_, token.dep_,\n",
    "            token.shape_, token.is_alpha, token.is_stop)"
   ]
  },
  {
   "cell_type": "code",
   "execution_count": 74,
   "metadata": {},
   "outputs": [],
   "source": [
    "lemma = []\n",
    "\n",
    "for doc in nlp.pipe(df.journal_title.astype('unicode').values, batch_size=50):\n",
    "    lemma.append([n.lemma_ for n in doc])\n",
    "#     pos.append([n.pos_ for n in doc])\n",
    "\n",
    "df['journal_lemma'] = lemma"
   ]
  },
  {
   "cell_type": "code",
   "execution_count": null,
   "metadata": {},
   "outputs": [],
   "source": []
  },
  {
   "cell_type": "code",
   "execution_count": 158,
   "metadata": {},
   "outputs": [],
   "source": [
    "# https://stackoverflow.com/questions/44395656/applying-spacy-parser-to-pandas-dataframe-w-multiprocessing\n",
    "\n",
    "lemma = []\n",
    "pos = []\n",
    "tag = []\n",
    "\n",
    "for doc in nlp.pipe(journal_words_df_count['tokens'].astype('unicode').values, batch_size=50):\n",
    "    lemma.append([n.lemma_ for n in doc])\n",
    "    pos.append([n.pos_ for n in doc])\n",
    "    tag.append([n.tag_ for n in doc])\n",
    "\n",
    "journal_words_df_count['lemma'] = lemma\n",
    "journal_words_df_count['pos'] = pos\n",
    "journal_words_df_count['tag'] = tag"
   ]
  },
  {
   "cell_type": "code",
   "execution_count": 160,
   "metadata": {},
   "outputs": [
    {
     "data": {
      "text/html": [
       "<div>\n",
       "<style scoped>\n",
       "    .dataframe tbody tr th:only-of-type {\n",
       "        vertical-align: middle;\n",
       "    }\n",
       "\n",
       "    .dataframe tbody tr th {\n",
       "        vertical-align: top;\n",
       "    }\n",
       "\n",
       "    .dataframe thead th {\n",
       "        text-align: right;\n",
       "    }\n",
       "</style>\n",
       "<table border=\"1\" class=\"dataframe\">\n",
       "  <thead>\n",
       "    <tr style=\"text-align: right;\">\n",
       "      <th></th>\n",
       "      <th>tokens</th>\n",
       "      <th>token_count</th>\n",
       "      <th>lemma</th>\n",
       "      <th>pos</th>\n",
       "      <th>lemma_2</th>\n",
       "      <th>tag</th>\n",
       "    </tr>\n",
       "  </thead>\n",
       "  <tbody>\n",
       "    <tr>\n",
       "      <td>716</td>\n",
       "      <td>zoonoses</td>\n",
       "      <td>1</td>\n",
       "      <td>[zoonosis]</td>\n",
       "      <td>[NOUN]</td>\n",
       "      <td>zoon</td>\n",
       "      <td>[NNS]</td>\n",
       "    </tr>\n",
       "    <tr>\n",
       "      <td>715</td>\n",
       "      <td>york</td>\n",
       "      <td>2</td>\n",
       "      <td>[york]</td>\n",
       "      <td>[NOUN]</td>\n",
       "      <td>york</td>\n",
       "      <td>[NN]</td>\n",
       "    </tr>\n",
       "    <tr>\n",
       "      <td>714</td>\n",
       "      <td>world</td>\n",
       "      <td>8</td>\n",
       "      <td>[world]</td>\n",
       "      <td>[NOUN]</td>\n",
       "      <td>worl</td>\n",
       "      <td>[NN]</td>\n",
       "    </tr>\n",
       "    <tr>\n",
       "      <td>713</td>\n",
       "      <td>workshop</td>\n",
       "      <td>1</td>\n",
       "      <td>[workshop]</td>\n",
       "      <td>[NOUN]</td>\n",
       "      <td>work</td>\n",
       "      <td>[NN]</td>\n",
       "    </tr>\n",
       "    <tr>\n",
       "      <td>712</td>\n",
       "      <td>visulaized</td>\n",
       "      <td>1</td>\n",
       "      <td>[visulaized]</td>\n",
       "      <td>[ADJ]</td>\n",
       "      <td>visu</td>\n",
       "      <td>[JJ]</td>\n",
       "    </tr>\n",
       "    <tr>\n",
       "      <td>711</td>\n",
       "      <td>visualized</td>\n",
       "      <td>7</td>\n",
       "      <td>[visualize]</td>\n",
       "      <td>[VERB]</td>\n",
       "      <td>visu</td>\n",
       "      <td>[VBN]</td>\n",
       "    </tr>\n",
       "    <tr>\n",
       "      <td>710</td>\n",
       "      <td>visual</td>\n",
       "      <td>1</td>\n",
       "      <td>[visual]</td>\n",
       "      <td>[ADJ]</td>\n",
       "      <td>visu</td>\n",
       "      <td>[JJ]</td>\n",
       "    </tr>\n",
       "    <tr>\n",
       "      <td>709</td>\n",
       "      <td>vision</td>\n",
       "      <td>3</td>\n",
       "      <td>[vision]</td>\n",
       "      <td>[NOUN]</td>\n",
       "      <td>visi</td>\n",
       "      <td>[NN]</td>\n",
       "    </tr>\n",
       "    <tr>\n",
       "      <td>708</td>\n",
       "      <td>viruses.</td>\n",
       "      <td>1</td>\n",
       "      <td>[virus, .]</td>\n",
       "      <td>[NOUN, PUNCT]</td>\n",
       "      <td>viru</td>\n",
       "      <td>[NNS, .]</td>\n",
       "    </tr>\n",
       "    <tr>\n",
       "      <td>707</td>\n",
       "      <td>virus</td>\n",
       "      <td>1</td>\n",
       "      <td>[virus]</td>\n",
       "      <td>[NOUN]</td>\n",
       "      <td>viru</td>\n",
       "      <td>[NN]</td>\n",
       "    </tr>\n",
       "  </tbody>\n",
       "</table>\n",
       "</div>"
      ],
      "text/plain": [
       "         tokens  token_count         lemma            pos lemma_2       tag\n",
       "716    zoonoses            1    [zoonosis]         [NOUN]    zoon     [NNS]\n",
       "715        york            2        [york]         [NOUN]    york      [NN]\n",
       "714       world            8       [world]         [NOUN]    worl      [NN]\n",
       "713    workshop            1    [workshop]         [NOUN]    work      [NN]\n",
       "712  visulaized            1  [visulaized]          [ADJ]    visu      [JJ]\n",
       "711  visualized            7   [visualize]         [VERB]    visu     [VBN]\n",
       "710      visual            1      [visual]          [ADJ]    visu      [JJ]\n",
       "709      vision            3      [vision]         [NOUN]    visi      [NN]\n",
       "708    viruses.            1    [virus, .]  [NOUN, PUNCT]    viru  [NNS, .]\n",
       "707       virus            1       [virus]         [NOUN]    viru      [NN]"
      ]
     },
     "execution_count": 160,
     "metadata": {},
     "output_type": "execute_result"
    }
   ],
   "source": [
    "journal_words_df_count.sort_values(by='lemma', ascending=False).head(10)"
   ]
  },
  {
   "cell_type": "code",
   "execution_count": 61,
   "metadata": {},
   "outputs": [],
   "source": [
    "# change format of columns from list to string\n",
    "# is there a better way I could be doing this?\n",
    "journal_words_df_count.lemma = journal_words_df_count.lemma.apply(''.join)\n",
    "journal_words_df_count.pos = journal_words_df_count.pos.apply(''.join)"
   ]
  },
  {
   "cell_type": "code",
   "execution_count": 153,
   "metadata": {},
   "outputs": [
    {
     "data": {
      "text/html": [
       "<div>\n",
       "<style scoped>\n",
       "    .dataframe tbody tr th:only-of-type {\n",
       "        vertical-align: middle;\n",
       "    }\n",
       "\n",
       "    .dataframe tbody tr th {\n",
       "        vertical-align: top;\n",
       "    }\n",
       "\n",
       "    .dataframe thead th {\n",
       "        text-align: right;\n",
       "    }\n",
       "</style>\n",
       "<table border=\"1\" class=\"dataframe\">\n",
       "  <thead>\n",
       "    <tr style=\"text-align: right;\">\n",
       "      <th></th>\n",
       "      <th>tokens</th>\n",
       "      <th>token_count</th>\n",
       "      <th>lemma</th>\n",
       "      <th>pos</th>\n",
       "      <th>lemma_2</th>\n",
       "    </tr>\n",
       "  </thead>\n",
       "  <tbody>\n",
       "    <tr>\n",
       "      <td>10</td>\n",
       "      <td>academy</td>\n",
       "      <td>36</td>\n",
       "      <td>academy</td>\n",
       "      <td>NOUN</td>\n",
       "      <td>acad</td>\n",
       "    </tr>\n",
       "    <tr>\n",
       "      <td>11</td>\n",
       "      <td>acid</td>\n",
       "      <td>3</td>\n",
       "      <td>acid</td>\n",
       "      <td>NOUN</td>\n",
       "      <td>acid</td>\n",
       "    </tr>\n",
       "    <tr>\n",
       "      <td>12</td>\n",
       "      <td>acids</td>\n",
       "      <td>26</td>\n",
       "      <td>acid</td>\n",
       "      <td>NOUN</td>\n",
       "      <td>acid</td>\n",
       "    </tr>\n",
       "    <tr>\n",
       "      <td>14</td>\n",
       "      <td>acta</td>\n",
       "      <td>20</td>\n",
       "      <td>acta</td>\n",
       "      <td>NOUN</td>\n",
       "      <td>acta</td>\n",
       "    </tr>\n",
       "    <tr>\n",
       "      <td>15</td>\n",
       "      <td>activity</td>\n",
       "      <td>2</td>\n",
       "      <td>activity</td>\n",
       "      <td>NOUN</td>\n",
       "      <td>acti</td>\n",
       "    </tr>\n",
       "  </tbody>\n",
       "</table>\n",
       "</div>"
      ],
      "text/plain": [
       "      tokens  token_count     lemma   pos lemma_2\n",
       "10   academy           36   academy  NOUN    acad\n",
       "11      acid            3      acid  NOUN    acid\n",
       "12     acids           26      acid  NOUN    acid\n",
       "14      acta           20      acta  NOUN    acta\n",
       "15  activity            2  activity  NOUN    acti"
      ]
     },
     "execution_count": 153,
     "metadata": {},
     "output_type": "execute_result"
    }
   ],
   "source": [
    "# idenfity only nouns\n",
    "journal_words_df_count.loc[journal_words_df_count.pos == 'NOUN'].sort_values(by='lemma').head()"
   ]
  },
  {
   "cell_type": "code",
   "execution_count": 144,
   "metadata": {},
   "outputs": [],
   "source": [
    "# further refine words based on the first 4 digits\n",
    "journal_words_df_count['lemma_2'] = journal_words_df_count.lemma.apply(lambda x: str(x)[0:4])\n"
   ]
  },
  {
   "cell_type": "code",
   "execution_count": 154,
   "metadata": {},
   "outputs": [
    {
     "data": {
      "text/plain": [
       "lemma_2\n",
       "neur    23\n",
       "chem     8\n",
       "immu     5\n",
       "reso     5\n",
       "tran     5\n",
       "Name: lemma_2, dtype: int64"
      ]
     },
     "execution_count": 154,
     "metadata": {},
     "output_type": "execute_result"
    }
   ],
   "source": [
    "journal_words_df_count.loc[journal_words_df_count.pos == 'NOUN'].groupby('lemma_2')['lemma_2'].count().sort_values(ascending=False).head()\n",
    "\n",
    "# [2:50]"
   ]
  },
  {
   "cell_type": "code",
   "execution_count": 147,
   "metadata": {},
   "outputs": [],
   "source": [
    "# limit only journal tokens that are nouns\n",
    "# exclude to top 2 tokens since they aren't meaningful\n",
    "consolidated_stems = journal_words_df_count.loc[journal_words_df_count.pos == 'NOUN'][2:50]"
   ]
  },
  {
   "cell_type": "code",
   "execution_count": 155,
   "metadata": {},
   "outputs": [
    {
     "data": {
      "text/html": [
       "<div>\n",
       "<style scoped>\n",
       "    .dataframe tbody tr th:only-of-type {\n",
       "        vertical-align: middle;\n",
       "    }\n",
       "\n",
       "    .dataframe tbody tr th {\n",
       "        vertical-align: top;\n",
       "    }\n",
       "\n",
       "    .dataframe thead th {\n",
       "        text-align: right;\n",
       "    }\n",
       "</style>\n",
       "<table border=\"1\" class=\"dataframe\">\n",
       "  <thead>\n",
       "    <tr style=\"text-align: right;\">\n",
       "      <th></th>\n",
       "      <th>tokens</th>\n",
       "      <th>token_count</th>\n",
       "      <th>lemma</th>\n",
       "      <th>pos</th>\n",
       "      <th>lemma_2</th>\n",
       "    </tr>\n",
       "  </thead>\n",
       "  <tbody>\n",
       "    <tr>\n",
       "      <td>96</td>\n",
       "      <td>biology</td>\n",
       "      <td>92</td>\n",
       "      <td>biology</td>\n",
       "      <td>NOUN</td>\n",
       "      <td>biol</td>\n",
       "    </tr>\n",
       "    <tr>\n",
       "      <td>595</td>\n",
       "      <td>research</td>\n",
       "      <td>91</td>\n",
       "      <td>research</td>\n",
       "      <td>NOUN</td>\n",
       "      <td>rese</td>\n",
       "    </tr>\n",
       "    <tr>\n",
       "      <td>148</td>\n",
       "      <td>chemistry</td>\n",
       "      <td>84</td>\n",
       "      <td>chemistry</td>\n",
       "      <td>NOUN</td>\n",
       "      <td>chem</td>\n",
       "    </tr>\n",
       "    <tr>\n",
       "      <td>135</td>\n",
       "      <td>cell</td>\n",
       "      <td>82</td>\n",
       "      <td>cell</td>\n",
       "      <td>NOUN</td>\n",
       "      <td>cell</td>\n",
       "    </tr>\n",
       "    <tr>\n",
       "      <td>292</td>\n",
       "      <td>genetics</td>\n",
       "      <td>79</td>\n",
       "      <td>genetic</td>\n",
       "      <td>NOUN</td>\n",
       "      <td>gene</td>\n",
       "    </tr>\n",
       "  </tbody>\n",
       "</table>\n",
       "</div>"
      ],
      "text/plain": [
       "        tokens  token_count      lemma   pos lemma_2\n",
       "96     biology           92    biology  NOUN    biol\n",
       "595   research           91   research  NOUN    rese\n",
       "148  chemistry           84  chemistry  NOUN    chem\n",
       "135       cell           82       cell  NOUN    cell\n",
       "292   genetics           79    genetic  NOUN    gene"
      ]
     },
     "execution_count": 155,
     "metadata": {},
     "output_type": "execute_result"
    }
   ],
   "source": [
    "consolidated_stems.head()"
   ]
  },
  {
   "cell_type": "code",
   "execution_count": 133,
   "metadata": {},
   "outputs": [],
   "source": [
    "def bin_based_on_stem(stemmed_journal):\n",
    "    for word in stemmed_journal:\n",
    "        if word in consolidated_stems.lemma.values:\n",
    "            return word\n",
    "    return np.nan"
   ]
  },
  {
   "cell_type": "code",
   "execution_count": 134,
   "metadata": {},
   "outputs": [],
   "source": [
    "df['journal_bin'] = df.journal_lemma.apply(bin_based_on_stem)"
   ]
  },
  {
   "cell_type": "code",
   "execution_count": 156,
   "metadata": {},
   "outputs": [
    {
     "data": {
      "text/plain": [
       "chemistry    83\n",
       "biology      81\n",
       "cell         80\n",
       "research     73\n",
       "medicine     58\n",
       "Name: journal_bin, dtype: int64"
      ]
     },
     "execution_count": 156,
     "metadata": {},
     "output_type": "execute_result"
    }
   ],
   "source": [
    "df.journal_bin.value_counts().head()"
   ]
  },
  {
   "cell_type": "code",
   "execution_count": null,
   "metadata": {},
   "outputs": [],
   "source": []
  },
  {
   "cell_type": "code",
   "execution_count": null,
   "metadata": {},
   "outputs": [],
   "source": []
  },
  {
   "cell_type": "code",
   "execution_count": null,
   "metadata": {},
   "outputs": [],
   "source": []
  },
  {
   "cell_type": "code",
   "execution_count": null,
   "metadata": {},
   "outputs": [],
   "source": []
  }
 ],
 "metadata": {
  "kernelspec": {
   "display_name": "Python 3",
   "language": "python",
   "name": "python3"
  },
  "language_info": {
   "codemirror_mode": {
    "name": "ipython",
    "version": 3
   },
   "file_extension": ".py",
   "mimetype": "text/x-python",
   "name": "python",
   "nbconvert_exporter": "python",
   "pygments_lexer": "ipython3",
   "version": "3.7.3"
  }
 },
 "nbformat": 4,
 "nbformat_minor": 4
}
