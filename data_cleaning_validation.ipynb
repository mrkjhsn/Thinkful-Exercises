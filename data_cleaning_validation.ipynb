{
 "cells": [
  {
   "cell_type": "markdown",
   "metadata": {},
   "source": [
    "## Data Cleaning & Validation Exercise"
   ]
  },
  {
   "cell_type": "code",
   "execution_count": 249,
   "metadata": {},
   "outputs": [],
   "source": [
    "import pandas as pd\n",
    "import numpy as np\n",
    "import spacy\n",
    "# nlp = spacy.load('en_core_web_sm')\n",
    "import en_core_web_sm\n",
    "nlp = en_core_web_sm.load()\n",
    "\n",
    "pd.options.display.max_rows = 999"
   ]
  },
  {
   "cell_type": "code",
   "execution_count": 250,
   "metadata": {},
   "outputs": [],
   "source": [
    "df = pd.read_csv(r'data\\WELLCOME_APCspend2013_forThinkful.csv', encoding = 'unicode_escape')"
   ]
  },
  {
   "cell_type": "code",
   "execution_count": 251,
   "metadata": {},
   "outputs": [
    {
     "data": {
      "text/plain": [
       "PMID/PMCID                                             object\n",
       "Publisher                                              object\n",
       "Journal title                                          object\n",
       "Article title                                          object\n",
       "COST (£) charged to Wellcome (inc VAT when charged)    object\n",
       "dtype: object"
      ]
     },
     "execution_count": 251,
     "metadata": {},
     "output_type": "execute_result"
    }
   ],
   "source": [
    "# I'm going to want to change the cost column to int data type to be able to perform math\n",
    "df.dtypes"
   ]
  },
  {
   "cell_type": "code",
   "execution_count": 252,
   "metadata": {},
   "outputs": [],
   "source": [
    "# remove spaces, change to lowercase\n",
    "df.columns = df.columns.str.replace(' ', '_')\n",
    "df.columns = map(str.lower, df.columns)\n",
    "\n",
    "# abbreviate cost column\n",
    "df.rename(columns={'cost_(£)_charged_to_wellcome_(inc_vat_when_charged)': \"cost\"}, inplace=True)"
   ]
  },
  {
   "cell_type": "code",
   "execution_count": 253,
   "metadata": {},
   "outputs": [
    {
     "data": {
      "text/html": [
       "<div>\n",
       "<style scoped>\n",
       "    .dataframe tbody tr th:only-of-type {\n",
       "        vertical-align: middle;\n",
       "    }\n",
       "\n",
       "    .dataframe tbody tr th {\n",
       "        vertical-align: top;\n",
       "    }\n",
       "\n",
       "    .dataframe thead th {\n",
       "        text-align: right;\n",
       "    }\n",
       "</style>\n",
       "<table border=\"1\" class=\"dataframe\">\n",
       "  <thead>\n",
       "    <tr style=\"text-align: right;\">\n",
       "      <th></th>\n",
       "      <th>pmid/pmcid</th>\n",
       "      <th>publisher</th>\n",
       "      <th>journal_title</th>\n",
       "      <th>article_title</th>\n",
       "      <th>cost</th>\n",
       "    </tr>\n",
       "  </thead>\n",
       "  <tbody>\n",
       "    <tr>\n",
       "      <td>0</td>\n",
       "      <td>NaN</td>\n",
       "      <td>CUP</td>\n",
       "      <td>Psychological Medicine</td>\n",
       "      <td>Reduced parahippocampal cortical thickness in ...</td>\n",
       "      <td>£0.00</td>\n",
       "    </tr>\n",
       "    <tr>\n",
       "      <td>1</td>\n",
       "      <td>PMC3679557</td>\n",
       "      <td>ACS</td>\n",
       "      <td>Biomacromolecules</td>\n",
       "      <td>Structural characterization of a Model Gram-ne...</td>\n",
       "      <td>£2381.04</td>\n",
       "    </tr>\n",
       "    <tr>\n",
       "      <td>2</td>\n",
       "      <td>23043264  PMC3506128</td>\n",
       "      <td>ACS</td>\n",
       "      <td>J Med Chem</td>\n",
       "      <td>Fumaroylamino-4,5-epoxymorphinans and related ...</td>\n",
       "      <td>£642.56</td>\n",
       "    </tr>\n",
       "    <tr>\n",
       "      <td>3</td>\n",
       "      <td>23438330 PMC3646402</td>\n",
       "      <td>ACS</td>\n",
       "      <td>J Med Chem</td>\n",
       "      <td>Orvinols with mixed kappa/mu opioid receptor a...</td>\n",
       "      <td>£669.64</td>\n",
       "    </tr>\n",
       "    <tr>\n",
       "      <td>4</td>\n",
       "      <td>23438216 PMC3601604</td>\n",
       "      <td>ACS</td>\n",
       "      <td>J Org Chem</td>\n",
       "      <td>Regioselective opening of myo-inositol orthoes...</td>\n",
       "      <td>£685.88</td>\n",
       "    </tr>\n",
       "  </tbody>\n",
       "</table>\n",
       "</div>"
      ],
      "text/plain": [
       "              pmid/pmcid publisher           journal_title  \\\n",
       "0                    NaN       CUP  Psychological Medicine   \n",
       "1             PMC3679557       ACS       Biomacromolecules   \n",
       "2  23043264  PMC3506128        ACS              J Med Chem   \n",
       "3    23438330 PMC3646402       ACS              J Med Chem   \n",
       "4   23438216 PMC3601604        ACS              J Org Chem   \n",
       "\n",
       "                                       article_title      cost  \n",
       "0  Reduced parahippocampal cortical thickness in ...     £0.00  \n",
       "1  Structural characterization of a Model Gram-ne...  £2381.04  \n",
       "2  Fumaroylamino-4,5-epoxymorphinans and related ...   £642.56  \n",
       "3  Orvinols with mixed kappa/mu opioid receptor a...   £669.64  \n",
       "4  Regioselective opening of myo-inositol orthoes...   £685.88  "
      ]
     },
     "execution_count": 253,
     "metadata": {},
     "output_type": "execute_result"
    }
   ],
   "source": [
    "df.head()"
   ]
  },
  {
   "cell_type": "code",
   "execution_count": 254,
   "metadata": {},
   "outputs": [
    {
     "data": {
      "text/plain": [
       "(2127, 5)"
      ]
     },
     "execution_count": 254,
     "metadata": {},
     "output_type": "execute_result"
    }
   ],
   "source": [
    "df.shape"
   ]
  },
  {
   "cell_type": "markdown",
   "metadata": {},
   "source": [
    "## 1. Determine the five most common journals and the total articles for each. "
   ]
  },
  {
   "cell_type": "code",
   "execution_count": 255,
   "metadata": {},
   "outputs": [
    {
     "data": {
      "text/plain": [
       "PLoS One                                           92\n",
       "PLoS ONE                                           62\n",
       "Journal of Biological Chemistry                    48\n",
       "Nucleic Acids Research                             21\n",
       "Proceedings of the National Academy of Sciences    19\n",
       "Name: journal_title, dtype: int64"
      ]
     },
     "execution_count": 255,
     "metadata": {},
     "output_type": "execute_result"
    }
   ],
   "source": [
    "# text clearly isn't consistent between journal articles\n",
    "df.journal_title.value_counts().head()"
   ]
  },
  {
   "cell_type": "code",
   "execution_count": 256,
   "metadata": {},
   "outputs": [],
   "source": [
    "# lowercase journal names\n",
    "df.journal_title = df.journal_title.apply(lambda x: str(x).lower())\n",
    "\n",
    "# strip whitespace\n",
    "df.journal_title = df.journal_title.apply(lambda x: str(x).strip())"
   ]
  },
  {
   "cell_type": "code",
   "execution_count": 257,
   "metadata": {},
   "outputs": [
    {
     "data": {
      "text/plain": [
       "plos one                                           190\n",
       "journal of biological chemistry                     53\n",
       "neuroimage                                          29\n",
       "nucleic acids research                              26\n",
       "plos pathogens                                      24\n",
       "plos genetics                                       24\n",
       "proceedings of the national academy of sciences     22\n",
       "plos neglected tropical diseases                    20\n",
       "nature communications                               19\n",
       "human molecular genetics                            19\n",
       "movement disorders                                  15\n",
       "bmc public health                                   14\n",
       "brain                                               14\n",
       "journal of neuroscience                             13\n",
       "developmental cell                                  12\n",
       "biochemical journal                                 12\n",
       "current biology                                     11\n",
       "journal of general virology                         11\n",
       "malaria journal                                     10\n",
       "bmj                                                 10\n",
       "Name: journal_title, dtype: int64"
      ]
     },
     "execution_count": 257,
     "metadata": {},
     "output_type": "execute_result"
    }
   ],
   "source": [
    "df.journal_title.value_counts().head(20)"
   ]
  },
  {
   "cell_type": "code",
   "execution_count": 258,
   "metadata": {},
   "outputs": [
    {
     "data": {
      "text/plain": [
       "plos one                            190\n",
       "plos genetics                        24\n",
       "plos pathogens                       24\n",
       "plos neglected tropical diseases     20\n",
       "plosone                               9\n",
       "plos computational biology            9\n",
       "plos 1                                7\n",
       "plos                                  4\n",
       "plos medicine                         4\n",
       "plos biology                          2\n",
       "plos  computational biology           1\n",
       "plos ntd                              1\n",
       "plos  one                             1\n",
       "plos negected tropical diseases       1\n",
       "plos medicine journal                 1\n",
       "Name: journal_title, dtype: int64"
      ]
     },
     "execution_count": 258,
     "metadata": {},
     "output_type": "execute_result"
    }
   ],
   "source": [
    "# how many journal articles contain 'plos'\n",
    "df.loc[df.journal_title.str.contains('plos'), 'journal_title'].value_counts()"
   ]
  },
  {
   "cell_type": "code",
   "execution_count": 259,
   "metadata": {},
   "outputs": [],
   "source": [
    "# create list of values to change based on similarities\n",
    "plos_one = ['plos 1',\n",
    "            'plos  one',\n",
    "            'plosone',\n",
    "            'plos']"
   ]
  },
  {
   "cell_type": "code",
   "execution_count": 260,
   "metadata": {},
   "outputs": [],
   "source": [
    "# is there a better way to do this with a lambda function?\n",
    "df.loc[df.journal_title.isin(plos_one), 'journal_title'] = 'plos one'"
   ]
  },
  {
   "cell_type": "code",
   "execution_count": 261,
   "metadata": {},
   "outputs": [
    {
     "data": {
      "text/plain": [
       "plos one                            211\n",
       "plos genetics                        24\n",
       "plos pathogens                       24\n",
       "plos neglected tropical diseases     20\n",
       "plos computational biology            9\n",
       "plos medicine                         4\n",
       "plos biology                          2\n",
       "plos  computational biology           1\n",
       "plos ntd                              1\n",
       "plos negected tropical diseases       1\n",
       "plos medicine journal                 1\n",
       "Name: journal_title, dtype: int64"
      ]
     },
     "execution_count": 261,
     "metadata": {},
     "output_type": "execute_result"
    }
   ],
   "source": [
    "# now verify value counts\n",
    "df.loc[df.journal_title.str.contains('plos'), 'journal_title'].value_counts()"
   ]
  },
  {
   "cell_type": "code",
   "execution_count": 262,
   "metadata": {},
   "outputs": [
    {
     "data": {
      "text/plain": [
       "0            psychological medicine\n",
       "1                 biomacromolecules\n",
       "2                        j med chem\n",
       "3                        j med chem\n",
       "4                        j org chem\n",
       "5    journal of medicinal chemistry\n",
       "6      journal of proteome research\n",
       "7                         mol pharm\n",
       "8              acs chemical biology\n",
       "9              acs chemical biology\n",
       "Name: journal_title, dtype: object"
      ]
     },
     "execution_count": 262,
     "metadata": {},
     "output_type": "execute_result"
    }
   ],
   "source": [
    "# there are still a number of similar names\n",
    "df.journal_title.sort_index().head(10)"
   ]
  },
  {
   "cell_type": "code",
   "execution_count": 263,
   "metadata": {},
   "outputs": [
    {
     "data": {
      "text/plain": [
       "plos one                           211\n",
       "journal of biological chemistry     53\n",
       "neuroimage                          29\n",
       "nucleic acids research              26\n",
       "plos pathogens                      24\n",
       "Name: journal_title, dtype: int64"
      ]
     },
     "execution_count": 263,
     "metadata": {},
     "output_type": "execute_result"
    }
   ],
   "source": [
    "df.journal_title.value_counts().head()"
   ]
  },
  {
   "cell_type": "markdown",
   "metadata": {},
   "source": [
    "## 2. Next, calculate the mean, median, and standard deviation of the open-access cost per article for each journal."
   ]
  },
  {
   "cell_type": "code",
   "execution_count": 264,
   "metadata": {},
   "outputs": [],
   "source": [
    "# strip the £ character off the front\n",
    "df.cost = df.cost.apply(lambda x: x[1:])\n",
    "\n",
    "# I could have also use the .str.replace('£', '') to do the same as the above"
   ]
  },
  {
   "cell_type": "code",
   "execution_count": 265,
   "metadata": {},
   "outputs": [],
   "source": [
    "# remove $ character\n",
    "df.cost = df.cost.str.replace('$', '')"
   ]
  },
  {
   "cell_type": "code",
   "execution_count": 266,
   "metadata": {},
   "outputs": [],
   "source": [
    "# change format of column to numeric\n",
    "df.cost = pd.to_numeric(df.cost)"
   ]
  },
  {
   "cell_type": "code",
   "execution_count": 267,
   "metadata": {},
   "outputs": [
    {
     "data": {
      "text/plain": [
       "pmid/pmcid        object\n",
       "publisher         object\n",
       "journal_title     object\n",
       "article_title     object\n",
       "cost             float64\n",
       "dtype: object"
      ]
     },
     "execution_count": 267,
     "metadata": {},
     "output_type": "execute_result"
    }
   ],
   "source": [
    "# verify data types are correct\n",
    "df.dtypes"
   ]
  },
  {
   "cell_type": "code",
   "execution_count": 268,
   "metadata": {},
   "outputs": [
    {
     "data": {
      "text/plain": [
       "2040.00      94\n",
       "999999.00    47\n",
       "1500.00      37\n",
       "2400.00      32\n",
       "2100.00      30\n",
       "1800.00      28\n",
       "3000.00      26\n",
       "1700.00      21\n",
       "825.68       19\n",
       "1834.77      18\n",
       "Name: cost, dtype: int64"
      ]
     },
     "execution_count": 268,
     "metadata": {},
     "output_type": "execute_result"
    }
   ],
   "source": [
    "df.cost.value_counts().head(10)"
   ]
  },
  {
   "cell_type": "code",
   "execution_count": 269,
   "metadata": {},
   "outputs": [],
   "source": [
    "# remove values that seem out of proportion\n",
    "replace = {\n",
    "    999999.0: 0\n",
    "}\n",
    "\n",
    "df.replace({'cost': replace}, inplace=True)"
   ]
  },
  {
   "cell_type": "code",
   "execution_count": 270,
   "metadata": {},
   "outputs": [
    {
     "data": {
      "text/html": [
       "<div>\n",
       "<style scoped>\n",
       "    .dataframe tbody tr th:only-of-type {\n",
       "        vertical-align: middle;\n",
       "    }\n",
       "\n",
       "    .dataframe tbody tr th {\n",
       "        vertical-align: top;\n",
       "    }\n",
       "\n",
       "    .dataframe thead th {\n",
       "        text-align: right;\n",
       "    }\n",
       "</style>\n",
       "<table border=\"1\" class=\"dataframe\">\n",
       "  <thead>\n",
       "    <tr style=\"text-align: right;\">\n",
       "      <th></th>\n",
       "      <th>mean</th>\n",
       "      <th>median</th>\n",
       "      <th>std</th>\n",
       "    </tr>\n",
       "    <tr>\n",
       "      <th>journal_title</th>\n",
       "      <th></th>\n",
       "      <th></th>\n",
       "      <th></th>\n",
       "    </tr>\n",
       "  </thead>\n",
       "  <tbody>\n",
       "    <tr>\n",
       "      <td>movement disorders</td>\n",
       "      <td>15176.788000</td>\n",
       "      <td>2010.24</td>\n",
       "      <td>51414.460186</td>\n",
       "    </tr>\n",
       "    <tr>\n",
       "      <td>nan</td>\n",
       "      <td>13200.000000</td>\n",
       "      <td>13200.00</td>\n",
       "      <td>NaN</td>\n",
       "    </tr>\n",
       "    <tr>\n",
       "      <td>public service review</td>\n",
       "      <td>6000.000000</td>\n",
       "      <td>6000.00</td>\n",
       "      <td>NaN</td>\n",
       "    </tr>\n",
       "    <tr>\n",
       "      <td>the lancet neurology</td>\n",
       "      <td>5040.000000</td>\n",
       "      <td>5040.00</td>\n",
       "      <td>1018.233765</td>\n",
       "    </tr>\n",
       "    <tr>\n",
       "      <td>the lancet</td>\n",
       "      <td>4558.003333</td>\n",
       "      <td>4554.01</td>\n",
       "      <td>240.024915</td>\n",
       "    </tr>\n",
       "    <tr>\n",
       "      <td>cell host &amp; microbe</td>\n",
       "      <td>4226.040000</td>\n",
       "      <td>4226.04</td>\n",
       "      <td>NaN</td>\n",
       "    </tr>\n",
       "    <tr>\n",
       "      <td>curr biol.</td>\n",
       "      <td>4151.770000</td>\n",
       "      <td>4151.77</td>\n",
       "      <td>NaN</td>\n",
       "    </tr>\n",
       "    <tr>\n",
       "      <td>cell journal</td>\n",
       "      <td>4041.050000</td>\n",
       "      <td>4041.05</td>\n",
       "      <td>NaN</td>\n",
       "    </tr>\n",
       "    <tr>\n",
       "      <td>immunity</td>\n",
       "      <td>3934.750000</td>\n",
       "      <td>3934.75</td>\n",
       "      <td>190.791552</td>\n",
       "    </tr>\n",
       "    <tr>\n",
       "      <td>cell metabolism</td>\n",
       "      <td>3924.260000</td>\n",
       "      <td>3904.46</td>\n",
       "      <td>151.324659</td>\n",
       "    </tr>\n",
       "  </tbody>\n",
       "</table>\n",
       "</div>"
      ],
      "text/plain": [
       "                               mean    median           std\n",
       "journal_title                                              \n",
       "movement disorders     15176.788000   2010.24  51414.460186\n",
       "nan                    13200.000000  13200.00           NaN\n",
       "public service review   6000.000000   6000.00           NaN\n",
       "the lancet neurology    5040.000000   5040.00   1018.233765\n",
       "the lancet              4558.003333   4554.01    240.024915\n",
       "cell host & microbe     4226.040000   4226.04           NaN\n",
       "curr biol.              4151.770000   4151.77           NaN\n",
       "cell journal            4041.050000   4041.05           NaN\n",
       "immunity                3934.750000   3934.75    190.791552\n",
       "cell metabolism         3924.260000   3904.46    151.324659"
      ]
     },
     "execution_count": 270,
     "metadata": {},
     "output_type": "execute_result"
    }
   ],
   "source": [
    "df.groupby('journal_title')['cost'].agg(['mean', 'median', 'std']) \\\n",
    "  .sort_values(by='mean', ascending=False).head(10)"
   ]
  },
  {
   "cell_type": "markdown",
   "metadata": {},
   "source": [
    "## 3. Identify the open access prices paid by subject area."
   ]
  },
  {
   "cell_type": "markdown",
   "metadata": {},
   "source": [
    "1. for the top 50 journal titles\n",
    "1. identify key words that seem to go together, form them into lists\n",
    "1. use those lists to assign the journals into categories\n",
    "1. maybe identify 5 categories, see how many remain after that"
   ]
  },
  {
   "cell_type": "markdown",
   "metadata": {},
   "source": [
    "### Method 1"
   ]
  },
  {
   "cell_type": "code",
   "execution_count": 271,
   "metadata": {},
   "outputs": [],
   "source": [
    "# df.journal_title.value_counts().head(10)"
   ]
  },
  {
   "cell_type": "code",
   "execution_count": 272,
   "metadata": {},
   "outputs": [],
   "source": [
    "# brain = ('cereb'or\n",
    "#         'brain'or\n",
    "#         'neuro'or\n",
    "#          'cortex')\n",
    "\n",
    "# # seems like I can't do a list if I want to use str.contains \n",
    "# # in order to hunt down smaller patterns in journal titles\n",
    "# # is a string chained together the best option here?\n",
    "# disease = ('virol'or\n",
    "#           'immun'or\n",
    "#           'malaria'or\n",
    "#           'patho'or\n",
    "#           'disea'or\n",
    "#           'infec'or\n",
    "#           'para')\n",
    "\n",
    "# df.loc[df.journal_title.str.contains(brain), 'journal_bin'] = 'brain'\n",
    "\n",
    "# df.loc[df.journal_title.str.contains(disease), 'journal_bin'] = 'disease'"
   ]
  },
  {
   "cell_type": "code",
   "execution_count": 273,
   "metadata": {},
   "outputs": [],
   "source": [
    "# df.loc[df.journal_bin.notnull()].shape"
   ]
  },
  {
   "cell_type": "markdown",
   "metadata": {},
   "source": [
    "### Method 2"
   ]
  },
  {
   "cell_type": "code",
   "execution_count": 274,
   "metadata": {},
   "outputs": [],
   "source": [
    "# split up each journal title based on spaces\n",
    "# df['split_journals'] = df.journal_title.str.split(' ')"
   ]
  },
  {
   "cell_type": "code",
   "execution_count": 275,
   "metadata": {},
   "outputs": [],
   "source": [
    "# df.head(10)"
   ]
  },
  {
   "cell_type": "code",
   "execution_count": 276,
   "metadata": {},
   "outputs": [],
   "source": [
    "# assign labels based on key words\n",
    "# df.loc[df.journal_title.str.contains('biol'), 'journal_bin2'] = 'biology'\n",
    "# df.loc[df.journal_title.str.contains('gene'), 'journal_bin2'] = 'genetics'\n",
    "# df.loc[df.journal_title.str.contains('neuro'), 'journal_bin2'] = 'neurology'\n",
    "# df.loc[df.journal_title.str.contains('psych'), 'journal_bin2'] = 'psychology'\n",
    "# df.loc[df.journal_title.str.contains('endo'), 'journal_bin2'] = 'endocrinology'\n",
    "# df.loc[df.journal_title.str.contains('epid'), 'journal_bin2'] = 'epidemiology'\n",
    "# df.loc[df.journal_title.str.contains('pharma'), 'journal_bin2'] = 'pharmacology'"
   ]
  },
  {
   "cell_type": "code",
   "execution_count": 277,
   "metadata": {},
   "outputs": [],
   "source": [
    "# this seemed much more effective\n",
    "# df.loc[df.journal_bin2.notnull()].shape"
   ]
  },
  {
   "cell_type": "code",
   "execution_count": 278,
   "metadata": {},
   "outputs": [],
   "source": [
    "# some aren't labeled quite properly\n",
    "# for instance chemical biology is being assigned to biology right now\n",
    "\n",
    "# df.loc[df.journal_bin2.notnull()].head(20)"
   ]
  },
  {
   "cell_type": "code",
   "execution_count": 279,
   "metadata": {},
   "outputs": [],
   "source": [
    "# journal_words_df_count.head(90)"
   ]
  },
  {
   "cell_type": "markdown",
   "metadata": {},
   "source": [
    "### Method 3"
   ]
  },
  {
   "cell_type": "markdown",
   "metadata": {},
   "source": [
    "### Identify Top Journal Keywords"
   ]
  },
  {
   "cell_type": "code",
   "execution_count": 281,
   "metadata": {},
   "outputs": [
    {
     "data": {
      "text/html": [
       "<div>\n",
       "<style scoped>\n",
       "    .dataframe tbody tr th:only-of-type {\n",
       "        vertical-align: middle;\n",
       "    }\n",
       "\n",
       "    .dataframe tbody tr th {\n",
       "        vertical-align: top;\n",
       "    }\n",
       "\n",
       "    .dataframe thead th {\n",
       "        text-align: right;\n",
       "    }\n",
       "</style>\n",
       "<table border=\"1\" class=\"dataframe\">\n",
       "  <thead>\n",
       "    <tr style=\"text-align: right;\">\n",
       "      <th></th>\n",
       "      <th>pmid/pmcid</th>\n",
       "      <th>publisher</th>\n",
       "      <th>journal_title</th>\n",
       "      <th>article_title</th>\n",
       "      <th>cost</th>\n",
       "    </tr>\n",
       "  </thead>\n",
       "  <tbody>\n",
       "    <tr>\n",
       "      <td>0</td>\n",
       "      <td>NaN</td>\n",
       "      <td>CUP</td>\n",
       "      <td>psychological medicine</td>\n",
       "      <td>Reduced parahippocampal cortical thickness in ...</td>\n",
       "      <td>0.00</td>\n",
       "    </tr>\n",
       "    <tr>\n",
       "      <td>1</td>\n",
       "      <td>PMC3679557</td>\n",
       "      <td>ACS</td>\n",
       "      <td>biomacromolecules</td>\n",
       "      <td>Structural characterization of a Model Gram-ne...</td>\n",
       "      <td>2381.04</td>\n",
       "    </tr>\n",
       "    <tr>\n",
       "      <td>2</td>\n",
       "      <td>23043264  PMC3506128</td>\n",
       "      <td>ACS</td>\n",
       "      <td>j med chem</td>\n",
       "      <td>Fumaroylamino-4,5-epoxymorphinans and related ...</td>\n",
       "      <td>642.56</td>\n",
       "    </tr>\n",
       "    <tr>\n",
       "      <td>3</td>\n",
       "      <td>23438330 PMC3646402</td>\n",
       "      <td>ACS</td>\n",
       "      <td>j med chem</td>\n",
       "      <td>Orvinols with mixed kappa/mu opioid receptor a...</td>\n",
       "      <td>669.64</td>\n",
       "    </tr>\n",
       "    <tr>\n",
       "      <td>4</td>\n",
       "      <td>23438216 PMC3601604</td>\n",
       "      <td>ACS</td>\n",
       "      <td>j org chem</td>\n",
       "      <td>Regioselective opening of myo-inositol orthoes...</td>\n",
       "      <td>685.88</td>\n",
       "    </tr>\n",
       "  </tbody>\n",
       "</table>\n",
       "</div>"
      ],
      "text/plain": [
       "              pmid/pmcid publisher           journal_title  \\\n",
       "0                    NaN       CUP  psychological medicine   \n",
       "1             PMC3679557       ACS       biomacromolecules   \n",
       "2  23043264  PMC3506128        ACS              j med chem   \n",
       "3    23438330 PMC3646402       ACS              j med chem   \n",
       "4   23438216 PMC3601604        ACS              j org chem   \n",
       "\n",
       "                                       article_title     cost  \n",
       "0  Reduced parahippocampal cortical thickness in ...     0.00  \n",
       "1  Structural characterization of a Model Gram-ne...  2381.04  \n",
       "2  Fumaroylamino-4,5-epoxymorphinans and related ...   642.56  \n",
       "3  Orvinols with mixed kappa/mu opioid receptor a...   669.64  \n",
       "4  Regioselective opening of myo-inositol orthoes...   685.88  "
      ]
     },
     "execution_count": 281,
     "metadata": {},
     "output_type": "execute_result"
    }
   ],
   "source": [
    "df.head()"
   ]
  },
  {
   "cell_type": "code",
   "execution_count": 287,
   "metadata": {},
   "outputs": [],
   "source": [
    "# break up tokens from journal titles\n",
    "# find the count of each token\n",
    "# based on the tokens with the highest counts, form buckets\n",
    "\n",
    "journal_words = []\n",
    "\n",
    "for row in df.journal_title.str.split():\n",
    "    for word in row:\n",
    "        if len(word) > 3:\n",
    "            journal_words.append(word)\n",
    "\n",
    "journal_words_df = pd.DataFrame(journal_words, columns=['tokens'])\n",
    "\n",
    "journal_words_df_count = journal_words_df.groupby('tokens')['tokens'] \\\n",
    "    .count() \\\n",
    "    .reset_index(name= 'token_count') \\\n",
    "    .sort_values(by='token_count', ascending=False)"
   ]
  },
  {
   "cell_type": "code",
   "execution_count": 289,
   "metadata": {},
   "outputs": [
    {
     "data": {
      "text/html": [
       "<div>\n",
       "<style scoped>\n",
       "    .dataframe tbody tr th:only-of-type {\n",
       "        vertical-align: middle;\n",
       "    }\n",
       "\n",
       "    .dataframe tbody tr th {\n",
       "        vertical-align: top;\n",
       "    }\n",
       "\n",
       "    .dataframe thead th {\n",
       "        text-align: right;\n",
       "    }\n",
       "</style>\n",
       "<table border=\"1\" class=\"dataframe\">\n",
       "  <thead>\n",
       "    <tr style=\"text-align: right;\">\n",
       "      <th></th>\n",
       "      <th>tokens</th>\n",
       "      <th>token_count</th>\n",
       "    </tr>\n",
       "  </thead>\n",
       "  <tbody>\n",
       "    <tr>\n",
       "      <td>371</td>\n",
       "      <td>journal</td>\n",
       "      <td>528</td>\n",
       "    </tr>\n",
       "    <tr>\n",
       "      <td>539</td>\n",
       "      <td>plos</td>\n",
       "      <td>298</td>\n",
       "    </tr>\n",
       "    <tr>\n",
       "      <td>96</td>\n",
       "      <td>biology</td>\n",
       "      <td>92</td>\n",
       "    </tr>\n",
       "    <tr>\n",
       "      <td>595</td>\n",
       "      <td>research</td>\n",
       "      <td>91</td>\n",
       "    </tr>\n",
       "    <tr>\n",
       "      <td>423</td>\n",
       "      <td>molecular</td>\n",
       "      <td>88</td>\n",
       "    </tr>\n",
       "  </tbody>\n",
       "</table>\n",
       "</div>"
      ],
      "text/plain": [
       "        tokens  token_count\n",
       "371    journal          528\n",
       "539       plos          298\n",
       "96     biology           92\n",
       "595   research           91\n",
       "423  molecular           88"
      ]
     },
     "execution_count": 289,
     "metadata": {},
     "output_type": "execute_result"
    }
   ],
   "source": [
    "journal_words_df_count.head()"
   ]
  },
  {
   "cell_type": "code",
   "execution_count": 290,
   "metadata": {},
   "outputs": [],
   "source": [
    "# lemmatize and tag jornal bag of words\n",
    "# https://stackoverflow.com/questions/44395656/applying-spacy-parser-to-pandas-dataframe-w-multiprocessing\n",
    "\n",
    "lemma = []\n",
    "pos = []\n",
    "tag = []\n",
    "\n",
    "for doc in nlp.pipe(journal_words_df_count['tokens'].astype('unicode').values, batch_size=50):\n",
    "    lemma.append([n.lemma_ for n in doc])\n",
    "    pos.append([n.pos_ for n in doc])\n",
    "    tag.append([n.tag_ for n in doc])\n",
    "\n",
    "journal_words_df_count['lemma'] = lemma\n",
    "journal_words_df_count['pos'] = pos\n",
    "journal_words_df_count['tag'] = tag"
   ]
  },
  {
   "cell_type": "code",
   "execution_count": 291,
   "metadata": {},
   "outputs": [],
   "source": [
    "# change format of columns from list to string\n",
    "# is there a better way I could be doing this?\n",
    "journal_words_df_count.lemma = journal_words_df_count.lemma.apply(''.join)\n",
    "journal_words_df_count.pos = journal_words_df_count.pos.apply(''.join)"
   ]
  },
  {
   "cell_type": "code",
   "execution_count": 292,
   "metadata": {},
   "outputs": [
    {
     "data": {
      "text/html": [
       "<div>\n",
       "<style scoped>\n",
       "    .dataframe tbody tr th:only-of-type {\n",
       "        vertical-align: middle;\n",
       "    }\n",
       "\n",
       "    .dataframe tbody tr th {\n",
       "        vertical-align: top;\n",
       "    }\n",
       "\n",
       "    .dataframe thead th {\n",
       "        text-align: right;\n",
       "    }\n",
       "</style>\n",
       "<table border=\"1\" class=\"dataframe\">\n",
       "  <thead>\n",
       "    <tr style=\"text-align: right;\">\n",
       "      <th></th>\n",
       "      <th>tokens</th>\n",
       "      <th>token_count</th>\n",
       "      <th>lemma</th>\n",
       "      <th>pos</th>\n",
       "      <th>tag</th>\n",
       "    </tr>\n",
       "  </thead>\n",
       "  <tbody>\n",
       "    <tr>\n",
       "      <td>371</td>\n",
       "      <td>journal</td>\n",
       "      <td>528</td>\n",
       "      <td>journal</td>\n",
       "      <td>NOUN</td>\n",
       "      <td>[NN]</td>\n",
       "    </tr>\n",
       "    <tr>\n",
       "      <td>539</td>\n",
       "      <td>plos</td>\n",
       "      <td>298</td>\n",
       "      <td>plo</td>\n",
       "      <td>NOUN</td>\n",
       "      <td>[NNS]</td>\n",
       "    </tr>\n",
       "    <tr>\n",
       "      <td>96</td>\n",
       "      <td>biology</td>\n",
       "      <td>92</td>\n",
       "      <td>biology</td>\n",
       "      <td>NOUN</td>\n",
       "      <td>[NN]</td>\n",
       "    </tr>\n",
       "    <tr>\n",
       "      <td>595</td>\n",
       "      <td>research</td>\n",
       "      <td>91</td>\n",
       "      <td>research</td>\n",
       "      <td>NOUN</td>\n",
       "      <td>[NN]</td>\n",
       "    </tr>\n",
       "    <tr>\n",
       "      <td>423</td>\n",
       "      <td>molecular</td>\n",
       "      <td>88</td>\n",
       "      <td>molecular</td>\n",
       "      <td>ADJ</td>\n",
       "      <td>[JJ]</td>\n",
       "    </tr>\n",
       "  </tbody>\n",
       "</table>\n",
       "</div>"
      ],
      "text/plain": [
       "        tokens  token_count      lemma   pos    tag\n",
       "371    journal          528    journal  NOUN   [NN]\n",
       "539       plos          298        plo  NOUN  [NNS]\n",
       "96     biology           92    biology  NOUN   [NN]\n",
       "595   research           91   research  NOUN   [NN]\n",
       "423  molecular           88  molecular   ADJ   [JJ]"
      ]
     },
     "execution_count": 292,
     "metadata": {},
     "output_type": "execute_result"
    }
   ],
   "source": [
    "journal_words_df_count.head()"
   ]
  },
  {
   "cell_type": "code",
   "execution_count": 293,
   "metadata": {},
   "outputs": [],
   "source": [
    "# lemmatize journal titles\n",
    "lemma = []\n",
    "\n",
    "for doc in nlp.pipe(df.journal_title.astype('unicode').values, batch_size=50):\n",
    "    lemma.append([n.lemma_ for n in doc])\n",
    "#     pos.append([n.pos_ for n in doc])\n",
    "\n",
    "df['journal_lemma'] = lemma"
   ]
  },
  {
   "cell_type": "code",
   "execution_count": 294,
   "metadata": {},
   "outputs": [
    {
     "data": {
      "text/html": [
       "<div>\n",
       "<style scoped>\n",
       "    .dataframe tbody tr th:only-of-type {\n",
       "        vertical-align: middle;\n",
       "    }\n",
       "\n",
       "    .dataframe tbody tr th {\n",
       "        vertical-align: top;\n",
       "    }\n",
       "\n",
       "    .dataframe thead th {\n",
       "        text-align: right;\n",
       "    }\n",
       "</style>\n",
       "<table border=\"1\" class=\"dataframe\">\n",
       "  <thead>\n",
       "    <tr style=\"text-align: right;\">\n",
       "      <th></th>\n",
       "      <th>pmid/pmcid</th>\n",
       "      <th>publisher</th>\n",
       "      <th>journal_title</th>\n",
       "      <th>article_title</th>\n",
       "      <th>cost</th>\n",
       "      <th>journal_lemma</th>\n",
       "    </tr>\n",
       "  </thead>\n",
       "  <tbody>\n",
       "    <tr>\n",
       "      <td>0</td>\n",
       "      <td>NaN</td>\n",
       "      <td>CUP</td>\n",
       "      <td>psychological medicine</td>\n",
       "      <td>Reduced parahippocampal cortical thickness in ...</td>\n",
       "      <td>0.00</td>\n",
       "      <td>[psychological, medicine]</td>\n",
       "    </tr>\n",
       "    <tr>\n",
       "      <td>1</td>\n",
       "      <td>PMC3679557</td>\n",
       "      <td>ACS</td>\n",
       "      <td>biomacromolecules</td>\n",
       "      <td>Structural characterization of a Model Gram-ne...</td>\n",
       "      <td>2381.04</td>\n",
       "      <td>[biomacromolecule]</td>\n",
       "    </tr>\n",
       "    <tr>\n",
       "      <td>2</td>\n",
       "      <td>23043264  PMC3506128</td>\n",
       "      <td>ACS</td>\n",
       "      <td>j med chem</td>\n",
       "      <td>Fumaroylamino-4,5-epoxymorphinans and related ...</td>\n",
       "      <td>642.56</td>\n",
       "      <td>[j, med, chem]</td>\n",
       "    </tr>\n",
       "    <tr>\n",
       "      <td>3</td>\n",
       "      <td>23438330 PMC3646402</td>\n",
       "      <td>ACS</td>\n",
       "      <td>j med chem</td>\n",
       "      <td>Orvinols with mixed kappa/mu opioid receptor a...</td>\n",
       "      <td>669.64</td>\n",
       "      <td>[j, med, chem]</td>\n",
       "    </tr>\n",
       "    <tr>\n",
       "      <td>4</td>\n",
       "      <td>23438216 PMC3601604</td>\n",
       "      <td>ACS</td>\n",
       "      <td>j org chem</td>\n",
       "      <td>Regioselective opening of myo-inositol orthoes...</td>\n",
       "      <td>685.88</td>\n",
       "      <td>[j, org, chem]</td>\n",
       "    </tr>\n",
       "  </tbody>\n",
       "</table>\n",
       "</div>"
      ],
      "text/plain": [
       "              pmid/pmcid publisher           journal_title  \\\n",
       "0                    NaN       CUP  psychological medicine   \n",
       "1             PMC3679557       ACS       biomacromolecules   \n",
       "2  23043264  PMC3506128        ACS              j med chem   \n",
       "3    23438330 PMC3646402       ACS              j med chem   \n",
       "4   23438216 PMC3601604        ACS              j org chem   \n",
       "\n",
       "                                       article_title     cost  \\\n",
       "0  Reduced parahippocampal cortical thickness in ...     0.00   \n",
       "1  Structural characterization of a Model Gram-ne...  2381.04   \n",
       "2  Fumaroylamino-4,5-epoxymorphinans and related ...   642.56   \n",
       "3  Orvinols with mixed kappa/mu opioid receptor a...   669.64   \n",
       "4  Regioselective opening of myo-inositol orthoes...   685.88   \n",
       "\n",
       "               journal_lemma  \n",
       "0  [psychological, medicine]  \n",
       "1         [biomacromolecule]  \n",
       "2             [j, med, chem]  \n",
       "3             [j, med, chem]  \n",
       "4             [j, org, chem]  "
      ]
     },
     "execution_count": 294,
     "metadata": {},
     "output_type": "execute_result"
    }
   ],
   "source": [
    "df.head()"
   ]
  },
  {
   "cell_type": "markdown",
   "metadata": {},
   "source": [
    "## Results Comparison/Contrast"
   ]
  },
  {
   "cell_type": "markdown",
   "metadata": {},
   "source": [
    "### Using spaCy Lemmatization\n",
    "I felt that spaCy didn't find a very deep root of the word.  Resulting in less effective binning"
   ]
  },
  {
   "cell_type": "code",
   "execution_count": 295,
   "metadata": {},
   "outputs": [
    {
     "data": {
      "text/plain": [
       "96       biology\n",
       "595     research\n",
       "148    chemistry\n",
       "135         cell\n",
       "292      genetic\n",
       "Name: lemma, dtype: object"
      ]
     },
     "execution_count": 295,
     "metadata": {},
     "output_type": "execute_result"
    }
   ],
   "source": [
    "# idenfity only nouns\n",
    "# exclude the top 2 since they are not meaningful\n",
    "journal_words_df_count.loc[journal_words_df_count.pos == 'NOUN', 'lemma'][2:52].head()"
   ]
  },
  {
   "cell_type": "code",
   "execution_count": 296,
   "metadata": {},
   "outputs": [],
   "source": [
    "# iterate through journal lemma words\n",
    "# then bin based on word \n",
    "# ranked most highly in the bag of words\n",
    "def bin_based_on_stem(stemmed_journal):\n",
    "    for word in stemmed_journal:\n",
    "        if word in journal_words_df_count.loc[journal_words_df_count.pos == 'NOUN', 'lemma'][2:52].values:\n",
    "            return word\n",
    "    return np.nan"
   ]
  },
  {
   "cell_type": "code",
   "execution_count": 297,
   "metadata": {},
   "outputs": [],
   "source": [
    "df['lemma_bin'] = df.journal_lemma.apply(bin_based_on_stem)"
   ]
  },
  {
   "cell_type": "code",
   "execution_count": 298,
   "metadata": {},
   "outputs": [
    {
     "data": {
      "text/html": [
       "<div>\n",
       "<style scoped>\n",
       "    .dataframe tbody tr th:only-of-type {\n",
       "        vertical-align: middle;\n",
       "    }\n",
       "\n",
       "    .dataframe tbody tr th {\n",
       "        vertical-align: top;\n",
       "    }\n",
       "\n",
       "    .dataframe thead th {\n",
       "        text-align: right;\n",
       "    }\n",
       "</style>\n",
       "<table border=\"1\" class=\"dataframe\">\n",
       "  <thead>\n",
       "    <tr style=\"text-align: right;\">\n",
       "      <th></th>\n",
       "      <th>pmid/pmcid</th>\n",
       "      <th>publisher</th>\n",
       "      <th>journal_title</th>\n",
       "      <th>article_title</th>\n",
       "      <th>cost</th>\n",
       "      <th>journal_lemma</th>\n",
       "      <th>lemma_bin</th>\n",
       "    </tr>\n",
       "  </thead>\n",
       "  <tbody>\n",
       "    <tr>\n",
       "      <td>0</td>\n",
       "      <td>NaN</td>\n",
       "      <td>CUP</td>\n",
       "      <td>psychological medicine</td>\n",
       "      <td>Reduced parahippocampal cortical thickness in ...</td>\n",
       "      <td>0.00</td>\n",
       "      <td>[psychological, medicine]</td>\n",
       "      <td>medicine</td>\n",
       "    </tr>\n",
       "    <tr>\n",
       "      <td>1</td>\n",
       "      <td>PMC3679557</td>\n",
       "      <td>ACS</td>\n",
       "      <td>biomacromolecules</td>\n",
       "      <td>Structural characterization of a Model Gram-ne...</td>\n",
       "      <td>2381.04</td>\n",
       "      <td>[biomacromolecule]</td>\n",
       "      <td>NaN</td>\n",
       "    </tr>\n",
       "    <tr>\n",
       "      <td>2</td>\n",
       "      <td>23043264  PMC3506128</td>\n",
       "      <td>ACS</td>\n",
       "      <td>j med chem</td>\n",
       "      <td>Fumaroylamino-4,5-epoxymorphinans and related ...</td>\n",
       "      <td>642.56</td>\n",
       "      <td>[j, med, chem]</td>\n",
       "      <td>NaN</td>\n",
       "    </tr>\n",
       "    <tr>\n",
       "      <td>3</td>\n",
       "      <td>23438330 PMC3646402</td>\n",
       "      <td>ACS</td>\n",
       "      <td>j med chem</td>\n",
       "      <td>Orvinols with mixed kappa/mu opioid receptor a...</td>\n",
       "      <td>669.64</td>\n",
       "      <td>[j, med, chem]</td>\n",
       "      <td>NaN</td>\n",
       "    </tr>\n",
       "    <tr>\n",
       "      <td>4</td>\n",
       "      <td>23438216 PMC3601604</td>\n",
       "      <td>ACS</td>\n",
       "      <td>j org chem</td>\n",
       "      <td>Regioselective opening of myo-inositol orthoes...</td>\n",
       "      <td>685.88</td>\n",
       "      <td>[j, org, chem]</td>\n",
       "      <td>NaN</td>\n",
       "    </tr>\n",
       "  </tbody>\n",
       "</table>\n",
       "</div>"
      ],
      "text/plain": [
       "              pmid/pmcid publisher           journal_title  \\\n",
       "0                    NaN       CUP  psychological medicine   \n",
       "1             PMC3679557       ACS       biomacromolecules   \n",
       "2  23043264  PMC3506128        ACS              j med chem   \n",
       "3    23438330 PMC3646402       ACS              j med chem   \n",
       "4   23438216 PMC3601604        ACS              j org chem   \n",
       "\n",
       "                                       article_title     cost  \\\n",
       "0  Reduced parahippocampal cortical thickness in ...     0.00   \n",
       "1  Structural characterization of a Model Gram-ne...  2381.04   \n",
       "2  Fumaroylamino-4,5-epoxymorphinans and related ...   642.56   \n",
       "3  Orvinols with mixed kappa/mu opioid receptor a...   669.64   \n",
       "4  Regioselective opening of myo-inositol orthoes...   685.88   \n",
       "\n",
       "               journal_lemma lemma_bin  \n",
       "0  [psychological, medicine]  medicine  \n",
       "1         [biomacromolecule]       NaN  \n",
       "2             [j, med, chem]       NaN  \n",
       "3             [j, med, chem]       NaN  \n",
       "4             [j, org, chem]       NaN  "
      ]
     },
     "execution_count": 298,
     "metadata": {},
     "output_type": "execute_result"
    }
   ],
   "source": [
    "df.head()"
   ]
  },
  {
   "cell_type": "code",
   "execution_count": 299,
   "metadata": {},
   "outputs": [
    {
     "data": {
      "text/plain": [
       "chemistry    83\n",
       "cell         81\n",
       "genetic      80\n",
       "biology      76\n",
       "medicine     57\n",
       "Name: lemma_bin, dtype: int64"
      ]
     },
     "execution_count": 299,
     "metadata": {},
     "output_type": "execute_result"
    }
   ],
   "source": [
    "df.lemma_bin.value_counts().head()"
   ]
  },
  {
   "cell_type": "code",
   "execution_count": 300,
   "metadata": {},
   "outputs": [
    {
     "data": {
      "text/plain": [
       "1307"
      ]
     },
     "execution_count": 300,
     "metadata": {},
     "output_type": "execute_result"
    }
   ],
   "source": [
    "# how many journals were assigned?\n",
    "df.lemma_bin.value_counts().sum()"
   ]
  },
  {
   "cell_type": "code",
   "execution_count": 301,
   "metadata": {},
   "outputs": [
    {
     "data": {
      "text/plain": [
       "2127"
      ]
     },
     "execution_count": 301,
     "metadata": {},
     "output_type": "execute_result"
    }
   ],
   "source": [
    "# how many journals in total\n",
    "df.shape[0]"
   ]
  },
  {
   "cell_type": "code",
   "execution_count": 302,
   "metadata": {},
   "outputs": [
    {
     "data": {
      "text/plain": [
       "0.614480488951575"
      ]
     },
     "execution_count": 302,
     "metadata": {},
     "output_type": "execute_result"
    }
   ],
   "source": [
    "# what percent of journals were assigned?\n",
    "df.lemma_bin.value_counts().sum() / \\\n",
    "df.shape[0]"
   ]
  },
  {
   "cell_type": "code",
   "execution_count": 318,
   "metadata": {},
   "outputs": [
    {
     "data": {
      "text/html": [
       "<div>\n",
       "<style scoped>\n",
       "    .dataframe tbody tr th:only-of-type {\n",
       "        vertical-align: middle;\n",
       "    }\n",
       "\n",
       "    .dataframe tbody tr th {\n",
       "        vertical-align: top;\n",
       "    }\n",
       "\n",
       "    .dataframe thead th {\n",
       "        text-align: right;\n",
       "    }\n",
       "</style>\n",
       "<table border=\"1\" class=\"dataframe\">\n",
       "  <thead>\n",
       "    <tr style=\"text-align: right;\">\n",
       "      <th></th>\n",
       "      <th>pmid/pmcid</th>\n",
       "      <th>publisher</th>\n",
       "      <th>journal_title</th>\n",
       "      <th>article_title</th>\n",
       "      <th>cost</th>\n",
       "      <th>journal_lemma</th>\n",
       "      <th>lemma_bin</th>\n",
       "      <th>first_4_char_bin</th>\n",
       "    </tr>\n",
       "  </thead>\n",
       "  <tbody>\n",
       "    <tr>\n",
       "      <td>1</td>\n",
       "      <td>PMC3679557</td>\n",
       "      <td>ACS</td>\n",
       "      <td>biomacromolecules</td>\n",
       "      <td>Structural characterization of a Model Gram-ne...</td>\n",
       "      <td>2381.04</td>\n",
       "      <td>[biomacromolecule]</td>\n",
       "      <td>NaN</td>\n",
       "      <td>biomacromolecule</td>\n",
       "    </tr>\n",
       "    <tr>\n",
       "      <td>2</td>\n",
       "      <td>23043264  PMC3506128</td>\n",
       "      <td>ACS</td>\n",
       "      <td>j med chem</td>\n",
       "      <td>Fumaroylamino-4,5-epoxymorphinans and related ...</td>\n",
       "      <td>642.56</td>\n",
       "      <td>[j, med, chem]</td>\n",
       "      <td>NaN</td>\n",
       "      <td>chem</td>\n",
       "    </tr>\n",
       "    <tr>\n",
       "      <td>3</td>\n",
       "      <td>23438330 PMC3646402</td>\n",
       "      <td>ACS</td>\n",
       "      <td>j med chem</td>\n",
       "      <td>Orvinols with mixed kappa/mu opioid receptor a...</td>\n",
       "      <td>669.64</td>\n",
       "      <td>[j, med, chem]</td>\n",
       "      <td>NaN</td>\n",
       "      <td>chem</td>\n",
       "    </tr>\n",
       "    <tr>\n",
       "      <td>4</td>\n",
       "      <td>23438216 PMC3601604</td>\n",
       "      <td>ACS</td>\n",
       "      <td>j org chem</td>\n",
       "      <td>Regioselective opening of myo-inositol orthoes...</td>\n",
       "      <td>685.88</td>\n",
       "      <td>[j, org, chem]</td>\n",
       "      <td>NaN</td>\n",
       "      <td>chem</td>\n",
       "    </tr>\n",
       "    <tr>\n",
       "      <td>7</td>\n",
       "      <td>23057412 PMC3495574</td>\n",
       "      <td>ACS</td>\n",
       "      <td>mol pharm</td>\n",
       "      <td>Quantitative silencing of EGFP reporter gene b...</td>\n",
       "      <td>649.33</td>\n",
       "      <td>[mol, pharm]</td>\n",
       "      <td>NaN</td>\n",
       "      <td>NaN</td>\n",
       "    </tr>\n",
       "    <tr>\n",
       "      <td>13</td>\n",
       "      <td>PMC3413243</td>\n",
       "      <td>ACS Publications</td>\n",
       "      <td>biochemistry</td>\n",
       "      <td>Monomeric 14-3-3 has a chaperone-like activity...</td>\n",
       "      <td>665.64</td>\n",
       "      <td>[biochemistry]</td>\n",
       "      <td>NaN</td>\n",
       "      <td>biochemistry</td>\n",
       "    </tr>\n",
       "    <tr>\n",
       "      <td>15</td>\n",
       "      <td>PMC3572711</td>\n",
       "      <td>AGA Institute</td>\n",
       "      <td>gastroenterology</td>\n",
       "      <td>Much of the genetic risk of colorectal cancer ...</td>\n",
       "      <td>238.08</td>\n",
       "      <td>[gastroenterology]</td>\n",
       "      <td>NaN</td>\n",
       "      <td>NaN</td>\n",
       "    </tr>\n",
       "    <tr>\n",
       "      <td>23</td>\n",
       "      <td>PMCID: 3584654</td>\n",
       "      <td>AMERICAN CHEMICAL SOCIETY</td>\n",
       "      <td>acs nano</td>\n",
       "      <td>HYDROXY-TERMINATED CONJUGATED POLYMER NANOPART...</td>\n",
       "      <td>642.89</td>\n",
       "      <td>[acs, nano]</td>\n",
       "      <td>NaN</td>\n",
       "      <td>nano</td>\n",
       "    </tr>\n",
       "    <tr>\n",
       "      <td>34</td>\n",
       "      <td>23373658</td>\n",
       "      <td>American Chemical Society Publications</td>\n",
       "      <td>acs nano</td>\n",
       "      <td>Skin dendritic cell targeting via microneedle ...</td>\n",
       "      <td>693.39</td>\n",
       "      <td>[acs, nano]</td>\n",
       "      <td>NaN</td>\n",
       "      <td>nano</td>\n",
       "    </tr>\n",
       "    <tr>\n",
       "      <td>35</td>\n",
       "      <td>PMC3673662</td>\n",
       "      <td>American College of Chest Physicians</td>\n",
       "      <td>chest</td>\n",
       "      <td>Synthetic response of stimulated respiratory e...</td>\n",
       "      <td>2383.94</td>\n",
       "      <td>[chest]</td>\n",
       "      <td>NaN</td>\n",
       "      <td>NaN</td>\n",
       "    </tr>\n",
       "    <tr>\n",
       "      <td>36</td>\n",
       "      <td>PMC3574980\\n\\n</td>\n",
       "      <td>American Physiological Society</td>\n",
       "      <td>journal of neurophysiology</td>\n",
       "      <td>Reliable evaluation of the quantal determinant...</td>\n",
       "      <td>1276.08</td>\n",
       "      <td>[journal, of, neurophysiology]</td>\n",
       "      <td>NaN</td>\n",
       "      <td>neurophysiology</td>\n",
       "    </tr>\n",
       "    <tr>\n",
       "      <td>37</td>\n",
       "      <td>PMC3680818\\n\\n</td>\n",
       "      <td>American Physiological Society</td>\n",
       "      <td>journal of neurophysiology</td>\n",
       "      <td>Responses of single corticospinal neurons to i...</td>\n",
       "      <td>1291.02</td>\n",
       "      <td>[journal, of, neurophysiology]</td>\n",
       "      <td>NaN</td>\n",
       "      <td>neurophysiology</td>\n",
       "    </tr>\n",
       "    <tr>\n",
       "      <td>38</td>\n",
       "      <td>PMC3602834\\n</td>\n",
       "      <td>American Physiological Society</td>\n",
       "      <td>journal of neurophysiology</td>\n",
       "      <td>Interaction of temporal and ordinal representa...</td>\n",
       "      <td>1319.17</td>\n",
       "      <td>[journal, of, neurophysiology]</td>\n",
       "      <td>NaN</td>\n",
       "      <td>neurophysiology</td>\n",
       "    </tr>\n",
       "    <tr>\n",
       "      <td>39</td>\n",
       "      <td>PMC3234094</td>\n",
       "      <td>American Physiological Society</td>\n",
       "      <td>journal of neurophysiology</td>\n",
       "      <td>Endogenous modulation of low frequency oscilla...</td>\n",
       "      <td>1514.35</td>\n",
       "      <td>[journal, of, neurophysiology]</td>\n",
       "      <td>NaN</td>\n",
       "      <td>neurophysiology</td>\n",
       "    </tr>\n",
       "    <tr>\n",
       "      <td>40</td>\n",
       "      <td>PMCID: PMC3653044</td>\n",
       "      <td>American Physiological Society</td>\n",
       "      <td>journal of neurophysiology</td>\n",
       "      <td>The effect of contextual cues on the encoding ...</td>\n",
       "      <td>1551.61</td>\n",
       "      <td>[journal, of, neurophysiology]</td>\n",
       "      <td>NaN</td>\n",
       "      <td>neurophysiology</td>\n",
       "    </tr>\n",
       "    <tr>\n",
       "      <td>42</td>\n",
       "      <td>23576705, PMC3727040</td>\n",
       "      <td>American Physiological Society</td>\n",
       "      <td>the journal of neurophysiology</td>\n",
       "      <td>Integration of Texture and Disparity Cue to Su...</td>\n",
       "      <td>1276.60</td>\n",
       "      <td>[the, journal, of, neurophysiology]</td>\n",
       "      <td>NaN</td>\n",
       "      <td>neurophysiology</td>\n",
       "    </tr>\n",
       "    <tr>\n",
       "      <td>48</td>\n",
       "      <td>PMC3444304</td>\n",
       "      <td>American Psychological Association</td>\n",
       "      <td>emotion</td>\n",
       "      <td>Subjective responses to emotional stimuli duri...</td>\n",
       "      <td>2534.53</td>\n",
       "      <td>[emotion]</td>\n",
       "      <td>NaN</td>\n",
       "      <td>NaN</td>\n",
       "    </tr>\n",
       "    <tr>\n",
       "      <td>50</td>\n",
       "      <td>PMC3357114</td>\n",
       "      <td>American Psychological Association</td>\n",
       "      <td>journal of abnormal psychology</td>\n",
       "      <td>Lightening the Load: Perceptual Load Impairs V...</td>\n",
       "      <td>2534.53</td>\n",
       "      <td>[journal, of, abnormal, psychology]</td>\n",
       "      <td>NaN</td>\n",
       "      <td>psychology</td>\n",
       "    </tr>\n",
       "    <tr>\n",
       "      <td>51</td>\n",
       "      <td>PMC3450431</td>\n",
       "      <td>American Psychological Association</td>\n",
       "      <td>journal of consulting and clinical psychology</td>\n",
       "      <td>A randomized clinical trial of mindfulness-bas...</td>\n",
       "      <td>3037.86</td>\n",
       "      <td>[journal, of, consult, and, clinical, psychology]</td>\n",
       "      <td>NaN</td>\n",
       "      <td>clinical</td>\n",
       "    </tr>\n",
       "    <tr>\n",
       "      <td>52</td>\n",
       "      <td>23668184</td>\n",
       "      <td>American Psychological Association</td>\n",
       "      <td>journal of experimental psychology:  animal be...</td>\n",
       "      <td>Asymmetry in the Discrimination of Length Duri...</td>\n",
       "      <td>3144.24</td>\n",
       "      <td>[journal, of, experimental, psychology, :,  , ...</td>\n",
       "      <td>NaN</td>\n",
       "      <td>experimental</td>\n",
       "    </tr>\n",
       "  </tbody>\n",
       "</table>\n",
       "</div>"
      ],
      "text/plain": [
       "               pmid/pmcid                               publisher  \\\n",
       "1              PMC3679557                                     ACS   \n",
       "2   23043264  PMC3506128                                      ACS   \n",
       "3     23438330 PMC3646402                                     ACS   \n",
       "4    23438216 PMC3601604                                      ACS   \n",
       "7    23057412 PMC3495574                                      ACS   \n",
       "13             PMC3413243                        ACS Publications   \n",
       "15             PMC3572711                           AGA Institute   \n",
       "23         PMCID: 3584654               AMERICAN CHEMICAL SOCIETY   \n",
       "34               23373658  American Chemical Society Publications   \n",
       "35             PMC3673662    American College of Chest Physicians   \n",
       "36         PMC3574980\\n\\n          American Physiological Society   \n",
       "37         PMC3680818\\n\\n          American Physiological Society   \n",
       "38           PMC3602834\\n          American Physiological Society   \n",
       "39             PMC3234094          American Physiological Society   \n",
       "40      PMCID: PMC3653044          American Physiological Society   \n",
       "42   23576705, PMC3727040          American Physiological Society   \n",
       "48             PMC3444304      American Psychological Association   \n",
       "50             PMC3357114      American Psychological Association   \n",
       "51             PMC3450431      American Psychological Association   \n",
       "52               23668184      American Psychological Association   \n",
       "\n",
       "                                        journal_title  \\\n",
       "1                                   biomacromolecules   \n",
       "2                                          j med chem   \n",
       "3                                          j med chem   \n",
       "4                                          j org chem   \n",
       "7                                           mol pharm   \n",
       "13                                       biochemistry   \n",
       "15                                   gastroenterology   \n",
       "23                                           acs nano   \n",
       "34                                           acs nano   \n",
       "35                                              chest   \n",
       "36                         journal of neurophysiology   \n",
       "37                         journal of neurophysiology   \n",
       "38                         journal of neurophysiology   \n",
       "39                         journal of neurophysiology   \n",
       "40                         journal of neurophysiology   \n",
       "42                     the journal of neurophysiology   \n",
       "48                                            emotion   \n",
       "50                     journal of abnormal psychology   \n",
       "51      journal of consulting and clinical psychology   \n",
       "52  journal of experimental psychology:  animal be...   \n",
       "\n",
       "                                        article_title     cost  \\\n",
       "1   Structural characterization of a Model Gram-ne...  2381.04   \n",
       "2   Fumaroylamino-4,5-epoxymorphinans and related ...   642.56   \n",
       "3   Orvinols with mixed kappa/mu opioid receptor a...   669.64   \n",
       "4   Regioselective opening of myo-inositol orthoes...   685.88   \n",
       "7   Quantitative silencing of EGFP reporter gene b...   649.33   \n",
       "13  Monomeric 14-3-3 has a chaperone-like activity...   665.64   \n",
       "15  Much of the genetic risk of colorectal cancer ...   238.08   \n",
       "23  HYDROXY-TERMINATED CONJUGATED POLYMER NANOPART...   642.89   \n",
       "34  Skin dendritic cell targeting via microneedle ...   693.39   \n",
       "35  Synthetic response of stimulated respiratory e...  2383.94   \n",
       "36  Reliable evaluation of the quantal determinant...  1276.08   \n",
       "37  Responses of single corticospinal neurons to i...  1291.02   \n",
       "38  Interaction of temporal and ordinal representa...  1319.17   \n",
       "39  Endogenous modulation of low frequency oscilla...  1514.35   \n",
       "40  The effect of contextual cues on the encoding ...  1551.61   \n",
       "42  Integration of Texture and Disparity Cue to Su...  1276.60   \n",
       "48  Subjective responses to emotional stimuli duri...  2534.53   \n",
       "50  Lightening the Load: Perceptual Load Impairs V...  2534.53   \n",
       "51  A randomized clinical trial of mindfulness-bas...  3037.86   \n",
       "52  Asymmetry in the Discrimination of Length Duri...  3144.24   \n",
       "\n",
       "                                        journal_lemma lemma_bin  \\\n",
       "1                                  [biomacromolecule]       NaN   \n",
       "2                                      [j, med, chem]       NaN   \n",
       "3                                      [j, med, chem]       NaN   \n",
       "4                                      [j, org, chem]       NaN   \n",
       "7                                        [mol, pharm]       NaN   \n",
       "13                                     [biochemistry]       NaN   \n",
       "15                                 [gastroenterology]       NaN   \n",
       "23                                        [acs, nano]       NaN   \n",
       "34                                        [acs, nano]       NaN   \n",
       "35                                            [chest]       NaN   \n",
       "36                     [journal, of, neurophysiology]       NaN   \n",
       "37                     [journal, of, neurophysiology]       NaN   \n",
       "38                     [journal, of, neurophysiology]       NaN   \n",
       "39                     [journal, of, neurophysiology]       NaN   \n",
       "40                     [journal, of, neurophysiology]       NaN   \n",
       "42                [the, journal, of, neurophysiology]       NaN   \n",
       "48                                          [emotion]       NaN   \n",
       "50                [journal, of, abnormal, psychology]       NaN   \n",
       "51  [journal, of, consult, and, clinical, psychology]       NaN   \n",
       "52  [journal, of, experimental, psychology, :,  , ...       NaN   \n",
       "\n",
       "    first_4_char_bin  \n",
       "1   biomacromolecule  \n",
       "2               chem  \n",
       "3               chem  \n",
       "4               chem  \n",
       "7                NaN  \n",
       "13      biochemistry  \n",
       "15               NaN  \n",
       "23              nano  \n",
       "34              nano  \n",
       "35               NaN  \n",
       "36   neurophysiology  \n",
       "37   neurophysiology  \n",
       "38   neurophysiology  \n",
       "39   neurophysiology  \n",
       "40   neurophysiology  \n",
       "42   neurophysiology  \n",
       "48               NaN  \n",
       "50        psychology  \n",
       "51          clinical  \n",
       "52      experimental  "
      ]
     },
     "execution_count": 318,
     "metadata": {},
     "output_type": "execute_result"
    }
   ],
   "source": [
    "# a glance at the journals that weren't binned with this method\n",
    "df[df.lemma_bin.isna()].head(20)"
   ]
  },
  {
   "cell_type": "markdown",
   "metadata": {},
   "source": [
    "### Using First 4 Journal Name Characters\n",
    "This is a bit more crude, however I felt as if it did a better job overall"
   ]
  },
  {
   "cell_type": "code",
   "execution_count": 303,
   "metadata": {},
   "outputs": [],
   "source": [
    "# further refine words based on the first 4 digits\n",
    "journal_words_df_count['first_4_char'] = journal_words_df_count.lemma.apply(lambda x: str(x)[0:4])"
   ]
  },
  {
   "cell_type": "code",
   "execution_count": 320,
   "metadata": {},
   "outputs": [
    {
     "data": {
      "text/plain": [
       "Index(['neur', 'chem', 'tran', 'psyc', 'gene', 'immu', 'biom', 'expe', 'bioc',\n",
       "       'bioe', 'inte', 'micr', 'prot', 'biol', 'soci', 'arch', 'geno', 'beha',\n",
       "       'reso', 'infe', 'proc', 'stat', 'medi', 'anti', 'para', 'chil', 'crys',\n",
       "       'scie', 'bios', 'phys', 'cell', 'clin', 'diab', 'deve', 'phil', 'card',\n",
       "       'biop', 'resp', 'radi', 'repr', 'onco', 'circ', 'comm', 'comp', 'nano',\n",
       "       'derm', 'ange', 'viro', 'meta', 'jour', 'epid', 'infl', 'ther', 'hist',\n",
       "       'heal', 'haem', 'afri', 'amer', 'visu', 'phar', 'evol', 'epil', 'plan',\n",
       "       'geog', 'inve', 'ethn', 'info', 'huma', 'fron', 'expr', 'cent', 'chro',\n",
       "       'phot', 'oxid', 'hear', 'pedi', 'func', 'hepa', 'joun', 'cogn', 'epig',\n",
       "       'diff', 'mode', 'mole', 'dise', 'econ', 'magn', 'muta', 'lond', 'neph',\n",
       "       'nerv', 'leuk', 'cyto', 'nutr', 'curr', 'cult', 'endo', 'engi', 'opin',\n",
       "       'opth'],\n",
       "      dtype='object', name='first_4_char')"
      ]
     },
     "execution_count": 320,
     "metadata": {},
     "output_type": "execute_result"
    }
   ],
   "source": [
    "# groupby first 4 characters and order by largest number of tokens consolidated\n",
    "journal_words_df_count.groupby('first_4_char')['first_4_char'].count().sort_values(ascending=False).head(100).index"
   ]
  },
  {
   "cell_type": "code",
   "execution_count": 335,
   "metadata": {},
   "outputs": [],
   "source": [
    "# iterate through first 4 characters of journal lemma words\n",
    "# then bin based on word \n",
    "def bin_based_on_stem(stemmed_journal):\n",
    "    for word in stemmed_journal:\n",
    "        if word[0:4] in journal_words_df_count.groupby('first_4_char')['first_4_char'].count().sort_values(ascending=False).head(100).index:\n",
    "            if word[0:4] != 'jour':\n",
    "                return word\n",
    "    return np.nan"
   ]
  },
  {
   "cell_type": "code",
   "execution_count": 336,
   "metadata": {},
   "outputs": [],
   "source": [
    "df['first_4_char_bin'] = df.journal_lemma.apply(bin_based_on_stem)"
   ]
  },
  {
   "cell_type": "code",
   "execution_count": 339,
   "metadata": {},
   "outputs": [
    {
     "data": {
      "text/html": [
       "<div>\n",
       "<style scoped>\n",
       "    .dataframe tbody tr th:only-of-type {\n",
       "        vertical-align: middle;\n",
       "    }\n",
       "\n",
       "    .dataframe tbody tr th {\n",
       "        vertical-align: top;\n",
       "    }\n",
       "\n",
       "    .dataframe thead th {\n",
       "        text-align: right;\n",
       "    }\n",
       "</style>\n",
       "<table border=\"1\" class=\"dataframe\">\n",
       "  <thead>\n",
       "    <tr style=\"text-align: right;\">\n",
       "      <th></th>\n",
       "      <th>pmid/pmcid</th>\n",
       "      <th>publisher</th>\n",
       "      <th>journal_title</th>\n",
       "      <th>article_title</th>\n",
       "      <th>cost</th>\n",
       "      <th>journal_lemma</th>\n",
       "      <th>lemma_bin</th>\n",
       "      <th>first_4_char_bin</th>\n",
       "    </tr>\n",
       "  </thead>\n",
       "  <tbody>\n",
       "    <tr>\n",
       "      <td>0</td>\n",
       "      <td>NaN</td>\n",
       "      <td>CUP</td>\n",
       "      <td>psychological medicine</td>\n",
       "      <td>Reduced parahippocampal cortical thickness in ...</td>\n",
       "      <td>0.00</td>\n",
       "      <td>[psychological, medicine]</td>\n",
       "      <td>medicine</td>\n",
       "      <td>psychological</td>\n",
       "    </tr>\n",
       "    <tr>\n",
       "      <td>1</td>\n",
       "      <td>PMC3679557</td>\n",
       "      <td>ACS</td>\n",
       "      <td>biomacromolecules</td>\n",
       "      <td>Structural characterization of a Model Gram-ne...</td>\n",
       "      <td>2381.04</td>\n",
       "      <td>[biomacromolecule]</td>\n",
       "      <td>NaN</td>\n",
       "      <td>biomacromolecule</td>\n",
       "    </tr>\n",
       "    <tr>\n",
       "      <td>2</td>\n",
       "      <td>23043264  PMC3506128</td>\n",
       "      <td>ACS</td>\n",
       "      <td>j med chem</td>\n",
       "      <td>Fumaroylamino-4,5-epoxymorphinans and related ...</td>\n",
       "      <td>642.56</td>\n",
       "      <td>[j, med, chem]</td>\n",
       "      <td>NaN</td>\n",
       "      <td>chem</td>\n",
       "    </tr>\n",
       "    <tr>\n",
       "      <td>3</td>\n",
       "      <td>23438330 PMC3646402</td>\n",
       "      <td>ACS</td>\n",
       "      <td>j med chem</td>\n",
       "      <td>Orvinols with mixed kappa/mu opioid receptor a...</td>\n",
       "      <td>669.64</td>\n",
       "      <td>[j, med, chem]</td>\n",
       "      <td>NaN</td>\n",
       "      <td>chem</td>\n",
       "    </tr>\n",
       "    <tr>\n",
       "      <td>4</td>\n",
       "      <td>23438216 PMC3601604</td>\n",
       "      <td>ACS</td>\n",
       "      <td>j org chem</td>\n",
       "      <td>Regioselective opening of myo-inositol orthoes...</td>\n",
       "      <td>685.88</td>\n",
       "      <td>[j, org, chem]</td>\n",
       "      <td>NaN</td>\n",
       "      <td>chem</td>\n",
       "    </tr>\n",
       "  </tbody>\n",
       "</table>\n",
       "</div>"
      ],
      "text/plain": [
       "              pmid/pmcid publisher           journal_title  \\\n",
       "0                    NaN       CUP  psychological medicine   \n",
       "1             PMC3679557       ACS       biomacromolecules   \n",
       "2  23043264  PMC3506128        ACS              j med chem   \n",
       "3    23438330 PMC3646402       ACS              j med chem   \n",
       "4   23438216 PMC3601604        ACS              j org chem   \n",
       "\n",
       "                                       article_title     cost  \\\n",
       "0  Reduced parahippocampal cortical thickness in ...     0.00   \n",
       "1  Structural characterization of a Model Gram-ne...  2381.04   \n",
       "2  Fumaroylamino-4,5-epoxymorphinans and related ...   642.56   \n",
       "3  Orvinols with mixed kappa/mu opioid receptor a...   669.64   \n",
       "4  Regioselective opening of myo-inositol orthoes...   685.88   \n",
       "\n",
       "               journal_lemma lemma_bin  first_4_char_bin  \n",
       "0  [psychological, medicine]  medicine     psychological  \n",
       "1         [biomacromolecule]       NaN  biomacromolecule  \n",
       "2             [j, med, chem]       NaN              chem  \n",
       "3             [j, med, chem]       NaN              chem  \n",
       "4             [j, org, chem]       NaN              chem  "
      ]
     },
     "execution_count": 339,
     "metadata": {},
     "output_type": "execute_result"
    }
   ],
   "source": [
    "df.head()"
   ]
  },
  {
   "cell_type": "code",
   "execution_count": 340,
   "metadata": {},
   "outputs": [
    {
     "data": {
      "text/plain": [
       "1520"
      ]
     },
     "execution_count": 340,
     "metadata": {},
     "output_type": "execute_result"
    }
   ],
   "source": [
    "# how many journals were assigned?\n",
    "df.first_4_char_bin.value_counts().sum()"
   ]
  },
  {
   "cell_type": "code",
   "execution_count": 341,
   "metadata": {},
   "outputs": [
    {
     "data": {
      "text/plain": [
       "2127"
      ]
     },
     "execution_count": 341,
     "metadata": {},
     "output_type": "execute_result"
    }
   ],
   "source": [
    "# how many journals in total\n",
    "df.shape[0]"
   ]
  },
  {
   "cell_type": "code",
   "execution_count": 342,
   "metadata": {},
   "outputs": [
    {
     "data": {
      "text/plain": [
       "0.7146215326751293"
      ]
     },
     "execution_count": 342,
     "metadata": {},
     "output_type": "execute_result"
    }
   ],
   "source": [
    "# what percent of journals were assigned?\n",
    "df.first_4_char_bin.value_counts().sum() / \\\n",
    "df.shape[0]"
   ]
  },
  {
   "cell_type": "code",
   "execution_count": 343,
   "metadata": {},
   "outputs": [
    {
     "data": {
      "text/html": [
       "<div>\n",
       "<style scoped>\n",
       "    .dataframe tbody tr th:only-of-type {\n",
       "        vertical-align: middle;\n",
       "    }\n",
       "\n",
       "    .dataframe tbody tr th {\n",
       "        vertical-align: top;\n",
       "    }\n",
       "\n",
       "    .dataframe thead th {\n",
       "        text-align: right;\n",
       "    }\n",
       "</style>\n",
       "<table border=\"1\" class=\"dataframe\">\n",
       "  <thead>\n",
       "    <tr style=\"text-align: right;\">\n",
       "      <th></th>\n",
       "      <th>pmid/pmcid</th>\n",
       "      <th>publisher</th>\n",
       "      <th>journal_title</th>\n",
       "      <th>article_title</th>\n",
       "      <th>cost</th>\n",
       "      <th>journal_lemma</th>\n",
       "      <th>lemma_bin</th>\n",
       "      <th>first_4_char_bin</th>\n",
       "    </tr>\n",
       "  </thead>\n",
       "  <tbody>\n",
       "    <tr>\n",
       "      <td>15</td>\n",
       "      <td>PMC3572711</td>\n",
       "      <td>AGA Institute</td>\n",
       "      <td>gastroenterology</td>\n",
       "      <td>Much of the genetic risk of colorectal cancer ...</td>\n",
       "      <td>238.08</td>\n",
       "      <td>[gastroenterology]</td>\n",
       "      <td>NaN</td>\n",
       "      <td>NaN</td>\n",
       "    </tr>\n",
       "    <tr>\n",
       "      <td>35</td>\n",
       "      <td>PMC3673662</td>\n",
       "      <td>American College of Chest Physicians</td>\n",
       "      <td>chest</td>\n",
       "      <td>Synthetic response of stimulated respiratory e...</td>\n",
       "      <td>2383.94</td>\n",
       "      <td>[chest]</td>\n",
       "      <td>NaN</td>\n",
       "      <td>NaN</td>\n",
       "    </tr>\n",
       "    <tr>\n",
       "      <td>48</td>\n",
       "      <td>PMC3444304</td>\n",
       "      <td>American Psychological Association</td>\n",
       "      <td>emotion</td>\n",
       "      <td>Subjective responses to emotional stimuli duri...</td>\n",
       "      <td>2534.53</td>\n",
       "      <td>[emotion]</td>\n",
       "      <td>NaN</td>\n",
       "      <td>NaN</td>\n",
       "    </tr>\n",
       "    <tr>\n",
       "      <td>92</td>\n",
       "      <td>PMC3754575</td>\n",
       "      <td>American Society for Microbiology</td>\n",
       "      <td>journal of bacteriology</td>\n",
       "      <td>The agr locus sregulates virulence and coloniz...</td>\n",
       "      <td>1343.82</td>\n",
       "      <td>[journal, of, bacteriology]</td>\n",
       "      <td>NaN</td>\n",
       "      <td>NaN</td>\n",
       "    </tr>\n",
       "    <tr>\n",
       "      <td>96</td>\n",
       "      <td>PMCID:\\n    PMC3518918\\n\\n</td>\n",
       "      <td>American Society for Microbiology</td>\n",
       "      <td>mbio</td>\n",
       "      <td>EspZ of enteropathogenic and enterohemorrhagic...</td>\n",
       "      <td>1586.75</td>\n",
       "      <td>[mbio]</td>\n",
       "      <td>NaN</td>\n",
       "      <td>NaN</td>\n",
       "    </tr>\n",
       "    <tr>\n",
       "      <td>101</td>\n",
       "      <td>NaN</td>\n",
       "      <td>American Society of Haematology</td>\n",
       "      <td>blood</td>\n",
       "      <td>Disease-associated missense mutations in the E...</td>\n",
       "      <td>1260.26</td>\n",
       "      <td>[blood]</td>\n",
       "      <td>NaN</td>\n",
       "      <td>NaN</td>\n",
       "    </tr>\n",
       "    <tr>\n",
       "      <td>102</td>\n",
       "      <td>NaN</td>\n",
       "      <td>American Society of Haematology</td>\n",
       "      <td>blood</td>\n",
       "      <td>SAP gene transfer restores cellular and humora...</td>\n",
       "      <td>1260.26</td>\n",
       "      <td>[blood]</td>\n",
       "      <td>NaN</td>\n",
       "      <td>NaN</td>\n",
       "    </tr>\n",
       "    <tr>\n",
       "      <td>103</td>\n",
       "      <td>23255554 PMC3653566</td>\n",
       "      <td>American Society of Hamatology</td>\n",
       "      <td>blood journal 2012</td>\n",
       "      <td>Peptide Length Determines the Outcome of T Cel...</td>\n",
       "      <td>1597.98</td>\n",
       "      <td>[blood, journal, 2012]</td>\n",
       "      <td>NaN</td>\n",
       "      <td>NaN</td>\n",
       "    </tr>\n",
       "    <tr>\n",
       "      <td>104</td>\n",
       "      <td>NaN</td>\n",
       "      <td>American Society of Hematology</td>\n",
       "      <td>blood</td>\n",
       "      <td>Super-resolution imaging of remodeled synaptic...</td>\n",
       "      <td>1230.40</td>\n",
       "      <td>[blood]</td>\n",
       "      <td>NaN</td>\n",
       "      <td>NaN</td>\n",
       "    </tr>\n",
       "    <tr>\n",
       "      <td>105</td>\n",
       "      <td>PMC3501641</td>\n",
       "      <td>American Society of Hematology</td>\n",
       "      <td>blood</td>\n",
       "      <td>Induction of IL-4Ra-dependent microRNAs identi...</td>\n",
       "      <td>1288.14</td>\n",
       "      <td>[blood]</td>\n",
       "      <td>NaN</td>\n",
       "      <td>NaN</td>\n",
       "    </tr>\n",
       "    <tr>\n",
       "      <td>106</td>\n",
       "      <td>PMCID: PMC3596968</td>\n",
       "      <td>American Society of Hematology</td>\n",
       "      <td>blood</td>\n",
       "      <td>Siglec-E is a negative regulator of acute pulm...</td>\n",
       "      <td>1340.75</td>\n",
       "      <td>[blood]</td>\n",
       "      <td>NaN</td>\n",
       "      <td>NaN</td>\n",
       "    </tr>\n",
       "    <tr>\n",
       "      <td>107</td>\n",
       "      <td>23002116 PMC3790949</td>\n",
       "      <td>American Society of Hematology</td>\n",
       "      <td>blood</td>\n",
       "      <td>Evaluation of participants with suspected heri...</td>\n",
       "      <td>1527.20</td>\n",
       "      <td>[blood]</td>\n",
       "      <td>NaN</td>\n",
       "      <td>NaN</td>\n",
       "    </tr>\n",
       "    <tr>\n",
       "      <td>108</td>\n",
       "      <td>PMCID:\\n    PMC3689249</td>\n",
       "      <td>American Society of Hematology</td>\n",
       "      <td>blood</td>\n",
       "      <td>Characterization of a novel NKG2D and NKp46 do...</td>\n",
       "      <td>1543.44</td>\n",
       "      <td>[blood]</td>\n",
       "      <td>NaN</td>\n",
       "      <td>NaN</td>\n",
       "    </tr>\n",
       "    <tr>\n",
       "      <td>109</td>\n",
       "      <td>23043070 PMC3790942</td>\n",
       "      <td>American Society of Hematology</td>\n",
       "      <td>blood journal 2012</td>\n",
       "      <td>Epidermis instructs skin homing receptor expre...</td>\n",
       "      <td>1578.43</td>\n",
       "      <td>[blood, journal, 2012]</td>\n",
       "      <td>NaN</td>\n",
       "      <td>NaN</td>\n",
       "    </tr>\n",
       "    <tr>\n",
       "      <td>168</td>\n",
       "      <td>PMC3826327</td>\n",
       "      <td>Association for Research in Vision &amp; Ophthalmo...</td>\n",
       "      <td>journal of vision</td>\n",
       "      <td>Does optic flow parsing depend on prior estima...</td>\n",
       "      <td>1157.88</td>\n",
       "      <td>[journal, of, vision]</td>\n",
       "      <td>NaN</td>\n",
       "      <td>NaN</td>\n",
       "    </tr>\n",
       "    <tr>\n",
       "      <td>197</td>\n",
       "      <td>PMCID:\\n    PMC3766112</td>\n",
       "      <td>Biomed Central</td>\n",
       "      <td>bmc research notes</td>\n",
       "      <td>Prevalence of schistosome antibodies and hepat...</td>\n",
       "      <td>729.30</td>\n",
       "      <td>[bmc, research, note]</td>\n",
       "      <td>research</td>\n",
       "      <td>NaN</td>\n",
       "    </tr>\n",
       "    <tr>\n",
       "      <td>198</td>\n",
       "      <td>PMC3528429</td>\n",
       "      <td>Biomed Central</td>\n",
       "      <td>bmc veterinary research</td>\n",
       "      <td>Prevalence of porcine cysticercosis and associ...</td>\n",
       "      <td>1230.00</td>\n",
       "      <td>[bmc, veterinary, research]</td>\n",
       "      <td>research</td>\n",
       "      <td>NaN</td>\n",
       "    </tr>\n",
       "    <tr>\n",
       "      <td>201</td>\n",
       "      <td>PMCID: PMC3750810</td>\n",
       "      <td>BioMed Central</td>\n",
       "      <td>evodevo</td>\n",
       "      <td>Early embryonic determination of the sexual di...</td>\n",
       "      <td>1564.50</td>\n",
       "      <td>[evodevo]</td>\n",
       "      <td>NaN</td>\n",
       "      <td>NaN</td>\n",
       "    </tr>\n",
       "    <tr>\n",
       "      <td>213</td>\n",
       "      <td>PMC3655824</td>\n",
       "      <td>BioMed Central</td>\n",
       "      <td>malaria journal</td>\n",
       "      <td>Artemisinin resistance in rodent malaria - mut...</td>\n",
       "      <td>1268.70</td>\n",
       "      <td>[malaria, journal]</td>\n",
       "      <td>NaN</td>\n",
       "      <td>NaN</td>\n",
       "    </tr>\n",
       "    <tr>\n",
       "      <td>214</td>\n",
       "      <td>PMC 3639825</td>\n",
       "      <td>BioMed Central</td>\n",
       "      <td>malaria journal</td>\n",
       "      <td>Urbanization and the global malaria recession</td>\n",
       "      <td>1309.50</td>\n",
       "      <td>[malaria, journal]</td>\n",
       "      <td>NaN</td>\n",
       "      <td>NaN</td>\n",
       "    </tr>\n",
       "  </tbody>\n",
       "</table>\n",
       "</div>"
      ],
      "text/plain": [
       "                     pmid/pmcid  \\\n",
       "15                   PMC3572711   \n",
       "35                   PMC3673662   \n",
       "48                   PMC3444304   \n",
       "92                   PMC3754575   \n",
       "96   PMCID:\\n    PMC3518918\\n\\n   \n",
       "101                         NaN   \n",
       "102                         NaN   \n",
       "103        23255554 PMC3653566    \n",
       "104                         NaN   \n",
       "105                  PMC3501641   \n",
       "106           PMCID: PMC3596968   \n",
       "107        23002116 PMC3790949    \n",
       "108      PMCID:\\n    PMC3689249   \n",
       "109        23043070 PMC3790942    \n",
       "168                 PMC3826327    \n",
       "197      PMCID:\\n    PMC3766112   \n",
       "198                  PMC3528429   \n",
       "201           PMCID: PMC3750810   \n",
       "213                  PMC3655824   \n",
       "214                 PMC 3639825   \n",
       "\n",
       "                                             publisher  \\\n",
       "15                                       AGA Institute   \n",
       "35                American College of Chest Physicians   \n",
       "48                  American Psychological Association   \n",
       "92                   American Society for Microbiology   \n",
       "96                   American Society for Microbiology   \n",
       "101                    American Society of Haematology   \n",
       "102                    American Society of Haematology   \n",
       "103                     American Society of Hamatology   \n",
       "104                     American Society of Hematology   \n",
       "105                     American Society of Hematology   \n",
       "106                     American Society of Hematology   \n",
       "107                     American Society of Hematology   \n",
       "108                     American Society of Hematology   \n",
       "109                     American Society of Hematology   \n",
       "168  Association for Research in Vision & Ophthalmo...   \n",
       "197                                     Biomed Central   \n",
       "198                                     Biomed Central   \n",
       "201                                     BioMed Central   \n",
       "213                                     BioMed Central   \n",
       "214                                     BioMed Central   \n",
       "\n",
       "               journal_title  \\\n",
       "15          gastroenterology   \n",
       "35                     chest   \n",
       "48                   emotion   \n",
       "92   journal of bacteriology   \n",
       "96                      mbio   \n",
       "101                    blood   \n",
       "102                    blood   \n",
       "103       blood journal 2012   \n",
       "104                    blood   \n",
       "105                    blood   \n",
       "106                    blood   \n",
       "107                    blood   \n",
       "108                    blood   \n",
       "109       blood journal 2012   \n",
       "168        journal of vision   \n",
       "197       bmc research notes   \n",
       "198  bmc veterinary research   \n",
       "201                  evodevo   \n",
       "213          malaria journal   \n",
       "214          malaria journal   \n",
       "\n",
       "                                         article_title     cost  \\\n",
       "15   Much of the genetic risk of colorectal cancer ...   238.08   \n",
       "35   Synthetic response of stimulated respiratory e...  2383.94   \n",
       "48   Subjective responses to emotional stimuli duri...  2534.53   \n",
       "92   The agr locus sregulates virulence and coloniz...  1343.82   \n",
       "96   EspZ of enteropathogenic and enterohemorrhagic...  1586.75   \n",
       "101  Disease-associated missense mutations in the E...  1260.26   \n",
       "102  SAP gene transfer restores cellular and humora...  1260.26   \n",
       "103  Peptide Length Determines the Outcome of T Cel...  1597.98   \n",
       "104  Super-resolution imaging of remodeled synaptic...  1230.40   \n",
       "105  Induction of IL-4Ra-dependent microRNAs identi...  1288.14   \n",
       "106  Siglec-E is a negative regulator of acute pulm...  1340.75   \n",
       "107  Evaluation of participants with suspected heri...  1527.20   \n",
       "108  Characterization of a novel NKG2D and NKp46 do...  1543.44   \n",
       "109  Epidermis instructs skin homing receptor expre...  1578.43   \n",
       "168  Does optic flow parsing depend on prior estima...  1157.88   \n",
       "197  Prevalence of schistosome antibodies and hepat...   729.30   \n",
       "198  Prevalence of porcine cysticercosis and associ...  1230.00   \n",
       "201  Early embryonic determination of the sexual di...  1564.50   \n",
       "213  Artemisinin resistance in rodent malaria - mut...  1268.70   \n",
       "214      Urbanization and the global malaria recession  1309.50   \n",
       "\n",
       "                   journal_lemma lemma_bin first_4_char_bin  \n",
       "15            [gastroenterology]       NaN              NaN  \n",
       "35                       [chest]       NaN              NaN  \n",
       "48                     [emotion]       NaN              NaN  \n",
       "92   [journal, of, bacteriology]       NaN              NaN  \n",
       "96                        [mbio]       NaN              NaN  \n",
       "101                      [blood]       NaN              NaN  \n",
       "102                      [blood]       NaN              NaN  \n",
       "103       [blood, journal, 2012]       NaN              NaN  \n",
       "104                      [blood]       NaN              NaN  \n",
       "105                      [blood]       NaN              NaN  \n",
       "106                      [blood]       NaN              NaN  \n",
       "107                      [blood]       NaN              NaN  \n",
       "108                      [blood]       NaN              NaN  \n",
       "109       [blood, journal, 2012]       NaN              NaN  \n",
       "168        [journal, of, vision]       NaN              NaN  \n",
       "197        [bmc, research, note]  research              NaN  \n",
       "198  [bmc, veterinary, research]  research              NaN  \n",
       "201                    [evodevo]       NaN              NaN  \n",
       "213           [malaria, journal]       NaN              NaN  \n",
       "214           [malaria, journal]       NaN              NaN  "
      ]
     },
     "execution_count": 343,
     "metadata": {},
     "output_type": "execute_result"
    }
   ],
   "source": [
    "# which journal titles weren't binned using this method\n",
    "df[df.first_4_char_bin.isna()].head(20)"
   ]
  }
 ],
 "metadata": {
  "kernelspec": {
   "display_name": "Python 3",
   "language": "python",
   "name": "python3"
  },
  "language_info": {
   "codemirror_mode": {
    "name": "ipython",
    "version": 3
   },
   "file_extension": ".py",
   "mimetype": "text/x-python",
   "name": "python",
   "nbconvert_exporter": "python",
   "pygments_lexer": "ipython3",
   "version": "3.7.3"
  }
 },
 "nbformat": 4,
 "nbformat_minor": 4
}
