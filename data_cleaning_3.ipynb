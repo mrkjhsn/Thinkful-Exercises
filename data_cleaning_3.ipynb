{
 "cells": [
  {
   "cell_type": "markdown",
   "metadata": {},
   "source": [
    "#### Data Cleaning 3\n",
    "\n",
    "Methods for dealing with outliers."
   ]
  },
  {
   "cell_type": "code",
   "execution_count": 228,
   "metadata": {},
   "outputs": [],
   "source": [
    "import pandas as pd\n",
    "import numpy as np\n",
    "from scipy.stats.mstats import winsorize\n",
    "import matplotlib.pyplot as plt\n",
    "from sqlalchemy import create_engine\n",
    "import warnings\n",
    "\n",
    "warnings.filterwarnings('ignore')"
   ]
  },
  {
   "cell_type": "markdown",
   "metadata": {},
   "source": [
    "### Import data"
   ]
  },
  {
   "cell_type": "code",
   "execution_count": 229,
   "metadata": {},
   "outputs": [],
   "source": [
    "# read in us education data \n",
    "postgres_user = 'dsbc_student'\n",
    "postgres_pw = '7*.8G9QH21'\n",
    "postgres_host = '142.93.121.174'\n",
    "postgres_port = '5432'\n",
    "postgres_db = 'useducation'\n",
    "\n",
    "engine = create_engine('postgresql://{}:{}@{}:{}/{}'.format(\n",
    "    postgres_user, postgres_pw, postgres_host, postgres_port, postgres_db))\n",
    "\n",
    "education_df = pd.read_sql_query('select * from useducation',con=engine)\n",
    "\n",
    "# no need for an open connection, \n",
    "# as we're only doing a single query\n",
    "engine.dispose()"
   ]
  },
  {
   "cell_type": "code",
   "execution_count": 230,
   "metadata": {},
   "outputs": [
    {
     "data": {
      "text/html": [
       "<div>\n",
       "<style scoped>\n",
       "    .dataframe tbody tr th:only-of-type {\n",
       "        vertical-align: middle;\n",
       "    }\n",
       "\n",
       "    .dataframe tbody tr th {\n",
       "        vertical-align: top;\n",
       "    }\n",
       "\n",
       "    .dataframe thead th {\n",
       "        text-align: right;\n",
       "    }\n",
       "</style>\n",
       "<table border=\"1\" class=\"dataframe\">\n",
       "  <thead>\n",
       "    <tr style=\"text-align: right;\">\n",
       "      <th></th>\n",
       "      <th>PRIMARY_KEY</th>\n",
       "      <th>STATE</th>\n",
       "      <th>YEAR</th>\n",
       "      <th>ENROLL</th>\n",
       "      <th>TOTAL_REVENUE</th>\n",
       "      <th>FEDERAL_REVENUE</th>\n",
       "      <th>STATE_REVENUE</th>\n",
       "      <th>LOCAL_REVENUE</th>\n",
       "      <th>TOTAL_EXPENDITURE</th>\n",
       "      <th>INSTRUCTION_EXPENDITURE</th>\n",
       "      <th>...</th>\n",
       "      <th>GRADES_4_G</th>\n",
       "      <th>GRADES_8_G</th>\n",
       "      <th>GRADES_12_G</th>\n",
       "      <th>GRADES_1_8_G</th>\n",
       "      <th>GRADES_9_12_G</th>\n",
       "      <th>GRADES_ALL_G</th>\n",
       "      <th>AVG_MATH_4_SCORE</th>\n",
       "      <th>AVG_MATH_8_SCORE</th>\n",
       "      <th>AVG_READING_4_SCORE</th>\n",
       "      <th>AVG_READING_8_SCORE</th>\n",
       "    </tr>\n",
       "  </thead>\n",
       "  <tbody>\n",
       "    <tr>\n",
       "      <td>0</td>\n",
       "      <td>1992_ALABAMA</td>\n",
       "      <td>ALABAMA</td>\n",
       "      <td>1992</td>\n",
       "      <td>nan</td>\n",
       "      <td>2,678,885</td>\n",
       "      <td>304,177</td>\n",
       "      <td>1,659,028</td>\n",
       "      <td>715,680</td>\n",
       "      <td>2,653,798</td>\n",
       "      <td>1,481,703</td>\n",
       "      <td>...</td>\n",
       "      <td>57,948</td>\n",
       "      <td>58,025</td>\n",
       "      <td>41,167</td>\n",
       "      <td>471,564</td>\n",
       "      <td>196,386</td>\n",
       "      <td>676,174</td>\n",
       "      <td>208</td>\n",
       "      <td>252</td>\n",
       "      <td>208</td>\n",
       "      <td>nan</td>\n",
       "    </tr>\n",
       "    <tr>\n",
       "      <td>1</td>\n",
       "      <td>1992_ALASKA</td>\n",
       "      <td>ALASKA</td>\n",
       "      <td>1992</td>\n",
       "      <td>nan</td>\n",
       "      <td>1,049,591</td>\n",
       "      <td>106,780</td>\n",
       "      <td>720,711</td>\n",
       "      <td>222,100</td>\n",
       "      <td>972,488</td>\n",
       "      <td>498,362</td>\n",
       "      <td>...</td>\n",
       "      <td>9,748</td>\n",
       "      <td>8,789</td>\n",
       "      <td>6,714</td>\n",
       "      <td>79,117</td>\n",
       "      <td>30,847</td>\n",
       "      <td>112,335</td>\n",
       "      <td>nan</td>\n",
       "      <td>nan</td>\n",
       "      <td>nan</td>\n",
       "      <td>259</td>\n",
       "    </tr>\n",
       "    <tr>\n",
       "      <td>2</td>\n",
       "      <td>1992_ARIZONA</td>\n",
       "      <td>ARIZONA</td>\n",
       "      <td>1992</td>\n",
       "      <td>nan</td>\n",
       "      <td>3,258,079</td>\n",
       "      <td>297,888</td>\n",
       "      <td>1,369,815</td>\n",
       "      <td>1,590,376</td>\n",
       "      <td>3,401,580</td>\n",
       "      <td>1,435,908</td>\n",
       "      <td>...</td>\n",
       "      <td>55,433</td>\n",
       "      <td>49,081</td>\n",
       "      <td>37,410</td>\n",
       "      <td>437,127</td>\n",
       "      <td>175,210</td>\n",
       "      <td>614,881</td>\n",
       "      <td>215</td>\n",
       "      <td>265</td>\n",
       "      <td>206</td>\n",
       "      <td>262</td>\n",
       "    </tr>\n",
       "    <tr>\n",
       "      <td>3</td>\n",
       "      <td>1992_ARKANSAS</td>\n",
       "      <td>ARKANSAS</td>\n",
       "      <td>1992</td>\n",
       "      <td>nan</td>\n",
       "      <td>1,711,959</td>\n",
       "      <td>178,571</td>\n",
       "      <td>958,785</td>\n",
       "      <td>574,603</td>\n",
       "      <td>1,743,022</td>\n",
       "      <td>964,323</td>\n",
       "      <td>...</td>\n",
       "      <td>34,632</td>\n",
       "      <td>36,011</td>\n",
       "      <td>27,651</td>\n",
       "      <td>281,338</td>\n",
       "      <td>123,113</td>\n",
       "      <td>405,259</td>\n",
       "      <td>210</td>\n",
       "      <td>256</td>\n",
       "      <td>209</td>\n",
       "      <td>265</td>\n",
       "    </tr>\n",
       "    <tr>\n",
       "      <td>4</td>\n",
       "      <td>1992_CALIFORNIA</td>\n",
       "      <td>CALIFORNIA</td>\n",
       "      <td>1992</td>\n",
       "      <td>nan</td>\n",
       "      <td>26,260,025</td>\n",
       "      <td>2,072,470</td>\n",
       "      <td>16,546,514</td>\n",
       "      <td>7,641,041</td>\n",
       "      <td>27,138,832</td>\n",
       "      <td>14,358,922</td>\n",
       "      <td>...</td>\n",
       "      <td>418,418</td>\n",
       "      <td>363,296</td>\n",
       "      <td>270,675</td>\n",
       "      <td>3,286,034</td>\n",
       "      <td>1,372,011</td>\n",
       "      <td>4,717,112</td>\n",
       "      <td>208</td>\n",
       "      <td>261</td>\n",
       "      <td>197</td>\n",
       "      <td>nan</td>\n",
       "    </tr>\n",
       "  </tbody>\n",
       "</table>\n",
       "<p>5 rows × 25 columns</p>\n",
       "</div>"
      ],
      "text/plain": [
       "       PRIMARY_KEY       STATE  YEAR  ENROLL  TOTAL_REVENUE  FEDERAL_REVENUE  \\\n",
       "0     1992_ALABAMA     ALABAMA  1992     nan      2,678,885          304,177   \n",
       "1      1992_ALASKA      ALASKA  1992     nan      1,049,591          106,780   \n",
       "2     1992_ARIZONA     ARIZONA  1992     nan      3,258,079          297,888   \n",
       "3    1992_ARKANSAS    ARKANSAS  1992     nan      1,711,959          178,571   \n",
       "4  1992_CALIFORNIA  CALIFORNIA  1992     nan     26,260,025        2,072,470   \n",
       "\n",
       "   STATE_REVENUE  LOCAL_REVENUE  TOTAL_EXPENDITURE  INSTRUCTION_EXPENDITURE  \\\n",
       "0      1,659,028        715,680          2,653,798                1,481,703   \n",
       "1        720,711        222,100            972,488                  498,362   \n",
       "2      1,369,815      1,590,376          3,401,580                1,435,908   \n",
       "3        958,785        574,603          1,743,022                  964,323   \n",
       "4     16,546,514      7,641,041         27,138,832               14,358,922   \n",
       "\n",
       "   ...  GRADES_4_G  GRADES_8_G  GRADES_12_G  GRADES_1_8_G  GRADES_9_12_G  \\\n",
       "0  ...      57,948      58,025       41,167       471,564        196,386   \n",
       "1  ...       9,748       8,789        6,714        79,117         30,847   \n",
       "2  ...      55,433      49,081       37,410       437,127        175,210   \n",
       "3  ...      34,632      36,011       27,651       281,338        123,113   \n",
       "4  ...     418,418     363,296      270,675     3,286,034      1,372,011   \n",
       "\n",
       "   GRADES_ALL_G  AVG_MATH_4_SCORE  AVG_MATH_8_SCORE  AVG_READING_4_SCORE  \\\n",
       "0       676,174               208               252                  208   \n",
       "1       112,335               nan               nan                  nan   \n",
       "2       614,881               215               265                  206   \n",
       "3       405,259               210               256                  209   \n",
       "4     4,717,112               208               261                  197   \n",
       "\n",
       "   AVG_READING_8_SCORE  \n",
       "0                  nan  \n",
       "1                  259  \n",
       "2                  262  \n",
       "3                  265  \n",
       "4                  nan  \n",
       "\n",
       "[5 rows x 25 columns]"
      ]
     },
     "execution_count": 230,
     "metadata": {},
     "output_type": "execute_result"
    }
   ],
   "source": [
    "# glance at the dataframe\n",
    "education_df.head()"
   ]
  },
  {
   "cell_type": "code",
   "execution_count": 231,
   "metadata": {},
   "outputs": [],
   "source": [
    "# fill in nan values\n",
    "for col in education_df.columns[3:30]:\n",
    "    education_df.loc[:, col] = education_df.loc[:, col].fillna(education_df.loc[:, col].mean())"
   ]
  },
  {
   "cell_type": "markdown",
   "metadata": {},
   "source": [
    "## 1. Consider the two variables: *TOTAL_REVENUE* and *TOTAL_EXPENDITURE*. Do these variables have outlier values?\n"
   ]
  },
  {
   "cell_type": "markdown",
   "metadata": {},
   "source": [
    "#### Total Revenue - examination for outliers"
   ]
  },
  {
   "cell_type": "code",
   "execution_count": 232,
   "metadata": {},
   "outputs": [
    {
     "data": {
      "image/png": "[encoded data removed]",
      "text/plain": [
       "<Figure size 432x288 with 1 Axes>"
      ]
     },
     "metadata": {
      "needs_background": "light"
     },
     "output_type": "display_data"
    }
   ],
   "source": [
    "plt.boxplot(education_df.TOTAL_REVENUE);"
   ]
  },
  {
   "cell_type": "markdown",
   "metadata": {},
   "source": [
    "Yes, with the whiskers set at 1.5(default) a number of outliers show up"
   ]
  },
  {
   "cell_type": "code",
   "execution_count": 233,
   "metadata": {},
   "outputs": [
    {
     "data": {
      "image/png": "[encoded data removed]",
      "text/plain": [
       "<Figure size 432x288 with 1 Axes>"
      ]
     },
     "metadata": {
      "needs_background": "light"
     },
     "output_type": "display_data"
    }
   ],
   "source": [
    "plt.boxplot(education_df.TOTAL_REVENUE, whis=5);"
   ]
  },
  {
   "cell_type": "markdown",
   "metadata": {},
   "source": [
    "Yes, even with the whiskers set at 5 a number of outliers still show up"
   ]
  },
  {
   "cell_type": "code",
   "execution_count": 234,
   "metadata": {},
   "outputs": [
    {
     "data": {
      "image/png": "[encoded data removed]",
      "text/plain": [
       "<Figure size 432x288 with 1 Axes>"
      ]
     },
     "metadata": {
      "needs_background": "light"
     },
     "output_type": "display_data"
    }
   ],
   "source": [
    "# visualize data distribution\n",
    "plt.hist(education_df.TOTAL_REVENUE);"
   ]
  },
  {
   "cell_type": "markdown",
   "metadata": {},
   "source": [
    "#### Total Expenditure - examination for outliers"
   ]
  },
  {
   "cell_type": "code",
   "execution_count": 235,
   "metadata": {},
   "outputs": [
    {
     "data": {
      "image/png": "[encoded data removed]",
      "text/plain": [
       "<Figure size 432x288 with 1 Axes>"
      ]
     },
     "metadata": {
      "needs_background": "light"
     },
     "output_type": "display_data"
    }
   ],
   "source": [
    "plt.boxplot(education_df.TOTAL_EXPENDITURE);"
   ]
  },
  {
   "cell_type": "markdown",
   "metadata": {},
   "source": [
    "Yes, with the whiskers set at 1.5 a number of outliers show up"
   ]
  },
  {
   "cell_type": "code",
   "execution_count": 236,
   "metadata": {},
   "outputs": [
    {
     "data": {
      "image/png": "[encoded data removed]",
      "text/plain": [
       "<Figure size 432x288 with 1 Axes>"
      ]
     },
     "metadata": {
      "needs_background": "light"
     },
     "output_type": "display_data"
    }
   ],
   "source": [
    "plt.boxplot(education_df.TOTAL_EXPENDITURE, whis=5);"
   ]
  },
  {
   "cell_type": "markdown",
   "metadata": {},
   "source": [
    "Yes, even with the whiskers set at 5 a number of outliers still show up"
   ]
  },
  {
   "cell_type": "code",
   "execution_count": 237,
   "metadata": {},
   "outputs": [
    {
     "data": {
      "image/png": "[encoded data removed]",
      "text/plain": [
       "<Figure size 432x288 with 1 Axes>"
      ]
     },
     "metadata": {
      "needs_background": "light"
     },
     "output_type": "display_data"
    }
   ],
   "source": [
    "# visualize data distribution\n",
    "plt.hist(education_df.TOTAL_EXPENDITURE);"
   ]
  },
  {
   "cell_type": "markdown",
   "metadata": {},
   "source": [
    "Total expenditure has a slightly less sharp tail than total revenue.  But still the data is highly skewed."
   ]
  },
  {
   "cell_type": "code",
   "execution_count": null,
   "metadata": {},
   "outputs": [],
   "source": []
  },
  {
   "cell_type": "markdown",
   "metadata": {},
   "source": [
    "## 2. If you detect outliers in the *TOTAL_REVENUE* and *TOTAL_EXPENDITURE* variables, apply the techniques you learned in this checkpoint to eliminate them and validate that there's no outlier values after you handled them.\n",
    "\n",
    "### <font color=darkorange>Question: how to know what threshold above/below which everything should be capped?  For instance, matplotlib box plot by default shows everything outside 1.5 standard deviations as an outlier.  Is this a rule of thumb.  Similar to how an alpha of .05 is generally used for hypothesis testing</font>"
   ]
  },
  {
   "cell_type": "markdown",
   "metadata": {},
   "source": [
    "#### Use Z-scores to identify outliers at various thresholds"
   ]
  },
  {
   "cell_type": "code",
   "execution_count": 238,
   "metadata": {},
   "outputs": [
    {
     "name": "stdout",
     "output_type": "stream",
     "text": [
      "The score threshold is: 1\n",
      "The indices of the outliers:\n",
      "(array([   4,   32,   56,   85,   96,  108,  137,  150,  161,  190,  201,\n",
      "        213,  241,  252,  264,  292,  304,  316,  344,  355,  367,  396,\n",
      "        407,  420,  449,  460,  472,  481,  501,  512,  524,  552,  564,\n",
      "        576,  605,  616,  628,  633,  637,  654,  656,  662,  668,  680,\n",
      "        685,  689,  706,  708,  714,  719,  731,  737,  741,  758,  760,\n",
      "        763,  766,  771,  784,  789,  793,  802,  811,  813,  816,  819,\n",
      "        824,  836,  842,  846,  855,  863,  865,  868,  871,  876,  891,\n",
      "        897,  901,  919,  921,  924,  927,  932,  944,  950,  954,  971,\n",
      "        973,  976,  979,  984,  997, 1002, 1006, 1023, 1025, 1028, 1031,\n",
      "       1036, 1048, 1053, 1057, 1075, 1077, 1080, 1083, 1088, 1101, 1106,\n",
      "       1110, 1127, 1129, 1132, 1135, 1140, 1152, 1157, 1161, 1178, 1180,\n",
      "       1183, 1186, 1191, 1203, 1208, 1212, 1229, 1231, 1234, 1237, 1242,\n",
      "       1254, 1259, 1263, 1280, 1282, 1285], dtype=int64),)\n",
      "Number of outliers is: 138\n",
      "The score threshold is: 2\n",
      "The indices of the outliers:\n",
      "(array([ 150,  213,  264,  316,  367,  420,  449,  472,  481,  501,  512,\n",
      "        524,  552,  564,  576,  605,  616,  628,  656,  668,  680,  708,\n",
      "        719,  731,  760,  771,  784,  813,  824,  836,  865,  876,  891,\n",
      "        921,  932,  944,  973,  984,  997, 1025, 1036, 1048, 1077, 1088,\n",
      "       1101, 1129, 1140, 1152, 1161, 1180, 1191, 1203, 1212, 1231, 1242,\n",
      "       1254, 1263, 1282], dtype=int64),)\n",
      "Number of outliers is: 58\n",
      "The score threshold is: 3\n",
      "The indices of the outliers:\n",
      "(array([ 420,  472,  481,  524,  576,  628,  680,  708,  731,  760,  784,\n",
      "        813,  824,  836,  865,  876,  891,  921,  932,  944,  973,  984,\n",
      "        997, 1025, 1036, 1048, 1077, 1088, 1101, 1129, 1140, 1152, 1180,\n",
      "       1191, 1203, 1231, 1242, 1254, 1282], dtype=int64),)\n",
      "Number of outliers is: 39\n",
      "The score threshold is: 4\n",
      "The indices of the outliers:\n",
      "(array([ 472,  481,  524,  576,  628,  680,  731,  784,  836,  865,  891,\n",
      "        921,  944,  973,  997, 1025, 1048, 1077, 1101, 1129, 1152, 1180,\n",
      "       1191, 1203, 1231, 1242, 1254, 1282], dtype=int64),)\n",
      "Number of outliers is: 28\n"
     ]
    }
   ],
   "source": [
    "from scipy.stats import zscore\n",
    "\n",
    "z_scores = zscore(education_df.TOTAL_REVENUE)\n",
    "\n",
    "# iterate through threshold levels\n",
    "# comparing the value of each z score\n",
    "# against the value of the threshold\n",
    "\n",
    "for threshold in range(1,5):\n",
    "    print(\"The score threshold is: {}\".format(threshold))\n",
    "    print(\"The indices of the outliers:\")\n",
    "    print(np.where(z_scores > threshold))\n",
    "    print(\"Number of outliers is: {}\".format(len((np.where(z_scores > threshold)[0]))))"
   ]
  },
  {
   "cell_type": "markdown",
   "metadata": {},
   "source": [
    "#### Use Interquartile Range (IQR) method to identify outliers at various thresholds"
   ]
  },
  {
   "cell_type": "markdown",
   "metadata": {},
   "source": [
    "#### <font color=darkorange>Question: In the example they used 3rd and 1st quartiles, is this generally a good rule of thumb?</font>"
   ]
  },
  {
   "cell_type": "code",
   "execution_count": 239,
   "metadata": {},
   "outputs": [
    {
     "name": "stdout",
     "output_type": "stream",
     "text": [
      "The score threshold is: 1.0\n",
      "Number of outliers is: 194\n",
      "The score threshold is: 1.5\n",
      "Number of outliers is: 150\n",
      "The score threshold is: 2.0\n",
      "Number of outliers is: 121\n",
      "The score threshold is: 2.5\n",
      "Number of outliers is: 93\n",
      "The score threshold is: 3.0\n",
      "Number of outliers is: 66\n",
      "The score threshold is: 3.5\n",
      "Number of outliers is: 51\n",
      "The score threshold is: 4.0\n",
      "Number of outliers is: 45\n",
      "The score threshold is: 4.5\n",
      "Number of outliers is: 42\n",
      "The score threshold is: 5.0\n",
      "Number of outliers is: 39\n",
      "The score threshold is: 5.5\n",
      "Number of outliers is: 36\n",
      "The score threshold is: 6.0\n",
      "Number of outliers is: 33\n",
      "The score threshold is: 6.5\n",
      "Number of outliers is: 27\n"
     ]
    }
   ],
   "source": [
    "# NumPy's percentile() method returns the \n",
    "# values of the given percentiles. In our case,\n",
    "# we give 75 and 25 as parameters which corresponds \n",
    "# to the third and the first quartile.\n",
    "q75, q25 = np.percentile(education_df.TOTAL_REVENUE, [75 ,25])\n",
    "iqr = q75 - q25\n",
    "\n",
    "# iterate through thresholds\n",
    "# np.arange function(start, stop, step)\n",
    "# .5 represents the step for each iteration\n",
    "\n",
    "for threshold in np.arange(1,7,0.5):\n",
    "    min_val = q25 - (iqr*threshold)\n",
    "    max_val = q75 + (iqr*threshold)\n",
    "    print(\"The score threshold is: {}\".format(threshold))\n",
    "    print(\"Number of outliers is: {}\".format(\n",
    "        len((np.where((education_df.TOTAL_REVENUE > max_val) \n",
    "                      | (education_df.TOTAL_REVENUE < min_val))[0]))\n",
    "    ))"
   ]
  },
  {
   "cell_type": "markdown",
   "metadata": {},
   "source": [
    "#### Use Winsorization to cap outliers for Revenue"
   ]
  },
  {
   "cell_type": "code",
   "execution_count": 296,
   "metadata": {},
   "outputs": [
    {
     "data": {
      "image/png": "[encoded data removed]",
      "text/plain": [
       "<Figure size 432x288 with 1 Axes>"
      ]
     },
     "metadata": {
      "needs_background": "light"
     },
     "output_type": "display_data"
    }
   ],
   "source": [
    "# one-way winsorization applied to the highest end\n",
    "# of the value distribution since there are a lot of high\n",
    "# values, we set the values of the outliers to the \n",
    "# value of the 85th percentile. \n",
    "\n",
    "plt.boxplot(winsorize(education_df.TOTAL_REVENUE, (0, 0.15)));"
   ]
  },
  {
   "cell_type": "markdown",
   "metadata": {},
   "source": [
    "Using Winsorize, I had to set the percentil to the 85th in order to capture all outliers for revenue"
   ]
  },
  {
   "cell_type": "markdown",
   "metadata": {},
   "source": [
    "#### Use Winsorization to cap outliers for Expense"
   ]
  },
  {
   "cell_type": "code",
   "execution_count": 297,
   "metadata": {},
   "outputs": [
    {
     "data": {
      "image/png": "[encoded data removed]",
      "text/plain": [
       "<Figure size 432x288 with 1 Axes>"
      ]
     },
     "metadata": {
      "needs_background": "light"
     },
     "output_type": "display_data"
    }
   ],
   "source": [
    "# one-way winsorization applied to the highest end\n",
    "# of the value distribution since there are a lot of high\n",
    "# values, we set the values of the outliers to the \n",
    "# value of the 90th percentile.\n",
    "\n",
    "plt.boxplot(winsorize(education_df.TOTAL_EXPENDITURE, (0, 0.1)));"
   ]
  },
  {
   "cell_type": "markdown",
   "metadata": {},
   "source": [
    "Using Windsorize, I had to set the percentil to the 90th in order to capture all outliers for total expenditure"
   ]
  },
  {
   "cell_type": "markdown",
   "metadata": {},
   "source": [
    "### Use **<font color=red>monotonic</font>** transformation on the outliers.  The benefit of these is that they don't change the relative ordering of the values in the variable.  Examples of monotonic transformations are log transformations and square root transformations."
   ]
  },
  {
   "cell_type": "code",
   "execution_count": 244,
   "metadata": {},
   "outputs": [
    {
     "data": {
      "image/png": "[encoded data removed]",
      "text/plain": [
       "<Figure size 1080x360 with 2 Axes>"
      ]
     },
     "metadata": {
      "needs_background": "light"
     },
     "output_type": "display_data"
    }
   ],
   "source": [
    "plt.figure(figsize = (15,5))\n",
    "\n",
    "plt.subplot(1,2,1)\n",
    "plt.hist(education_df.TOTAL_REVENUE)\n",
    "plt.title(\"Histogram\")\n",
    "\n",
    "plt.subplot(1,2,2)\n",
    "plt.hist(np.log(education_df.TOTAL_REVENUE))\n",
    "plt.title(\"Histogram of log transformation\")\n",
    "plt.show()"
   ]
  },
  {
   "cell_type": "markdown",
   "metadata": {},
   "source": [
    "The data definitely has the appearance of a normal distribution now."
   ]
  },
  {
   "cell_type": "code",
   "execution_count": 245,
   "metadata": {},
   "outputs": [
    {
     "data": {
      "image/png": "[encoded data removed]",
      "text/plain": [
       "<Figure size 1080x360 with 2 Axes>"
      ]
     },
     "metadata": {
      "needs_background": "light"
     },
     "output_type": "display_data"
    }
   ],
   "source": [
    "plt.figure(figsize = (15,5))\n",
    "\n",
    "plt.subplot(1,2,1)\n",
    "plt.hist(education_df.TOTAL_EXPENDITURE)\n",
    "plt.title(\"Histogram\")\n",
    "\n",
    "plt.subplot(1,2,2)\n",
    "plt.hist(np.log(education_df.TOTAL_REVENUE))\n",
    "plt.title(\"Histogram of log transformation\")\n",
    "plt.show()"
   ]
  },
  {
   "cell_type": "markdown",
   "metadata": {},
   "source": [
    "The data definitely has the appearance of a normal distribution now."
   ]
  },
  {
   "cell_type": "markdown",
   "metadata": {},
   "source": [
    "### How does log transformation affect ouliers?"
   ]
  },
  {
   "cell_type": "code",
   "execution_count": 246,
   "metadata": {},
   "outputs": [
    {
     "data": {
      "image/png": "[encoded data removed]",
      "text/plain": [
       "<Figure size 1080x360 with 2 Axes>"
      ]
     },
     "metadata": {
      "needs_background": "light"
     },
     "output_type": "display_data"
    }
   ],
   "source": [
    "plt.figure(figsize = (15,5))\n",
    "\n",
    "plt.subplot(1,2,1)\n",
    "plt.boxplot(education_df.TOTAL_REVENUE)\n",
    "plt.title(\"Box plot with no transformation\")\n",
    "\n",
    "plt.subplot(1,2,2)\n",
    "plt.boxplot(np.log(education_df.TOTAL_REVENUE))\n",
    "plt.title(\"Box plot of log transformation\")\n",
    "plt.show()"
   ]
  },
  {
   "cell_type": "markdown",
   "metadata": {},
   "source": [
    "Result: log transformation has a huge benefit in diminishing outliers"
   ]
  },
  {
   "cell_type": "code",
   "execution_count": 247,
   "metadata": {},
   "outputs": [
    {
     "data": {
      "image/png": "[encoded data removed]",
      "text/plain": [
       "<Figure size 432x288 with 1 Axes>"
      ]
     },
     "metadata": {
      "needs_background": "light"
     },
     "output_type": "display_data"
    }
   ],
   "source": [
    "plt.boxplot(winsorize(np.log(education_df.TOTAL_REVENUE), (0, .005)));"
   ]
  },
  {
   "cell_type": "code",
   "execution_count": 248,
   "metadata": {},
   "outputs": [
    {
     "data": {
      "image/png": "[encoded data removed]",
      "text/plain": [
       "<Figure size 432x288 with 1 Axes>"
      ]
     },
     "metadata": {
      "needs_background": "light"
     },
     "output_type": "display_data"
    }
   ],
   "source": [
    "plt.boxplot(winsorize(np.log(education_df.TOTAL_REVENUE), (0, .01)), whis=1.5);"
   ]
  },
  {
   "cell_type": "markdown",
   "metadata": {},
   "source": [
    "### Analysis/Results:\n",
    "Without log transformation - I had to exclude everything above the top 15th percentile in order to eliminate boxplot outliers greater than 1.5 standard deviations away from the central tendency.\n",
    "\n",
    "With Transformation - I only needed to exclude the top 1% of in order to eliminate boxplot outliers greater than 1.5 standard deviations away from the central tendency."
   ]
  },
  {
   "cell_type": "markdown",
   "metadata": {},
   "source": [
    "#### <font color=darkorange>Question: When I use windsorization after log transformation, a much smaller percentile setting is enough to remove outliers.  Is that generally a good thing?</font>"
   ]
  },
  {
   "cell_type": "markdown",
   "metadata": {},
   "source": [
    "### 3. Create another variable by subtracting the original *TOTAL_EXPENDITURE* from *TOTAL_REVENUE* (before you eliminated the outliers). You can think of it as a kind of budget deficit in education. Do you find any outlier values in this new variable? If so, eliminate them using the technique you think most suitable."
   ]
  },
  {
   "cell_type": "code",
   "execution_count": 337,
   "metadata": {},
   "outputs": [],
   "source": [
    "education_df['budget_diff'] = education_df.TOTAL_REVENUE - education_df.TOTAL_EXPENDITURE"
   ]
  },
  {
   "cell_type": "code",
   "execution_count": 335,
   "metadata": {},
   "outputs": [],
   "source": [
    "education_df['winsorized_after_diff'] = education_df.TOTAL_REVENUE - education_df.TOTAL_EXPENDITURE"
   ]
  },
  {
   "cell_type": "code",
   "execution_count": 301,
   "metadata": {},
   "outputs": [
    {
     "data": {
      "image/png": "[encoded data removed]",
      "text/plain": [
       "<Figure size 432x288 with 1 Axes>"
      ]
     },
     "metadata": {
      "needs_background": "light"
     },
     "output_type": "display_data"
    }
   ],
   "source": [
    "plt.boxplot(budget_diff);"
   ]
  },
  {
   "cell_type": "code",
   "execution_count": 302,
   "metadata": {},
   "outputs": [
    {
     "data": {
      "image/png": "[encoded data removed]",
      "text/plain": [
       "<Figure size 432x288 with 1 Axes>"
      ]
     },
     "metadata": {
      "needs_background": "light"
     },
     "output_type": "display_data"
    }
   ],
   "source": [
    "plt.boxplot(winsorize(budget_diff, (0.13, 0.08)));"
   ]
  },
  {
   "cell_type": "code",
   "execution_count": 336,
   "metadata": {},
   "outputs": [],
   "source": [
    "education_df['winsorized_after_diff'] = winsorize(education_df['winsorized_after_diff'], (0.13, 0.08))"
   ]
  },
  {
   "cell_type": "markdown",
   "metadata": {},
   "source": [
    "### 4. Now create another variable by subtracting the *TOTAL_EXPENDITURE* from *TOTAL_REVENUE*. This time, use the outlier eliminated versions of *TOTAL_EXPENDITURE* from *TOTAL_REVENUE*. In this newly created variable, can you find any outliers? If so, eliminate them."
   ]
  },
  {
   "cell_type": "markdown",
   "metadata": {},
   "source": [
    "#### <font color=darkorange>Question: I ran into an issued with masked array when I did this the first time.</font>"
   ]
  },
  {
   "cell_type": "code",
   "execution_count": 303,
   "metadata": {},
   "outputs": [],
   "source": [
    "budget_diff_winsorised = winsorize(education_df.TOTAL_REVENUE, (0, 0.15)) - winsorize(education_df.TOTAL_EXPENDITURE, (0, 0.1))"
   ]
  },
  {
   "cell_type": "code",
   "execution_count": 305,
   "metadata": {},
   "outputs": [
    {
     "ename": "AttributeError",
     "evalue": "'MaskedArray' object has no attribute 'describe'",
     "output_type": "error",
     "traceback": [
      "\u001b[1;31m---------------------------------------------------------------------------\u001b[0m",
      "\u001b[1;31mAttributeError\u001b[0m                            Traceback (most recent call last)",
      "\u001b[1;32m<ipython-input-305-bf1eb96c2f99>\u001b[0m in \u001b[0;36m<module>\u001b[1;34m()\u001b[0m\n\u001b[1;32m----> 1\u001b[1;33m \u001b[0mbudget_diff_winsorised\u001b[0m\u001b[1;33m.\u001b[0m\u001b[0mdescribe\u001b[0m\u001b[1;33m(\u001b[0m\u001b[1;33m)\u001b[0m\u001b[1;33m\u001b[0m\u001b[1;33m\u001b[0m\u001b[0m\n\u001b[0m",
      "\u001b[1;31mAttributeError\u001b[0m: 'MaskedArray' object has no attribute 'describe'"
     ]
    }
   ],
   "source": [
    "budget_diff_winsorised.describe()"
   ]
  },
  {
   "cell_type": "markdown",
   "metadata": {},
   "source": [
    "#### <font color=darkorange>================================</font>"
   ]
  },
  {
   "cell_type": "code",
   "execution_count": 306,
   "metadata": {},
   "outputs": [],
   "source": [
    "# find budget that has been winsorized before computing the diff, and after\n",
    "budget_diff_winsorised = education_df[['TOTAL_REVENUE', 'TOTAL_EXPENDITURE']].copy()"
   ]
  },
  {
   "cell_type": "code",
   "execution_count": 343,
   "metadata": {},
   "outputs": [],
   "source": [
    "# winsorize rev and exp to be able to compute winsorized budget\n",
    "budget_diff_winsorised.TOTAL_REVENUE = winsorize(budget_diff_winsorised.TOTAL_REVENUE, (0, 0.15))\n",
    "budget_diff_winsorised.TOTAL_EXPENDITURE = winsorize(budget_diff_winsorised.TOTAL_EXPENDITURE, (0, 0.1))\n",
    "\n",
    "# winsorize budget diff\n",
    "budget_diff_winsorised['winsorized_before_and_after_diff'] = budget_diff_winsorised.TOTAL_REVENUE - budget_diff_winsorised.TOTAL_EXPENDITURE"
   ]
  },
  {
   "cell_type": "code",
   "execution_count": 345,
   "metadata": {},
   "outputs": [
    {
     "data": {
      "image/png": "[encoded data removed]",
      "text/plain": [
       "<Figure size 432x288 with 1 Axes>"
      ]
     },
     "metadata": {
      "needs_background": "light"
     },
     "output_type": "display_data"
    }
   ],
   "source": [
    "# are there outliers from winsorized budget\n",
    "plt.boxplot(budget_diff_winsorised['winsorized_before_and_after_diff']);"
   ]
  },
  {
   "cell_type": "code",
   "execution_count": 346,
   "metadata": {},
   "outputs": [],
   "source": [
    "# remove winsorized budget outliers\n",
    "budget_diff_winsorised['winsorized_before_and_after_diff'] = winsorize(budget_diff_winsorised['winsorized_before_and_after_diff'], (.16, 0.04))"
   ]
  },
  {
   "cell_type": "code",
   "execution_count": 347,
   "metadata": {},
   "outputs": [
    {
     "data": {
      "image/png": "[encoded data removed]",
      "text/plain": [
       "<Figure size 432x288 with 1 Axes>"
      ]
     },
     "metadata": {
      "needs_background": "light"
     },
     "output_type": "display_data"
    }
   ],
   "source": [
    "# verify outliers have been removed\n",
    "plt.boxplot(budget_diff_winsorised['winsorized_before_and_after_diff']);\n",
    "\n",
    "# everything looks good"
   ]
  },
  {
   "cell_type": "markdown",
   "metadata": {},
   "source": [
    "#### <font color=darkorange>Result/Analysis: it's not clear to me that there is a benefit to removing outliers before finding the difference, then removing outliers.  Is there someting deeper that this comparison is getting at?</font>"
   ]
  },
  {
   "cell_type": "markdown",
   "metadata": {},
   "source": [
    "### 5. Compare some basic descriptive statistics of the budget variables you end up with in the 3rd and the 4th questions. Do you see any differences?"
   ]
  },
  {
   "cell_type": "code",
   "execution_count": 348,
   "metadata": {},
   "outputs": [
    {
     "data": {
      "text/html": [
       "<div>\n",
       "<style scoped>\n",
       "    .dataframe tbody tr th:only-of-type {\n",
       "        vertical-align: middle;\n",
       "    }\n",
       "\n",
       "    .dataframe tbody tr th {\n",
       "        vertical-align: top;\n",
       "    }\n",
       "\n",
       "    .dataframe thead th {\n",
       "        text-align: right;\n",
       "    }\n",
       "</style>\n",
       "<table border=\"1\" class=\"dataframe\">\n",
       "  <thead>\n",
       "    <tr style=\"text-align: right;\">\n",
       "      <th></th>\n",
       "      <th>budget_diff</th>\n",
       "      <th>winsorized_after_diff</th>\n",
       "      <th>winsorized_before_and_after_diff</th>\n",
       "    </tr>\n",
       "  </thead>\n",
       "  <tbody>\n",
       "    <tr>\n",
       "      <td>count</td>\n",
       "      <td>1,492</td>\n",
       "      <td>1,492</td>\n",
       "      <td>1,492</td>\n",
       "    </tr>\n",
       "    <tr>\n",
       "      <td>mean</td>\n",
       "      <td>-104,599</td>\n",
       "      <td>-50,714</td>\n",
       "      <td>-116,001</td>\n",
       "    </tr>\n",
       "    <tr>\n",
       "      <td>std</td>\n",
       "      <td>531,077</td>\n",
       "      <td>166,076</td>\n",
       "      <td>228,665</td>\n",
       "    </tr>\n",
       "    <tr>\n",
       "      <td>min</td>\n",
       "      <td>-5,487,742</td>\n",
       "      <td>-310,943</td>\n",
       "      <td>-524,468</td>\n",
       "    </tr>\n",
       "    <tr>\n",
       "      <td>25%</td>\n",
       "      <td>-136,007</td>\n",
       "      <td>-136,007</td>\n",
       "      <td>-210,434</td>\n",
       "    </tr>\n",
       "    <tr>\n",
       "      <td>50%</td>\n",
       "      <td>-48,494</td>\n",
       "      <td>-48,494</td>\n",
       "      <td>-90,774</td>\n",
       "    </tr>\n",
       "    <tr>\n",
       "      <td>75%</td>\n",
       "      <td>29,654</td>\n",
       "      <td>29,654</td>\n",
       "      <td>15,051</td>\n",
       "    </tr>\n",
       "    <tr>\n",
       "      <td>max</td>\n",
       "      <td>3,897,129</td>\n",
       "      <td>275,475</td>\n",
       "      <td>319,168</td>\n",
       "    </tr>\n",
       "  </tbody>\n",
       "</table>\n",
       "</div>"
      ],
      "text/plain": [
       "       budget_diff  winsorized_after_diff  winsorized_before_and_after_diff\n",
       "count        1,492                  1,492                             1,492\n",
       "mean      -104,599                -50,714                          -116,001\n",
       "std        531,077                166,076                           228,665\n",
       "min     -5,487,742               -310,943                          -524,468\n",
       "25%       -136,007               -136,007                          -210,434\n",
       "50%        -48,494                -48,494                           -90,774\n",
       "75%         29,654                 29,654                            15,051\n",
       "max      3,897,129                275,475                           319,168"
      ]
     },
     "execution_count": 348,
     "metadata": {},
     "output_type": "execute_result"
    }
   ],
   "source": [
    "pd.options.display.float_format = '{:,.0f}'.format\n",
    "\n",
    "pd.concat([education_df.budget_diff.describe(),\n",
    "          education_df.winsorized_after_diff.describe(),\n",
    "          budget_diff_winsorised['winsorized_before_and_after_diff'].describe()], axis=1)"
   ]
  },
  {
   "cell_type": "markdown",
   "metadata": {},
   "source": [
    "#### <font color=darkorange>Result/Analysis: Question 4 method of eliminating outliers created more extreme values for **mean, std, min, max** than question 3.</font>"
   ]
  },
  {
   "cell_type": "markdown",
   "metadata": {},
   "source": [
    "### 6. If our variable of interest is the budget deficit variable, which method do you think is the appropriate in dealing with the outliers in this variable: the method in the 3rd question or the one in the 4th question?"
   ]
  },
  {
   "cell_type": "markdown",
   "metadata": {},
   "source": [
    "#### <font color=darkorange>It seems this would depend on the story we are trying to tell.  But generally, we would want the mean, std, min, and max to be smaller versus larger.  Especially so after apply means to remove outliers.  So I think the strategy applied in method 3 is preferable.  First find the difference, then winsorization to remove outliers</font>\n"
   ]
  }
 ],
 "metadata": {
  "kernelspec": {
   "display_name": "Python 3",
   "language": "python",
   "name": "python3"
  },
  "language_info": {
   "codemirror_mode": {
    "name": "ipython",
    "version": 3
   },
   "file_extension": ".py",
   "mimetype": "text/x-python",
   "name": "python",
   "nbconvert_exporter": "python",
   "pygments_lexer": "ipython3",
   "version": "3.7.3"
  }
 },
 "nbformat": 4,
 "nbformat_minor": 4
}
