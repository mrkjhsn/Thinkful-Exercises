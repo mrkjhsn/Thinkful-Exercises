{
 "cells": [
  {
   "cell_type": "markdown",
   "metadata": {},
   "source": [
    "## Data Exploration 1\n",
    "\n",
    "In this assignment, you'll continue working with the U.S. Education Dataset from Kaggle. The data gives detailed state level information on the several facets of the state of education on an annual basis. To learn more about the data and the column descriptions, you can view the Kaggle link above. You should access the data from the Thinkful database. Here's the credentials you can use to connect to the database:\n",
    "\n",
    "Don't forget to apply the most suitable missing value filling techniques you applied in the previous checkpoint to the data. You're supposed to provide your answers to the following questions after you handled the missing values."
   ]
  },
  {
   "cell_type": "code",
   "execution_count": 59,
   "metadata": {},
   "outputs": [],
   "source": [
    "import pandas as pd\n",
    "import numpy as np\n",
    "import matplotlib.pyplot as plt\n",
    "import matplotlib.ticker as ticker\n",
    "\n",
    "import seaborn as sns\n",
    "from sqlalchemy import create_engine\n",
    "import warnings\n",
    "pd.set_option('display.max_columns', None)\n",
    "\n",
    "warnings.filterwarnings('ignore')"
   ]
  },
  {
   "cell_type": "code",
   "execution_count": 3,
   "metadata": {},
   "outputs": [],
   "source": [
    "# read in us education data \n",
    "postgres_user = 'dsbc_student'\n",
    "postgres_pw = '7*.8G9QH21'\n",
    "postgres_host = '142.93.121.174'\n",
    "postgres_port = '5432'\n",
    "postgres_db = 'useducation'\n",
    "\n",
    "engine = create_engine('postgresql://{}:{}@{}:{}/{}'.format(\n",
    "    postgres_user, postgres_pw, postgres_host, postgres_port, postgres_db))\n",
    "\n",
    "education_df = pd.read_sql_query('select * from useducation',con=engine)\n",
    "\n",
    "# no need for an open connection, \n",
    "# as we're only doing a single query\n",
    "engine.dispose()\n",
    "\n",
    "# fill in nan values\n",
    "for col in education_df.columns[3:]:\n",
    "    education_df.loc[:, col] = education_df.loc[:, col].fillna(education_df.loc[:, col].mean())"
   ]
  },
  {
   "cell_type": "code",
   "execution_count": 4,
   "metadata": {},
   "outputs": [
    {
     "data": {
      "text/plain": [
       "(1492, 25)"
      ]
     },
     "execution_count": 4,
     "metadata": {},
     "output_type": "execute_result"
    }
   ],
   "source": [
    "education_df.shape"
   ]
  },
  {
   "cell_type": "code",
   "execution_count": 5,
   "metadata": {},
   "outputs": [
    {
     "data": {
      "text/html": [
       "<div>\n",
       "<style scoped>\n",
       "    .dataframe tbody tr th:only-of-type {\n",
       "        vertical-align: middle;\n",
       "    }\n",
       "\n",
       "    .dataframe tbody tr th {\n",
       "        vertical-align: top;\n",
       "    }\n",
       "\n",
       "    .dataframe thead th {\n",
       "        text-align: right;\n",
       "    }\n",
       "</style>\n",
       "<table border=\"1\" class=\"dataframe\">\n",
       "  <thead>\n",
       "    <tr style=\"text-align: right;\">\n",
       "      <th></th>\n",
       "      <th>PRIMARY_KEY</th>\n",
       "      <th>STATE</th>\n",
       "      <th>YEAR</th>\n",
       "      <th>ENROLL</th>\n",
       "      <th>TOTAL_REVENUE</th>\n",
       "      <th>FEDERAL_REVENUE</th>\n",
       "      <th>STATE_REVENUE</th>\n",
       "      <th>LOCAL_REVENUE</th>\n",
       "      <th>TOTAL_EXPENDITURE</th>\n",
       "      <th>INSTRUCTION_EXPENDITURE</th>\n",
       "      <th>...</th>\n",
       "      <th>GRADES_4_G</th>\n",
       "      <th>GRADES_8_G</th>\n",
       "      <th>GRADES_12_G</th>\n",
       "      <th>GRADES_1_8_G</th>\n",
       "      <th>GRADES_9_12_G</th>\n",
       "      <th>GRADES_ALL_G</th>\n",
       "      <th>AVG_MATH_4_SCORE</th>\n",
       "      <th>AVG_MATH_8_SCORE</th>\n",
       "      <th>AVG_READING_4_SCORE</th>\n",
       "      <th>AVG_READING_8_SCORE</th>\n",
       "    </tr>\n",
       "  </thead>\n",
       "  <tbody>\n",
       "    <tr>\n",
       "      <td>0</td>\n",
       "      <td>1992_ALABAMA</td>\n",
       "      <td>ALABAMA</td>\n",
       "      <td>1992</td>\n",
       "      <td>915930.820993</td>\n",
       "      <td>2678885.0</td>\n",
       "      <td>304177.0</td>\n",
       "      <td>1659028.0</td>\n",
       "      <td>715680.0</td>\n",
       "      <td>2653798.0</td>\n",
       "      <td>1481703.0</td>\n",
       "      <td>...</td>\n",
       "      <td>57948.0</td>\n",
       "      <td>58025.0</td>\n",
       "      <td>41167.0</td>\n",
       "      <td>471564.0</td>\n",
       "      <td>196386.0</td>\n",
       "      <td>676174.0</td>\n",
       "      <td>208.327876</td>\n",
       "      <td>252.187522</td>\n",
       "      <td>207.963517</td>\n",
       "      <td>263.661132</td>\n",
       "    </tr>\n",
       "    <tr>\n",
       "      <td>1</td>\n",
       "      <td>1992_ALASKA</td>\n",
       "      <td>ALASKA</td>\n",
       "      <td>1992</td>\n",
       "      <td>915930.820993</td>\n",
       "      <td>1049591.0</td>\n",
       "      <td>106780.0</td>\n",
       "      <td>720711.0</td>\n",
       "      <td>222100.0</td>\n",
       "      <td>972488.0</td>\n",
       "      <td>498362.0</td>\n",
       "      <td>...</td>\n",
       "      <td>9748.0</td>\n",
       "      <td>8789.0</td>\n",
       "      <td>6714.0</td>\n",
       "      <td>79117.0</td>\n",
       "      <td>30847.0</td>\n",
       "      <td>112335.0</td>\n",
       "      <td>234.768293</td>\n",
       "      <td>278.414711</td>\n",
       "      <td>218.866154</td>\n",
       "      <td>258.859712</td>\n",
       "    </tr>\n",
       "    <tr>\n",
       "      <td>2</td>\n",
       "      <td>1992_ARIZONA</td>\n",
       "      <td>ARIZONA</td>\n",
       "      <td>1992</td>\n",
       "      <td>915930.820993</td>\n",
       "      <td>3258079.0</td>\n",
       "      <td>297888.0</td>\n",
       "      <td>1369815.0</td>\n",
       "      <td>1590376.0</td>\n",
       "      <td>3401580.0</td>\n",
       "      <td>1435908.0</td>\n",
       "      <td>...</td>\n",
       "      <td>55433.0</td>\n",
       "      <td>49081.0</td>\n",
       "      <td>37410.0</td>\n",
       "      <td>437127.0</td>\n",
       "      <td>175210.0</td>\n",
       "      <td>614881.0</td>\n",
       "      <td>215.253932</td>\n",
       "      <td>265.366278</td>\n",
       "      <td>206.212716</td>\n",
       "      <td>262.169895</td>\n",
       "    </tr>\n",
       "    <tr>\n",
       "      <td>3</td>\n",
       "      <td>1992_ARKANSAS</td>\n",
       "      <td>ARKANSAS</td>\n",
       "      <td>1992</td>\n",
       "      <td>915930.820993</td>\n",
       "      <td>1711959.0</td>\n",
       "      <td>178571.0</td>\n",
       "      <td>958785.0</td>\n",
       "      <td>574603.0</td>\n",
       "      <td>1743022.0</td>\n",
       "      <td>964323.0</td>\n",
       "      <td>...</td>\n",
       "      <td>34632.0</td>\n",
       "      <td>36011.0</td>\n",
       "      <td>27651.0</td>\n",
       "      <td>281338.0</td>\n",
       "      <td>123113.0</td>\n",
       "      <td>405259.0</td>\n",
       "      <td>210.206028</td>\n",
       "      <td>256.312090</td>\n",
       "      <td>208.634458</td>\n",
       "      <td>264.619665</td>\n",
       "    </tr>\n",
       "    <tr>\n",
       "      <td>4</td>\n",
       "      <td>1992_CALIFORNIA</td>\n",
       "      <td>CALIFORNIA</td>\n",
       "      <td>1992</td>\n",
       "      <td>915930.820993</td>\n",
       "      <td>26260025.0</td>\n",
       "      <td>2072470.0</td>\n",
       "      <td>16546514.0</td>\n",
       "      <td>7641041.0</td>\n",
       "      <td>27138832.0</td>\n",
       "      <td>14358922.0</td>\n",
       "      <td>...</td>\n",
       "      <td>418418.0</td>\n",
       "      <td>363296.0</td>\n",
       "      <td>270675.0</td>\n",
       "      <td>3286034.0</td>\n",
       "      <td>1372011.0</td>\n",
       "      <td>4717112.0</td>\n",
       "      <td>208.398961</td>\n",
       "      <td>260.892247</td>\n",
       "      <td>196.764414</td>\n",
       "      <td>263.661132</td>\n",
       "    </tr>\n",
       "  </tbody>\n",
       "</table>\n",
       "<p>5 rows × 25 columns</p>\n",
       "</div>"
      ],
      "text/plain": [
       "       PRIMARY_KEY       STATE  YEAR         ENROLL  TOTAL_REVENUE  \\\n",
       "0     1992_ALABAMA     ALABAMA  1992  915930.820993      2678885.0   \n",
       "1      1992_ALASKA      ALASKA  1992  915930.820993      1049591.0   \n",
       "2     1992_ARIZONA     ARIZONA  1992  915930.820993      3258079.0   \n",
       "3    1992_ARKANSAS    ARKANSAS  1992  915930.820993      1711959.0   \n",
       "4  1992_CALIFORNIA  CALIFORNIA  1992  915930.820993     26260025.0   \n",
       "\n",
       "   FEDERAL_REVENUE  STATE_REVENUE  LOCAL_REVENUE  TOTAL_EXPENDITURE  \\\n",
       "0         304177.0      1659028.0       715680.0          2653798.0   \n",
       "1         106780.0       720711.0       222100.0           972488.0   \n",
       "2         297888.0      1369815.0      1590376.0          3401580.0   \n",
       "3         178571.0       958785.0       574603.0          1743022.0   \n",
       "4        2072470.0     16546514.0      7641041.0         27138832.0   \n",
       "\n",
       "   INSTRUCTION_EXPENDITURE  ...  GRADES_4_G  GRADES_8_G  GRADES_12_G  \\\n",
       "0                1481703.0  ...     57948.0     58025.0      41167.0   \n",
       "1                 498362.0  ...      9748.0      8789.0       6714.0   \n",
       "2                1435908.0  ...     55433.0     49081.0      37410.0   \n",
       "3                 964323.0  ...     34632.0     36011.0      27651.0   \n",
       "4               14358922.0  ...    418418.0    363296.0     270675.0   \n",
       "\n",
       "   GRADES_1_8_G  GRADES_9_12_G  GRADES_ALL_G  AVG_MATH_4_SCORE  \\\n",
       "0      471564.0       196386.0      676174.0        208.327876   \n",
       "1       79117.0        30847.0      112335.0        234.768293   \n",
       "2      437127.0       175210.0      614881.0        215.253932   \n",
       "3      281338.0       123113.0      405259.0        210.206028   \n",
       "4     3286034.0      1372011.0     4717112.0        208.398961   \n",
       "\n",
       "   AVG_MATH_8_SCORE  AVG_READING_4_SCORE  AVG_READING_8_SCORE  \n",
       "0        252.187522           207.963517           263.661132  \n",
       "1        278.414711           218.866154           258.859712  \n",
       "2        265.366278           206.212716           262.169895  \n",
       "3        256.312090           208.634458           264.619665  \n",
       "4        260.892247           196.764414           263.661132  \n",
       "\n",
       "[5 rows x 25 columns]"
      ]
     },
     "execution_count": 5,
     "metadata": {},
     "output_type": "execute_result"
    }
   ],
   "source": [
    "education_df.head()"
   ]
  },
  {
   "cell_type": "markdown",
   "metadata": {},
   "source": [
    "### 1. Derive the descriptive statistics of the data and discuss the points you find remarkable."
   ]
  },
  {
   "cell_type": "code",
   "execution_count": 10,
   "metadata": {},
   "outputs": [
    {
     "data": {
      "text/html": [
       "<div>\n",
       "<style scoped>\n",
       "    .dataframe tbody tr th:only-of-type {\n",
       "        vertical-align: middle;\n",
       "    }\n",
       "\n",
       "    .dataframe tbody tr th {\n",
       "        vertical-align: top;\n",
       "    }\n",
       "\n",
       "    .dataframe thead th {\n",
       "        text-align: right;\n",
       "    }\n",
       "</style>\n",
       "<table border=\"1\" class=\"dataframe\">\n",
       "  <thead>\n",
       "    <tr style=\"text-align: right;\">\n",
       "      <th></th>\n",
       "      <th>YEAR</th>\n",
       "      <th>ENROLL</th>\n",
       "      <th>TOTAL_REVENUE</th>\n",
       "      <th>FEDERAL_REVENUE</th>\n",
       "      <th>STATE_REVENUE</th>\n",
       "      <th>LOCAL_REVENUE</th>\n",
       "      <th>TOTAL_EXPENDITURE</th>\n",
       "      <th>INSTRUCTION_EXPENDITURE</th>\n",
       "      <th>SUPPORT_SERVICES_EXPENDITURE</th>\n",
       "      <th>OTHER_EXPENDITURE</th>\n",
       "      <th>CAPITAL_OUTLAY_EXPENDITURE</th>\n",
       "      <th>GRADES_PK_G</th>\n",
       "      <th>GRADES_KG_G</th>\n",
       "      <th>GRADES_4_G</th>\n",
       "      <th>GRADES_8_G</th>\n",
       "      <th>GRADES_12_G</th>\n",
       "      <th>GRADES_1_8_G</th>\n",
       "      <th>GRADES_9_12_G</th>\n",
       "      <th>GRADES_ALL_G</th>\n",
       "      <th>AVG_MATH_4_SCORE</th>\n",
       "      <th>AVG_MATH_8_SCORE</th>\n",
       "      <th>AVG_READING_4_SCORE</th>\n",
       "      <th>AVG_READING_8_SCORE</th>\n",
       "    </tr>\n",
       "  </thead>\n",
       "  <tbody>\n",
       "    <tr>\n",
       "      <td>count</td>\n",
       "      <td>1,492</td>\n",
       "      <td>1,492</td>\n",
       "      <td>1,492</td>\n",
       "      <td>1,492</td>\n",
       "      <td>1,492</td>\n",
       "      <td>1,492</td>\n",
       "      <td>1,492</td>\n",
       "      <td>1,492</td>\n",
       "      <td>1,492</td>\n",
       "      <td>1,492</td>\n",
       "      <td>1,492</td>\n",
       "      <td>1,492</td>\n",
       "      <td>1,492</td>\n",
       "      <td>1,492</td>\n",
       "      <td>1,492</td>\n",
       "      <td>1,492</td>\n",
       "      <td>1,492</td>\n",
       "      <td>1,492</td>\n",
       "      <td>1,492</td>\n",
       "      <td>1,492</td>\n",
       "      <td>1,492</td>\n",
       "      <td>1,492</td>\n",
       "      <td>1,492</td>\n",
       "    </tr>\n",
       "    <tr>\n",
       "      <td>mean</td>\n",
       "      <td>2,004</td>\n",
       "      <td>915,931</td>\n",
       "      <td>9,092,082</td>\n",
       "      <td>766,372</td>\n",
       "      <td>4,216,553</td>\n",
       "      <td>4,109,157</td>\n",
       "      <td>9,196,681</td>\n",
       "      <td>4,762,966</td>\n",
       "      <td>2,680,331</td>\n",
       "      <td>429,205</td>\n",
       "      <td>902,769</td>\n",
       "      <td>17,602</td>\n",
       "      <td>63,747</td>\n",
       "      <td>64,539</td>\n",
       "      <td>64,271</td>\n",
       "      <td>54,269</td>\n",
       "      <td>519,214</td>\n",
       "      <td>247,071</td>\n",
       "      <td>802,442</td>\n",
       "      <td>235</td>\n",
       "      <td>278</td>\n",
       "      <td>219</td>\n",
       "      <td>264</td>\n",
       "    </tr>\n",
       "    <tr>\n",
       "      <td>std</td>\n",
       "      <td>7</td>\n",
       "      <td>966,773</td>\n",
       "      <td>10,878,184</td>\n",
       "      <td>1,060,702</td>\n",
       "      <td>5,133,895</td>\n",
       "      <td>5,078,230</td>\n",
       "      <td>11,093,928</td>\n",
       "      <td>5,828,468</td>\n",
       "      <td>3,105,812</td>\n",
       "      <td>484,683</td>\n",
       "      <td>1,229,564</td>\n",
       "      <td>28,221</td>\n",
       "      <td>76,573</td>\n",
       "      <td>76,685</td>\n",
       "      <td>75,364</td>\n",
       "      <td>64,838</td>\n",
       "      <td>614,713</td>\n",
       "      <td>293,877</td>\n",
       "      <td>912,652</td>\n",
       "      <td>6</td>\n",
       "      <td>6</td>\n",
       "      <td>5</td>\n",
       "      <td>4</td>\n",
       "    </tr>\n",
       "    <tr>\n",
       "      <td>min</td>\n",
       "      <td>1,992</td>\n",
       "      <td>43,866</td>\n",
       "      <td>465,650</td>\n",
       "      <td>31,020</td>\n",
       "      <td>0</td>\n",
       "      <td>22,093</td>\n",
       "      <td>481,665</td>\n",
       "      <td>265,549</td>\n",
       "      <td>139,963</td>\n",
       "      <td>11,541</td>\n",
       "      <td>12,708</td>\n",
       "      <td>0</td>\n",
       "      <td>544</td>\n",
       "      <td>633</td>\n",
       "      <td>437</td>\n",
       "      <td>311</td>\n",
       "      <td>4,878</td>\n",
       "      <td>1,808</td>\n",
       "      <td>7,254</td>\n",
       "      <td>187</td>\n",
       "      <td>233</td>\n",
       "      <td>179</td>\n",
       "      <td>236</td>\n",
       "    </tr>\n",
       "    <tr>\n",
       "      <td>25%</td>\n",
       "      <td>1,998</td>\n",
       "      <td>315,094</td>\n",
       "      <td>2,546,261</td>\n",
       "      <td>217,020</td>\n",
       "      <td>1,356,434</td>\n",
       "      <td>944,796</td>\n",
       "      <td>2,523,968</td>\n",
       "      <td>1,343,611</td>\n",
       "      <td>767,369</td>\n",
       "      <td>135,428</td>\n",
       "      <td>216,340</td>\n",
       "      <td>2,449</td>\n",
       "      <td>14,016</td>\n",
       "      <td>15,196</td>\n",
       "      <td>15,683</td>\n",
       "      <td>13,437</td>\n",
       "      <td>121,152</td>\n",
       "      <td>59,198</td>\n",
       "      <td>229,358</td>\n",
       "      <td>235</td>\n",
       "      <td>278</td>\n",
       "      <td>219</td>\n",
       "      <td>264</td>\n",
       "    </tr>\n",
       "    <tr>\n",
       "      <td>50%</td>\n",
       "      <td>2,004</td>\n",
       "      <td>820,414</td>\n",
       "      <td>6,359,310</td>\n",
       "      <td>516,741</td>\n",
       "      <td>3,127,639</td>\n",
       "      <td>2,697,257</td>\n",
       "      <td>6,520,224</td>\n",
       "      <td>3,358,142</td>\n",
       "      <td>1,913,844</td>\n",
       "      <td>367,234</td>\n",
       "      <td>648,218</td>\n",
       "      <td>10,505</td>\n",
       "      <td>48,897</td>\n",
       "      <td>49,884</td>\n",
       "      <td>49,571</td>\n",
       "      <td>39,566</td>\n",
       "      <td>401,586</td>\n",
       "      <td>181,701</td>\n",
       "      <td>647,326</td>\n",
       "      <td>235</td>\n",
       "      <td>278</td>\n",
       "      <td>219</td>\n",
       "      <td>264</td>\n",
       "    </tr>\n",
       "    <tr>\n",
       "      <td>75%</td>\n",
       "      <td>2,011</td>\n",
       "      <td>921,178</td>\n",
       "      <td>9,276,958</td>\n",
       "      <td>766,372</td>\n",
       "      <td>4,269,811</td>\n",
       "      <td>4,109,157</td>\n",
       "      <td>9,434,922</td>\n",
       "      <td>4,938,820</td>\n",
       "      <td>2,795,888</td>\n",
       "      <td>456,892</td>\n",
       "      <td>902,769</td>\n",
       "      <td>19,149</td>\n",
       "      <td>70,373</td>\n",
       "      <td>71,814</td>\n",
       "      <td>72,131</td>\n",
       "      <td>64,616</td>\n",
       "      <td>574,912</td>\n",
       "      <td>282,539</td>\n",
       "      <td>872,422</td>\n",
       "      <td>235</td>\n",
       "      <td>278</td>\n",
       "      <td>219</td>\n",
       "      <td>264</td>\n",
       "    </tr>\n",
       "    <tr>\n",
       "      <td>max</td>\n",
       "      <td>2,017</td>\n",
       "      <td>6,307,022</td>\n",
       "      <td>89,217,262</td>\n",
       "      <td>9,990,221</td>\n",
       "      <td>50,904,567</td>\n",
       "      <td>36,105,265</td>\n",
       "      <td>85,320,133</td>\n",
       "      <td>43,964,520</td>\n",
       "      <td>26,058,021</td>\n",
       "      <td>3,995,951</td>\n",
       "      <td>10,223,657</td>\n",
       "      <td>250,911</td>\n",
       "      <td>530,531</td>\n",
       "      <td>493,415</td>\n",
       "      <td>500,143</td>\n",
       "      <td>498,403</td>\n",
       "      <td>3,929,869</td>\n",
       "      <td>2,013,687</td>\n",
       "      <td>5,944,746</td>\n",
       "      <td>253</td>\n",
       "      <td>301</td>\n",
       "      <td>237</td>\n",
       "      <td>280</td>\n",
       "    </tr>\n",
       "  </tbody>\n",
       "</table>\n",
       "</div>"
      ],
      "text/plain": [
       "       YEAR    ENROLL  TOTAL_REVENUE  FEDERAL_REVENUE  STATE_REVENUE  \\\n",
       "count 1,492     1,492          1,492            1,492          1,492   \n",
       "mean  2,004   915,931      9,092,082          766,372      4,216,553   \n",
       "std       7   966,773     10,878,184        1,060,702      5,133,895   \n",
       "min   1,992    43,866        465,650           31,020              0   \n",
       "25%   1,998   315,094      2,546,261          217,020      1,356,434   \n",
       "50%   2,004   820,414      6,359,310          516,741      3,127,639   \n",
       "75%   2,011   921,178      9,276,958          766,372      4,269,811   \n",
       "max   2,017 6,307,022     89,217,262        9,990,221     50,904,567   \n",
       "\n",
       "       LOCAL_REVENUE  TOTAL_EXPENDITURE  INSTRUCTION_EXPENDITURE  \\\n",
       "count          1,492              1,492                    1,492   \n",
       "mean       4,109,157          9,196,681                4,762,966   \n",
       "std        5,078,230         11,093,928                5,828,468   \n",
       "min           22,093            481,665                  265,549   \n",
       "25%          944,796          2,523,968                1,343,611   \n",
       "50%        2,697,257          6,520,224                3,358,142   \n",
       "75%        4,109,157          9,434,922                4,938,820   \n",
       "max       36,105,265         85,320,133               43,964,520   \n",
       "\n",
       "       SUPPORT_SERVICES_EXPENDITURE  OTHER_EXPENDITURE  \\\n",
       "count                         1,492              1,492   \n",
       "mean                      2,680,331            429,205   \n",
       "std                       3,105,812            484,683   \n",
       "min                         139,963             11,541   \n",
       "25%                         767,369            135,428   \n",
       "50%                       1,913,844            367,234   \n",
       "75%                       2,795,888            456,892   \n",
       "max                      26,058,021          3,995,951   \n",
       "\n",
       "       CAPITAL_OUTLAY_EXPENDITURE  GRADES_PK_G  GRADES_KG_G  GRADES_4_G  \\\n",
       "count                       1,492        1,492        1,492       1,492   \n",
       "mean                      902,769       17,602       63,747      64,539   \n",
       "std                     1,229,564       28,221       76,573      76,685   \n",
       "min                        12,708            0          544         633   \n",
       "25%                       216,340        2,449       14,016      15,196   \n",
       "50%                       648,218       10,505       48,897      49,884   \n",
       "75%                       902,769       19,149       70,373      71,814   \n",
       "max                    10,223,657      250,911      530,531     493,415   \n",
       "\n",
       "       GRADES_8_G  GRADES_12_G  GRADES_1_8_G  GRADES_9_12_G  GRADES_ALL_G  \\\n",
       "count       1,492        1,492         1,492          1,492         1,492   \n",
       "mean       64,271       54,269       519,214        247,071       802,442   \n",
       "std        75,364       64,838       614,713        293,877       912,652   \n",
       "min           437          311         4,878          1,808         7,254   \n",
       "25%        15,683       13,437       121,152         59,198       229,358   \n",
       "50%        49,571       39,566       401,586        181,701       647,326   \n",
       "75%        72,131       64,616       574,912        282,539       872,422   \n",
       "max       500,143      498,403     3,929,869      2,013,687     5,944,746   \n",
       "\n",
       "       AVG_MATH_4_SCORE  AVG_MATH_8_SCORE  AVG_READING_4_SCORE  \\\n",
       "count             1,492             1,492                1,492   \n",
       "mean                235               278                  219   \n",
       "std                   6                 6                    5   \n",
       "min                 187               233                  179   \n",
       "25%                 235               278                  219   \n",
       "50%                 235               278                  219   \n",
       "75%                 235               278                  219   \n",
       "max                 253               301                  237   \n",
       "\n",
       "       AVG_READING_8_SCORE  \n",
       "count                1,492  \n",
       "mean                   264  \n",
       "std                      4  \n",
       "min                    236  \n",
       "25%                    264  \n",
       "50%                    264  \n",
       "75%                    264  \n",
       "max                    280  "
      ]
     },
     "execution_count": 10,
     "metadata": {},
     "output_type": "execute_result"
    }
   ],
   "source": [
    "pd.options.display.float_format = '{:,.0f}'.format\n",
    "\n",
    "# descriptive statistics for continuous variables\n",
    "education_df.describe()"
   ]
  },
  {
   "cell_type": "markdown",
   "metadata": {},
   "source": [
    "1. one state has an education budget of zero\n",
    "1. groupings of colums have similarities\n",
    " - \"Grades_\" columns\n",
    " - \"Avg_math_\" columns\n",
    "\n"
   ]
  },
  {
   "cell_type": "code",
   "execution_count": 8,
   "metadata": {},
   "outputs": [
    {
     "data": {
      "text/html": [
       "<div>\n",
       "<style scoped>\n",
       "    .dataframe tbody tr th:only-of-type {\n",
       "        vertical-align: middle;\n",
       "    }\n",
       "\n",
       "    .dataframe tbody tr th {\n",
       "        vertical-align: top;\n",
       "    }\n",
       "\n",
       "    .dataframe thead th {\n",
       "        text-align: right;\n",
       "    }\n",
       "</style>\n",
       "<table border=\"1\" class=\"dataframe\">\n",
       "  <thead>\n",
       "    <tr style=\"text-align: right;\">\n",
       "      <th></th>\n",
       "      <th>PRIMARY_KEY</th>\n",
       "      <th>STATE</th>\n",
       "    </tr>\n",
       "  </thead>\n",
       "  <tbody>\n",
       "    <tr>\n",
       "      <td>count</td>\n",
       "      <td>1492</td>\n",
       "      <td>1492</td>\n",
       "    </tr>\n",
       "    <tr>\n",
       "      <td>unique</td>\n",
       "      <td>1487</td>\n",
       "      <td>80</td>\n",
       "    </tr>\n",
       "    <tr>\n",
       "      <td>top</td>\n",
       "      <td>2008_VIRGINIA</td>\n",
       "      <td>DISTRICT_OF_COLUMBIA</td>\n",
       "    </tr>\n",
       "    <tr>\n",
       "      <td>freq</td>\n",
       "      <td>3</td>\n",
       "      <td>29</td>\n",
       "    </tr>\n",
       "  </tbody>\n",
       "</table>\n",
       "</div>"
      ],
      "text/plain": [
       "          PRIMARY_KEY                 STATE\n",
       "count            1492                  1492\n",
       "unique           1487                    80\n",
       "top     2008_VIRGINIA  DISTRICT_OF_COLUMBIA\n",
       "freq                3                    29"
      ]
     },
     "execution_count": 8,
     "metadata": {},
     "output_type": "execute_result"
    }
   ],
   "source": [
    "# descriptive statistics for categorical variables\n",
    "education_df.describe(include=['O'])"
   ]
  },
  {
   "cell_type": "markdown",
   "metadata": {},
   "source": [
    "1. why are there 80 unique states, shouldn't that be no bigger than 50?\n",
    "1. what does frequency represent here?"
   ]
  },
  {
   "cell_type": "markdown",
   "metadata": {},
   "source": [
    "### 2. Choose a state (e.g. California) and draw a line graph of its total revenues and total expenditures along the years. How do these 2 variables evolve during the years? Try to explain the peaks and troughs with some state-wise news and information around those dates."
   ]
  },
  {
   "cell_type": "code",
   "execution_count": 17,
   "metadata": {},
   "outputs": [
    {
     "data": {
      "text/html": [
       "<div>\n",
       "<style scoped>\n",
       "    .dataframe tbody tr th:only-of-type {\n",
       "        vertical-align: middle;\n",
       "    }\n",
       "\n",
       "    .dataframe tbody tr th {\n",
       "        vertical-align: top;\n",
       "    }\n",
       "\n",
       "    .dataframe thead th {\n",
       "        text-align: right;\n",
       "    }\n",
       "</style>\n",
       "<table border=\"1\" class=\"dataframe\">\n",
       "  <thead>\n",
       "    <tr style=\"text-align: right;\">\n",
       "      <th></th>\n",
       "      <th>YEAR</th>\n",
       "      <th>TOTAL_REVENUE</th>\n",
       "      <th>TOTAL_EXPENDITURE</th>\n",
       "    </tr>\n",
       "  </thead>\n",
       "  <tbody>\n",
       "    <tr>\n",
       "      <td>2</td>\n",
       "      <td>1992</td>\n",
       "      <td>3,258,079</td>\n",
       "      <td>3,401,580</td>\n",
       "    </tr>\n",
       "    <tr>\n",
       "      <td>54</td>\n",
       "      <td>1993</td>\n",
       "      <td>3,427,976</td>\n",
       "      <td>3,623,946</td>\n",
       "    </tr>\n",
       "    <tr>\n",
       "      <td>106</td>\n",
       "      <td>1994</td>\n",
       "      <td>3,566,586</td>\n",
       "      <td>3,803,379</td>\n",
       "    </tr>\n",
       "    <tr>\n",
       "      <td>159</td>\n",
       "      <td>1995</td>\n",
       "      <td>3,815,218</td>\n",
       "      <td>4,056,279</td>\n",
       "    </tr>\n",
       "    <tr>\n",
       "      <td>211</td>\n",
       "      <td>1996</td>\n",
       "      <td>4,143,304</td>\n",
       "      <td>4,391,555</td>\n",
       "    </tr>\n",
       "  </tbody>\n",
       "</table>\n",
       "</div>"
      ],
      "text/plain": [
       "     YEAR  TOTAL_REVENUE  TOTAL_EXPENDITURE\n",
       "2    1992      3,258,079          3,401,580\n",
       "54   1993      3,427,976          3,623,946\n",
       "106  1994      3,566,586          3,803,379\n",
       "159  1995      3,815,218          4,056,279\n",
       "211  1996      4,143,304          4,391,555"
      ]
     },
     "execution_count": 17,
     "metadata": {},
     "output_type": "execute_result"
    }
   ],
   "source": [
    "# identify only Arizona data for revenue and expense\n",
    "education_df.loc[education_df.STATE == 'ARIZONA', ['YEAR', 'TOTAL_REVENUE', 'TOTAL_EXPENDITURE']].head()"
   ]
  },
  {
   "cell_type": "code",
   "execution_count": 23,
   "metadata": {},
   "outputs": [],
   "source": [
    "# groupby year and compute the sum of revenue and expense\n",
    "year_over_year = education_df.loc[education_df.STATE == 'ARIZONA', ['YEAR', 'TOTAL_REVENUE', 'TOTAL_EXPENDITURE']] \\\n",
    "    .groupby('YEAR').sum()"
   ]
  },
  {
   "cell_type": "code",
   "execution_count": 24,
   "metadata": {},
   "outputs": [
    {
     "data": {
      "text/html": [
       "<div>\n",
       "<style scoped>\n",
       "    .dataframe tbody tr th:only-of-type {\n",
       "        vertical-align: middle;\n",
       "    }\n",
       "\n",
       "    .dataframe tbody tr th {\n",
       "        vertical-align: top;\n",
       "    }\n",
       "\n",
       "    .dataframe thead th {\n",
       "        text-align: right;\n",
       "    }\n",
       "</style>\n",
       "<table border=\"1\" class=\"dataframe\">\n",
       "  <thead>\n",
       "    <tr style=\"text-align: right;\">\n",
       "      <th></th>\n",
       "      <th>TOTAL_REVENUE</th>\n",
       "      <th>TOTAL_EXPENDITURE</th>\n",
       "    </tr>\n",
       "    <tr>\n",
       "      <th>YEAR</th>\n",
       "      <th></th>\n",
       "      <th></th>\n",
       "    </tr>\n",
       "  </thead>\n",
       "  <tbody>\n",
       "    <tr>\n",
       "      <td>1992</td>\n",
       "      <td>3,258,079</td>\n",
       "      <td>3,401,580</td>\n",
       "    </tr>\n",
       "    <tr>\n",
       "      <td>1993</td>\n",
       "      <td>3,427,976</td>\n",
       "      <td>3,623,946</td>\n",
       "    </tr>\n",
       "    <tr>\n",
       "      <td>1994</td>\n",
       "      <td>3,566,586</td>\n",
       "      <td>3,803,379</td>\n",
       "    </tr>\n",
       "    <tr>\n",
       "      <td>1995</td>\n",
       "      <td>3,815,218</td>\n",
       "      <td>4,056,279</td>\n",
       "    </tr>\n",
       "    <tr>\n",
       "      <td>1996</td>\n",
       "      <td>4,143,304</td>\n",
       "      <td>4,391,555</td>\n",
       "    </tr>\n",
       "  </tbody>\n",
       "</table>\n",
       "</div>"
      ],
      "text/plain": [
       "      TOTAL_REVENUE  TOTAL_EXPENDITURE\n",
       "YEAR                                  \n",
       "1992      3,258,079          3,401,580\n",
       "1993      3,427,976          3,623,946\n",
       "1994      3,566,586          3,803,379\n",
       "1995      3,815,218          4,056,279\n",
       "1996      4,143,304          4,391,555"
      ]
     },
     "execution_count": 24,
     "metadata": {},
     "output_type": "execute_result"
    }
   ],
   "source": [
    "year_over_year.head()"
   ]
  },
  {
   "cell_type": "code",
   "execution_count": 28,
   "metadata": {},
   "outputs": [
    {
     "data": {
      "text/plain": [
       "YEAR\n",
       "1992   3,258,079\n",
       "1993   3,427,976\n",
       "1994   3,566,586\n",
       "1995   3,815,218\n",
       "1996   4,143,304\n",
       "Name: TOTAL_REVENUE, dtype: float64"
      ]
     },
     "execution_count": 28,
     "metadata": {},
     "output_type": "execute_result"
    }
   ],
   "source": [
    "year_over_year.iloc[:,0].head()"
   ]
  },
  {
   "cell_type": "code",
   "execution_count": 175,
   "metadata": {},
   "outputs": [
    {
     "data": {
      "image/png": "[encoded data removed]",
      "text/plain": [
       "<Figure size 1080x360 with 1 Axes>"
      ]
     },
     "metadata": {
      "needs_background": "light"
     },
     "output_type": "display_data"
    }
   ],
   "source": [
    "plt.figure(figsize=(15,5))\n",
    "\n",
    "plt.plot(year_over_year.index, year_over_year.iloc[:,0], c='g')\n",
    "plt.plot(year_over_year.index, year_over_year.iloc[:,1], c='r')\n",
    "\n",
    "plt.xlabel(\"Year\", labelpad=15)\n",
    "plt.ylabel(\"Millions ($)\", labelpad=10);\n",
    "\n",
    "# why is it so difficult to format?\n",
    "\n",
    "# ax.get_yaxis().set_major_formatter(\n",
    "#     matplotlib.ticker.FuncFormatter(lambda x, p: '$%1.1f' % (x*1e-6)))\n",
    "\n",
    "# ax.xaxis().set_major_locator(matplotlib.ticker.MultipleLocator(1))\n",
    "\n",
    "# ax.yaxis.set_major_formatter(matplotlib.ticker.StrMethodFormatter('{x:,.0f}'))"
   ]
  },
  {
   "cell_type": "markdown",
   "metadata": {},
   "source": [
    "Analysis: The real estate industry in Arizona was hit especially hard by the collapse of the housing bubble in 2007/2008.  The above graph shows the sharp decline in education revenue and spending in the years following the collapse.  Revenue and expenditures have only recently risen to pre-housing bubble levels.  I suspected that I might see a more significant dip in the years following the dot com bubble at the turn of the millenium, however, at the time of the bubble Arizona had very little dot com industry to be impacted."
   ]
  },
  {
   "cell_type": "markdown",
   "metadata": {},
   "source": [
    "### 3. In your chosen state, which of the lessons are the students more successful, math or reading?"
   ]
  },
  {
   "cell_type": "code",
   "execution_count": 114,
   "metadata": {},
   "outputs": [
    {
     "data": {
      "text/html": [
       "<div>\n",
       "<style scoped>\n",
       "    .dataframe tbody tr th:only-of-type {\n",
       "        vertical-align: middle;\n",
       "    }\n",
       "\n",
       "    .dataframe tbody tr th {\n",
       "        vertical-align: top;\n",
       "    }\n",
       "\n",
       "    .dataframe thead th {\n",
       "        text-align: right;\n",
       "    }\n",
       "</style>\n",
       "<table border=\"1\" class=\"dataframe\">\n",
       "  <thead>\n",
       "    <tr style=\"text-align: right;\">\n",
       "      <th></th>\n",
       "      <th>AVG_READING_4_SCORE</th>\n",
       "      <th>AVG_READING_8_SCORE</th>\n",
       "    </tr>\n",
       "  </thead>\n",
       "  <tbody>\n",
       "    <tr>\n",
       "      <td>2</td>\n",
       "      <td>206</td>\n",
       "      <td>262</td>\n",
       "    </tr>\n",
       "    <tr>\n",
       "      <td>54</td>\n",
       "      <td>219</td>\n",
       "      <td>264</td>\n",
       "    </tr>\n",
       "    <tr>\n",
       "      <td>106</td>\n",
       "      <td>219</td>\n",
       "      <td>264</td>\n",
       "    </tr>\n",
       "    <tr>\n",
       "      <td>159</td>\n",
       "      <td>219</td>\n",
       "      <td>264</td>\n",
       "    </tr>\n",
       "    <tr>\n",
       "      <td>211</td>\n",
       "      <td>207</td>\n",
       "      <td>263</td>\n",
       "    </tr>\n",
       "  </tbody>\n",
       "</table>\n",
       "</div>"
      ],
      "text/plain": [
       "     AVG_READING_4_SCORE  AVG_READING_8_SCORE\n",
       "2                    206                  262\n",
       "54                   219                  264\n",
       "106                  219                  264\n",
       "159                  219                  264\n",
       "211                  207                  263"
      ]
     },
     "execution_count": 114,
     "metadata": {},
     "output_type": "execute_result"
    }
   ],
   "source": [
    "# filter for only Arizona\n",
    "education_df.loc[education_df.STATE == 'ARIZONA'].iloc[:,[-2, -1]].head()"
   ]
  },
  {
   "cell_type": "code",
   "execution_count": 108,
   "metadata": {},
   "outputs": [
    {
     "data": {
      "text/plain": [
       "2     234\n",
       "54    241\n",
       "106   241\n",
       "159   241\n",
       "211   235\n",
       "dtype: float64"
      ]
     },
     "execution_count": 108,
     "metadata": {},
     "output_type": "execute_result"
    }
   ],
   "source": [
    "# compute the mean reading scores between 4th and 8th grades\n",
    "education_df.loc[education_df.STATE == 'ARIZONA'].iloc[:,[-2,-1]].head().mean(axis=1)"
   ]
  },
  {
   "cell_type": "code",
   "execution_count": 111,
   "metadata": {},
   "outputs": [
    {
     "data": {
      "text/plain": [
       "239.426845189009"
      ]
     },
     "execution_count": 111,
     "metadata": {},
     "output_type": "execute_result"
    }
   ],
   "source": [
    "# compute mean for all years\n",
    "education_df.loc[education_df.STATE == 'ARIZONA'].iloc[:,[-2,-1]].mean(axis=1).mean()"
   ]
  },
  {
   "cell_type": "code",
   "execution_count": 110,
   "metadata": {},
   "outputs": [
    {
     "data": {
      "text/plain": [
       "254.68720746368567"
      ]
     },
     "execution_count": 110,
     "metadata": {},
     "output_type": "execute_result"
    }
   ],
   "source": [
    "# similar to the above, apply to math scores\n",
    "# filter to only AZ\n",
    "# select math scores\n",
    "# compute mean\n",
    "education_df.loc[education_df.STATE == 'ARIZONA'].iloc[:,[-4,-3]].mean(axis=1).mean()"
   ]
  },
  {
   "cell_type": "markdown",
   "metadata": {},
   "source": [
    "Students in Arizona seem to be doing better at math than reading."
   ]
  },
  {
   "cell_type": "markdown",
   "metadata": {},
   "source": [
    "### Graph math and english scores to compare over time"
   ]
  },
  {
   "cell_type": "code",
   "execution_count": 133,
   "metadata": {},
   "outputs": [
    {
     "data": {
      "image/png": "[encoded data removed]",
      "text/plain": [
       "<Figure size 1080x360 with 1 Axes>"
      ]
     },
     "metadata": {
      "needs_background": "light"
     },
     "output_type": "display_data"
    }
   ],
   "source": [
    "plt.figure(figsize=(15,5))\n",
    "\n",
    "year = education_df.loc[education_df.STATE == 'ARIZONA'].iloc[:,[2]]\n",
    "reading = education_df.loc[education_df.STATE == 'ARIZONA'].iloc[:,[-2,-1]].mean(axis=1)\n",
    "math = education_df.loc[education_df.STATE == 'ARIZONA'].iloc[:,[-4,-3]].mean(axis=1)\n",
    "\n",
    "plt.plot(year, reading, c='orange', label='reading')\n",
    "plt.plot(year, math, c='maroon', label='math')\n",
    "plt.legend()\n",
    "\n",
    "plt.xlabel(\"Year\", labelpad=15)\n",
    "plt.ylabel(\"Score\", labelpad=10);\n"
   ]
  },
  {
   "cell_type": "markdown",
   "metadata": {},
   "source": [
    "Why do the scores seem to rise to a ceiling?  Especially so for the 90s?  However, for the last 7 years or so math has risen above that ceiling.  Also, earlier years seem to move very predictably in lockstep, with math having a larger up and down than english."
   ]
  },
  {
   "cell_type": "markdown",
   "metadata": {},
   "source": [
    "### 4. What are the distributions of the math and reading scores in the sample?"
   ]
  },
  {
   "cell_type": "code",
   "execution_count": 137,
   "metadata": {},
   "outputs": [
    {
     "data": {
      "text/plain": [
       "0      236\n",
       "1      239\n",
       "2      234\n",
       "3      237\n",
       "4      230\n",
       "        ..\n",
       "1487   251\n",
       "1488   245\n",
       "1489   244\n",
       "1490   239\n",
       "1491   248\n",
       "Length: 1492, dtype: float64"
      ]
     },
     "execution_count": 137,
     "metadata": {},
     "output_type": "execute_result"
    }
   ],
   "source": [
    "# compute the mean reading scores between 4th and 8th grades\n",
    "# for all states\n",
    "education_df.iloc[:,[-2,-1]].mean(axis=1)"
   ]
  },
  {
   "cell_type": "code",
   "execution_count": 144,
   "metadata": {},
   "outputs": [
    {
     "data": {
      "image/png": "[encoded data removed]",
      "text/plain": [
       "<Figure size 432x288 with 1 Axes>"
      ]
     },
     "metadata": {
      "needs_background": "light"
     },
     "output_type": "display_data"
    }
   ],
   "source": [
    "plt.hist(education_df.iloc[:,[-2,-1]].mean(axis=1));"
   ]
  },
  {
   "cell_type": "code",
   "execution_count": 138,
   "metadata": {},
   "outputs": [
    {
     "data": {
      "text/plain": [
       "0      230\n",
       "1      257\n",
       "2      240\n",
       "3      233\n",
       "4      235\n",
       "        ..\n",
       "1487   269\n",
       "1488   265\n",
       "1489   255\n",
       "1490   264\n",
       "1491   268\n",
       "Length: 1492, dtype: float64"
      ]
     },
     "execution_count": 138,
     "metadata": {},
     "output_type": "execute_result"
    }
   ],
   "source": [
    "# compute the mean math scores between 4th and 8th grades\n",
    "# for all states\n",
    "education_df.iloc[:,[-4,-3]].mean(axis=1)"
   ]
  },
  {
   "cell_type": "code",
   "execution_count": 145,
   "metadata": {},
   "outputs": [
    {
     "data": {
      "image/png": "[encoded data removed]",
      "text/plain": [
       "<Figure size 432x288 with 1 Axes>"
      ]
     },
     "metadata": {
      "needs_background": "light"
     },
     "output_type": "display_data"
    }
   ],
   "source": [
    "plt.hist(education_df.iloc[:,[-4,-3]].mean(axis=1));"
   ]
  },
  {
   "cell_type": "markdown",
   "metadata": {},
   "source": [
    "Both of the distributions appear to be normal."
   ]
  },
  {
   "cell_type": "markdown",
   "metadata": {},
   "source": [
    "### 5. Notice there are too many missing values for math and reading scores. Fill out the missing values using mean, median, and linear interpolation. Then compare the effects of these techniques on the distributions of the score variables."
   ]
  },
  {
   "cell_type": "markdown",
   "metadata": {},
   "source": [
    "#### <font color=darkorange>I'm a little confused, the instructions at the very beginning of the assignment say \"You're supposed to provide your answers to the following questions after you handled the missing values.\" But this question seems to indicate the prior analysis should take place without having removed the outliers.</font>"
   ]
  },
  {
   "cell_type": "code",
   "execution_count": 146,
   "metadata": {},
   "outputs": [],
   "source": [
    "# re-import US education data\n",
    "# to be able to do analysis comparing and contrasting\n",
    "# different methods of filling nan values\n",
    "postgres_user = 'dsbc_student'\n",
    "postgres_pw = '7*.8G9QH21'\n",
    "postgres_host = '142.93.121.174'\n",
    "postgres_port = '5432'\n",
    "postgres_db = 'useducation'\n",
    "\n",
    "engine = create_engine('postgresql://{}:{}@{}:{}/{}'.format(\n",
    "    postgres_user, postgres_pw, postgres_host, postgres_port, postgres_db))\n",
    "\n",
    "education_df2 = pd.read_sql_query('select * from useducation',con=engine)\n",
    "\n",
    "# no need for an open connection, \n",
    "# as we're only doing a single query\n",
    "engine.dispose()"
   ]
  },
  {
   "cell_type": "code",
   "execution_count": 147,
   "metadata": {},
   "outputs": [],
   "source": [
    "education_df3 = education_df2.copy()"
   ]
  },
  {
   "cell_type": "code",
   "execution_count": 173,
   "metadata": {},
   "outputs": [],
   "source": [
    "# above with education_df, I filled missing values using mean"
   ]
  },
  {
   "cell_type": "code",
   "execution_count": 149,
   "metadata": {},
   "outputs": [],
   "source": [
    "# fill in nan values using median\n",
    "for col in education_df2.columns[3:]:\n",
    "    education_df2.loc[:, col] = education_df2.loc[:, col].fillna(education_df2.loc[:, col].median())"
   ]
  },
  {
   "cell_type": "code",
   "execution_count": 148,
   "metadata": {},
   "outputs": [],
   "source": [
    "# fill in nan values using interpolate\n",
    "for col in education_df3.columns[3:]:\n",
    "    education_df3.loc[:, col] = education_df3.loc[:, col].fillna(education_df3.loc[:, col].interpolate())"
   ]
  },
  {
   "cell_type": "code",
   "execution_count": 170,
   "metadata": {},
   "outputs": [
    {
     "data": {
      "image/png": "[encoded data removed]",
      "text/plain": [
       "<Figure size 720x720 with 3 Axes>"
      ]
     },
     "metadata": {
      "needs_background": "light"
     },
     "output_type": "display_data"
    }
   ],
   "source": [
    "# visualize reading score differences\n",
    "# with fill na using mean, median, and interpolate\n",
    "fig = plt.figure(figsize=(10,10))\n",
    "df_list = [education_df,\n",
    "          education_df2,\n",
    "          education_df3]\n",
    "\n",
    "title = {1:'mean reading scores',\n",
    "        2:'median reading scores',\n",
    "        3:'interpolate reading scores'}\n",
    "\n",
    "for i, df in enumerate(df_list):\n",
    "\n",
    "    plt.subplot(3, 1, i+1)\n",
    "    plt.title(title[i+1])\n",
    "    plt.hist(df.iloc[:,[-2,-1]].mean(axis=1), alpha=.5);\n"
   ]
  },
  {
   "cell_type": "code",
   "execution_count": 174,
   "metadata": {},
   "outputs": [
    {
     "data": {
      "image/png": "[encoded data removed]",
      "text/plain": [
       "<Figure size 720x720 with 3 Axes>"
      ]
     },
     "metadata": {
      "needs_background": "light"
     },
     "output_type": "display_data"
    }
   ],
   "source": [
    "# visualize math score differences\n",
    "# with fill na using mean, median, and interpolate\n",
    "fig = plt.figure(figsize=(10,10))\n",
    "df_list = [education_df,\n",
    "          education_df2,\n",
    "          education_df3]\n",
    "\n",
    "title = {1:'mean math scores',\n",
    "        2:'median math scores',\n",
    "        3:'interpolate math scores'}\n",
    "\n",
    "for i, df in enumerate(df_list):\n",
    "\n",
    "    plt.subplot(3, 1, i+1)\n",
    "    plt.title(title[i+1])\n",
    "    plt.hist(df.iloc[:,[-4,-3]].mean(axis=1), alpha=.5, color='brown');"
   ]
  }
 ],
 "metadata": {
  "kernelspec": {
   "display_name": "Python 3",
   "language": "python",
   "name": "python3"
  },
  "language_info": {
   "codemirror_mode": {
    "name": "ipython",
    "version": 3
   },
   "file_extension": ".py",
   "mimetype": "text/x-python",
   "name": "python",
   "nbconvert_exporter": "python",
   "pygments_lexer": "ipython3",
   "version": "3.7.3"
  }
 },
 "nbformat": 4,
 "nbformat_minor": 4
}
