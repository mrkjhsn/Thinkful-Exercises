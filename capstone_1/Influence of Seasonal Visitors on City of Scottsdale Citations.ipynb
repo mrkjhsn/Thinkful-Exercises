{
 "cells": [
  {
   "cell_type": "markdown",
   "metadata": {},
   "source": [
    "### To Investigate\n",
    "It's common knowledge that people often flee colder places and travel to Arizona during the cooler months of the year.  Using the **Citations** dataset, published by the Scottsdale Police Department, I wanted to understand the impact of seasonal visitors during cooler points in the year.  Often these visitors are retired and own a second home in Arizona.  As a result, many of them spend an extended amount of time in Scottsdale when they visit.\n",
    "\n",
    "\n",
    "1. Do the ages of people getting citations at different points in the year reflect these seasonal visitors?  \n",
    "1. Do these seasonal visitors have a disproportionate impact on specific citation types?\n",
    "1. For citations that are more highly impacted by seasonality: \n",
    "    - Does mean age analysis of the day of week provide further evidence supporting point 2 above?\n",
    "    - Does mean age analysis of the time of day provide further evidence supporting point 2 above?"
   ]
  },
  {
   "cell_type": "markdown",
   "metadata": {},
   "source": [
    "### Data Source\n",
    "On a weekly basis the City of Scottsdale Police Department publishes a [dataset](http://data.scottsdaleaz.gov/dataset/police-citations)* which includes the prior years citations.  These citations are largely made up of vehicle related infractions such as speeding.  I downloaded the data in September of 2018, as well as September 2019 - providing two years worth of citations data.  In raw format the combined dataset includes just over 48.5K rows and 22 columns.  For privacy issues, the City of Scottsdale does not release citation data for anyone under 18.  \n",
    "\n",
    "<br/>\n",
    "\n",
    "*Contains information from the City of Scottsdale Open Database Portal, which is made available here under the [Open Database License](http://www.scottsdaleaz.gov/AssetFactory.aspx?did=69351).\n"
   ]
  },
  {
   "cell_type": "markdown",
   "metadata": {},
   "source": [
    "### Method\n",
    "1. Find the mean age of the top 20 citation types for each month of the year.\n",
    "1. Find the variance within the months of the year for each citation type.\n",
    "1. Identify the top 5 citations with the highest variance throughout the year.\n",
    "1. For each of the above 5 citations graph the mean age across the year. Do the citation patterns seem to agree with each other?\n",
    "1. Graph the same 5 citations based on day of the week, and hour of the day.  Do the citation patterns seem to agree with each other?"
   ]
  },
  {
   "cell_type": "code",
   "execution_count": 30,
   "metadata": {},
   "outputs": [],
   "source": [
    "import pandas as pd\n",
    "import numpy as np\n",
    "from scipy.stats import ttest_ind\n",
    "import matplotlib.pyplot as plt\n",
    "import matplotlib.ticker as ticker\n",
    "import seaborn as sns\n",
    "import datetime\n",
    "import glob"
   ]
  },
  {
   "cell_type": "code",
   "execution_count": 3,
   "metadata": {},
   "outputs": [],
   "source": [
    "# read in csv files\n",
    "files = glob.glob('data/*.csv')\n",
    "\n",
    "citations = pd.concat([pd.read_csv(f) \\\n",
    "                      for f in files], sort=True)"
   ]
  },
  {
   "cell_type": "code",
   "execution_count": 4,
   "metadata": {},
   "outputs": [
    {
     "data": {
      "text/html": [
       "<div>\n",
       "<style scoped>\n",
       "    .dataframe tbody tr th:only-of-type {\n",
       "        vertical-align: middle;\n",
       "    }\n",
       "\n",
       "    .dataframe tbody tr th {\n",
       "        vertical-align: top;\n",
       "    }\n",
       "\n",
       "    .dataframe thead th {\n",
       "        text-align: right;\n",
       "    }\n",
       "</style>\n",
       "<table border=\"1\" class=\"dataframe\">\n",
       "  <thead>\n",
       "    <tr style=\"text-align: right;\">\n",
       "      <th></th>\n",
       "      <th>Arizona Statute Code</th>\n",
       "      <th>Beat</th>\n",
       "      <th>Charge Description</th>\n",
       "      <th>Citation #</th>\n",
       "      <th>Citation Date</th>\n",
       "      <th>Citation Time</th>\n",
       "      <th>Citation Type Code</th>\n",
       "      <th>Citation Type Description</th>\n",
       "      <th>Cited Person</th>\n",
       "      <th>Cited Person Age</th>\n",
       "      <th>...</th>\n",
       "      <th>Cited Person Sex</th>\n",
       "      <th>City</th>\n",
       "      <th>District</th>\n",
       "      <th>Officer Badge #</th>\n",
       "      <th>State</th>\n",
       "      <th>Street</th>\n",
       "      <th>Street Number</th>\n",
       "      <th>Zip</th>\n",
       "      <th>Zone</th>\n",
       "      <th>tcmainid</th>\n",
       "    </tr>\n",
       "  </thead>\n",
       "  <tbody>\n",
       "    <tr>\n",
       "      <td>0</td>\n",
       "      <td>13-1203A1</td>\n",
       "      <td>2.0</td>\n",
       "      <td>Assault-Intentional/Recklessly Injure</td>\n",
       "      <td>2065379</td>\n",
       "      <td>06/23/2018</td>\n",
       "      <td>204</td>\n",
       "      <td>CR</td>\n",
       "      <td>Criminal</td>\n",
       "      <td>Hill, Julie</td>\n",
       "      <td>25</td>\n",
       "      <td>...</td>\n",
       "      <td>F</td>\n",
       "      <td>Scottsdale</td>\n",
       "      <td>D1</td>\n",
       "      <td>1489</td>\n",
       "      <td>AZ</td>\n",
       "      <td>N Granite Reef Rd</td>\n",
       "      <td>1xxx</td>\n",
       "      <td>NaN</td>\n",
       "      <td>412</td>\n",
       "      <td>621784</td>\n",
       "    </tr>\n",
       "    <tr>\n",
       "      <td>1</td>\n",
       "      <td>13-3415A</td>\n",
       "      <td>3.0</td>\n",
       "      <td>Drug Paraphernalia-Possess/Use</td>\n",
       "      <td>2065378</td>\n",
       "      <td>06/23/2018</td>\n",
       "      <td>48</td>\n",
       "      <td>CR</td>\n",
       "      <td>Criminal</td>\n",
       "      <td>Mysliwiec, Michael</td>\n",
       "      <td>35</td>\n",
       "      <td>...</td>\n",
       "      <td>M</td>\n",
       "      <td>Scottsdale</td>\n",
       "      <td>D1</td>\n",
       "      <td>1489</td>\n",
       "      <td>AZ</td>\n",
       "      <td>N 70th St / E McDowell Rd</td>\n",
       "      <td>xxx</td>\n",
       "      <td>NaN</td>\n",
       "      <td>405</td>\n",
       "      <td>621787</td>\n",
       "    </tr>\n",
       "    <tr>\n",
       "      <td>2</td>\n",
       "      <td>13-1203A1</td>\n",
       "      <td>2.0</td>\n",
       "      <td>Assault-Intentional/Recklessly Injure</td>\n",
       "      <td>2059893</td>\n",
       "      <td>06/23/2018</td>\n",
       "      <td>203</td>\n",
       "      <td>CR</td>\n",
       "      <td>Criminal</td>\n",
       "      <td>Miranda, Javier</td>\n",
       "      <td>24</td>\n",
       "      <td>...</td>\n",
       "      <td>M</td>\n",
       "      <td>Scottsdale</td>\n",
       "      <td>D1</td>\n",
       "      <td>1462</td>\n",
       "      <td>AZ</td>\n",
       "      <td>N Granite Reef Rd</td>\n",
       "      <td>1xxx</td>\n",
       "      <td>NaN</td>\n",
       "      <td>412</td>\n",
       "      <td>621792</td>\n",
       "    </tr>\n",
       "    <tr>\n",
       "      <td>3</td>\n",
       "      <td>28-3473A</td>\n",
       "      <td>6.0</td>\n",
       "      <td>Suspended/Revoked D.L.</td>\n",
       "      <td>2058884</td>\n",
       "      <td>06/23/2018</td>\n",
       "      <td>40</td>\n",
       "      <td>CT</td>\n",
       "      <td>Criminal Traffic</td>\n",
       "      <td>Harrison, Stevia</td>\n",
       "      <td>31</td>\n",
       "      <td>...</td>\n",
       "      <td>F</td>\n",
       "      <td>Scottsdale</td>\n",
       "      <td>D2</td>\n",
       "      <td>1466</td>\n",
       "      <td>AZ</td>\n",
       "      <td>E Indian School Rd</td>\n",
       "      <td>7xxx</td>\n",
       "      <td>NaN</td>\n",
       "      <td>906</td>\n",
       "      <td>621794</td>\n",
       "    </tr>\n",
       "    <tr>\n",
       "      <td>4</td>\n",
       "      <td>28-2322</td>\n",
       "      <td>12.0</td>\n",
       "      <td>Expired Out-Of-State Reg</td>\n",
       "      <td>2060841</td>\n",
       "      <td>06/23/2018</td>\n",
       "      <td>933</td>\n",
       "      <td>CV</td>\n",
       "      <td>Civil Traffic</td>\n",
       "      <td>Cagape, Catherine</td>\n",
       "      <td>36</td>\n",
       "      <td>...</td>\n",
       "      <td>F</td>\n",
       "      <td>Scottsdale</td>\n",
       "      <td>D3</td>\n",
       "      <td>1504</td>\n",
       "      <td>AZ</td>\n",
       "      <td>E Shea Bl</td>\n",
       "      <td>8xxx</td>\n",
       "      <td>NaN</td>\n",
       "      <td>3006</td>\n",
       "      <td>621796</td>\n",
       "    </tr>\n",
       "  </tbody>\n",
       "</table>\n",
       "<p>5 rows × 22 columns</p>\n",
       "</div>"
      ],
      "text/plain": [
       "  Arizona Statute Code  Beat                     Charge Description  \\\n",
       "0            13-1203A1   2.0  Assault-Intentional/Recklessly Injure   \n",
       "1             13-3415A   3.0         Drug Paraphernalia-Possess/Use   \n",
       "2            13-1203A1   2.0  Assault-Intentional/Recklessly Injure   \n",
       "3             28-3473A   6.0                 Suspended/Revoked D.L.   \n",
       "4              28-2322  12.0               Expired Out-Of-State Reg   \n",
       "\n",
       "   Citation # Citation Date  Citation Time Citation Type Code  \\\n",
       "0     2065379    06/23/2018            204                 CR   \n",
       "1     2065378    06/23/2018             48                 CR   \n",
       "2     2059893    06/23/2018            203                 CR   \n",
       "3     2058884    06/23/2018             40                 CT   \n",
       "4     2060841    06/23/2018            933                 CV   \n",
       "\n",
       "  Citation Type Description        Cited Person Cited Person Age  ...  \\\n",
       "0                  Criminal         Hill, Julie               25  ...   \n",
       "1                  Criminal  Mysliwiec, Michael               35  ...   \n",
       "2                  Criminal     Miranda, Javier               24  ...   \n",
       "3          Criminal Traffic    Harrison, Stevia               31  ...   \n",
       "4             Civil Traffic   Cagape, Catherine               36  ...   \n",
       "\n",
       "  Cited Person Sex        City District   Officer Badge # State  \\\n",
       "0                F  Scottsdale       D1  1489                AZ   \n",
       "1                M  Scottsdale       D1  1489                AZ   \n",
       "2                M  Scottsdale       D1  1462                AZ   \n",
       "3                F  Scottsdale       D2  1466                AZ   \n",
       "4                F  Scottsdale       D3  1504                AZ   \n",
       "\n",
       "                      Street Street Number  Zip  Zone tcmainid  \n",
       "0          N Granite Reef Rd          1xxx  NaN   412   621784  \n",
       "1  N 70th St / E McDowell Rd           xxx  NaN   405   621787  \n",
       "2          N Granite Reef Rd          1xxx  NaN   412   621792  \n",
       "3         E Indian School Rd          7xxx  NaN   906   621794  \n",
       "4                  E Shea Bl          8xxx  NaN  3006   621796  \n",
       "\n",
       "[5 rows x 22 columns]"
      ]
     },
     "execution_count": 4,
     "metadata": {},
     "output_type": "execute_result"
    }
   ],
   "source": [
    "citations.head()"
   ]
  },
  {
   "cell_type": "markdown",
   "metadata": {},
   "source": [
    "### Preprocess Data"
   ]
  },
  {
   "cell_type": "code",
   "execution_count": 6,
   "metadata": {},
   "outputs": [],
   "source": [
    "# convert column labels to lower case and remove spaces from column names\n",
    "def setcols(df, fn=lambda x: x.columns.map('_'.join), cols=None):\n",
    "    if cols:\n",
    "        df.columns = cols\n",
    "    else:\n",
    "        df.columns = fn(df)\n",
    "    return df\n",
    "\n",
    "citations = citations.pipe(\n",
    "        setcols,\n",
    "        fn=lambda x: x.columns.str.lower()\n",
    "        .str.strip()\n",
    "        .str.replace(\" \", \"_\"))"
   ]
  },
  {
   "cell_type": "code",
   "execution_count": 7,
   "metadata": {},
   "outputs": [],
   "source": [
    "# remove duplicate citations due to overlap in data being downloaded\n",
    "citations.drop_duplicates('citation_#', inplace=True)\n",
    "\n",
    "# convert citation date to datetime format\n",
    "citations['citation_date'] = pd.to_datetime(citations['citation_date'])\n",
    "\n",
    "# create month column\n",
    "citations['month'] = citations['citation_date'].dt.month\n",
    "\n",
    "# create year column\n",
    "citations['year'] = citations['citation_date'].dt.year\n",
    "\n",
    "# create day of week column\n",
    "citations['day_of_week'] = citations['citation_date'].dt.dayofweek\n",
    "\n",
    "# extract the hour of the day from the citation time column\n",
    "citations['hour_of_day'] = citations['citation_time'].apply(lambda x: str(x)[-4:-2])\n",
    "\n",
    "# replace blanks with 0\n",
    "# this happened for citations that took place during the hour of 12am\n",
    "citations.loc[citations.hour_of_day == '', 'hour_of_day'] = 0\n",
    "\n",
    "# change data type of hour from object to number\n",
    "citations.hour_of_day = pd.to_numeric(citations.hour_of_day)\n",
    "\n",
    "# change data type of age from object to number\n",
    "citations.cited_person_age = pd.to_numeric(citations.cited_person_age, errors='coerce')"
   ]
  },
  {
   "cell_type": "code",
   "execution_count": 8,
   "metadata": {},
   "outputs": [
    {
     "data": {
      "text/plain": [
       "(48607, 26)"
      ]
     },
     "execution_count": 8,
     "metadata": {},
     "output_type": "execute_result"
    }
   ],
   "source": [
    "# how many rows and columns are in the dataset?\n",
    "citations.shape"
   ]
  },
  {
   "cell_type": "code",
   "execution_count": 16,
   "metadata": {},
   "outputs": [
    {
     "data": {
      "text/html": [
       "<div>\n",
       "<style scoped>\n",
       "    .dataframe tbody tr th:only-of-type {\n",
       "        vertical-align: middle;\n",
       "    }\n",
       "\n",
       "    .dataframe tbody tr th {\n",
       "        vertical-align: top;\n",
       "    }\n",
       "\n",
       "    .dataframe thead th {\n",
       "        text-align: right;\n",
       "    }\n",
       "</style>\n",
       "<table border=\"1\" class=\"dataframe\">\n",
       "  <thead>\n",
       "    <tr style=\"text-align: right;\">\n",
       "      <th></th>\n",
       "      <th>arizona_statute_code</th>\n",
       "      <th>beat</th>\n",
       "      <th>charge_description</th>\n",
       "      <th>citation_#</th>\n",
       "      <th>citation_date</th>\n",
       "      <th>citation_time</th>\n",
       "      <th>citation_type_code</th>\n",
       "      <th>citation_type_description</th>\n",
       "      <th>cited_person</th>\n",
       "      <th>cited_person_age</th>\n",
       "      <th>...</th>\n",
       "      <th>street</th>\n",
       "      <th>street_number</th>\n",
       "      <th>zip</th>\n",
       "      <th>zone</th>\n",
       "      <th>tcmainid</th>\n",
       "      <th>year_month</th>\n",
       "      <th>month</th>\n",
       "      <th>year</th>\n",
       "      <th>day_of_week</th>\n",
       "      <th>hour_of_day</th>\n",
       "    </tr>\n",
       "  </thead>\n",
       "  <tbody>\n",
       "    <tr>\n",
       "      <td>0</td>\n",
       "      <td>97XX</td>\n",
       "      <td>12.0</td>\n",
       "      <td>Amended Charge</td>\n",
       "      <td>2074492</td>\n",
       "      <td>2018-12-20</td>\n",
       "      <td>2222</td>\n",
       "      <td>CV</td>\n",
       "      <td>Civil Traffic</td>\n",
       "      <td>Way, Dennis</td>\n",
       "      <td>51.0</td>\n",
       "      <td>...</td>\n",
       "      <td>E Sahuaro DR / N Scottsdale Rd</td>\n",
       "      <td>xxx</td>\n",
       "      <td>NaN</td>\n",
       "      <td>3003</td>\n",
       "      <td>641301</td>\n",
       "      <td>2018.12</td>\n",
       "      <td>12</td>\n",
       "      <td>2018</td>\n",
       "      <td>Thursday</td>\n",
       "      <td>22</td>\n",
       "    </tr>\n",
       "    <tr>\n",
       "      <td>1</td>\n",
       "      <td>28-701A</td>\n",
       "      <td>10.0</td>\n",
       "      <td>Speed Greater Than R&amp;P or Posted</td>\n",
       "      <td>8093305</td>\n",
       "      <td>2018-12-20</td>\n",
       "      <td>844</td>\n",
       "      <td>CV</td>\n",
       "      <td>Civil Traffic</td>\n",
       "      <td>Grady, Scott</td>\n",
       "      <td>61.0</td>\n",
       "      <td>...</td>\n",
       "      <td>N Scottsdale Rd</td>\n",
       "      <td>8xxx</td>\n",
       "      <td>NaN</td>\n",
       "      <td>2601</td>\n",
       "      <td>641302</td>\n",
       "      <td>2018.12</td>\n",
       "      <td>12</td>\n",
       "      <td>2018</td>\n",
       "      <td>Thursday</td>\n",
       "      <td>8</td>\n",
       "    </tr>\n",
       "    <tr>\n",
       "      <td>2</td>\n",
       "      <td>28-4135C</td>\n",
       "      <td>3.0</td>\n",
       "      <td>No Proof of Insurance</td>\n",
       "      <td>2076259</td>\n",
       "      <td>2018-12-18</td>\n",
       "      <td>2147</td>\n",
       "      <td>CV</td>\n",
       "      <td>Civil Traffic</td>\n",
       "      <td>Dudgeon, Miranda</td>\n",
       "      <td>20.0</td>\n",
       "      <td>...</td>\n",
       "      <td>E Osborn Rd / N Scottsdale Rd</td>\n",
       "      <td>xxx</td>\n",
       "      <td>NaN</td>\n",
       "      <td>706</td>\n",
       "      <td>641303</td>\n",
       "      <td>2018.12</td>\n",
       "      <td>12</td>\n",
       "      <td>2018</td>\n",
       "      <td>Tuesday</td>\n",
       "      <td>21</td>\n",
       "    </tr>\n",
       "    <tr>\n",
       "      <td>3</td>\n",
       "      <td>28-2532A</td>\n",
       "      <td>5.0</td>\n",
       "      <td>Expired/No Arizona Registration</td>\n",
       "      <td>8093703</td>\n",
       "      <td>2018-12-21</td>\n",
       "      <td>2116</td>\n",
       "      <td>CV</td>\n",
       "      <td>Civil Traffic</td>\n",
       "      <td>Fox, William</td>\n",
       "      <td>34.0</td>\n",
       "      <td>...</td>\n",
       "      <td>E Chaparral Rd / N Hayden Rd</td>\n",
       "      <td>xxx</td>\n",
       "      <td>NaN</td>\n",
       "      <td>1106</td>\n",
       "      <td>641304</td>\n",
       "      <td>2018.12</td>\n",
       "      <td>12</td>\n",
       "      <td>2018</td>\n",
       "      <td>Friday</td>\n",
       "      <td>21</td>\n",
       "    </tr>\n",
       "    <tr>\n",
       "      <td>4</td>\n",
       "      <td>28-4135C</td>\n",
       "      <td>15.0</td>\n",
       "      <td>No Proof of Insurance</td>\n",
       "      <td>2053182</td>\n",
       "      <td>2018-12-20</td>\n",
       "      <td>2324</td>\n",
       "      <td>CV</td>\n",
       "      <td>Civil Traffic</td>\n",
       "      <td>Rhoden, David</td>\n",
       "      <td>24.0</td>\n",
       "      <td>...</td>\n",
       "      <td>E Frank Lloyd Wright Bl / N Hayden Rd</td>\n",
       "      <td>xxx</td>\n",
       "      <td>NaN</td>\n",
       "      <td>3604</td>\n",
       "      <td>641305</td>\n",
       "      <td>2018.12</td>\n",
       "      <td>12</td>\n",
       "      <td>2018</td>\n",
       "      <td>Thursday</td>\n",
       "      <td>23</td>\n",
       "    </tr>\n",
       "  </tbody>\n",
       "</table>\n",
       "<p>5 rows × 27 columns</p>\n",
       "</div>"
      ],
      "text/plain": [
       "  arizona_statute_code  beat                charge_description  citation_#  \\\n",
       "0                 97XX  12.0                    Amended Charge     2074492   \n",
       "1              28-701A  10.0  Speed Greater Than R&P or Posted     8093305   \n",
       "2             28-4135C   3.0             No Proof of Insurance     2076259   \n",
       "3             28-2532A   5.0   Expired/No Arizona Registration     8093703   \n",
       "4             28-4135C  15.0             No Proof of Insurance     2053182   \n",
       "\n",
       "  citation_date  citation_time citation_type_code citation_type_description  \\\n",
       "0    2018-12-20           2222                 CV             Civil Traffic   \n",
       "1    2018-12-20            844                 CV             Civil Traffic   \n",
       "2    2018-12-18           2147                 CV             Civil Traffic   \n",
       "3    2018-12-21           2116                 CV             Civil Traffic   \n",
       "4    2018-12-20           2324                 CV             Civil Traffic   \n",
       "\n",
       "       cited_person  cited_person_age  ...  \\\n",
       "0       Way, Dennis              51.0  ...   \n",
       "1      Grady, Scott              61.0  ...   \n",
       "2  Dudgeon, Miranda              20.0  ...   \n",
       "3      Fox, William              34.0  ...   \n",
       "4     Rhoden, David              24.0  ...   \n",
       "\n",
       "                                  street street_number  zip  zone tcmainid  \\\n",
       "0         E Sahuaro DR / N Scottsdale Rd           xxx  NaN  3003   641301   \n",
       "1                        N Scottsdale Rd          8xxx  NaN  2601   641302   \n",
       "2          E Osborn Rd / N Scottsdale Rd           xxx  NaN   706   641303   \n",
       "3           E Chaparral Rd / N Hayden Rd           xxx  NaN  1106   641304   \n",
       "4  E Frank Lloyd Wright Bl / N Hayden Rd           xxx  NaN  3604   641305   \n",
       "\n",
       "  year_month month  year day_of_week hour_of_day  \n",
       "0    2018.12    12  2018    Thursday          22  \n",
       "1    2018.12    12  2018    Thursday           8  \n",
       "2    2018.12    12  2018     Tuesday          21  \n",
       "3    2018.12    12  2018      Friday          21  \n",
       "4    2018.12    12  2018    Thursday          23  \n",
       "\n",
       "[5 rows x 27 columns]"
      ]
     },
     "execution_count": 16,
     "metadata": {},
     "output_type": "execute_result"
    }
   ],
   "source": [
    "citations.head()"
   ]
  },
  {
   "cell_type": "markdown",
   "metadata": {},
   "source": [
    "### Dataset Overview"
   ]
  },
  {
   "cell_type": "code",
   "execution_count": 9,
   "metadata": {},
   "outputs": [
    {
     "data": {
      "text/plain": [
       "(395,)"
      ]
     },
     "execution_count": 9,
     "metadata": {},
     "output_type": "execute_result"
    }
   ],
   "source": [
    "# how many unique citations are in the dataset?\n",
    "citations.charge_description.value_counts().shape"
   ]
  },
  {
   "cell_type": "code",
   "execution_count": 69,
   "metadata": {},
   "outputs": [
    {
     "data": {
      "text/plain": [
       "<matplotlib.axes._subplots.AxesSubplot at 0x232b15fe7b8>"
      ]
     },
     "execution_count": 69,
     "metadata": {},
     "output_type": "execute_result"
    },
    {
     "data": {
      "image/png": "[encoded data removed]",
      "text/plain": [
       "<Figure size 1080x216 with 1 Axes>"
      ]
     },
     "metadata": {},
     "output_type": "display_data"
    }
   ],
   "source": [
    "# examine a histogram of the counts of citations associated with each citation type\n",
    "# there are a huge number of citations that are only used a few times each year\n",
    "plt.figure(figsize=(15,3))\n",
    "plt.style.use('bmh')\n",
    "citations.charge_description.value_counts().hist(bins=50)"
   ]
  },
  {
   "cell_type": "code",
   "execution_count": 68,
   "metadata": {},
   "outputs": [
    {
     "data": {
      "text/plain": [
       "Text(0.5, 0, 'Cited Person Age')"
      ]
     },
     "execution_count": 68,
     "metadata": {},
     "output_type": "execute_result"
    },
    {
     "data": {
      "image/png": "[encoded data removed]",
      "text/plain": [
       "<Figure size 1080x180 with 1 Axes>"
      ]
     },
     "metadata": {},
     "output_type": "display_data"
    }
   ],
   "source": [
    "# box plot showing the age distribution of people who receive a citation\n",
    "plt.figure(figsize=(15,2.5))\n",
    "sns.boxplot(x=citations.cited_person_age)\n",
    "plt.xlabel('Cited Person Age')"
   ]
  },
  {
   "cell_type": "code",
   "execution_count": 67,
   "metadata": {},
   "outputs": [
    {
     "data": {
      "text/plain": [
       "Text(0.5, 0, 'Cited Person Age')"
      ]
     },
     "execution_count": 67,
     "metadata": {},
     "output_type": "execute_result"
    },
    {
     "data": {
      "image/png": "[encoded data removed]",
      "text/plain": [
       "<Figure size 720x360 with 1 Axes>"
      ]
     },
     "metadata": {},
     "output_type": "display_data"
    }
   ],
   "source": [
    "# examine a histogram of the ages of people who received citations\n",
    "plt.figure(figsize=(10,5))\n",
    "citations.cited_person_age.hist(bins=50)\n",
    "plt.ylabel('Count of Citations')\n",
    "plt.xlabel('Cited Person Age')"
   ]
  },
  {
   "cell_type": "markdown",
   "metadata": {},
   "source": [
    "### The distribution of age appears to be closer to chi-squared than normal, with a long tail"
   ]
  },
  {
   "cell_type": "code",
   "execution_count": 16,
   "metadata": {},
   "outputs": [
    {
     "data": {
      "text/plain": [
       "Speed Greater Than R&P or Posted                 11725\n",
       "Expired/No Arizona Registration                   3972\n",
       "Suspended/Revoked D.L.                            3001\n",
       "DUI-Impaired to Slightest Degree                  2272\n",
       "Failure to Control Speed to Avoid A Collision     2269\n",
       "No Proof of Insurance                             2244\n",
       "Drug Paraphernalia-Possess/Use                    2174\n",
       "Fail to Obey Traffic Control Device               1622\n",
       "Fail to Stop at Stop Sign                         1348\n",
       "Fail to Stop For Red Signal                       1310\n",
       "Exceed Limit By More Than 20mph                   1053\n",
       "Exceed 15mph In School Crossing                    846\n",
       "Urinate/Defecate In Public                         778\n",
       "Void Charge                                        732\n",
       "Shoplifting-Removal of Goods                       559\n",
       "Fail to Yield Turning Left at Intersection         553\n",
       "Display M.I. Suspended Plate                       533\n",
       "Unsafe Lane Change                                 513\n",
       "Expired Out-Of-State Registration                  402\n",
       "Disorderly Conduct-Disruptive Behavior             378\n",
       "Name: charge_description, dtype: int64"
      ]
     },
     "execution_count": 16,
     "metadata": {},
     "output_type": "execute_result"
    }
   ],
   "source": [
    "# since I will be averaging age for my analysis\n",
    "# I want to make sure the citations I am analyzing have a reasonable number of \n",
    "# I'm going to select the top 20 citations by count, almost all of these are traffic related\n",
    "citations.charge_description.value_counts()[0:20]"
   ]
  },
  {
   "cell_type": "code",
   "execution_count": 17,
   "metadata": {},
   "outputs": [
    {
     "data": {
      "text/plain": [
       "0.051"
      ]
     },
     "execution_count": 17,
     "metadata": {},
     "output_type": "execute_result"
    }
   ],
   "source": [
    "# by unique citation, what percent do my 20 citations make up?\n",
    "round(citations.charge_description.value_counts()[0:20].shape[0]/citations.charge_description.value_counts().shape[0], 3)"
   ]
  },
  {
   "cell_type": "code",
   "execution_count": 18,
   "metadata": {},
   "outputs": [
    {
     "data": {
      "text/plain": [
       "0.788"
      ]
     },
     "execution_count": 18,
     "metadata": {},
     "output_type": "execute_result"
    }
   ],
   "source": [
    "# by count of citations, what percent of total citations do the top 20 make up?\n",
    "round(citations.charge_description.value_counts()[0:20].sum() / citations.charge_description.count(), 3)"
   ]
  },
  {
   "cell_type": "code",
   "execution_count": 19,
   "metadata": {},
   "outputs": [],
   "source": [
    "# subset full citation dataset with only the top 20 citations by count\n",
    "top20_citations = citations[citations.charge_description.isin(citations.charge_description.value_counts()[0:20].index)]"
   ]
  },
  {
   "cell_type": "code",
   "execution_count": 20,
   "metadata": {},
   "outputs": [
    {
     "data": {
      "text/html": [
       "<div>\n",
       "<style scoped>\n",
       "    .dataframe tbody tr th:only-of-type {\n",
       "        vertical-align: middle;\n",
       "    }\n",
       "\n",
       "    .dataframe tbody tr th {\n",
       "        vertical-align: top;\n",
       "    }\n",
       "\n",
       "    .dataframe thead th {\n",
       "        text-align: right;\n",
       "    }\n",
       "</style>\n",
       "<table border=\"1\" class=\"dataframe\">\n",
       "  <thead>\n",
       "    <tr style=\"text-align: right;\">\n",
       "      <th></th>\n",
       "      <th>arizona_statute_code</th>\n",
       "      <th>beat</th>\n",
       "      <th>charge_description</th>\n",
       "      <th>citation_#</th>\n",
       "      <th>citation_date</th>\n",
       "      <th>citation_time</th>\n",
       "      <th>citation_type_code</th>\n",
       "      <th>citation_type_description</th>\n",
       "      <th>cited_person</th>\n",
       "      <th>cited_person_age</th>\n",
       "      <th>...</th>\n",
       "      <th>state</th>\n",
       "      <th>street</th>\n",
       "      <th>street_number</th>\n",
       "      <th>zip</th>\n",
       "      <th>zone</th>\n",
       "      <th>tcmainid</th>\n",
       "      <th>month</th>\n",
       "      <th>year</th>\n",
       "      <th>day_of_week</th>\n",
       "      <th>hour_of_day</th>\n",
       "    </tr>\n",
       "  </thead>\n",
       "  <tbody>\n",
       "    <tr>\n",
       "      <td>1</td>\n",
       "      <td>13-3415A</td>\n",
       "      <td>3.0</td>\n",
       "      <td>Drug Paraphernalia-Possess/Use</td>\n",
       "      <td>2065378</td>\n",
       "      <td>2018-06-23</td>\n",
       "      <td>48</td>\n",
       "      <td>CR</td>\n",
       "      <td>Criminal</td>\n",
       "      <td>Mysliwiec, Michael</td>\n",
       "      <td>35.0</td>\n",
       "      <td>...</td>\n",
       "      <td>AZ</td>\n",
       "      <td>N 70th St / E McDowell Rd</td>\n",
       "      <td>xxx</td>\n",
       "      <td>NaN</td>\n",
       "      <td>405</td>\n",
       "      <td>621787</td>\n",
       "      <td>6</td>\n",
       "      <td>2018</td>\n",
       "      <td>5</td>\n",
       "      <td>0</td>\n",
       "    </tr>\n",
       "    <tr>\n",
       "      <td>3</td>\n",
       "      <td>28-3473A</td>\n",
       "      <td>6.0</td>\n",
       "      <td>Suspended/Revoked D.L.</td>\n",
       "      <td>2058884</td>\n",
       "      <td>2018-06-23</td>\n",
       "      <td>40</td>\n",
       "      <td>CT</td>\n",
       "      <td>Criminal Traffic</td>\n",
       "      <td>Harrison, Stevia</td>\n",
       "      <td>31.0</td>\n",
       "      <td>...</td>\n",
       "      <td>AZ</td>\n",
       "      <td>E Indian School Rd</td>\n",
       "      <td>7xxx</td>\n",
       "      <td>NaN</td>\n",
       "      <td>906</td>\n",
       "      <td>621794</td>\n",
       "      <td>6</td>\n",
       "      <td>2018</td>\n",
       "      <td>5</td>\n",
       "      <td>0</td>\n",
       "    </tr>\n",
       "    <tr>\n",
       "      <td>5</td>\n",
       "      <td>13-3415A</td>\n",
       "      <td>10.0</td>\n",
       "      <td>Drug Paraphernalia-Possess/Use</td>\n",
       "      <td>2063172</td>\n",
       "      <td>2018-06-23</td>\n",
       "      <td>928</td>\n",
       "      <td>CR</td>\n",
       "      <td>Criminal</td>\n",
       "      <td>Mc Cuan, Michael</td>\n",
       "      <td>51.0</td>\n",
       "      <td>...</td>\n",
       "      <td>AZ</td>\n",
       "      <td>N Hayden Rd</td>\n",
       "      <td>7xxx</td>\n",
       "      <td>NaN</td>\n",
       "      <td>2504</td>\n",
       "      <td>621797</td>\n",
       "      <td>6</td>\n",
       "      <td>2018</td>\n",
       "      <td>5</td>\n",
       "      <td>9</td>\n",
       "    </tr>\n",
       "    <tr>\n",
       "      <td>7</td>\n",
       "      <td>28-3473A</td>\n",
       "      <td>12.0</td>\n",
       "      <td>Suspended/Revoked D.L.</td>\n",
       "      <td>1939725</td>\n",
       "      <td>2018-06-23</td>\n",
       "      <td>849</td>\n",
       "      <td>CT</td>\n",
       "      <td>Criminal Traffic</td>\n",
       "      <td>Montano, Mark</td>\n",
       "      <td>32.0</td>\n",
       "      <td>...</td>\n",
       "      <td>AZ</td>\n",
       "      <td>N 68th Pl / E Cactus Rd</td>\n",
       "      <td>xxx</td>\n",
       "      <td>85254</td>\n",
       "      <td>3104</td>\n",
       "      <td>621801</td>\n",
       "      <td>6</td>\n",
       "      <td>2018</td>\n",
       "      <td>5</td>\n",
       "      <td>8</td>\n",
       "    </tr>\n",
       "    <tr>\n",
       "      <td>8</td>\n",
       "      <td>28-1381A1</td>\n",
       "      <td>18.0</td>\n",
       "      <td>DUI-Impaired to Slightest Degree</td>\n",
       "      <td>2065679</td>\n",
       "      <td>2018-06-23</td>\n",
       "      <td>1023</td>\n",
       "      <td>CT</td>\n",
       "      <td>Criminal Traffic</td>\n",
       "      <td>White, Candice</td>\n",
       "      <td>45.0</td>\n",
       "      <td>...</td>\n",
       "      <td>AZ</td>\n",
       "      <td>L101 / N Pima Rd</td>\n",
       "      <td>xxx</td>\n",
       "      <td>NaN</td>\n",
       "      <td>3802</td>\n",
       "      <td>621804</td>\n",
       "      <td>6</td>\n",
       "      <td>2018</td>\n",
       "      <td>5</td>\n",
       "      <td>10</td>\n",
       "    </tr>\n",
       "  </tbody>\n",
       "</table>\n",
       "<p>5 rows × 26 columns</p>\n",
       "</div>"
      ],
      "text/plain": [
       "  arizona_statute_code  beat                charge_description  citation_#  \\\n",
       "1             13-3415A   3.0    Drug Paraphernalia-Possess/Use     2065378   \n",
       "3             28-3473A   6.0            Suspended/Revoked D.L.     2058884   \n",
       "5             13-3415A  10.0    Drug Paraphernalia-Possess/Use     2063172   \n",
       "7             28-3473A  12.0            Suspended/Revoked D.L.     1939725   \n",
       "8            28-1381A1  18.0  DUI-Impaired to Slightest Degree     2065679   \n",
       "\n",
       "  citation_date  citation_time citation_type_code citation_type_description  \\\n",
       "1    2018-06-23             48                 CR                  Criminal   \n",
       "3    2018-06-23             40                 CT          Criminal Traffic   \n",
       "5    2018-06-23            928                 CR                  Criminal   \n",
       "7    2018-06-23            849                 CT          Criminal Traffic   \n",
       "8    2018-06-23           1023                 CT          Criminal Traffic   \n",
       "\n",
       "         cited_person  cited_person_age  ... state                     street  \\\n",
       "1  Mysliwiec, Michael              35.0  ...    AZ  N 70th St / E McDowell Rd   \n",
       "3    Harrison, Stevia              31.0  ...    AZ         E Indian School Rd   \n",
       "5    Mc Cuan, Michael              51.0  ...    AZ                N Hayden Rd   \n",
       "7       Montano, Mark              32.0  ...    AZ    N 68th Pl / E Cactus Rd   \n",
       "8      White, Candice              45.0  ...    AZ           L101 / N Pima Rd   \n",
       "\n",
       "  street_number    zip  zone tcmainid month  year day_of_week hour_of_day  \n",
       "1           xxx    NaN   405   621787     6  2018           5           0  \n",
       "3          7xxx    NaN   906   621794     6  2018           5           0  \n",
       "5          7xxx    NaN  2504   621797     6  2018           5           9  \n",
       "7           xxx  85254  3104   621801     6  2018           5           8  \n",
       "8           xxx    NaN  3802   621804     6  2018           5          10  \n",
       "\n",
       "[5 rows x 26 columns]"
      ]
     },
     "execution_count": 20,
     "metadata": {},
     "output_type": "execute_result"
    }
   ],
   "source": [
    "top20_citations.head()"
   ]
  },
  {
   "cell_type": "code",
   "execution_count": 82,
   "metadata": {},
   "outputs": [
    {
     "data": {
      "text/plain": [
       "Text(0.5, 0, 'Month of Year')"
      ]
     },
     "execution_count": 82,
     "metadata": {},
     "output_type": "execute_result"
    },
    {
     "data": {
      "image/png": "[encoded data removed]",
      "text/plain": [
       "<Figure size 432x360 with 1 Axes>"
      ]
     },
     "metadata": {},
     "output_type": "display_data"
    }
   ],
   "source": [
    "# what is the distribution of mean ages throughout the year?\n",
    "plt.figure(figsize=(6,5))\n",
    "\n",
    "sns.barplot(x=top20_citations.groupby(top20_citations.month)['cited_person_age'].mean().index,\n",
    "           y=top20_citations.groupby(top20_citations.month)['cited_person_age'].mean().values,\n",
    "           color='darkred',\n",
    "           alpha=.8)\n",
    "plt.ylim(34, 40)\n",
    "plt.ylabel('Mean Age')\n",
    "plt.xlabel('Month of Year')"
   ]
  },
  {
   "cell_type": "markdown",
   "metadata": {},
   "source": [
    "#### YEARLY AGE DISTRIBUTION\n",
    "Looking at the bar chart, we can see that the hotter months of the year are associated with a decline in the mean age of people receiving citations.  This seems to fit with our hypothesis that older people seasonally visit the area more during the cooler months of the year.  In the next section I will perform more granular analysis on the mean age distributions of specific citations, and how they track accross the year."
   ]
  },
  {
   "cell_type": "markdown",
   "metadata": {},
   "source": [
    "## T-TEST ANALYSIS"
   ]
  },
  {
   "cell_type": "markdown",
   "metadata": {},
   "source": [
    "Ho = there is no difference between the mean age of people who receive citations during the coldest months of the year and the rest of the year\n",
    "Ha = there is a difference between the mean age of people who receive citations during the coldest months of the year and the rest of the year\n",
    "\n",
    "But my p-values below are quite large, which means I can't reject the null hypothesis, right?"
   ]
  },
  {
   "cell_type": "markdown",
   "metadata": {},
   "source": [
    "### COLD MONTHS vs. ALL MONTHS"
   ]
  },
  {
   "cell_type": "code",
   "execution_count": 124,
   "metadata": {},
   "outputs": [],
   "source": [
    "# months of the year when I expect the most seasonal visitors\n",
    "cold_months = [11, 12, 1, 2]"
   ]
  },
  {
   "cell_type": "code",
   "execution_count": 129,
   "metadata": {},
   "outputs": [],
   "source": [
    "# subset citation data for only the months I expect the most visitors\n",
    "cold_months_citations = top20_citations[top20_citations.month.isin(cold_months)]"
   ]
  },
  {
   "cell_type": "code",
   "execution_count": 134,
   "metadata": {},
   "outputs": [
    {
     "data": {
      "text/html": [
       "<div>\n",
       "<style scoped>\n",
       "    .dataframe tbody tr th:only-of-type {\n",
       "        vertical-align: middle;\n",
       "    }\n",
       "\n",
       "    .dataframe tbody tr th {\n",
       "        vertical-align: top;\n",
       "    }\n",
       "\n",
       "    .dataframe thead th {\n",
       "        text-align: right;\n",
       "    }\n",
       "</style>\n",
       "<table border=\"1\" class=\"dataframe\">\n",
       "  <thead>\n",
       "    <tr style=\"text-align: right;\">\n",
       "      <th>month</th>\n",
       "      <th>1</th>\n",
       "      <th>2</th>\n",
       "      <th>11</th>\n",
       "      <th>12</th>\n",
       "    </tr>\n",
       "    <tr>\n",
       "      <th>charge_description</th>\n",
       "      <th></th>\n",
       "      <th></th>\n",
       "      <th></th>\n",
       "      <th></th>\n",
       "    </tr>\n",
       "  </thead>\n",
       "  <tbody>\n",
       "    <tr>\n",
       "      <td>DUI-Impaired to Slightest Degree</td>\n",
       "      <td>35.707447</td>\n",
       "      <td>35.487013</td>\n",
       "      <td>34.763006</td>\n",
       "      <td>32.492126</td>\n",
       "    </tr>\n",
       "    <tr>\n",
       "      <td>Disorderly Conduct-Disruptive Behavior</td>\n",
       "      <td>35.916667</td>\n",
       "      <td>30.977273</td>\n",
       "      <td>32.517241</td>\n",
       "      <td>28.081081</td>\n",
       "    </tr>\n",
       "    <tr>\n",
       "      <td>Display M.I. Suspended Plate</td>\n",
       "      <td>32.325581</td>\n",
       "      <td>35.777778</td>\n",
       "      <td>32.740000</td>\n",
       "      <td>33.342857</td>\n",
       "    </tr>\n",
       "    <tr>\n",
       "      <td>Drug Paraphernalia-Possess/Use</td>\n",
       "      <td>29.347826</td>\n",
       "      <td>29.193717</td>\n",
       "      <td>29.908602</td>\n",
       "      <td>29.775862</td>\n",
       "    </tr>\n",
       "    <tr>\n",
       "      <td>Exceed 15mph In School Crossing</td>\n",
       "      <td>43.548077</td>\n",
       "      <td>42.103448</td>\n",
       "      <td>43.699029</td>\n",
       "      <td>38.615385</td>\n",
       "    </tr>\n",
       "  </tbody>\n",
       "</table>\n",
       "</div>"
      ],
      "text/plain": [
       "month                                          1          2          11  \\\n",
       "charge_description                                                        \n",
       "DUI-Impaired to Slightest Degree        35.707447  35.487013  34.763006   \n",
       "Disorderly Conduct-Disruptive Behavior  35.916667  30.977273  32.517241   \n",
       "Display M.I. Suspended Plate            32.325581  35.777778  32.740000   \n",
       "Drug Paraphernalia-Possess/Use          29.347826  29.193717  29.908602   \n",
       "Exceed 15mph In School Crossing         43.548077  42.103448  43.699029   \n",
       "\n",
       "month                                          12  \n",
       "charge_description                                 \n",
       "DUI-Impaired to Slightest Degree        32.492126  \n",
       "Disorderly Conduct-Disruptive Behavior  28.081081  \n",
       "Display M.I. Suspended Plate            33.342857  \n",
       "Drug Paraphernalia-Possess/Use          29.775862  \n",
       "Exceed 15mph In School Crossing         38.615385  "
      ]
     },
     "execution_count": 134,
     "metadata": {},
     "output_type": "execute_result"
    }
   ],
   "source": [
    "cold_months_citations.groupby([cold_months_citations.charge_description, cold_months_citations.month])['cited_person_age'].mean().unstack().head()"
   ]
  },
  {
   "cell_type": "code",
   "execution_count": 138,
   "metadata": {},
   "outputs": [
    {
     "data": {
      "text/plain": [
       "charge_description\n",
       "DUI-Impaired to Slightest Degree                 34.612398\n",
       "Disorderly Conduct-Disruptive Behavior           31.873065\n",
       "Display M.I. Suspended Plate                     33.546554\n",
       "Drug Paraphernalia-Possess/Use                   29.556502\n",
       "Exceed 15mph In School Crossing                  41.991485\n",
       "Exceed Limit By More Than 20mph                  32.738803\n",
       "Expired Out-Of-State Registration                34.656062\n",
       "Expired/No Arizona Registration                  37.383955\n",
       "Fail to Obey Traffic Control Device              42.008491\n",
       "Fail to Stop For Red Signal                      40.630912\n",
       "Fail to Stop at Stop Sign                        41.090056\n",
       "Fail to Yield Turning Left at Intersection       47.220238\n",
       "Failure to Control Speed to Avoid A Collision    42.233483\n",
       "No Proof of Insurance                            36.531688\n",
       "Shoplifting-Removal of Goods                     33.429756\n",
       "Speed Greater Than R&P or Posted                 38.336667\n",
       "Suspended/Revoked D.L.                           34.683505\n",
       "Unsafe Lane Change                               48.592513\n",
       "Urinate/Defecate In Public                       28.373263\n",
       "Void Charge                                      36.929681\n",
       "Name: cited_person_age, dtype: float64"
      ]
     },
     "execution_count": 138,
     "metadata": {},
     "output_type": "execute_result"
    }
   ],
   "source": [
    "# find the mean age for top 20 citations for only the coldest months\n",
    "cold_months_citations.groupby([cold_months_citations.charge_description, cold_months_citations.month])['cited_person_age'].mean() \\\n",
    "    .groupby(level=0).apply(lambda x: x.mean())"
   ]
  },
  {
   "cell_type": "code",
   "execution_count": 141,
   "metadata": {},
   "outputs": [
    {
     "data": {
      "text/plain": [
       "charge_description\n",
       "DUI-Impaired to Slightest Degree                 34.317782\n",
       "Disorderly Conduct-Disruptive Behavior           32.431217\n",
       "Display M.I. Suspended Plate                     35.484053\n",
       "Drug Paraphernalia-Possess/Use                   29.992640\n",
       "Exceed 15mph In School Crossing                  41.457447\n",
       "Exceed Limit By More Than 20mph                  33.425451\n",
       "Expired Out-Of-State Registration                34.945274\n",
       "Expired/No Arizona Registration                  37.165156\n",
       "Fail to Obey Traffic Control Device              41.429100\n",
       "Fail to Stop For Red Signal                      41.246565\n",
       "Fail to Stop at Stop Sign                        39.977745\n",
       "Fail to Yield Turning Left at Intersection       46.226040\n",
       "Failure to Control Speed to Avoid A Collision    40.778316\n",
       "No Proof of Insurance                            36.537433\n",
       "Shoplifting-Removal of Goods                     33.973166\n",
       "Speed Greater Than R&P or Posted                 38.344563\n",
       "Suspended/Revoked D.L.                           34.394202\n",
       "Unsafe Lane Change                               46.538012\n",
       "Urinate/Defecate In Public                       27.795630\n",
       "Void Charge                                      36.504098\n",
       "Name: cited_person_age, dtype: float64"
      ]
     },
     "execution_count": 141,
     "metadata": {},
     "output_type": "execute_result"
    }
   ],
   "source": [
    "# find the mean age for top 20 citations for the whole year\n",
    "top20_citations.groupby(top20_citations.charge_description)['cited_person_age'].mean()"
   ]
  },
  {
   "cell_type": "code",
   "execution_count": 142,
   "metadata": {},
   "outputs": [
    {
     "data": {
      "text/plain": [
       "Ttest_indResult(statistic=0.10557659720740409, pvalue=0.9164736471636691)"
      ]
     },
     "execution_count": 142,
     "metadata": {},
     "output_type": "execute_result"
    }
   ],
   "source": [
    "# t-test comparison of the above\n",
    "\n",
    "ttest_ind(\n",
    "    cold_months_citations.groupby([cold_months_citations.charge_description, cold_months_citations.month])['cited_person_age'].mean() \\\n",
    "    .groupby(level=0).apply(lambda x: x.mean()),\n",
    "      \n",
    "    top20_citations.groupby(top20_citations.charge_description)['cited_person_age'].mean()\n",
    "    )"
   ]
  },
  {
   "cell_type": "markdown",
   "metadata": {},
   "source": [
    "### HOT MONTHS vs COLD MONTHS T-TEST"
   ]
  },
  {
   "cell_type": "code",
   "execution_count": 143,
   "metadata": {},
   "outputs": [],
   "source": [
    "# months of the year when I expect the least seasonal visitors\n",
    "hot_months = [6, 7, 8, 9]"
   ]
  },
  {
   "cell_type": "code",
   "execution_count": 145,
   "metadata": {},
   "outputs": [],
   "source": [
    "# subset citation data for only the months I expect the most visitors\n",
    "hot_months_citations = top20_citations[top20_citations.month.isin(hot_months)]"
   ]
  },
  {
   "cell_type": "code",
   "execution_count": 146,
   "metadata": {},
   "outputs": [
    {
     "data": {
      "text/html": [
       "<div>\n",
       "<style scoped>\n",
       "    .dataframe tbody tr th:only-of-type {\n",
       "        vertical-align: middle;\n",
       "    }\n",
       "\n",
       "    .dataframe tbody tr th {\n",
       "        vertical-align: top;\n",
       "    }\n",
       "\n",
       "    .dataframe thead th {\n",
       "        text-align: right;\n",
       "    }\n",
       "</style>\n",
       "<table border=\"1\" class=\"dataframe\">\n",
       "  <thead>\n",
       "    <tr style=\"text-align: right;\">\n",
       "      <th>month</th>\n",
       "      <th>6</th>\n",
       "      <th>7</th>\n",
       "      <th>8</th>\n",
       "      <th>9</th>\n",
       "    </tr>\n",
       "    <tr>\n",
       "      <th>charge_description</th>\n",
       "      <th></th>\n",
       "      <th></th>\n",
       "      <th></th>\n",
       "      <th></th>\n",
       "    </tr>\n",
       "  </thead>\n",
       "  <tbody>\n",
       "    <tr>\n",
       "      <td>DUI-Impaired to Slightest Degree</td>\n",
       "      <td>33.622449</td>\n",
       "      <td>33.941176</td>\n",
       "      <td>33.513228</td>\n",
       "      <td>34.325581</td>\n",
       "    </tr>\n",
       "    <tr>\n",
       "      <td>Disorderly Conduct-Disruptive Behavior</td>\n",
       "      <td>31.052632</td>\n",
       "      <td>31.114286</td>\n",
       "      <td>34.266667</td>\n",
       "      <td>30.777778</td>\n",
       "    </tr>\n",
       "    <tr>\n",
       "      <td>Display M.I. Suspended Plate</td>\n",
       "      <td>38.054054</td>\n",
       "      <td>38.000000</td>\n",
       "      <td>34.428571</td>\n",
       "      <td>38.588235</td>\n",
       "    </tr>\n",
       "    <tr>\n",
       "      <td>Drug Paraphernalia-Possess/Use</td>\n",
       "      <td>29.964467</td>\n",
       "      <td>30.016393</td>\n",
       "      <td>32.688742</td>\n",
       "      <td>29.822222</td>\n",
       "    </tr>\n",
       "    <tr>\n",
       "      <td>Exceed 15mph In School Crossing</td>\n",
       "      <td>NaN</td>\n",
       "      <td>NaN</td>\n",
       "      <td>38.934066</td>\n",
       "      <td>41.327273</td>\n",
       "    </tr>\n",
       "  </tbody>\n",
       "</table>\n",
       "</div>"
      ],
      "text/plain": [
       "month                                           6          7          8  \\\n",
       "charge_description                                                        \n",
       "DUI-Impaired to Slightest Degree        33.622449  33.941176  33.513228   \n",
       "Disorderly Conduct-Disruptive Behavior  31.052632  31.114286  34.266667   \n",
       "Display M.I. Suspended Plate            38.054054  38.000000  34.428571   \n",
       "Drug Paraphernalia-Possess/Use          29.964467  30.016393  32.688742   \n",
       "Exceed 15mph In School Crossing               NaN        NaN  38.934066   \n",
       "\n",
       "month                                           9  \n",
       "charge_description                                 \n",
       "DUI-Impaired to Slightest Degree        34.325581  \n",
       "Disorderly Conduct-Disruptive Behavior  30.777778  \n",
       "Display M.I. Suspended Plate            38.588235  \n",
       "Drug Paraphernalia-Possess/Use          29.822222  \n",
       "Exceed 15mph In School Crossing         41.327273  "
      ]
     },
     "execution_count": 146,
     "metadata": {},
     "output_type": "execute_result"
    }
   ],
   "source": [
    "hot_months_citations.groupby([hot_months_citations.charge_description, hot_months_citations.month])['cited_person_age'].mean().unstack().head()"
   ]
  },
  {
   "cell_type": "code",
   "execution_count": 148,
   "metadata": {},
   "outputs": [
    {
     "data": {
      "text/plain": [
       "charge_description\n",
       "DUI-Impaired to Slightest Degree                 33.850609\n",
       "Disorderly Conduct-Disruptive Behavior           31.802840\n",
       "Display M.I. Suspended Plate                     37.267715\n",
       "Drug Paraphernalia-Possess/Use                   30.622956\n",
       "Exceed 15mph In School Crossing                  40.130669\n",
       "Exceed Limit By More Than 20mph                  33.733824\n",
       "Expired Out-Of-State Registration                35.231422\n",
       "Expired/No Arizona Registration                  36.909434\n",
       "Fail to Obey Traffic Control Device              41.207148\n",
       "Fail to Stop For Red Signal                      40.886552\n",
       "Fail to Stop at Stop Sign                        38.763312\n",
       "Fail to Yield Turning Left at Intersection       47.763721\n",
       "Failure to Control Speed to Avoid A Collision    38.862284\n",
       "No Proof of Insurance                            35.273453\n",
       "Shoplifting-Removal of Goods                     34.363399\n",
       "Speed Greater Than R&P or Posted                 38.055536\n",
       "Suspended/Revoked D.L.                           34.546406\n",
       "Unsafe Lane Change                               45.028787\n",
       "Urinate/Defecate In Public                       26.526417\n",
       "Void Charge                                      36.536541\n",
       "Name: cited_person_age, dtype: float64"
      ]
     },
     "execution_count": 148,
     "metadata": {},
     "output_type": "execute_result"
    }
   ],
   "source": [
    "# find the mean age for top 20 citations for only the coldest months\n",
    "hot_months_citations.groupby([hot_months_citations.charge_description, hot_months_citations.month])['cited_person_age'].mean() \\\n",
    "    .groupby(level=0).apply(lambda x: x.mean())"
   ]
  },
  {
   "cell_type": "code",
   "execution_count": null,
   "metadata": {},
   "outputs": [],
   "source": []
  },
  {
   "cell_type": "code",
   "execution_count": 149,
   "metadata": {},
   "outputs": [
    {
     "data": {
      "text/plain": [
       "Ttest_indResult(statistic=0.2778308728135038, pvalue=0.7826482650340848)"
      ]
     },
     "execution_count": 149,
     "metadata": {},
     "output_type": "execute_result"
    }
   ],
   "source": [
    "# t-test comparison of the above\n",
    "\n",
    "ttest_ind(\n",
    "    cold_months_citations.groupby([cold_months_citations.charge_description, cold_months_citations.month])['cited_person_age'].mean() \\\n",
    "    .groupby(level=0).apply(lambda x: x.mean()),\n",
    "      \n",
    "    hot_months_citations.groupby([hot_months_citations.charge_description, hot_months_citations.month])['cited_person_age'].mean() \\\n",
    "    .groupby(level=0).apply(lambda x: x.mean())\n",
    "    )"
   ]
  },
  {
   "cell_type": "code",
   "execution_count": null,
   "metadata": {},
   "outputs": [],
   "source": []
  },
  {
   "cell_type": "code",
   "execution_count": null,
   "metadata": {},
   "outputs": [],
   "source": []
  },
  {
   "cell_type": "code",
   "execution_count": null,
   "metadata": {},
   "outputs": [],
   "source": []
  },
  {
   "cell_type": "code",
   "execution_count": null,
   "metadata": {},
   "outputs": [],
   "source": []
  },
  {
   "cell_type": "markdown",
   "metadata": {},
   "source": [
    "## MONTH OF THE YEAR AND AGE ANALYSIS"
   ]
  },
  {
   "cell_type": "code",
   "execution_count": 22,
   "metadata": {},
   "outputs": [
    {
     "data": {
      "text/html": [
       "<div>\n",
       "<style scoped>\n",
       "    .dataframe tbody tr th:only-of-type {\n",
       "        vertical-align: middle;\n",
       "    }\n",
       "\n",
       "    .dataframe tbody tr th {\n",
       "        vertical-align: top;\n",
       "    }\n",
       "\n",
       "    .dataframe thead th {\n",
       "        text-align: right;\n",
       "    }\n",
       "</style>\n",
       "<table border=\"1\" class=\"dataframe\">\n",
       "  <thead>\n",
       "    <tr style=\"text-align: right;\">\n",
       "      <th>charge_description</th>\n",
       "      <th>DUI-Impaired to Slightest Degree</th>\n",
       "      <th>Disorderly Conduct-Disruptive Behavior</th>\n",
       "      <th>Display M.I. Suspended Plate</th>\n",
       "      <th>Drug Paraphernalia-Possess/Use</th>\n",
       "      <th>Exceed 15mph In School Crossing</th>\n",
       "      <th>Exceed Limit By More Than 20mph</th>\n",
       "      <th>Expired Out-Of-State Registration</th>\n",
       "      <th>Expired/No Arizona Registration</th>\n",
       "      <th>Fail to Obey Traffic Control Device</th>\n",
       "      <th>Fail to Stop For Red Signal</th>\n",
       "      <th>Fail to Stop at Stop Sign</th>\n",
       "      <th>Fail to Yield Turning Left at Intersection</th>\n",
       "      <th>Failure to Control Speed to Avoid A Collision</th>\n",
       "      <th>No Proof of Insurance</th>\n",
       "      <th>Shoplifting-Removal of Goods</th>\n",
       "      <th>Speed Greater Than R&amp;P or Posted</th>\n",
       "      <th>Suspended/Revoked D.L.</th>\n",
       "      <th>Unsafe Lane Change</th>\n",
       "      <th>Urinate/Defecate In Public</th>\n",
       "      <th>Void Charge</th>\n",
       "    </tr>\n",
       "    <tr>\n",
       "      <th>month</th>\n",
       "      <th></th>\n",
       "      <th></th>\n",
       "      <th></th>\n",
       "      <th></th>\n",
       "      <th></th>\n",
       "      <th></th>\n",
       "      <th></th>\n",
       "      <th></th>\n",
       "      <th></th>\n",
       "      <th></th>\n",
       "      <th></th>\n",
       "      <th></th>\n",
       "      <th></th>\n",
       "      <th></th>\n",
       "      <th></th>\n",
       "      <th></th>\n",
       "      <th></th>\n",
       "      <th></th>\n",
       "      <th></th>\n",
       "      <th></th>\n",
       "    </tr>\n",
       "  </thead>\n",
       "  <tbody>\n",
       "    <tr>\n",
       "      <td>1</td>\n",
       "      <td>35.707447</td>\n",
       "      <td>35.916667</td>\n",
       "      <td>32.325581</td>\n",
       "      <td>29.347826</td>\n",
       "      <td>43.548077</td>\n",
       "      <td>34.203704</td>\n",
       "      <td>34.823529</td>\n",
       "      <td>36.895442</td>\n",
       "      <td>41.344828</td>\n",
       "      <td>40.018692</td>\n",
       "      <td>44.776471</td>\n",
       "      <td>43.000000</td>\n",
       "      <td>43.662551</td>\n",
       "      <td>37.637255</td>\n",
       "      <td>33.230769</td>\n",
       "      <td>38.721065</td>\n",
       "      <td>34.561947</td>\n",
       "      <td>48.583333</td>\n",
       "      <td>27.833333</td>\n",
       "      <td>37.492754</td>\n",
       "    </tr>\n",
       "    <tr>\n",
       "      <td>2</td>\n",
       "      <td>35.487013</td>\n",
       "      <td>30.977273</td>\n",
       "      <td>35.777778</td>\n",
       "      <td>29.193717</td>\n",
       "      <td>42.103448</td>\n",
       "      <td>33.467532</td>\n",
       "      <td>34.069767</td>\n",
       "      <td>38.296820</td>\n",
       "      <td>42.927273</td>\n",
       "      <td>38.820225</td>\n",
       "      <td>41.741573</td>\n",
       "      <td>54.380952</td>\n",
       "      <td>40.538835</td>\n",
       "      <td>37.375000</td>\n",
       "      <td>33.062500</td>\n",
       "      <td>38.590012</td>\n",
       "      <td>34.679426</td>\n",
       "      <td>49.617021</td>\n",
       "      <td>29.446429</td>\n",
       "      <td>37.015625</td>\n",
       "    </tr>\n",
       "    <tr>\n",
       "      <td>3</td>\n",
       "      <td>35.436893</td>\n",
       "      <td>35.617647</td>\n",
       "      <td>35.021739</td>\n",
       "      <td>29.727749</td>\n",
       "      <td>41.526316</td>\n",
       "      <td>32.125000</td>\n",
       "      <td>34.357143</td>\n",
       "      <td>38.337386</td>\n",
       "      <td>42.224806</td>\n",
       "      <td>43.166667</td>\n",
       "      <td>39.915094</td>\n",
       "      <td>46.811321</td>\n",
       "      <td>42.476415</td>\n",
       "      <td>37.753623</td>\n",
       "      <td>35.607843</td>\n",
       "      <td>38.608216</td>\n",
       "      <td>33.781132</td>\n",
       "      <td>44.800000</td>\n",
       "      <td>28.512500</td>\n",
       "      <td>36.591549</td>\n",
       "    </tr>\n",
       "    <tr>\n",
       "      <td>4</td>\n",
       "      <td>35.052632</td>\n",
       "      <td>30.815789</td>\n",
       "      <td>33.378378</td>\n",
       "      <td>30.864865</td>\n",
       "      <td>41.955224</td>\n",
       "      <td>34.045455</td>\n",
       "      <td>36.939394</td>\n",
       "      <td>37.294985</td>\n",
       "      <td>41.181102</td>\n",
       "      <td>42.664000</td>\n",
       "      <td>36.963415</td>\n",
       "      <td>46.155172</td>\n",
       "      <td>40.157609</td>\n",
       "      <td>38.403315</td>\n",
       "      <td>34.040000</td>\n",
       "      <td>39.082019</td>\n",
       "      <td>34.954545</td>\n",
       "      <td>45.333333</td>\n",
       "      <td>28.876923</td>\n",
       "      <td>39.979167</td>\n",
       "    </tr>\n",
       "    <tr>\n",
       "      <td>5</td>\n",
       "      <td>33.157407</td>\n",
       "      <td>33.791667</td>\n",
       "      <td>36.808511</td>\n",
       "      <td>29.716578</td>\n",
       "      <td>41.966667</td>\n",
       "      <td>32.666667</td>\n",
       "      <td>34.558824</td>\n",
       "      <td>36.545732</td>\n",
       "      <td>40.831933</td>\n",
       "      <td>40.930435</td>\n",
       "      <td>40.579439</td>\n",
       "      <td>40.238095</td>\n",
       "      <td>39.619792</td>\n",
       "      <td>35.820755</td>\n",
       "      <td>33.000000</td>\n",
       "      <td>38.251009</td>\n",
       "      <td>34.325000</td>\n",
       "      <td>43.545455</td>\n",
       "      <td>27.682927</td>\n",
       "      <td>35.958333</td>\n",
       "    </tr>\n",
       "  </tbody>\n",
       "</table>\n",
       "</div>"
      ],
      "text/plain": [
       "charge_description  DUI-Impaired to Slightest Degree  \\\n",
       "month                                                  \n",
       "1                                          35.707447   \n",
       "2                                          35.487013   \n",
       "3                                          35.436893   \n",
       "4                                          35.052632   \n",
       "5                                          33.157407   \n",
       "\n",
       "charge_description  Disorderly Conduct-Disruptive Behavior  \\\n",
       "month                                                        \n",
       "1                                                35.916667   \n",
       "2                                                30.977273   \n",
       "3                                                35.617647   \n",
       "4                                                30.815789   \n",
       "5                                                33.791667   \n",
       "\n",
       "charge_description  Display M.I. Suspended Plate  \\\n",
       "month                                              \n",
       "1                                      32.325581   \n",
       "2                                      35.777778   \n",
       "3                                      35.021739   \n",
       "4                                      33.378378   \n",
       "5                                      36.808511   \n",
       "\n",
       "charge_description  Drug Paraphernalia-Possess/Use  \\\n",
       "month                                                \n",
       "1                                        29.347826   \n",
       "2                                        29.193717   \n",
       "3                                        29.727749   \n",
       "4                                        30.864865   \n",
       "5                                        29.716578   \n",
       "\n",
       "charge_description  Exceed 15mph In School Crossing  \\\n",
       "month                                                 \n",
       "1                                         43.548077   \n",
       "2                                         42.103448   \n",
       "3                                         41.526316   \n",
       "4                                         41.955224   \n",
       "5                                         41.966667   \n",
       "\n",
       "charge_description  Exceed Limit By More Than 20mph  \\\n",
       "month                                                 \n",
       "1                                         34.203704   \n",
       "2                                         33.467532   \n",
       "3                                         32.125000   \n",
       "4                                         34.045455   \n",
       "5                                         32.666667   \n",
       "\n",
       "charge_description  Expired Out-Of-State Registration  \\\n",
       "month                                                   \n",
       "1                                           34.823529   \n",
       "2                                           34.069767   \n",
       "3                                           34.357143   \n",
       "4                                           36.939394   \n",
       "5                                           34.558824   \n",
       "\n",
       "charge_description  Expired/No Arizona Registration  \\\n",
       "month                                                 \n",
       "1                                         36.895442   \n",
       "2                                         38.296820   \n",
       "3                                         38.337386   \n",
       "4                                         37.294985   \n",
       "5                                         36.545732   \n",
       "\n",
       "charge_description  Fail to Obey Traffic Control Device  \\\n",
       "month                                                     \n",
       "1                                             41.344828   \n",
       "2                                             42.927273   \n",
       "3                                             42.224806   \n",
       "4                                             41.181102   \n",
       "5                                             40.831933   \n",
       "\n",
       "charge_description  Fail to Stop For Red Signal  Fail to Stop at Stop Sign  \\\n",
       "month                                                                        \n",
       "1                                     40.018692                  44.776471   \n",
       "2                                     38.820225                  41.741573   \n",
       "3                                     43.166667                  39.915094   \n",
       "4                                     42.664000                  36.963415   \n",
       "5                                     40.930435                  40.579439   \n",
       "\n",
       "charge_description  Fail to Yield Turning Left at Intersection  \\\n",
       "month                                                            \n",
       "1                                                    43.000000   \n",
       "2                                                    54.380952   \n",
       "3                                                    46.811321   \n",
       "4                                                    46.155172   \n",
       "5                                                    40.238095   \n",
       "\n",
       "charge_description  Failure to Control Speed to Avoid A Collision  \\\n",
       "month                                                               \n",
       "1                                                       43.662551   \n",
       "2                                                       40.538835   \n",
       "3                                                       42.476415   \n",
       "4                                                       40.157609   \n",
       "5                                                       39.619792   \n",
       "\n",
       "charge_description  No Proof of Insurance  Shoplifting-Removal of Goods  \\\n",
       "month                                                                     \n",
       "1                               37.637255                     33.230769   \n",
       "2                               37.375000                     33.062500   \n",
       "3                               37.753623                     35.607843   \n",
       "4                               38.403315                     34.040000   \n",
       "5                               35.820755                     33.000000   \n",
       "\n",
       "charge_description  Speed Greater Than R&P or Posted  Suspended/Revoked D.L.  \\\n",
       "month                                                                          \n",
       "1                                          38.721065               34.561947   \n",
       "2                                          38.590012               34.679426   \n",
       "3                                          38.608216               33.781132   \n",
       "4                                          39.082019               34.954545   \n",
       "5                                          38.251009               34.325000   \n",
       "\n",
       "charge_description  Unsafe Lane Change  Urinate/Defecate In Public  \\\n",
       "month                                                                \n",
       "1                            48.583333                   27.833333   \n",
       "2                            49.617021                   29.446429   \n",
       "3                            44.800000                   28.512500   \n",
       "4                            45.333333                   28.876923   \n",
       "5                            43.545455                   27.682927   \n",
       "\n",
       "charge_description  Void Charge  \n",
       "month                            \n",
       "1                     37.492754  \n",
       "2                     37.015625  \n",
       "3                     36.591549  \n",
       "4                     39.979167  \n",
       "5                     35.958333  "
      ]
     },
     "execution_count": 22,
     "metadata": {},
     "output_type": "execute_result"
    }
   ],
   "source": [
    "# mean age for top 20 citations at each month of the year\n",
    "top20_citations.groupby(\n",
    "    [top20_citations.month, top20_citations.charge_description]) \\\n",
    "    ['cited_person_age'].mean().unstack().head()"
   ]
  },
  {
   "cell_type": "code",
   "execution_count": 23,
   "metadata": {},
   "outputs": [
    {
     "data": {
      "text/plain": [
       "charge_description\n",
       "Fail to Yield Turning Left at Intersection    20.204360\n",
       "Fail to Stop For Red Signal                    6.901291\n",
       "Disorderly Conduct-Disruptive Behavior         5.556823\n",
       "Unsafe Lane Change                             5.542446\n",
       "Display M.I. Suspended Plate                   5.237240\n",
       "Name: cited_person_age, dtype: float64"
      ]
     },
     "execution_count": 23,
     "metadata": {},
     "output_type": "execute_result"
    }
   ],
   "source": [
    "# top 5 citations with the highest variability throughout the year\n",
    "top20_citations.groupby([top20_citations.charge_description, top20_citations.month])['cited_person_age'].mean() \\\n",
    "    .groupby(level=0).apply(lambda x: x.var()).sort_values(ascending=False).head(5)"
   ]
  },
  {
   "cell_type": "code",
   "execution_count": 24,
   "metadata": {},
   "outputs": [],
   "source": [
    "# subset full citation dataset with only the top 5 highly variable citations by age\n",
    "top5_variance = citations[citations.charge_description.isin(\n",
    "    top20_citations.groupby([top20_citations.charge_description, top20_citations.month])['cited_person_age'].mean() \\\n",
    "    .groupby(level=0).apply(lambda x: x.var()).sort_values(ascending=False).head(5).index)]"
   ]
  },
  {
   "cell_type": "code",
   "execution_count": 25,
   "metadata": {},
   "outputs": [
    {
     "data": {
      "text/html": [
       "<div>\n",
       "<style scoped>\n",
       "    .dataframe tbody tr th:only-of-type {\n",
       "        vertical-align: middle;\n",
       "    }\n",
       "\n",
       "    .dataframe tbody tr th {\n",
       "        vertical-align: top;\n",
       "    }\n",
       "\n",
       "    .dataframe thead th {\n",
       "        text-align: right;\n",
       "    }\n",
       "</style>\n",
       "<table border=\"1\" class=\"dataframe\">\n",
       "  <thead>\n",
       "    <tr style=\"text-align: right;\">\n",
       "      <th></th>\n",
       "      <th>arizona_statute_code</th>\n",
       "      <th>beat</th>\n",
       "      <th>charge_description</th>\n",
       "      <th>citation_#</th>\n",
       "      <th>citation_date</th>\n",
       "      <th>citation_time</th>\n",
       "      <th>citation_type_code</th>\n",
       "      <th>citation_type_description</th>\n",
       "      <th>cited_person</th>\n",
       "      <th>cited_person_age</th>\n",
       "      <th>...</th>\n",
       "      <th>state</th>\n",
       "      <th>street</th>\n",
       "      <th>street_number</th>\n",
       "      <th>zip</th>\n",
       "      <th>zone</th>\n",
       "      <th>tcmainid</th>\n",
       "      <th>month</th>\n",
       "      <th>year</th>\n",
       "      <th>day_of_week</th>\n",
       "      <th>hour_of_day</th>\n",
       "    </tr>\n",
       "  </thead>\n",
       "  <tbody>\n",
       "    <tr>\n",
       "      <td>11</td>\n",
       "      <td>28-729.1</td>\n",
       "      <td>15.0</td>\n",
       "      <td>Unsafe Lane Change</td>\n",
       "      <td>2060049</td>\n",
       "      <td>2018-06-22</td>\n",
       "      <td>915</td>\n",
       "      <td>CV</td>\n",
       "      <td>Civil Traffic</td>\n",
       "      <td>JOhns, Mary</td>\n",
       "      <td>78.0</td>\n",
       "      <td>...</td>\n",
       "      <td>AZ</td>\n",
       "      <td>E Frank Lloyd Wright Bl / N Greenway-Hayden Loop</td>\n",
       "      <td>xxx</td>\n",
       "      <td>NaN</td>\n",
       "      <td>3602</td>\n",
       "      <td>621810</td>\n",
       "      <td>6</td>\n",
       "      <td>2018</td>\n",
       "      <td>4</td>\n",
       "      <td>9</td>\n",
       "    </tr>\n",
       "    <tr>\n",
       "      <td>13</td>\n",
       "      <td>28-4139A</td>\n",
       "      <td>12.0</td>\n",
       "      <td>Display M.I. Suspended Plate</td>\n",
       "      <td>2056701</td>\n",
       "      <td>2018-06-23</td>\n",
       "      <td>1412</td>\n",
       "      <td>CV</td>\n",
       "      <td>Civil Traffic</td>\n",
       "      <td>Paltiel, Sasson</td>\n",
       "      <td>63.0</td>\n",
       "      <td>...</td>\n",
       "      <td>AZ</td>\n",
       "      <td>E Cactus Rd / N Scottsdale Rd</td>\n",
       "      <td>xxx</td>\n",
       "      <td>85254</td>\n",
       "      <td>3104</td>\n",
       "      <td>621815</td>\n",
       "      <td>6</td>\n",
       "      <td>2018</td>\n",
       "      <td>5</td>\n",
       "      <td>14</td>\n",
       "    </tr>\n",
       "    <tr>\n",
       "      <td>28</td>\n",
       "      <td>28-772</td>\n",
       "      <td>1.0</td>\n",
       "      <td>Fail to Yield Turning Left at Intersection</td>\n",
       "      <td>2065877</td>\n",
       "      <td>2018-06-22</td>\n",
       "      <td>2119</td>\n",
       "      <td>CV</td>\n",
       "      <td>Civil Traffic</td>\n",
       "      <td>Mosqueda, Javier</td>\n",
       "      <td>21.0</td>\n",
       "      <td>...</td>\n",
       "      <td>AZ</td>\n",
       "      <td>N Hayden Rd / E Roosevelt St</td>\n",
       "      <td>xxx</td>\n",
       "      <td>NaN</td>\n",
       "      <td>305</td>\n",
       "      <td>621850</td>\n",
       "      <td>6</td>\n",
       "      <td>2018</td>\n",
       "      <td>4</td>\n",
       "      <td>21</td>\n",
       "    </tr>\n",
       "    <tr>\n",
       "      <td>31</td>\n",
       "      <td>28-4139A</td>\n",
       "      <td>NaN</td>\n",
       "      <td>Display M.I. Suspended Plate</td>\n",
       "      <td>2061965</td>\n",
       "      <td>2018-06-24</td>\n",
       "      <td>35</td>\n",
       "      <td>CV</td>\n",
       "      <td>Civil Traffic</td>\n",
       "      <td>Anderson, Jenna</td>\n",
       "      <td>32.0</td>\n",
       "      <td>...</td>\n",
       "      <td>AZ</td>\n",
       "      <td>L101 Frontage Rd Sb</td>\n",
       "      <td>1xxx</td>\n",
       "      <td>NaN</td>\n",
       "      <td>0</td>\n",
       "      <td>621854</td>\n",
       "      <td>6</td>\n",
       "      <td>2018</td>\n",
       "      <td>6</td>\n",
       "      <td>0</td>\n",
       "    </tr>\n",
       "    <tr>\n",
       "      <td>32</td>\n",
       "      <td>28-4139A</td>\n",
       "      <td>20.0</td>\n",
       "      <td>Display M.I. Suspended Plate</td>\n",
       "      <td>2064963</td>\n",
       "      <td>2018-06-23</td>\n",
       "      <td>2209</td>\n",
       "      <td>CV</td>\n",
       "      <td>Civil Traffic</td>\n",
       "      <td>Pinney, Eric</td>\n",
       "      <td>37.0</td>\n",
       "      <td>...</td>\n",
       "      <td>AZ</td>\n",
       "      <td>N 56th St / E Dynamite Bl</td>\n",
       "      <td>xxx</td>\n",
       "      <td>NaN</td>\n",
       "      <td>4201</td>\n",
       "      <td>621857</td>\n",
       "      <td>6</td>\n",
       "      <td>2018</td>\n",
       "      <td>5</td>\n",
       "      <td>22</td>\n",
       "    </tr>\n",
       "  </tbody>\n",
       "</table>\n",
       "<p>5 rows × 26 columns</p>\n",
       "</div>"
      ],
      "text/plain": [
       "   arizona_statute_code  beat                          charge_description  \\\n",
       "11             28-729.1  15.0                          Unsafe Lane Change   \n",
       "13             28-4139A  12.0                Display M.I. Suspended Plate   \n",
       "28               28-772   1.0  Fail to Yield Turning Left at Intersection   \n",
       "31             28-4139A   NaN                Display M.I. Suspended Plate   \n",
       "32             28-4139A  20.0                Display M.I. Suspended Plate   \n",
       "\n",
       "    citation_# citation_date  citation_time citation_type_code  \\\n",
       "11     2060049    2018-06-22            915                 CV   \n",
       "13     2056701    2018-06-23           1412                 CV   \n",
       "28     2065877    2018-06-22           2119                 CV   \n",
       "31     2061965    2018-06-24             35                 CV   \n",
       "32     2064963    2018-06-23           2209                 CV   \n",
       "\n",
       "   citation_type_description      cited_person  cited_person_age  ... state  \\\n",
       "11             Civil Traffic       JOhns, Mary              78.0  ...    AZ   \n",
       "13             Civil Traffic   Paltiel, Sasson              63.0  ...    AZ   \n",
       "28             Civil Traffic  Mosqueda, Javier              21.0  ...    AZ   \n",
       "31             Civil Traffic   Anderson, Jenna              32.0  ...    AZ   \n",
       "32             Civil Traffic      Pinney, Eric              37.0  ...    AZ   \n",
       "\n",
       "                                              street street_number    zip  \\\n",
       "11  E Frank Lloyd Wright Bl / N Greenway-Hayden Loop           xxx    NaN   \n",
       "13                     E Cactus Rd / N Scottsdale Rd           xxx  85254   \n",
       "28                      N Hayden Rd / E Roosevelt St           xxx    NaN   \n",
       "31                               L101 Frontage Rd Sb          1xxx    NaN   \n",
       "32                         N 56th St / E Dynamite Bl           xxx    NaN   \n",
       "\n",
       "    zone tcmainid month  year day_of_week hour_of_day  \n",
       "11  3602   621810     6  2018           4           9  \n",
       "13  3104   621815     6  2018           5          14  \n",
       "28   305   621850     6  2018           4          21  \n",
       "31     0   621854     6  2018           6           0  \n",
       "32  4201   621857     6  2018           5          22  \n",
       "\n",
       "[5 rows x 26 columns]"
      ]
     },
     "execution_count": 25,
     "metadata": {},
     "output_type": "execute_result"
    }
   ],
   "source": [
    "top5_variance.head()"
   ]
  },
  {
   "cell_type": "code",
   "execution_count": 26,
   "metadata": {},
   "outputs": [
    {
     "data": {
      "text/html": [
       "<div>\n",
       "<style scoped>\n",
       "    .dataframe tbody tr th:only-of-type {\n",
       "        vertical-align: middle;\n",
       "    }\n",
       "\n",
       "    .dataframe tbody tr th {\n",
       "        vertical-align: top;\n",
       "    }\n",
       "\n",
       "    .dataframe thead th {\n",
       "        text-align: right;\n",
       "    }\n",
       "</style>\n",
       "<table border=\"1\" class=\"dataframe\">\n",
       "  <thead>\n",
       "    <tr style=\"text-align: right;\">\n",
       "      <th></th>\n",
       "      <th>month</th>\n",
       "      <th>charge_description</th>\n",
       "      <th>cited_person_age</th>\n",
       "    </tr>\n",
       "  </thead>\n",
       "  <tbody>\n",
       "    <tr>\n",
       "      <td>0</td>\n",
       "      <td>1</td>\n",
       "      <td>Disorderly Conduct-Disruptive Behavior</td>\n",
       "      <td>35.916667</td>\n",
       "    </tr>\n",
       "    <tr>\n",
       "      <td>1</td>\n",
       "      <td>1</td>\n",
       "      <td>Display M.I. Suspended Plate</td>\n",
       "      <td>32.325581</td>\n",
       "    </tr>\n",
       "    <tr>\n",
       "      <td>2</td>\n",
       "      <td>1</td>\n",
       "      <td>Fail to Stop For Red Signal</td>\n",
       "      <td>40.018692</td>\n",
       "    </tr>\n",
       "    <tr>\n",
       "      <td>3</td>\n",
       "      <td>1</td>\n",
       "      <td>Fail to Yield Turning Left at Intersection</td>\n",
       "      <td>43.000000</td>\n",
       "    </tr>\n",
       "    <tr>\n",
       "      <td>4</td>\n",
       "      <td>1</td>\n",
       "      <td>Unsafe Lane Change</td>\n",
       "      <td>48.583333</td>\n",
       "    </tr>\n",
       "  </tbody>\n",
       "</table>\n",
       "</div>"
      ],
      "text/plain": [
       "   month                          charge_description  cited_person_age\n",
       "0      1      Disorderly Conduct-Disruptive Behavior         35.916667\n",
       "1      1                Display M.I. Suspended Plate         32.325581\n",
       "2      1                 Fail to Stop For Red Signal         40.018692\n",
       "3      1  Fail to Yield Turning Left at Intersection         43.000000\n",
       "4      1                          Unsafe Lane Change         48.583333"
      ]
     },
     "execution_count": 26,
     "metadata": {},
     "output_type": "execute_result"
    }
   ],
   "source": [
    "# organize top 5 highly variable citations to be able to graph\n",
    "top5_variance.groupby([top5_variance.month, top5_variance.charge_description])['cited_person_age'].mean().reset_index().head()"
   ]
  },
  {
   "cell_type": "code",
   "execution_count": 64,
   "metadata": {},
   "outputs": [
    {
     "data": {
      "text/plain": [
       "<matplotlib.legend.Legend at 0x232b1372c88>"
      ]
     },
     "execution_count": 64,
     "metadata": {},
     "output_type": "execute_result"
    },
    {
     "data": {
      "image/png": "[encoded data removed]",
      "text/plain": [
       "<Figure size 1080x432 with 1 Axes>"
      ]
     },
     "metadata": {},
     "output_type": "display_data"
    }
   ],
   "source": [
    "# graph the mean age of citations with highest variance throughout the year\n",
    "sns.set(rc={'figure.figsize':(15,6)})\n",
    "sns.set(rc={\"lines.linewidth\":2})\n",
    "plt.style.use('bmh')\n",
    "\n",
    "ax = sns.lineplot(y=top5_variance.groupby([top5_variance.month, top5_variance.charge_description])['cited_person_age'].mean().reset_index().iloc[:,2],\n",
    "            x=top5_variance.groupby([top5_variance.month, top5_variance.charge_description])['cited_person_age'].mean().reset_index().iloc[:,0],\n",
    "            hue=top5_variance.groupby([top5_variance.month, top5_variance.charge_description])['cited_person_age'].mean().reset_index().iloc[:,1])\n",
    "\n",
    "# graph mean age of all citations in bold\n",
    "x = top20_citations.groupby([top20_citations.month]) \\\n",
    "    ['cited_person_age'].mean().reset_index().rename(columns={'cited_person_age': 'All Citations'}).iloc[:,0]\n",
    "\n",
    "y1 = top20_citations.groupby([top20_citations.month]) \\\n",
    "    ['cited_person_age'].mean().reset_index().rename(columns={'cited_person_age': 'All Citations'}).iloc[:,1]\n",
    "\n",
    "plt.plot(x, y1, color='black',linewidth=3)\n",
    "\n",
    "plt.ylabel('Mean Age')\n",
    "plt.xlabel('Month of Year')\n",
    "\n",
    "ax.xaxis.set_major_locator(ticker.MultipleLocator())\n",
    "\n",
    "handles, labels = ax.get_legend_handles_labels()\n",
    "ax.legend(handles=handles[1:], labels=labels[1:], loc='upper center', bbox_to_anchor=(0.5, -0.1), ncol=3)"
   ]
  },
  {
   "cell_type": "markdown",
   "metadata": {},
   "source": [
    "### MAX - your oppinion, I wanted to bold the two lines for the two citations I feel communicate the most information.  However I wasn't able to figure out how to do that with seaborn(above).  I used just matplotlib below.  Which would you recommend that I use?"
   ]
  },
  {
   "cell_type": "markdown",
   "metadata": {},
   "source": [
    "#### TOP 5 CITATIONS BY AGE VARIANCE DISTRIBUTION\n",
    "\n",
    "By examination, only two of the above 5 citations(Fail to Yield Turing Left at Intersection, and Unsafe Lane Change) graphed across the year seem to indicate seasonality in older visitors to Scottsdale.  The other three citations show a high variance throughout the year, however they don't show a strong seasonal pattern throughout the year."
   ]
  },
  {
   "cell_type": "markdown",
   "metadata": {},
   "source": [
    "## DAY OF THE WEEK AND AGE ANALYSIS"
   ]
  },
  {
   "cell_type": "code",
   "execution_count": 298,
   "metadata": {},
   "outputs": [
    {
     "data": {
      "text/html": [
       "<div>\n",
       "<style scoped>\n",
       "    .dataframe tbody tr th:only-of-type {\n",
       "        vertical-align: middle;\n",
       "    }\n",
       "\n",
       "    .dataframe tbody tr th {\n",
       "        vertical-align: top;\n",
       "    }\n",
       "\n",
       "    .dataframe thead th {\n",
       "        text-align: right;\n",
       "    }\n",
       "</style>\n",
       "<table border=\"1\" class=\"dataframe\">\n",
       "  <thead>\n",
       "    <tr style=\"text-align: right;\">\n",
       "      <th>charge_description</th>\n",
       "      <th>Disorderly Conduct-Disruptive Behavior</th>\n",
       "      <th>Display M.I. Suspended Plate</th>\n",
       "      <th>Fail to Stop For Red Signal</th>\n",
       "      <th>Fail to Yield Turning Left at Intersection</th>\n",
       "      <th>Unsafe Lane Change</th>\n",
       "    </tr>\n",
       "    <tr>\n",
       "      <th>day_of_week</th>\n",
       "      <th></th>\n",
       "      <th></th>\n",
       "      <th></th>\n",
       "      <th></th>\n",
       "      <th></th>\n",
       "    </tr>\n",
       "  </thead>\n",
       "  <tbody>\n",
       "    <tr>\n",
       "      <td>0</td>\n",
       "      <td>32.891304</td>\n",
       "      <td>36.356322</td>\n",
       "      <td>42.214724</td>\n",
       "      <td>46.169231</td>\n",
       "      <td>42.640625</td>\n",
       "    </tr>\n",
       "    <tr>\n",
       "      <td>1</td>\n",
       "      <td>39.433333</td>\n",
       "      <td>33.783133</td>\n",
       "      <td>42.617347</td>\n",
       "      <td>45.065421</td>\n",
       "      <td>49.794521</td>\n",
       "    </tr>\n",
       "    <tr>\n",
       "      <td>2</td>\n",
       "      <td>38.347826</td>\n",
       "      <td>35.860465</td>\n",
       "      <td>40.375000</td>\n",
       "      <td>47.270588</td>\n",
       "      <td>47.282609</td>\n",
       "    </tr>\n",
       "    <tr>\n",
       "      <td>3</td>\n",
       "      <td>35.903226</td>\n",
       "      <td>34.602740</td>\n",
       "      <td>42.613065</td>\n",
       "      <td>47.636364</td>\n",
       "      <td>48.255556</td>\n",
       "    </tr>\n",
       "    <tr>\n",
       "      <td>4</td>\n",
       "      <td>33.166667</td>\n",
       "      <td>34.945946</td>\n",
       "      <td>38.888350</td>\n",
       "      <td>46.972222</td>\n",
       "      <td>46.778947</td>\n",
       "    </tr>\n",
       "  </tbody>\n",
       "</table>\n",
       "</div>"
      ],
      "text/plain": [
       "charge_description  Disorderly Conduct-Disruptive Behavior  \\\n",
       "day_of_week                                                  \n",
       "0                                                32.891304   \n",
       "1                                                39.433333   \n",
       "2                                                38.347826   \n",
       "3                                                35.903226   \n",
       "4                                                33.166667   \n",
       "\n",
       "charge_description  Display M.I. Suspended Plate  Fail to Stop For Red Signal  \\\n",
       "day_of_week                                                                     \n",
       "0                                      36.356322                    42.214724   \n",
       "1                                      33.783133                    42.617347   \n",
       "2                                      35.860465                    40.375000   \n",
       "3                                      34.602740                    42.613065   \n",
       "4                                      34.945946                    38.888350   \n",
       "\n",
       "charge_description  Fail to Yield Turning Left at Intersection  \\\n",
       "day_of_week                                                      \n",
       "0                                                    46.169231   \n",
       "1                                                    45.065421   \n",
       "2                                                    47.270588   \n",
       "3                                                    47.636364   \n",
       "4                                                    46.972222   \n",
       "\n",
       "charge_description  Unsafe Lane Change  \n",
       "day_of_week                             \n",
       "0                            42.640625  \n",
       "1                            49.794521  \n",
       "2                            47.282609  \n",
       "3                            48.255556  \n",
       "4                            46.778947  "
      ]
     },
     "execution_count": 298,
     "metadata": {},
     "output_type": "execute_result"
    }
   ],
   "source": [
    "# groupby day of the week and charge description\n",
    "top5_variance.groupby([top5_variance.day_of_week, top5_variance.charge_description])['cited_person_age'].mean().unstack().head()"
   ]
  },
  {
   "cell_type": "code",
   "execution_count": 62,
   "metadata": {},
   "outputs": [
    {
     "data": {
      "text/plain": [
       "<matplotlib.legend.Legend at 0x232b0ae8be0>"
      ]
     },
     "execution_count": 62,
     "metadata": {},
     "output_type": "execute_result"
    },
    {
     "data": {
      "image/png": "[encoded data removed]",
      "text/plain": [
       "<Figure size 1080x432 with 1 Axes>"
      ]
     },
     "metadata": {},
     "output_type": "display_data"
    }
   ],
   "source": [
    "# graph the mean age of citations with highest variance throughout the week\n",
    "sns.set(rc={'figure.figsize':(15,6)})\n",
    "sns.set(rc={\"lines.linewidth\":2})\n",
    "plt.style.use('bmh')\n",
    "\n",
    "ax = sns.lineplot(y=top5_variance.groupby([top5_variance.day_of_week, top5_variance.charge_description])['cited_person_age'].mean().reset_index().iloc[:,2],\n",
    "            x=top5_variance.groupby([top5_variance.day_of_week, top5_variance.charge_description])['cited_person_age'].mean().reset_index().iloc[:,0],\n",
    "            hue=top5_variance.groupby([top5_variance.day_of_week, top5_variance.charge_description])['cited_person_age'].mean().reset_index().iloc[:,1])\n",
    "\n",
    "x = top20_citations.groupby(\n",
    "    [top20_citations.day_of_week]) \\\n",
    "    ['cited_person_age'].mean().reset_index().rename(columns={'cited_person_age': 'All Citations'}).iloc[:,0]\n",
    "y1 = top20_citations.groupby(\n",
    "    [top20_citations.day_of_week]) \\\n",
    "    ['cited_person_age'].mean().reset_index().rename(columns={'cited_person_age': 'All Citations'}).iloc[:,1]\n",
    "\n",
    "plt.plot(x, y1, color='black',linewidth=3)\n",
    "\n",
    "plt.ylabel('Mean Age')\n",
    "plt.xlabel('Day of the Week, 0 = Monday, 6 = Sunday')\n",
    "\n",
    "ax.xaxis.set_major_locator(ticker.MultipleLocator())\n",
    "\n",
    "handles, labels = ax.get_legend_handles_labels()\n",
    "ax.legend(handles=handles[1:], labels=labels[1:], loc='upper center', bbox_to_anchor=(0.5, -0.1), ncol=3)"
   ]
  },
  {
   "cell_type": "markdown",
   "metadata": {},
   "source": [
    "#### ANALYSIS: TOP 5 CITATIONS BY AGE VARIANCE - WEEKLY DISTRIBUTION\n",
    "\n",
    "By examination, three of the above 5 citations(Fail to Yield Turing Left at Intersection, Unsafe Lane Change, and Disorderly Conduct-Disruptive Behavior) graphed across the week show similar patterns.  The weekend citations are dominated by younger people, while older people more frequently receive these citations during the normal days of the week.\n",
    "\n",
    "The other two citations(Display MI Suspended Plate, and Fail to Stop for Red Signal) don't describe any particular weekly pattern."
   ]
  },
  {
   "cell_type": "markdown",
   "metadata": {},
   "source": [
    "## TIME OF DAY AND MEAN AGE ANALYSIS"
   ]
  },
  {
   "cell_type": "code",
   "execution_count": 296,
   "metadata": {},
   "outputs": [
    {
     "data": {
      "text/html": [
       "<div>\n",
       "<style scoped>\n",
       "    .dataframe tbody tr th:only-of-type {\n",
       "        vertical-align: middle;\n",
       "    }\n",
       "\n",
       "    .dataframe tbody tr th {\n",
       "        vertical-align: top;\n",
       "    }\n",
       "\n",
       "    .dataframe thead th {\n",
       "        text-align: right;\n",
       "    }\n",
       "</style>\n",
       "<table border=\"1\" class=\"dataframe\">\n",
       "  <thead>\n",
       "    <tr style=\"text-align: right;\">\n",
       "      <th>charge_description</th>\n",
       "      <th>Disorderly Conduct-Disruptive Behavior</th>\n",
       "      <th>Display M.I. Suspended Plate</th>\n",
       "      <th>Fail to Stop For Red Signal</th>\n",
       "      <th>Fail to Yield Turning Left at Intersection</th>\n",
       "      <th>Unsafe Lane Change</th>\n",
       "    </tr>\n",
       "    <tr>\n",
       "      <th>hour_of_day</th>\n",
       "      <th></th>\n",
       "      <th></th>\n",
       "      <th></th>\n",
       "      <th></th>\n",
       "      <th></th>\n",
       "    </tr>\n",
       "  </thead>\n",
       "  <tbody>\n",
       "    <tr>\n",
       "      <td>0</td>\n",
       "      <td>27.179487</td>\n",
       "      <td>33.131579</td>\n",
       "      <td>33.546667</td>\n",
       "      <td>32.0</td>\n",
       "      <td>28.0</td>\n",
       "    </tr>\n",
       "    <tr>\n",
       "      <td>1</td>\n",
       "      <td>27.750000</td>\n",
       "      <td>32.608696</td>\n",
       "      <td>30.552632</td>\n",
       "      <td>51.0</td>\n",
       "      <td>38.0</td>\n",
       "    </tr>\n",
       "    <tr>\n",
       "      <td>2</td>\n",
       "      <td>27.277778</td>\n",
       "      <td>34.250000</td>\n",
       "      <td>31.857143</td>\n",
       "      <td>32.0</td>\n",
       "      <td>30.0</td>\n",
       "    </tr>\n",
       "    <tr>\n",
       "      <td>3</td>\n",
       "      <td>27.666667</td>\n",
       "      <td>39.333333</td>\n",
       "      <td>37.900000</td>\n",
       "      <td>72.0</td>\n",
       "      <td>NaN</td>\n",
       "    </tr>\n",
       "    <tr>\n",
       "      <td>4</td>\n",
       "      <td>28.600000</td>\n",
       "      <td>35.750000</td>\n",
       "      <td>39.300000</td>\n",
       "      <td>61.0</td>\n",
       "      <td>NaN</td>\n",
       "    </tr>\n",
       "  </tbody>\n",
       "</table>\n",
       "</div>"
      ],
      "text/plain": [
       "charge_description  Disorderly Conduct-Disruptive Behavior  \\\n",
       "hour_of_day                                                  \n",
       "0                                                27.179487   \n",
       "1                                                27.750000   \n",
       "2                                                27.277778   \n",
       "3                                                27.666667   \n",
       "4                                                28.600000   \n",
       "\n",
       "charge_description  Display M.I. Suspended Plate  Fail to Stop For Red Signal  \\\n",
       "hour_of_day                                                                     \n",
       "0                                      33.131579                    33.546667   \n",
       "1                                      32.608696                    30.552632   \n",
       "2                                      34.250000                    31.857143   \n",
       "3                                      39.333333                    37.900000   \n",
       "4                                      35.750000                    39.300000   \n",
       "\n",
       "charge_description  Fail to Yield Turning Left at Intersection  \\\n",
       "hour_of_day                                                      \n",
       "0                                                         32.0   \n",
       "1                                                         51.0   \n",
       "2                                                         32.0   \n",
       "3                                                         72.0   \n",
       "4                                                         61.0   \n",
       "\n",
       "charge_description  Unsafe Lane Change  \n",
       "hour_of_day                             \n",
       "0                                 28.0  \n",
       "1                                 38.0  \n",
       "2                                 30.0  \n",
       "3                                  NaN  \n",
       "4                                  NaN  "
      ]
     },
     "execution_count": 296,
     "metadata": {},
     "output_type": "execute_result"
    }
   ],
   "source": [
    "# groupby hour of day and charge description\n",
    "top5_variance.groupby([top5_variance.hour_of_day, top5_variance.charge_description])['cited_person_age'].mean().unstack().head()"
   ]
  },
  {
   "cell_type": "code",
   "execution_count": 60,
   "metadata": {},
   "outputs": [
    {
     "data": {
      "text/plain": [
       "<matplotlib.legend.Legend at 0x232af40ee48>"
      ]
     },
     "execution_count": 60,
     "metadata": {},
     "output_type": "execute_result"
    },
    {
     "data": {
      "image/png": "[encoded data removed]",
      "text/plain": [
       "<Figure size 1080x432 with 1 Axes>"
      ]
     },
     "metadata": {},
     "output_type": "display_data"
    }
   ],
   "source": [
    "# graph the mean age of citations with highest variance throughout the year\n",
    "sns.set(rc={'figure.figsize':(15,6)})\n",
    "sns.set(rc={\"lines.linewidth\":2})\n",
    "plt.style.use('bmh')\n",
    "ax = sns.lineplot(y=top5_variance.groupby([top5_variance.hour_of_day, top5_variance.charge_description])['cited_person_age'].mean().reset_index().iloc[:,2],\n",
    "            x=top5_variance.groupby([top5_variance.hour_of_day, top5_variance.charge_description])['cited_person_age'].mean().reset_index().iloc[:,0],\n",
    "            hue=top5_variance.groupby([top5_variance.hour_of_day, top5_variance.charge_description])['cited_person_age'].mean().reset_index().iloc[:,1])\n",
    "\n",
    "x = top20_citations.groupby(\n",
    "    [top20_citations.hour_of_day]) \\\n",
    "    ['cited_person_age'].mean().reset_index().rename(columns={'cited_person_age': 'All Citations'}).iloc[:,0]\n",
    "y1 = top20_citations.groupby(\n",
    "    [top20_citations.hour_of_day]) \\\n",
    "    ['cited_person_age'].mean().reset_index().rename(columns={'cited_person_age': 'All Citations'}).iloc[:,1]\n",
    "\n",
    "plt.plot(x, y1, color='black',linewidth=3)\n",
    "\n",
    "plt.ylabel('Mean Age')\n",
    "plt.xlabel('Hour of Day')\n",
    "\n",
    "ax.xaxis.set_major_locator(ticker.MultipleLocator())\n",
    "\n",
    "handles, labels = ax.get_legend_handles_labels()\n",
    "ax.legend(handles=handles[1:], labels=labels[1:], loc='upper center', bbox_to_anchor=(0.5, -0.1), ncol=3)"
   ]
  },
  {
   "cell_type": "markdown",
   "metadata": {},
   "source": [
    "#### TOP 5 CITATIONS BY AGE VARIANCE - TIME OF DAY DISTRIBUTION\n",
    "\n",
    "The above graph shows a lot more noise than the previous graphs.  This is because the data is bucketed in a more granular level(24 buckets) representing each hour of the day.  As a result, there are fewer data points within each hour, causing the mean value to be tugged more dramatically.  This is especially true for the citation \"Fail to Yield Turning Left at Intersection\" at 3AM - the mean age is over 70.  Likely, one person over 70 was the only person to receive that citation during that hour of the day, causing the mean to be so dramatically high.\n",
    "\n",
    "With the exception of citations \"Disorderly Conduct-Disruptive Behavior\" and \"Display M.I. Suspended Plate\", the middle of the day(between 8am and 4pm) show the largest amount of separation from the mean age distribution across the whole day.  This indicates that these citations are more heavily weighted towards older people which likely will not be on the roads at very late and early times of the day."
   ]
  },
  {
   "cell_type": "code",
   "execution_count": null,
   "metadata": {},
   "outputs": [],
   "source": []
  },
  {
   "cell_type": "markdown",
   "metadata": {},
   "source": [
    "### T-Test\n",
    "#### Since the data doesn't appear to be a normal distribution, and for month of the year I only have 12 data points, I don't believe the t-test is appropriate."
   ]
  },
  {
   "cell_type": "markdown",
   "metadata": {},
   "source": [
    "#### 'Fail to Yield Turning Left at Intersection'"
   ]
  },
  {
   "cell_type": "code",
   "execution_count": 85,
   "metadata": {},
   "outputs": [
    {
     "data": {
      "text/plain": [
       "month\n",
       "1     43.000000\n",
       "2     54.380952\n",
       "3     46.811321\n",
       "4     46.155172\n",
       "5     40.238095\n",
       "6     41.567568\n",
       "7     54.700000\n",
       "8     49.707317\n",
       "9     45.080000\n",
       "10    45.090909\n",
       "11    46.611111\n",
       "12    44.888889\n",
       "Name: Fail to Yield Turning Left at Intersection, dtype: float64"
      ]
     },
     "execution_count": 85,
     "metadata": {},
     "output_type": "execute_result"
    }
   ],
   "source": [
    "# mean age for 'Fail to Yield Turning Left at Intersection' citations\n",
    "top20_citations.groupby(\n",
    "    [top20_citations.month, top20_citations.charge_description]) \\\n",
    "    ['cited_person_age'].mean().unstack().loc[:,'Fail to Yield Turning Left at Intersection']"
   ]
  },
  {
   "cell_type": "code",
   "execution_count": 98,
   "metadata": {},
   "outputs": [
    {
     "data": {
      "text/plain": [
       "<matplotlib.axes._subplots.AxesSubplot at 0x232b30212e8>"
      ]
     },
     "execution_count": 98,
     "metadata": {},
     "output_type": "execute_result"
    },
    {
     "data": {
      "image/png": "[encoded data removed]",
      "text/plain": [
       "<Figure size 360x216 with 1 Axes>"
      ]
     },
     "metadata": {},
     "output_type": "display_data"
    }
   ],
   "source": [
    "plt.figure(figsize=(5,3))\n",
    "\n",
    "top20_citations.groupby(\n",
    "    [top20_citations.month, top20_citations.charge_description]) \\\n",
    "    ['cited_person_age'].mean().unstack().loc[:,'Fail to Yield Turning Left at Intersection'].hist()"
   ]
  },
  {
   "cell_type": "code",
   "execution_count": null,
   "metadata": {},
   "outputs": [],
   "source": []
  },
  {
   "cell_type": "code",
   "execution_count": 88,
   "metadata": {},
   "outputs": [
    {
     "data": {
      "text/plain": [
       "month\n",
       "1     38.173091\n",
       "2     37.762428\n",
       "3     37.507459\n",
       "4     37.765862\n",
       "5     37.184005\n",
       "6     36.886102\n",
       "7     36.530944\n",
       "8     36.967017\n",
       "9     37.447397\n",
       "10    37.485994\n",
       "11    37.649494\n",
       "12    36.815321\n",
       "Name: cited_person_age, dtype: float64"
      ]
     },
     "execution_count": 88,
     "metadata": {},
     "output_type": "execute_result"
    }
   ],
   "source": [
    "# mean age for all citations at each month of the year\n",
    "citations.groupby(\n",
    "    [citations.month]) \\\n",
    "    ['cited_person_age'].mean()"
   ]
  },
  {
   "cell_type": "code",
   "execution_count": 90,
   "metadata": {},
   "outputs": [
    {
     "data": {
      "text/plain": [
       "Ttest_indResult(statistic=7.028515995203373, pvalue=4.7206776697281174e-07)"
      ]
     },
     "execution_count": 90,
     "metadata": {},
     "output_type": "execute_result"
    }
   ],
   "source": [
    "from scipy.stats import ttest_ind\n",
    "\n",
    "ttest_ind(top20_citations.groupby(\n",
    "    [top20_citations.month, top20_citations.charge_description]) \\\n",
    "    ['cited_person_age'].mean().unstack().loc[:,'Fail to Yield Turning Left at Intersection'],\n",
    "      \n",
    "    citations.groupby(\n",
    "    [citations.month]) \\\n",
    "    ['cited_person_age'].mean()\n",
    "         \n",
    "         )"
   ]
  },
  {
   "cell_type": "code",
   "execution_count": 109,
   "metadata": {},
   "outputs": [
    {
     "data": {
      "text/plain": [
       "<matplotlib.axes._subplots.AxesSubplot at 0x232b342bd68>"
      ]
     },
     "execution_count": 109,
     "metadata": {},
     "output_type": "execute_result"
    },
    {
     "data": {
      "image/png": "[encoded data removed]",
      "text/plain": [
       "<Figure size 360x216 with 1 Axes>"
      ]
     },
     "metadata": {},
     "output_type": "display_data"
    }
   ],
   "source": [
    "# hour of the day\n",
    "plt.figure(figsize=(5,3))\n",
    "\n",
    "top20_citations.groupby(\n",
    "    [top20_citations.hour_of_day, top20_citations.charge_description]) \\\n",
    "    ['cited_person_age'].mean().unstack().loc[:,'Fail to Yield Turning Left at Intersection'].hist()"
   ]
  },
  {
   "cell_type": "code",
   "execution_count": 110,
   "metadata": {},
   "outputs": [
    {
     "data": {
      "text/plain": [
       "Ttest_indResult(statistic=3.943341091867838, pvalue=0.0002719599186059298)"
      ]
     },
     "execution_count": 110,
     "metadata": {},
     "output_type": "execute_result"
    }
   ],
   "source": [
    "ttest_ind(top20_citations.groupby(\n",
    "    [top20_citations.hour_of_day, top20_citations.charge_description]) \\\n",
    "    ['cited_person_age'].mean().unstack().loc[:,'Fail to Yield Turning Left at Intersection'],\n",
    "      \n",
    "    citations.groupby(\n",
    "    [citations.hour_of_day]) \\\n",
    "    ['cited_person_age'].mean()\n",
    "         \n",
    "         )"
   ]
  },
  {
   "cell_type": "code",
   "execution_count": null,
   "metadata": {},
   "outputs": [],
   "source": []
  },
  {
   "cell_type": "markdown",
   "metadata": {},
   "source": [
    "#### 'Unsafe Lane Change'"
   ]
  },
  {
   "cell_type": "code",
   "execution_count": 99,
   "metadata": {},
   "outputs": [
    {
     "data": {
      "text/plain": [
       "<matplotlib.axes._subplots.AxesSubplot at 0x232b3180080>"
      ]
     },
     "execution_count": 99,
     "metadata": {},
     "output_type": "execute_result"
    },
    {
     "data": {
      "image/png": "[encoded data removed]",
      "text/plain": [
       "<Figure size 360x216 with 1 Axes>"
      ]
     },
     "metadata": {},
     "output_type": "display_data"
    }
   ],
   "source": [
    "plt.figure(figsize=(5,3))\n",
    "top20_citations.groupby(\n",
    "    [top20_citations.month, top20_citations.charge_description]) \\\n",
    "    ['cited_person_age'].mean().unstack().loc[:,'Unsafe Lane Change'].hist()"
   ]
  },
  {
   "cell_type": "code",
   "execution_count": 91,
   "metadata": {},
   "outputs": [
    {
     "data": {
      "text/plain": [
       "Ttest_indResult(statistic=13.17437247736258, pvalue=6.485035169519392e-12)"
      ]
     },
     "execution_count": 91,
     "metadata": {},
     "output_type": "execute_result"
    }
   ],
   "source": [
    "from scipy.stats import ttest_ind\n",
    "\n",
    "ttest_ind(\n",
    "    top20_citations.groupby(\n",
    "    [top20_citations.month, top20_citations.charge_description]) \\\n",
    "    ['cited_person_age'].mean().unstack().loc[:,'Unsafe Lane Change'],\n",
    "      \n",
    "    citations.groupby(\n",
    "    [citations.month]) \\\n",
    "    ['cited_person_age'].mean()\n",
    "       \n",
    "    )"
   ]
  },
  {
   "cell_type": "code",
   "execution_count": 115,
   "metadata": {},
   "outputs": [
    {
     "data": {
      "text/plain": [
       "<matplotlib.axes._subplots.AxesSubplot at 0x232b39d6e80>"
      ]
     },
     "execution_count": 115,
     "metadata": {},
     "output_type": "execute_result"
    },
    {
     "data": {
      "image/png": "[encoded data removed]",
      "text/plain": [
       "<Figure size 360x216 with 1 Axes>"
      ]
     },
     "metadata": {},
     "output_type": "display_data"
    }
   ],
   "source": [
    "plt.figure(figsize=(5,3))\n",
    "top20_citations.groupby(\n",
    "    [top20_citations.hour_of_day, top20_citations.charge_description]) \\\n",
    "    ['cited_person_age'].mean().unstack().loc[:,'Unsafe Lane Change'].hist()"
   ]
  },
  {
   "cell_type": "code",
   "execution_count": 116,
   "metadata": {},
   "outputs": [
    {
     "name": "stderr",
     "output_type": "stream",
     "text": [
      "C:\\Users\\mrkjh\\Anaconda3\\lib\\site-packages\\scipy\\stats\\_distn_infrastructure.py:879: RuntimeWarning: invalid value encountered in greater\n",
      "  return (self.a < x) & (x < self.b)\n",
      "C:\\Users\\mrkjh\\Anaconda3\\lib\\site-packages\\scipy\\stats\\_distn_infrastructure.py:879: RuntimeWarning: invalid value encountered in less\n",
      "  return (self.a < x) & (x < self.b)\n",
      "C:\\Users\\mrkjh\\Anaconda3\\lib\\site-packages\\scipy\\stats\\_distn_infrastructure.py:1821: RuntimeWarning: invalid value encountered in less_equal\n",
      "  cond2 = cond0 & (x <= self.a)\n"
     ]
    },
    {
     "data": {
      "text/plain": [
       "Ttest_indResult(statistic=nan, pvalue=nan)"
      ]
     },
     "execution_count": 116,
     "metadata": {},
     "output_type": "execute_result"
    }
   ],
   "source": [
    "# this throws an error because there are NaN values\n",
    "ttest_ind(\n",
    "    top20_citations.groupby(\n",
    "    [top20_citations.hour_of_day, top20_citations.charge_description]) \\\n",
    "    ['cited_person_age'].mean().unstack().loc[:,'Unsafe Lane Change'],\n",
    "      \n",
    "    citations.groupby(\n",
    "    [citations.hour_of_day]) \\\n",
    "    ['cited_person_age'].mean()\n",
    "       \n",
    "    )"
   ]
  },
  {
   "cell_type": "markdown",
   "metadata": {},
   "source": [
    "#### 'Fail to Stop For Red Signal'"
   ]
  },
  {
   "cell_type": "code",
   "execution_count": 100,
   "metadata": {},
   "outputs": [
    {
     "data": {
      "text/plain": [
       "<matplotlib.axes._subplots.AxesSubplot at 0x232b31adf60>"
      ]
     },
     "execution_count": 100,
     "metadata": {},
     "output_type": "execute_result"
    },
    {
     "data": {
      "image/png": "[encoded data removed]",
      "text/plain": [
       "<Figure size 360x216 with 1 Axes>"
      ]
     },
     "metadata": {},
     "output_type": "display_data"
    }
   ],
   "source": [
    "plt.figure(figsize=(5,3))\n",
    "top20_citations.groupby(\n",
    "    [top20_citations.month, top20_citations.charge_description]) \\\n",
    "    ['cited_person_age'].mean().unstack().loc[:,'Fail to Stop For Red Signal'].hist()"
   ]
  },
  {
   "cell_type": "code",
   "execution_count": 108,
   "metadata": {},
   "outputs": [
    {
     "data": {
      "text/plain": [
       "Ttest_indResult(statistic=5.062773985245665, pvalue=4.5260691025056516e-05)"
      ]
     },
     "execution_count": 108,
     "metadata": {},
     "output_type": "execute_result"
    }
   ],
   "source": [
    "ttest_ind(\n",
    "    top20_citations.groupby(\n",
    "    [top20_citations.month, top20_citations.charge_description]) \\\n",
    "    ['cited_person_age'].mean().unstack().loc[:,'Fail to Stop For Red Signal'],\n",
    "      \n",
    "    citations.groupby(\n",
    "    [citations.month]) \\\n",
    "    ['cited_person_age'].mean()\n",
    "       \n",
    "    )"
   ]
  },
  {
   "cell_type": "code",
   "execution_count": 123,
   "metadata": {},
   "outputs": [
    {
     "data": {
      "text/plain": [
       "<matplotlib.axes._subplots.AxesSubplot at 0x232b3962cc0>"
      ]
     },
     "execution_count": 123,
     "metadata": {},
     "output_type": "execute_result"
    },
    {
     "data": {
      "image/png": "[encoded data removed]",
      "text/plain": [
       "<Figure size 360x216 with 1 Axes>"
      ]
     },
     "metadata": {},
     "output_type": "display_data"
    }
   ],
   "source": [
    "plt.figure(figsize=(5,3))\n",
    "top20_citations.groupby(\n",
    "    [top20_citations.hour_of_day, top20_citations.charge_description]) \\\n",
    "    ['cited_person_age'].mean().unstack().loc[:,'Fail to Stop For Red Signal'].hist()"
   ]
  },
  {
   "cell_type": "code",
   "execution_count": 121,
   "metadata": {},
   "outputs": [
    {
     "data": {
      "text/plain": [
       "Ttest_indResult(statistic=2.857506142948357, pvalue=0.00639228177835697)"
      ]
     },
     "execution_count": 121,
     "metadata": {},
     "output_type": "execute_result"
    }
   ],
   "source": [
    "ttest_ind(\n",
    "    top20_citations.groupby(\n",
    "    [top20_citations.hour_of_day, top20_citations.charge_description]) \\\n",
    "    ['cited_person_age'].mean().unstack().loc[:,'Fail to Stop For Red Signal'],\n",
    "      \n",
    "    citations.groupby(\n",
    "    [citations.hour_of_day]) \\\n",
    "    ['cited_person_age'].mean()\n",
    "       \n",
    "    )"
   ]
  },
  {
   "cell_type": "code",
   "execution_count": null,
   "metadata": {},
   "outputs": [],
   "source": []
  },
  {
   "cell_type": "code",
   "execution_count": null,
   "metadata": {},
   "outputs": [],
   "source": []
  },
  {
   "cell_type": "code",
   "execution_count": null,
   "metadata": {},
   "outputs": [],
   "source": []
  },
  {
   "cell_type": "code",
   "execution_count": null,
   "metadata": {},
   "outputs": [],
   "source": []
  },
  {
   "cell_type": "code",
   "execution_count": null,
   "metadata": {},
   "outputs": [],
   "source": []
  },
  {
   "cell_type": "markdown",
   "metadata": {},
   "source": [
    "## CONCLUSIONS\n",
    "There are several citations that are more frequently issued to older people, and thus should show a higher frequency during the cooler months of the year when more older visitors are in Scottsdale AZ.  Specifically \"Fail to Yield Turning Left at Intersection\" and \"Unsafe Lane Change\".  To a lesser extent \"Fail to Stop for Red Signal\" also is received by older people more frequently, however it doesn't show a pattern of seasonality similar to the other two.  On the other hand \"Disorderly Conduct-Disruptive Behavior\" and \"Display M.I. Suspended Plate\" show a high amount of age variation, but the variation does not show a pattern of seasonality.\n",
    "\n",
    "Being able to predict the mean age groups that are more likely to receive certain citations, as well as the times of year when higher numbers of certain age groups are in Scottsdale can allow the Scottsdale Police Department to more effectively police the city.  For [law firms](https://www.phoenixlawteam.com/blog/left-hand-turn/) that frequently represent clients who have been involved in an accident due to \"Fail to Yield Turning Left at Intersection\", knowing when more older people are on the streets, and that they are more susceptible to receive this citation may allow them to more accurately target advertisement of their services. \n",
    "\n",
    "#### FURTHER CONSIDERATIONS:\n",
    "1. If I were to obtain more data, say 10 years worth, would I see these same trends continue?\n",
    "1. On the other end of the spectrum from older visitors more generally during winter months, is there citation evidence of specific pockets of younger visitors?(spring break)"
   ]
  }
 ],
 "metadata": {
  "kernelspec": {
   "display_name": "Python 3",
   "language": "python",
   "name": "python3"
  },
  "language_info": {
   "codemirror_mode": {
    "name": "ipython",
    "version": 3
   },
   "file_extension": ".py",
   "mimetype": "text/x-python",
   "name": "python",
   "nbconvert_exporter": "python",
   "pygments_lexer": "ipython3",
   "version": "3.7.1"
  }
 },
 "nbformat": 4,
 "nbformat_minor": 2
}
