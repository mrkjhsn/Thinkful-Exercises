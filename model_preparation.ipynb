{
 "cells": [
  {
   "cell_type": "markdown",
   "metadata": {},
   "source": [
    "#### Exercises designed to go deeper with data cleaning as part of the feature engineering process"
   ]
  },
  {
   "cell_type": "markdown",
   "metadata": {},
   "source": [
    "SQLAlchemy is a popular Python library that's used for accessing databases and querying them. Throughout this module, we'll use it to access Thinkful's database to load the data we'll use in our examples and in the assignments."
   ]
  },
  {
   "cell_type": "code",
   "execution_count": 1,
   "metadata": {},
   "outputs": [],
   "source": [
    "import pandas as pd\n",
    "import numpy as np\n",
    "from sqlalchemy import create_engine\n",
    "import warnings\n",
    "\n",
    "warnings.filterwarnings('ignore')"
   ]
  },
  {
   "cell_type": "code",
   "execution_count": 3,
   "metadata": {},
   "outputs": [],
   "source": [
    "postgres_user = 'dsbc_student'\n",
    "postgres_pw = '7*.8G9QH21'\n",
    "postgres_host = '142.93.121.174'\n",
    "postgres_port = '5432'\n",
    "postgres_db = 'youtube'\n",
    "\n",
    "engine = create_engine('postgresql://{}:{}@{}:{}/{}'.format(\n",
    "    postgres_user, postgres_pw, postgres_host, postgres_port, postgres_db))\n",
    "\n",
    "youtube_df = pd.read_sql_query('select * from youtube',con=engine)\n",
    "\n",
    "# no need for an open connection, \n",
    "# as we're only doing a single query\n",
    "engine.dispose()"
   ]
  },
  {
   "cell_type": "code",
   "execution_count": 4,
   "metadata": {},
   "outputs": [
    {
     "data": {
      "text/html": [
       "<div>\n",
       "<style scoped>\n",
       "    .dataframe tbody tr th:only-of-type {\n",
       "        vertical-align: middle;\n",
       "    }\n",
       "\n",
       "    .dataframe tbody tr th {\n",
       "        vertical-align: top;\n",
       "    }\n",
       "\n",
       "    .dataframe thead th {\n",
       "        text-align: right;\n",
       "    }\n",
       "</style>\n",
       "<table border=\"1\" class=\"dataframe\">\n",
       "  <thead>\n",
       "    <tr style=\"text-align: right;\">\n",
       "      <th></th>\n",
       "      <th>Rank</th>\n",
       "      <th>Grade</th>\n",
       "      <th>Channel name</th>\n",
       "      <th>Video Uploads</th>\n",
       "      <th>Subscribers</th>\n",
       "      <th>Video views</th>\n",
       "    </tr>\n",
       "  </thead>\n",
       "  <tbody>\n",
       "    <tr>\n",
       "      <td>0</td>\n",
       "      <td>1st</td>\n",
       "      <td>A++</td>\n",
       "      <td>Zee TV</td>\n",
       "      <td>82757</td>\n",
       "      <td>18752951</td>\n",
       "      <td>20869786591</td>\n",
       "    </tr>\n",
       "    <tr>\n",
       "      <td>1</td>\n",
       "      <td>2nd</td>\n",
       "      <td>A++</td>\n",
       "      <td>T-Series</td>\n",
       "      <td>12661</td>\n",
       "      <td>61196302</td>\n",
       "      <td>47548839843</td>\n",
       "    </tr>\n",
       "    <tr>\n",
       "      <td>2</td>\n",
       "      <td>3rd</td>\n",
       "      <td>A++</td>\n",
       "      <td>Cocomelon - Nursery Rhymes</td>\n",
       "      <td>373</td>\n",
       "      <td>19238251</td>\n",
       "      <td>9793305082</td>\n",
       "    </tr>\n",
       "    <tr>\n",
       "      <td>3</td>\n",
       "      <td>4th</td>\n",
       "      <td>A++</td>\n",
       "      <td>SET India</td>\n",
       "      <td>27323</td>\n",
       "      <td>31180559</td>\n",
       "      <td>22675948293</td>\n",
       "    </tr>\n",
       "    <tr>\n",
       "      <td>4</td>\n",
       "      <td>5th</td>\n",
       "      <td>A++</td>\n",
       "      <td>WWE</td>\n",
       "      <td>36756</td>\n",
       "      <td>32852346</td>\n",
       "      <td>26273668433</td>\n",
       "    </tr>\n",
       "  </tbody>\n",
       "</table>\n",
       "</div>"
      ],
      "text/plain": [
       "  Rank Grade                Channel name Video Uploads Subscribers  \\\n",
       "0  1st  A++                       Zee TV         82757    18752951   \n",
       "1  2nd  A++                     T-Series         12661    61196302   \n",
       "2  3rd  A++   Cocomelon - Nursery Rhymes           373    19238251   \n",
       "3  4th  A++                    SET India         27323    31180559   \n",
       "4  5th  A++                          WWE         36756    32852346   \n",
       "\n",
       "   Video views  \n",
       "0  20869786591  \n",
       "1  47548839843  \n",
       "2   9793305082  \n",
       "3  22675948293  \n",
       "4  26273668433  "
      ]
     },
     "execution_count": 4,
     "metadata": {},
     "output_type": "execute_result"
    }
   ],
   "source": [
    "youtube_df.head()"
   ]
  },
  {
   "cell_type": "code",
   "execution_count": 6,
   "metadata": {},
   "outputs": [
    {
     "data": {
      "text/plain": [
       "Rank             object\n",
       "Grade            object\n",
       "Channel name     object\n",
       "Video Uploads    object\n",
       "Subscribers      object\n",
       "Video views       int64\n",
       "dtype: object"
      ]
     },
     "execution_count": 6,
     "metadata": {},
     "output_type": "execute_result"
    }
   ],
   "source": [
    "# dtypes is what I have traditionally used to find the data types of attributes\n",
    "youtube_df.dtypes"
   ]
  },
  {
   "cell_type": "code",
   "execution_count": 8,
   "metadata": {},
   "outputs": [
    {
     "name": "stdout",
     "output_type": "stream",
     "text": [
      "<class 'pandas.core.frame.DataFrame'>\n",
      "RangeIndex: 5000 entries, 0 to 4999\n",
      "Data columns (total 6 columns):\n",
      "Rank             5000 non-null object\n",
      "Grade            5000 non-null object\n",
      "Channel name     5000 non-null object\n",
      "Video Uploads    5000 non-null object\n",
      "Subscribers      5000 non-null object\n",
      "Video views      5000 non-null int64\n",
      "dtypes: int64(1), object(5)\n",
      "memory usage: 234.5+ KB\n"
     ]
    }
   ],
   "source": [
    "# info provides data type, along with the number row values of that type\n",
    "youtube_df.info()"
   ]
  },
  {
   "cell_type": "code",
   "execution_count": 9,
   "metadata": {},
   "outputs": [],
   "source": [
    "# replace \"--\" values to empty strings\n",
    "\n",
    "youtube_df[\"Video Uploads\"] = youtube_df[\"Video Uploads\"].apply(str.strip).replace(\"--\", np.nan)\n",
    "youtube_df[\"Video Uploads\"] = pd.to_numeric(youtube_df[\"Video Uploads\"], downcast=\"float\")\n",
    "\n",
    "youtube_df[\"Subscribers\"] = youtube_df[\"Subscribers\"].apply(str.strip).replace(\"--\", np.nan)\n",
    "youtube_df[\"Subscribers\"] = pd.to_numeric(youtube_df[\"Subscribers\"], downcast=\"float\")"
   ]
  },
  {
   "cell_type": "code",
   "execution_count": 10,
   "metadata": {},
   "outputs": [
    {
     "data": {
      "text/plain": [
       "Rank              object\n",
       "Grade             object\n",
       "Channel name      object\n",
       "Video Uploads    float32\n",
       "Subscribers      float32\n",
       "Video views        int64\n",
       "dtype: object"
      ]
     },
     "execution_count": 10,
     "metadata": {},
     "output_type": "execute_result"
    }
   ],
   "source": [
    "youtube_df.dtypes"
   ]
  },
  {
   "cell_type": "code",
   "execution_count": 11,
   "metadata": {},
   "outputs": [
    {
     "data": {
      "text/plain": [
       "Rank             0.00\n",
       "Grade            0.00\n",
       "Channel name     0.00\n",
       "Video Uploads    0.12\n",
       "Subscribers      7.74\n",
       "Video views      0.00\n",
       "dtype: float64"
      ]
     },
     "execution_count": 11,
     "metadata": {},
     "output_type": "execute_result"
    }
   ],
   "source": [
    "# what percent of values in each column are null?\n",
    "youtube_df.isnull().sum()*100/youtube_df.isnull().count()"
   ]
  },
  {
   "cell_type": "code",
   "execution_count": 13,
   "metadata": {},
   "outputs": [],
   "source": [
    "# replace white space values with nan\n",
    "youtube_df.Grade = youtube_df.Grade.apply(str.strip).replace(\"\", np.nan)"
   ]
  },
  {
   "cell_type": "markdown",
   "metadata": {},
   "source": [
    "## Continuous data - filling missing values"
   ]
  },
  {
   "cell_type": "markdown",
   "metadata": {},
   "source": [
    "### Fill missing values - Imputation"
   ]
  },
  {
   "cell_type": "code",
   "execution_count": 14,
   "metadata": {},
   "outputs": [],
   "source": [
    "# impute missing values with mean\n",
    "youtube_df[\"Video Uploads\"].fillna(youtube_df[\"Video Uploads\"].mean(), inplace=True)\n",
    "youtube_df[\"Subscribers\"].fillna(youtube_df[\"Subscribers\"].mean(), inplace=True)"
   ]
  },
  {
   "cell_type": "code",
   "execution_count": 15,
   "metadata": {},
   "outputs": [
    {
     "data": {
      "text/plain": [
       "Rank             0.000000\n",
       "Grade            0.120144\n",
       "Channel name     0.000000\n",
       "Video Uploads    0.000000\n",
       "Subscribers      0.000000\n",
       "Video views      0.000000\n",
       "dtype: float64"
      ]
     },
     "execution_count": 15,
     "metadata": {},
     "output_type": "execute_result"
    }
   ],
   "source": [
    "# now compare the percent of null values\n",
    "youtube_df.isnull().sum()*100/youtube_df.count()"
   ]
  },
  {
   "cell_type": "code",
   "execution_count": null,
   "metadata": {},
   "outputs": [],
   "source": []
  },
  {
   "cell_type": "markdown",
   "metadata": {},
   "source": [
    "### Fill missing values - Interpolation\n",
    "generally used for time series data where we are expecting continuity in a variable"
   ]
  },
  {
   "cell_type": "markdown",
   "metadata": {},
   "source": [
    "## Categorical data - filling missing values\n",
    "1. we can't use something like mean\n",
    "1. instead we could assign a value like \"other\" for all the miscelaneous categories\n"
   ]
  },
  {
   "cell_type": "code",
   "execution_count": 16,
   "metadata": {},
   "outputs": [
    {
     "data": {
      "text/plain": [
       "array(['A++', 'A+', 'A', 'A-', 'B+'], dtype=object)"
      ]
     },
     "execution_count": 16,
     "metadata": {},
     "output_type": "execute_result"
    }
   ],
   "source": [
    "# fill in missing values in Category with the the value of the next highest-ranked channel's category\n",
    "grade_list = youtube_df.Grade\n",
    "\n",
    "for i in range(0, len(youtube_df.Grade)):\n",
    "    if pd.isnull(youtube_df.Grade[i]):\n",
    "        youtube_df.Grade[i] = youtube_df.Grade[i-1]\n",
    "        \n",
    "youtube_df[\"Grade\"].unique()"
   ]
  },
  {
   "cell_type": "markdown",
   "metadata": {},
   "source": [
    "## Data Cleaning/Validation Assignment\n",
    "\n",
    "1. Determine all the variable types and find the fraction of the missing values for each variable.\n",
    "2. Notice that the data has a time dimension (year). For this assignment, forget about time and treat all the observations as if they're from the same year. Choose a strategy to deal with the missing values for each variables. For which variables would filling in the missing values with some value make sense? For which might tossing out the records entirely make sense?\n",
    "3. Now, take into account the time factor. Replicate your second answer but this time fill in the missing values by using a statistic that is calculated within the year of the observation. For example, if you want to fill a missing value for a variable with the mean of that variable, calculate the mean by using *only* the observations for that specific year.\n",
    "4. This time, fill in the missing values using interpolation (extrapolation).\n",
    "5. Compare your results for the 2nd, 3rd, and 4th questions. Do you find any meaningful differences?"
   ]
  },
  {
   "cell_type": "code",
   "execution_count": 18,
   "metadata": {},
   "outputs": [],
   "source": [
    "postgres_user = 'dsbc_student'\n",
    "postgres_pw = '7*.8G9QH21'\n",
    "postgres_host = '142.93.121.174'\n",
    "postgres_port = '5432'\n",
    "postgres_db = 'useducation'\n",
    "\n",
    "engine = create_engine('postgresql://{}:{}@{}:{}/{}'.format(\n",
    "    postgres_user, postgres_pw, postgres_host, postgres_port, postgres_db))\n",
    "\n",
    "education_df = pd.read_sql_query('select * from useducation',con=engine)\n",
    "\n",
    "# no need for an open connection, \n",
    "# as we're only doing a single query\n",
    "engine.dispose()"
   ]
  },
  {
   "cell_type": "code",
   "execution_count": 23,
   "metadata": {},
   "outputs": [
    {
     "data": {
      "text/html": [
       "<div>\n",
       "<style scoped>\n",
       "    .dataframe tbody tr th:only-of-type {\n",
       "        vertical-align: middle;\n",
       "    }\n",
       "\n",
       "    .dataframe tbody tr th {\n",
       "        vertical-align: top;\n",
       "    }\n",
       "\n",
       "    .dataframe thead th {\n",
       "        text-align: right;\n",
       "    }\n",
       "</style>\n",
       "<table border=\"1\" class=\"dataframe\">\n",
       "  <thead>\n",
       "    <tr style=\"text-align: right;\">\n",
       "      <th></th>\n",
       "      <th>PRIMARY_KEY</th>\n",
       "      <th>STATE</th>\n",
       "      <th>YEAR</th>\n",
       "      <th>ENROLL</th>\n",
       "      <th>TOTAL_REVENUE</th>\n",
       "      <th>FEDERAL_REVENUE</th>\n",
       "      <th>STATE_REVENUE</th>\n",
       "      <th>LOCAL_REVENUE</th>\n",
       "      <th>TOTAL_EXPENDITURE</th>\n",
       "      <th>INSTRUCTION_EXPENDITURE</th>\n",
       "      <th>...</th>\n",
       "      <th>GRADES_4_G</th>\n",
       "      <th>GRADES_8_G</th>\n",
       "      <th>GRADES_12_G</th>\n",
       "      <th>GRADES_1_8_G</th>\n",
       "      <th>GRADES_9_12_G</th>\n",
       "      <th>GRADES_ALL_G</th>\n",
       "      <th>AVG_MATH_4_SCORE</th>\n",
       "      <th>AVG_MATH_8_SCORE</th>\n",
       "      <th>AVG_READING_4_SCORE</th>\n",
       "      <th>AVG_READING_8_SCORE</th>\n",
       "    </tr>\n",
       "  </thead>\n",
       "  <tbody>\n",
       "    <tr>\n",
       "      <td>0</td>\n",
       "      <td>1992_ALABAMA</td>\n",
       "      <td>ALABAMA</td>\n",
       "      <td>1992</td>\n",
       "      <td>NaN</td>\n",
       "      <td>2678885.0</td>\n",
       "      <td>304177.0</td>\n",
       "      <td>1659028.0</td>\n",
       "      <td>715680.0</td>\n",
       "      <td>2653798.0</td>\n",
       "      <td>1481703.0</td>\n",
       "      <td>...</td>\n",
       "      <td>57948.0</td>\n",
       "      <td>58025.0</td>\n",
       "      <td>41167.0</td>\n",
       "      <td>471564.0</td>\n",
       "      <td>196386.0</td>\n",
       "      <td>676174.0</td>\n",
       "      <td>208.327876</td>\n",
       "      <td>252.187522</td>\n",
       "      <td>207.963517</td>\n",
       "      <td>NaN</td>\n",
       "    </tr>\n",
       "    <tr>\n",
       "      <td>1</td>\n",
       "      <td>1992_ALASKA</td>\n",
       "      <td>ALASKA</td>\n",
       "      <td>1992</td>\n",
       "      <td>NaN</td>\n",
       "      <td>1049591.0</td>\n",
       "      <td>106780.0</td>\n",
       "      <td>720711.0</td>\n",
       "      <td>222100.0</td>\n",
       "      <td>972488.0</td>\n",
       "      <td>498362.0</td>\n",
       "      <td>...</td>\n",
       "      <td>9748.0</td>\n",
       "      <td>8789.0</td>\n",
       "      <td>6714.0</td>\n",
       "      <td>79117.0</td>\n",
       "      <td>30847.0</td>\n",
       "      <td>112335.0</td>\n",
       "      <td>NaN</td>\n",
       "      <td>NaN</td>\n",
       "      <td>NaN</td>\n",
       "      <td>258.859712</td>\n",
       "    </tr>\n",
       "    <tr>\n",
       "      <td>2</td>\n",
       "      <td>1992_ARIZONA</td>\n",
       "      <td>ARIZONA</td>\n",
       "      <td>1992</td>\n",
       "      <td>NaN</td>\n",
       "      <td>3258079.0</td>\n",
       "      <td>297888.0</td>\n",
       "      <td>1369815.0</td>\n",
       "      <td>1590376.0</td>\n",
       "      <td>3401580.0</td>\n",
       "      <td>1435908.0</td>\n",
       "      <td>...</td>\n",
       "      <td>55433.0</td>\n",
       "      <td>49081.0</td>\n",
       "      <td>37410.0</td>\n",
       "      <td>437127.0</td>\n",
       "      <td>175210.0</td>\n",
       "      <td>614881.0</td>\n",
       "      <td>215.253932</td>\n",
       "      <td>265.366278</td>\n",
       "      <td>206.212716</td>\n",
       "      <td>262.169895</td>\n",
       "    </tr>\n",
       "    <tr>\n",
       "      <td>3</td>\n",
       "      <td>1992_ARKANSAS</td>\n",
       "      <td>ARKANSAS</td>\n",
       "      <td>1992</td>\n",
       "      <td>NaN</td>\n",
       "      <td>1711959.0</td>\n",
       "      <td>178571.0</td>\n",
       "      <td>958785.0</td>\n",
       "      <td>574603.0</td>\n",
       "      <td>1743022.0</td>\n",
       "      <td>964323.0</td>\n",
       "      <td>...</td>\n",
       "      <td>34632.0</td>\n",
       "      <td>36011.0</td>\n",
       "      <td>27651.0</td>\n",
       "      <td>281338.0</td>\n",
       "      <td>123113.0</td>\n",
       "      <td>405259.0</td>\n",
       "      <td>210.206028</td>\n",
       "      <td>256.312090</td>\n",
       "      <td>208.634458</td>\n",
       "      <td>264.619665</td>\n",
       "    </tr>\n",
       "    <tr>\n",
       "      <td>4</td>\n",
       "      <td>1992_CALIFORNIA</td>\n",
       "      <td>CALIFORNIA</td>\n",
       "      <td>1992</td>\n",
       "      <td>NaN</td>\n",
       "      <td>26260025.0</td>\n",
       "      <td>2072470.0</td>\n",
       "      <td>16546514.0</td>\n",
       "      <td>7641041.0</td>\n",
       "      <td>27138832.0</td>\n",
       "      <td>14358922.0</td>\n",
       "      <td>...</td>\n",
       "      <td>418418.0</td>\n",
       "      <td>363296.0</td>\n",
       "      <td>270675.0</td>\n",
       "      <td>3286034.0</td>\n",
       "      <td>1372011.0</td>\n",
       "      <td>4717112.0</td>\n",
       "      <td>208.398961</td>\n",
       "      <td>260.892247</td>\n",
       "      <td>196.764414</td>\n",
       "      <td>NaN</td>\n",
       "    </tr>\n",
       "  </tbody>\n",
       "</table>\n",
       "<p>5 rows × 25 columns</p>\n",
       "</div>"
      ],
      "text/plain": [
       "       PRIMARY_KEY       STATE  YEAR  ENROLL  TOTAL_REVENUE  FEDERAL_REVENUE  \\\n",
       "0     1992_ALABAMA     ALABAMA  1992     NaN      2678885.0         304177.0   \n",
       "1      1992_ALASKA      ALASKA  1992     NaN      1049591.0         106780.0   \n",
       "2     1992_ARIZONA     ARIZONA  1992     NaN      3258079.0         297888.0   \n",
       "3    1992_ARKANSAS    ARKANSAS  1992     NaN      1711959.0         178571.0   \n",
       "4  1992_CALIFORNIA  CALIFORNIA  1992     NaN     26260025.0        2072470.0   \n",
       "\n",
       "   STATE_REVENUE  LOCAL_REVENUE  TOTAL_EXPENDITURE  INSTRUCTION_EXPENDITURE  \\\n",
       "0      1659028.0       715680.0          2653798.0                1481703.0   \n",
       "1       720711.0       222100.0           972488.0                 498362.0   \n",
       "2      1369815.0      1590376.0          3401580.0                1435908.0   \n",
       "3       958785.0       574603.0          1743022.0                 964323.0   \n",
       "4     16546514.0      7641041.0         27138832.0               14358922.0   \n",
       "\n",
       "   ...  GRADES_4_G  GRADES_8_G  GRADES_12_G  GRADES_1_8_G  GRADES_9_12_G  \\\n",
       "0  ...     57948.0     58025.0      41167.0      471564.0       196386.0   \n",
       "1  ...      9748.0      8789.0       6714.0       79117.0        30847.0   \n",
       "2  ...     55433.0     49081.0      37410.0      437127.0       175210.0   \n",
       "3  ...     34632.0     36011.0      27651.0      281338.0       123113.0   \n",
       "4  ...    418418.0    363296.0     270675.0     3286034.0      1372011.0   \n",
       "\n",
       "   GRADES_ALL_G  AVG_MATH_4_SCORE  AVG_MATH_8_SCORE  AVG_READING_4_SCORE  \\\n",
       "0      676174.0        208.327876        252.187522           207.963517   \n",
       "1      112335.0               NaN               NaN                  NaN   \n",
       "2      614881.0        215.253932        265.366278           206.212716   \n",
       "3      405259.0        210.206028        256.312090           208.634458   \n",
       "4     4717112.0        208.398961        260.892247           196.764414   \n",
       "\n",
       "   AVG_READING_8_SCORE  \n",
       "0                  NaN  \n",
       "1           258.859712  \n",
       "2           262.169895  \n",
       "3           264.619665  \n",
       "4                  NaN  \n",
       "\n",
       "[5 rows x 25 columns]"
      ]
     },
     "execution_count": 23,
     "metadata": {},
     "output_type": "execute_result"
    }
   ],
   "source": [
    "# glance at the dataframe\n",
    "education_df.head()"
   ]
  },
  {
   "cell_type": "code",
   "execution_count": 22,
   "metadata": {},
   "outputs": [
    {
     "data": {
      "text/plain": [
       "(1492, 25)"
      ]
     },
     "execution_count": 22,
     "metadata": {},
     "output_type": "execute_result"
    }
   ],
   "source": [
    "# how large is the dataset?\n",
    "education_df.shape"
   ]
  },
  {
   "cell_type": "markdown",
   "metadata": {},
   "source": [
    "### 1. Determine all the variable types and find the fraction of the missing values for each variable."
   ]
  },
  {
   "cell_type": "code",
   "execution_count": 24,
   "metadata": {},
   "outputs": [
    {
     "data": {
      "text/plain": [
       "PRIMARY_KEY                      object\n",
       "STATE                            object\n",
       "YEAR                              int64\n",
       "ENROLL                          float64\n",
       "TOTAL_REVENUE                   float64\n",
       "FEDERAL_REVENUE                 float64\n",
       "STATE_REVENUE                   float64\n",
       "LOCAL_REVENUE                   float64\n",
       "TOTAL_EXPENDITURE               float64\n",
       "INSTRUCTION_EXPENDITURE         float64\n",
       "SUPPORT_SERVICES_EXPENDITURE    float64\n",
       "OTHER_EXPENDITURE               float64\n",
       "CAPITAL_OUTLAY_EXPENDITURE      float64\n",
       "GRADES_PK_G                     float64\n",
       "GRADES_KG_G                     float64\n",
       "GRADES_4_G                      float64\n",
       "GRADES_8_G                      float64\n",
       "GRADES_12_G                     float64\n",
       "GRADES_1_8_G                    float64\n",
       "GRADES_9_12_G                   float64\n",
       "GRADES_ALL_G                    float64\n",
       "AVG_MATH_4_SCORE                float64\n",
       "AVG_MATH_8_SCORE                float64\n",
       "AVG_READING_4_SCORE             float64\n",
       "AVG_READING_8_SCORE             float64\n",
       "dtype: object"
      ]
     },
     "execution_count": 24,
     "metadata": {},
     "output_type": "execute_result"
    }
   ],
   "source": [
    "# what are the variable types?\n",
    "education_df.dtypes"
   ]
  },
  {
   "cell_type": "code",
   "execution_count": 36,
   "metadata": {},
   "outputs": [
    {
     "data": {
      "text/plain": [
       "PRIMARY_KEY                       0\n",
       "STATE                             0\n",
       "YEAR                              0\n",
       "ENROLL                          263\n",
       "TOTAL_REVENUE                   212\n",
       "FEDERAL_REVENUE                 212\n",
       "STATE_REVENUE                   212\n",
       "LOCAL_REVENUE                   212\n",
       "TOTAL_EXPENDITURE               212\n",
       "INSTRUCTION_EXPENDITURE         212\n",
       "SUPPORT_SERVICES_EXPENDITURE    212\n",
       "OTHER_EXPENDITURE               263\n",
       "CAPITAL_OUTLAY_EXPENDITURE      212\n",
       "GRADES_PK_G                     173\n",
       "GRADES_KG_G                     132\n",
       "GRADES_4_G                      131\n",
       "GRADES_8_G                      131\n",
       "GRADES_12_G                     131\n",
       "GRADES_1_8_G                    131\n",
       "GRADES_9_12_G                   131\n",
       "GRADES_ALL_G                    173\n",
       "AVG_MATH_4_SCORE                956\n",
       "AVG_MATH_8_SCORE                960\n",
       "AVG_READING_4_SCORE             959\n",
       "AVG_READING_8_SCORE             994\n",
       "dtype: int64"
      ]
     },
     "execution_count": 36,
     "metadata": {},
     "output_type": "execute_result"
    }
   ],
   "source": [
    "education_df.isna().sum()"
   ]
  },
  {
   "cell_type": "code",
   "execution_count": 63,
   "metadata": {},
   "outputs": [
    {
     "data": {
      "text/plain": [
       "PRIMARY_KEY                       0\n",
       "STATE                             0\n",
       "YEAR                              0\n",
       "ENROLL                          263\n",
       "TOTAL_REVENUE                   212\n",
       "FEDERAL_REVENUE                 212\n",
       "STATE_REVENUE                   212\n",
       "LOCAL_REVENUE                   212\n",
       "TOTAL_EXPENDITURE               212\n",
       "INSTRUCTION_EXPENDITURE         212\n",
       "SUPPORT_SERVICES_EXPENDITURE    212\n",
       "OTHER_EXPENDITURE               263\n",
       "CAPITAL_OUTLAY_EXPENDITURE      212\n",
       "GRADES_PK_G                     173\n",
       "GRADES_KG_G                     132\n",
       "GRADES_4_G                      131\n",
       "GRADES_8_G                      131\n",
       "GRADES_12_G                     131\n",
       "GRADES_1_8_G                    131\n",
       "GRADES_9_12_G                   131\n",
       "GRADES_ALL_G                    173\n",
       "AVG_MATH_4_SCORE                956\n",
       "AVG_MATH_8_SCORE                960\n",
       "AVG_READING_4_SCORE             959\n",
       "AVG_READING_8_SCORE             994\n",
       "dtype: int64"
      ]
     },
     "execution_count": 63,
     "metadata": {},
     "output_type": "execute_result"
    }
   ],
   "source": [
    "# how many null values are in each column?\n",
    "education_df.isnull().sum()"
   ]
  },
  {
   "cell_type": "code",
   "execution_count": 60,
   "metadata": {},
   "outputs": [
    {
     "data": {
      "text/plain": [
       "PRIMARY_KEY                     1492\n",
       "STATE                           1492\n",
       "YEAR                            1492\n",
       "ENROLL                          1492\n",
       "TOTAL_REVENUE                   1492\n",
       "FEDERAL_REVENUE                 1492\n",
       "STATE_REVENUE                   1492\n",
       "LOCAL_REVENUE                   1492\n",
       "TOTAL_EXPENDITURE               1492\n",
       "INSTRUCTION_EXPENDITURE         1492\n",
       "SUPPORT_SERVICES_EXPENDITURE    1492\n",
       "OTHER_EXPENDITURE               1492\n",
       "CAPITAL_OUTLAY_EXPENDITURE      1492\n",
       "GRADES_PK_G                     1492\n",
       "GRADES_KG_G                     1492\n",
       "GRADES_4_G                      1492\n",
       "GRADES_8_G                      1492\n",
       "GRADES_12_G                     1492\n",
       "GRADES_1_8_G                    1492\n",
       "GRADES_9_12_G                   1492\n",
       "GRADES_ALL_G                    1492\n",
       "AVG_MATH_4_SCORE                1492\n",
       "AVG_MATH_8_SCORE                1492\n",
       "AVG_READING_4_SCORE             1492\n",
       "AVG_READING_8_SCORE             1492\n",
       "dtype: int64"
      ]
     },
     "execution_count": 60,
     "metadata": {},
     "output_type": "execute_result"
    }
   ],
   "source": [
    "education_df.isnull().count()"
   ]
  },
  {
   "cell_type": "code",
   "execution_count": 55,
   "metadata": {},
   "outputs": [
    {
     "data": {
      "text/plain": [
       "AVG_MATH_4_SCORE                0.640751\n",
       "AVG_MATH_8_SCORE                0.643432\n",
       "AVG_READING_4_SCORE             0.642761\n",
       "AVG_READING_8_SCORE             0.666220\n",
       "CAPITAL_OUTLAY_EXPENDITURE      0.142091\n",
       "ENROLL                          0.176273\n",
       "FEDERAL_REVENUE                 0.142091\n",
       "GRADES_12_G                     0.087802\n",
       "GRADES_1_8_G                    0.087802\n",
       "GRADES_4_G                      0.087802\n",
       "GRADES_8_G                      0.087802\n",
       "GRADES_9_12_G                   0.087802\n",
       "GRADES_ALL_G                    0.115952\n",
       "GRADES_KG_G                     0.088472\n",
       "GRADES_PK_G                     0.115952\n",
       "INSTRUCTION_EXPENDITURE         0.142091\n",
       "LOCAL_REVENUE                   0.142091\n",
       "OTHER_EXPENDITURE               0.176273\n",
       "PRIMARY_KEY                     0.000000\n",
       "STATE                           0.000000\n",
       "STATE_REVENUE                   0.142091\n",
       "SUPPORT_SERVICES_EXPENDITURE    0.142091\n",
       "TOTAL_EXPENDITURE               0.142091\n",
       "TOTAL_REVENUE                   0.142091\n",
       "YEAR                            0.000000\n",
       "dtype: float64"
      ]
     },
     "execution_count": 55,
     "metadata": {},
     "output_type": "execute_result"
    }
   ],
   "source": [
    "# compare the percent of null values\n",
    "education_df.isnull().sum()/education_df.isnull().count().sort_values(ascending=False)"
   ]
  },
  {
   "cell_type": "markdown",
   "metadata": {},
   "source": [
    "### 2. Notice that the data has a time dimension (year). For this assignment, forget about time and **treat all the observations as if they're from the same year**. Choose a strategy to deal with the missing values for each variables. For which variables would filling in the missing values with some value make sense? For which might tossing out the records entirely make sense?"
   ]
  },
  {
   "cell_type": "markdown",
   "metadata": {},
   "source": [
    "It makes sense to impute the mean for all the currency attributes(Total_Revenue, Federal_Revenue, ect.)\n",
    "\n",
    "However, for math and reading scores that have over half nan values, this might be misleading."
   ]
  },
  {
   "cell_type": "code",
   "execution_count": 78,
   "metadata": {},
   "outputs": [
    {
     "data": {
      "text/plain": [
       "Index(['ENROLL', 'TOTAL_REVENUE', 'FEDERAL_REVENUE', 'STATE_REVENUE',\n",
       "       'LOCAL_REVENUE', 'TOTAL_EXPENDITURE', 'INSTRUCTION_EXPENDITURE',\n",
       "       'SUPPORT_SERVICES_EXPENDITURE', 'OTHER_EXPENDITURE',\n",
       "       'CAPITAL_OUTLAY_EXPENDITURE', 'GRADES_PK_G', 'GRADES_KG_G',\n",
       "       'GRADES_4_G', 'GRADES_8_G', 'GRADES_12_G', 'GRADES_1_8_G',\n",
       "       'GRADES_9_12_G'],\n",
       "      dtype='object')"
      ]
     },
     "execution_count": 78,
     "metadata": {},
     "output_type": "execute_result"
    }
   ],
   "source": [
    "education_df2.columns[3:20]"
   ]
  },
  {
   "cell_type": "code",
   "execution_count": 81,
   "metadata": {},
   "outputs": [],
   "source": [
    "# For example, this doesn't work:\n",
    "# for col in fill_list:\n",
    "#     education2_df.loc[:, col].fillna(education2_df.loc[:, col].mean(), inplace=True)\n",
    "\n",
    "education_df2 = education_df.copy()\n",
    "\n",
    "# this works\n",
    "for col in education_df2.columns[3:30]:\n",
    "    education_df2.loc[:, col] = education_df2.loc[:, col].fillna(education_df2.loc[:, col].mean())"
   ]
  },
  {
   "cell_type": "code",
   "execution_count": 82,
   "metadata": {},
   "outputs": [
    {
     "data": {
      "text/plain": [
       "PRIMARY_KEY                     0\n",
       "STATE                           0\n",
       "YEAR                            0\n",
       "ENROLL                          0\n",
       "TOTAL_REVENUE                   0\n",
       "FEDERAL_REVENUE                 0\n",
       "STATE_REVENUE                   0\n",
       "LOCAL_REVENUE                   0\n",
       "TOTAL_EXPENDITURE               0\n",
       "INSTRUCTION_EXPENDITURE         0\n",
       "SUPPORT_SERVICES_EXPENDITURE    0\n",
       "OTHER_EXPENDITURE               0\n",
       "CAPITAL_OUTLAY_EXPENDITURE      0\n",
       "GRADES_PK_G                     0\n",
       "GRADES_KG_G                     0\n",
       "GRADES_4_G                      0\n",
       "GRADES_8_G                      0\n",
       "GRADES_12_G                     0\n",
       "GRADES_1_8_G                    0\n",
       "GRADES_9_12_G                   0\n",
       "GRADES_ALL_G                    0\n",
       "AVG_MATH_4_SCORE                0\n",
       "AVG_MATH_8_SCORE                0\n",
       "AVG_READING_4_SCORE             0\n",
       "AVG_READING_8_SCORE             0\n",
       "dtype: int64"
      ]
     },
     "execution_count": 82,
     "metadata": {},
     "output_type": "execute_result"
    }
   ],
   "source": [
    "# verify that the fillna above worked properly\n",
    "education_df2.isnull().sum()"
   ]
  },
  {
   "cell_type": "markdown",
   "metadata": {},
   "source": [
    "### 3. Now, take into account the time factor. Replicate your second answer but this time fill in the missing values by using a statistic that is calculated within the year of the observation. For example, if you want to fill a missing value for a variable with the mean of that variable, calculate the mean by using *only* the observations for that specific year."
   ]
  },
  {
   "cell_type": "code",
   "execution_count": 105,
   "metadata": {},
   "outputs": [],
   "source": [
    "# create copy\n",
    "education_df3 = education_df.copy()"
   ]
  },
  {
   "cell_type": "code",
   "execution_count": 107,
   "metadata": {},
   "outputs": [
    {
     "data": {
      "text/plain": [
       "PRIMARY_KEY                       0\n",
       "STATE                             0\n",
       "YEAR                              0\n",
       "ENROLL                          263\n",
       "TOTAL_REVENUE                   212\n",
       "FEDERAL_REVENUE                 212\n",
       "STATE_REVENUE                   212\n",
       "LOCAL_REVENUE                   212\n",
       "TOTAL_EXPENDITURE               212\n",
       "INSTRUCTION_EXPENDITURE         212\n",
       "SUPPORT_SERVICES_EXPENDITURE    212\n",
       "OTHER_EXPENDITURE               263\n",
       "CAPITAL_OUTLAY_EXPENDITURE      212\n",
       "GRADES_PK_G                     173\n",
       "GRADES_KG_G                     132\n",
       "GRADES_4_G                      131\n",
       "GRADES_8_G                      131\n",
       "GRADES_12_G                     131\n",
       "GRADES_1_8_G                    131\n",
       "GRADES_9_12_G                   131\n",
       "GRADES_ALL_G                    173\n",
       "AVG_MATH_4_SCORE                956\n",
       "AVG_MATH_8_SCORE                960\n",
       "AVG_READING_4_SCORE             959\n",
       "AVG_READING_8_SCORE             994\n",
       "dtype: int64"
      ]
     },
     "execution_count": 107,
     "metadata": {},
     "output_type": "execute_result"
    }
   ],
   "source": [
    "education_df3.isnull().sum()"
   ]
  },
  {
   "cell_type": "code",
   "execution_count": 98,
   "metadata": {},
   "outputs": [
    {
     "data": {
      "text/plain": [
       "Index(['ENROLL', 'TOTAL_REVENUE', 'FEDERAL_REVENUE', 'STATE_REVENUE',\n",
       "       'LOCAL_REVENUE', 'TOTAL_EXPENDITURE', 'INSTRUCTION_EXPENDITURE',\n",
       "       'SUPPORT_SERVICES_EXPENDITURE', 'OTHER_EXPENDITURE',\n",
       "       'CAPITAL_OUTLAY_EXPENDITURE', 'GRADES_PK_G', 'GRADES_KG_G',\n",
       "       'GRADES_4_G', 'GRADES_8_G', 'GRADES_12_G', 'GRADES_1_8_G',\n",
       "       'GRADES_9_12_G', 'GRADES_ALL_G', 'AVG_MATH_4_SCORE', 'AVG_MATH_8_SCORE',\n",
       "       'AVG_READING_4_SCORE', 'AVG_READING_8_SCORE'],\n",
       "      dtype='object')"
      ]
     },
     "execution_count": 98,
     "metadata": {},
     "output_type": "execute_result"
    }
   ],
   "source": [
    "education_df3.columns[3:30]"
   ]
  },
  {
   "cell_type": "code",
   "execution_count": 93,
   "metadata": {},
   "outputs": [],
   "source": [
    "years = education_df3.YEAR.unique()"
   ]
  },
  {
   "cell_type": "code",
   "execution_count": 114,
   "metadata": {},
   "outputs": [
    {
     "data": {
      "text/plain": [
       "array([1992, 2001, 1993, 2016, 1994, 1995, 1996, 1997, 1998, 1999, 2017,\n",
       "       2000, 2002, 2003, 2004, 2005, 2006, 2007, 2008, 2009, 2010, 2011,\n",
       "       2012, 2013, 2014, 2015], dtype=int64)"
      ]
     },
     "execution_count": 114,
     "metadata": {},
     "output_type": "execute_result"
    }
   ],
   "source": [
    "years"
   ]
  },
  {
   "cell_type": "code",
   "execution_count": 103,
   "metadata": {},
   "outputs": [],
   "source": [
    "# for each year find the mean, then fill that into nan rows\n",
    "# super powerful way to do this to a bunch of columns at once\n",
    "\n",
    "for col in education_df3.columns[3:30]:\n",
    "    for year in years:\n",
    "        education_df3.loc[education_df3[\"YEAR\"] == year, col] = \\\n",
    "        education_df3.loc[education_df3[\"YEAR\"] == year, col].fillna(\n",
    "            education_df3[education_df3[\"YEAR\"] == year][col].mean())"
   ]
  },
  {
   "cell_type": "code",
   "execution_count": 104,
   "metadata": {},
   "outputs": [
    {
     "data": {
      "text/plain": [
       "PRIMARY_KEY                       0\n",
       "STATE                             0\n",
       "YEAR                              0\n",
       "ENROLL                          107\n",
       "TOTAL_REVENUE                    51\n",
       "FEDERAL_REVENUE                  51\n",
       "STATE_REVENUE                    51\n",
       "LOCAL_REVENUE                    51\n",
       "TOTAL_EXPENDITURE                51\n",
       "INSTRUCTION_EXPENDITURE          51\n",
       "SUPPORT_SERVICES_EXPENDITURE     51\n",
       "OTHER_EXPENDITURE               107\n",
       "CAPITAL_OUTLAY_EXPENDITURE       51\n",
       "GRADES_PK_G                     102\n",
       "GRADES_KG_G                     102\n",
       "GRADES_4_G                      102\n",
       "GRADES_8_G                      102\n",
       "GRADES_12_G                     102\n",
       "GRADES_1_8_G                    102\n",
       "GRADES_9_12_G                   102\n",
       "GRADES_ALL_G                    102\n",
       "AVG_MATH_4_SCORE                860\n",
       "AVG_MATH_8_SCORE                860\n",
       "AVG_READING_4_SCORE             860\n",
       "AVG_READING_8_SCORE             860\n",
       "dtype: int64"
      ]
     },
     "execution_count": 104,
     "metadata": {},
     "output_type": "execute_result"
    }
   ],
   "source": [
    "# but for some reason this isn't filling in all null values\n",
    "\n",
    "education_df3.isnull().sum()"
   ]
  },
  {
   "cell_type": "code",
   "execution_count": 117,
   "metadata": {},
   "outputs": [],
   "source": [
    "# focus on just one column\n",
    "\n",
    "for year in years:\n",
    "    education_df3.loc[education_df3[\"YEAR\"] == year, 'ENROLL'] = \\\n",
    "    education_df3.loc[education_df3[\"YEAR\"] == year, 'ENROLL'].fillna(\n",
    "    education_df3[education_df3[\"YEAR\"] == year]['ENROLL'].mean())"
   ]
  },
  {
   "cell_type": "code",
   "execution_count": 119,
   "metadata": {},
   "outputs": [
    {
     "data": {
      "text/plain": [
       "PRIMARY_KEY                       0\n",
       "STATE                             0\n",
       "YEAR                              0\n",
       "ENROLL                          107\n",
       "TOTAL_REVENUE                   212\n",
       "FEDERAL_REVENUE                 212\n",
       "STATE_REVENUE                   212\n",
       "LOCAL_REVENUE                   212\n",
       "TOTAL_EXPENDITURE               212\n",
       "INSTRUCTION_EXPENDITURE         212\n",
       "SUPPORT_SERVICES_EXPENDITURE    212\n",
       "OTHER_EXPENDITURE               263\n",
       "CAPITAL_OUTLAY_EXPENDITURE      212\n",
       "GRADES_PK_G                     173\n",
       "GRADES_KG_G                     132\n",
       "GRADES_4_G                      131\n",
       "GRADES_8_G                      131\n",
       "GRADES_12_G                     131\n",
       "GRADES_1_8_G                    131\n",
       "GRADES_9_12_G                   131\n",
       "GRADES_ALL_G                    173\n",
       "AVG_MATH_4_SCORE                956\n",
       "AVG_MATH_8_SCORE                960\n",
       "AVG_READING_4_SCORE             959\n",
       "AVG_READING_8_SCORE             994\n",
       "dtype: int64"
      ]
     },
     "execution_count": 119,
     "metadata": {},
     "output_type": "execute_result"
    }
   ],
   "source": [
    "education_df3.isnull().sum()"
   ]
  },
  {
   "cell_type": "code",
   "execution_count": null,
   "metadata": {},
   "outputs": [],
   "source": []
  },
  {
   "cell_type": "code",
   "execution_count": null,
   "metadata": {},
   "outputs": [],
   "source": []
  },
  {
   "cell_type": "code",
   "execution_count": null,
   "metadata": {},
   "outputs": [],
   "source": []
  },
  {
   "cell_type": "markdown",
   "metadata": {},
   "source": [
    "### 4. This time, fill in the missing values using interpolation (extrapolation).\n"
   ]
  },
  {
   "cell_type": "code",
   "execution_count": 108,
   "metadata": {},
   "outputs": [],
   "source": [
    "education_df4 = education_df.copy()"
   ]
  },
  {
   "cell_type": "code",
   "execution_count": 109,
   "metadata": {},
   "outputs": [
    {
     "data": {
      "text/html": [
       "<div>\n",
       "<style scoped>\n",
       "    .dataframe tbody tr th:only-of-type {\n",
       "        vertical-align: middle;\n",
       "    }\n",
       "\n",
       "    .dataframe tbody tr th {\n",
       "        vertical-align: top;\n",
       "    }\n",
       "\n",
       "    .dataframe thead th {\n",
       "        text-align: right;\n",
       "    }\n",
       "</style>\n",
       "<table border=\"1\" class=\"dataframe\">\n",
       "  <thead>\n",
       "    <tr style=\"text-align: right;\">\n",
       "      <th></th>\n",
       "      <th>PRIMARY_KEY</th>\n",
       "      <th>STATE</th>\n",
       "      <th>YEAR</th>\n",
       "      <th>ENROLL</th>\n",
       "      <th>TOTAL_REVENUE</th>\n",
       "      <th>FEDERAL_REVENUE</th>\n",
       "      <th>STATE_REVENUE</th>\n",
       "      <th>LOCAL_REVENUE</th>\n",
       "      <th>TOTAL_EXPENDITURE</th>\n",
       "      <th>INSTRUCTION_EXPENDITURE</th>\n",
       "      <th>...</th>\n",
       "      <th>GRADES_4_G</th>\n",
       "      <th>GRADES_8_G</th>\n",
       "      <th>GRADES_12_G</th>\n",
       "      <th>GRADES_1_8_G</th>\n",
       "      <th>GRADES_9_12_G</th>\n",
       "      <th>GRADES_ALL_G</th>\n",
       "      <th>AVG_MATH_4_SCORE</th>\n",
       "      <th>AVG_MATH_8_SCORE</th>\n",
       "      <th>AVG_READING_4_SCORE</th>\n",
       "      <th>AVG_READING_8_SCORE</th>\n",
       "    </tr>\n",
       "  </thead>\n",
       "  <tbody>\n",
       "    <tr>\n",
       "      <td>0</td>\n",
       "      <td>1992_ALABAMA</td>\n",
       "      <td>ALABAMA</td>\n",
       "      <td>1992</td>\n",
       "      <td>NaN</td>\n",
       "      <td>2678885.0</td>\n",
       "      <td>304177.0</td>\n",
       "      <td>1659028.0</td>\n",
       "      <td>715680.0</td>\n",
       "      <td>2653798.0</td>\n",
       "      <td>1481703.0</td>\n",
       "      <td>...</td>\n",
       "      <td>57948.0</td>\n",
       "      <td>58025.0</td>\n",
       "      <td>41167.0</td>\n",
       "      <td>471564.0</td>\n",
       "      <td>196386.0</td>\n",
       "      <td>676174.0</td>\n",
       "      <td>208.327876</td>\n",
       "      <td>252.187522</td>\n",
       "      <td>207.963517</td>\n",
       "      <td>NaN</td>\n",
       "    </tr>\n",
       "    <tr>\n",
       "      <td>1</td>\n",
       "      <td>1992_ALASKA</td>\n",
       "      <td>ALASKA</td>\n",
       "      <td>1992</td>\n",
       "      <td>NaN</td>\n",
       "      <td>1049591.0</td>\n",
       "      <td>106780.0</td>\n",
       "      <td>720711.0</td>\n",
       "      <td>222100.0</td>\n",
       "      <td>972488.0</td>\n",
       "      <td>498362.0</td>\n",
       "      <td>...</td>\n",
       "      <td>9748.0</td>\n",
       "      <td>8789.0</td>\n",
       "      <td>6714.0</td>\n",
       "      <td>79117.0</td>\n",
       "      <td>30847.0</td>\n",
       "      <td>112335.0</td>\n",
       "      <td>NaN</td>\n",
       "      <td>NaN</td>\n",
       "      <td>NaN</td>\n",
       "      <td>258.859712</td>\n",
       "    </tr>\n",
       "    <tr>\n",
       "      <td>2</td>\n",
       "      <td>1992_ARIZONA</td>\n",
       "      <td>ARIZONA</td>\n",
       "      <td>1992</td>\n",
       "      <td>NaN</td>\n",
       "      <td>3258079.0</td>\n",
       "      <td>297888.0</td>\n",
       "      <td>1369815.0</td>\n",
       "      <td>1590376.0</td>\n",
       "      <td>3401580.0</td>\n",
       "      <td>1435908.0</td>\n",
       "      <td>...</td>\n",
       "      <td>55433.0</td>\n",
       "      <td>49081.0</td>\n",
       "      <td>37410.0</td>\n",
       "      <td>437127.0</td>\n",
       "      <td>175210.0</td>\n",
       "      <td>614881.0</td>\n",
       "      <td>215.253932</td>\n",
       "      <td>265.366278</td>\n",
       "      <td>206.212716</td>\n",
       "      <td>262.169895</td>\n",
       "    </tr>\n",
       "    <tr>\n",
       "      <td>3</td>\n",
       "      <td>1992_ARKANSAS</td>\n",
       "      <td>ARKANSAS</td>\n",
       "      <td>1992</td>\n",
       "      <td>NaN</td>\n",
       "      <td>1711959.0</td>\n",
       "      <td>178571.0</td>\n",
       "      <td>958785.0</td>\n",
       "      <td>574603.0</td>\n",
       "      <td>1743022.0</td>\n",
       "      <td>964323.0</td>\n",
       "      <td>...</td>\n",
       "      <td>34632.0</td>\n",
       "      <td>36011.0</td>\n",
       "      <td>27651.0</td>\n",
       "      <td>281338.0</td>\n",
       "      <td>123113.0</td>\n",
       "      <td>405259.0</td>\n",
       "      <td>210.206028</td>\n",
       "      <td>256.312090</td>\n",
       "      <td>208.634458</td>\n",
       "      <td>264.619665</td>\n",
       "    </tr>\n",
       "    <tr>\n",
       "      <td>4</td>\n",
       "      <td>1992_CALIFORNIA</td>\n",
       "      <td>CALIFORNIA</td>\n",
       "      <td>1992</td>\n",
       "      <td>NaN</td>\n",
       "      <td>26260025.0</td>\n",
       "      <td>2072470.0</td>\n",
       "      <td>16546514.0</td>\n",
       "      <td>7641041.0</td>\n",
       "      <td>27138832.0</td>\n",
       "      <td>14358922.0</td>\n",
       "      <td>...</td>\n",
       "      <td>418418.0</td>\n",
       "      <td>363296.0</td>\n",
       "      <td>270675.0</td>\n",
       "      <td>3286034.0</td>\n",
       "      <td>1372011.0</td>\n",
       "      <td>4717112.0</td>\n",
       "      <td>208.398961</td>\n",
       "      <td>260.892247</td>\n",
       "      <td>196.764414</td>\n",
       "      <td>NaN</td>\n",
       "    </tr>\n",
       "  </tbody>\n",
       "</table>\n",
       "<p>5 rows × 25 columns</p>\n",
       "</div>"
      ],
      "text/plain": [
       "       PRIMARY_KEY       STATE  YEAR  ENROLL  TOTAL_REVENUE  FEDERAL_REVENUE  \\\n",
       "0     1992_ALABAMA     ALABAMA  1992     NaN      2678885.0         304177.0   \n",
       "1      1992_ALASKA      ALASKA  1992     NaN      1049591.0         106780.0   \n",
       "2     1992_ARIZONA     ARIZONA  1992     NaN      3258079.0         297888.0   \n",
       "3    1992_ARKANSAS    ARKANSAS  1992     NaN      1711959.0         178571.0   \n",
       "4  1992_CALIFORNIA  CALIFORNIA  1992     NaN     26260025.0        2072470.0   \n",
       "\n",
       "   STATE_REVENUE  LOCAL_REVENUE  TOTAL_EXPENDITURE  INSTRUCTION_EXPENDITURE  \\\n",
       "0      1659028.0       715680.0          2653798.0                1481703.0   \n",
       "1       720711.0       222100.0           972488.0                 498362.0   \n",
       "2      1369815.0      1590376.0          3401580.0                1435908.0   \n",
       "3       958785.0       574603.0          1743022.0                 964323.0   \n",
       "4     16546514.0      7641041.0         27138832.0               14358922.0   \n",
       "\n",
       "   ...  GRADES_4_G  GRADES_8_G  GRADES_12_G  GRADES_1_8_G  GRADES_9_12_G  \\\n",
       "0  ...     57948.0     58025.0      41167.0      471564.0       196386.0   \n",
       "1  ...      9748.0      8789.0       6714.0       79117.0        30847.0   \n",
       "2  ...     55433.0     49081.0      37410.0      437127.0       175210.0   \n",
       "3  ...     34632.0     36011.0      27651.0      281338.0       123113.0   \n",
       "4  ...    418418.0    363296.0     270675.0     3286034.0      1372011.0   \n",
       "\n",
       "   GRADES_ALL_G  AVG_MATH_4_SCORE  AVG_MATH_8_SCORE  AVG_READING_4_SCORE  \\\n",
       "0      676174.0        208.327876        252.187522           207.963517   \n",
       "1      112335.0               NaN               NaN                  NaN   \n",
       "2      614881.0        215.253932        265.366278           206.212716   \n",
       "3      405259.0        210.206028        256.312090           208.634458   \n",
       "4     4717112.0        208.398961        260.892247           196.764414   \n",
       "\n",
       "   AVG_READING_8_SCORE  \n",
       "0                  NaN  \n",
       "1           258.859712  \n",
       "2           262.169895  \n",
       "3           264.619665  \n",
       "4                  NaN  \n",
       "\n",
       "[5 rows x 25 columns]"
      ]
     },
     "execution_count": 109,
     "metadata": {},
     "output_type": "execute_result"
    }
   ],
   "source": [
    "education_df4.head()"
   ]
  },
  {
   "cell_type": "code",
   "execution_count": 110,
   "metadata": {},
   "outputs": [],
   "source": [
    "# without using limit_direction= 'both'\n",
    "for col in education_df4.columns[3:30]:\n",
    "    education_df4.loc[:, col] = education_df4.loc[:, col].interpolate()"
   ]
  },
  {
   "cell_type": "code",
   "execution_count": 111,
   "metadata": {},
   "outputs": [
    {
     "data": {
      "text/plain": [
       "PRIMARY_KEY                      0\n",
       "STATE                            0\n",
       "YEAR                             0\n",
       "ENROLL                          36\n",
       "TOTAL_REVENUE                    0\n",
       "FEDERAL_REVENUE                  0\n",
       "STATE_REVENUE                    0\n",
       "LOCAL_REVENUE                    0\n",
       "TOTAL_EXPENDITURE                0\n",
       "INSTRUCTION_EXPENDITURE          0\n",
       "SUPPORT_SERVICES_EXPENDITURE     0\n",
       "OTHER_EXPENDITURE               36\n",
       "CAPITAL_OUTLAY_EXPENDITURE       0\n",
       "GRADES_PK_G                      0\n",
       "GRADES_KG_G                      0\n",
       "GRADES_4_G                       0\n",
       "GRADES_8_G                       0\n",
       "GRADES_12_G                      0\n",
       "GRADES_1_8_G                     0\n",
       "GRADES_9_12_G                    0\n",
       "GRADES_ALL_G                     0\n",
       "AVG_MATH_4_SCORE                 0\n",
       "AVG_MATH_8_SCORE                 0\n",
       "AVG_READING_4_SCORE              0\n",
       "AVG_READING_8_SCORE              1\n",
       "dtype: int64"
      ]
     },
     "execution_count": 111,
     "metadata": {},
     "output_type": "execute_result"
    }
   ],
   "source": [
    "education_df4.isnull().sum()"
   ]
  },
  {
   "cell_type": "code",
   "execution_count": 112,
   "metadata": {},
   "outputs": [],
   "source": [
    "# using limit_direction= 'both'\n",
    "for col in education_df4.columns[3:30]:\n",
    "    education_df4.loc[:, col] = education_df4.loc[:, col].interpolate(limit_direction='both')"
   ]
  },
  {
   "cell_type": "code",
   "execution_count": 113,
   "metadata": {},
   "outputs": [
    {
     "data": {
      "text/plain": [
       "PRIMARY_KEY                     0\n",
       "STATE                           0\n",
       "YEAR                            0\n",
       "ENROLL                          0\n",
       "TOTAL_REVENUE                   0\n",
       "FEDERAL_REVENUE                 0\n",
       "STATE_REVENUE                   0\n",
       "LOCAL_REVENUE                   0\n",
       "TOTAL_EXPENDITURE               0\n",
       "INSTRUCTION_EXPENDITURE         0\n",
       "SUPPORT_SERVICES_EXPENDITURE    0\n",
       "OTHER_EXPENDITURE               0\n",
       "CAPITAL_OUTLAY_EXPENDITURE      0\n",
       "GRADES_PK_G                     0\n",
       "GRADES_KG_G                     0\n",
       "GRADES_4_G                      0\n",
       "GRADES_8_G                      0\n",
       "GRADES_12_G                     0\n",
       "GRADES_1_8_G                    0\n",
       "GRADES_9_12_G                   0\n",
       "GRADES_ALL_G                    0\n",
       "AVG_MATH_4_SCORE                0\n",
       "AVG_MATH_8_SCORE                0\n",
       "AVG_READING_4_SCORE             0\n",
       "AVG_READING_8_SCORE             0\n",
       "dtype: int64"
      ]
     },
     "execution_count": 113,
     "metadata": {},
     "output_type": "execute_result"
    }
   ],
   "source": [
    "# limit_direction= 'both' does the trick and fills all nan values\n",
    "education_df4.isnull().sum()"
   ]
  },
  {
   "cell_type": "code",
   "execution_count": null,
   "metadata": {},
   "outputs": [],
   "source": []
  },
  {
   "cell_type": "markdown",
   "metadata": {},
   "source": [
    "### 5. Compare your results for the 2nd, 3rd, and 4th questions. Do you find any meaningful differences?"
   ]
  },
  {
   "cell_type": "code",
   "execution_count": null,
   "metadata": {},
   "outputs": [],
   "source": []
  },
  {
   "cell_type": "code",
   "execution_count": null,
   "metadata": {},
   "outputs": [],
   "source": []
  }
 ],
 "metadata": {
  "kernelspec": {
   "display_name": "Python 3",
   "language": "python",
   "name": "python3"
  },
  "language_info": {
   "codemirror_mode": {
    "name": "ipython",
    "version": 3
   },
   "file_extension": ".py",
   "mimetype": "text/x-python",
   "name": "python",
   "nbconvert_exporter": "python",
   "pygments_lexer": "ipython3",
   "version": "3.7.3"
  }
 },
 "nbformat": 4,
 "nbformat_minor": 4
}
