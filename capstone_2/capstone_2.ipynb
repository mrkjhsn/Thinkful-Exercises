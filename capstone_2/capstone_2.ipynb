{
 "cells": [
  {
   "cell_type": "markdown",
   "metadata": {},
   "source": [
    "### Capstone 2\n",
    "\n",
    "[Dataset](https://www.phoenixopendata.com/dataset/crime-data) downloaded on 9/25/2019 from the City of Phoenix Open Data Portal.  Includes crime data from 2015 to the present.\n",
    "\n",
    "#### General Structure\n",
    "1. Analysis that highlights your experimental hypothesis.\n",
    "    - I have identified that motor vehicle thefts take place most frequently in xxx zip codes at xxx times of the day\n",
    "1. A rollout plan showing how you would implement and rollout the experiment\n",
    "    - I propose to increase the police presence in the above zip codes by 10% during the periods of the day when vehicle thefts are most likely to take place\n",
    "1. An evaluation plan showing what constitutes success in this experiment\n",
    "    - identify the incremental police force cost associated with each stolen vehicle\n",
    "    - compare vehicle theft volumes after implementing the experiement with theft volumes before the experiment\n",
    "    - if the decrease in theft volumes is statistically significant so as to justify the extra police force, then this experiment would be proved successful."
   ]
  },
  {
   "cell_type": "code",
   "execution_count": 2,
   "metadata": {},
   "outputs": [],
   "source": [
    "import pandas as pd\n",
    "import numpy as np\n",
    "from scipy.stats import ttest_ind\n",
    "import matplotlib.pyplot as plt\n",
    "import matplotlib.ticker as ticker\n",
    "import seaborn as sns\n",
    "import datetime\n",
    "%matplotlib inline \n",
    "plt.style.use('bmh')\n",
    "# pd.options.display.max_rows = 999\n",
    "pd.options.display.float_format = '{:.0f}'.format"
   ]
  },
  {
   "cell_type": "code",
   "execution_count": 3,
   "metadata": {},
   "outputs": [],
   "source": [
    "# read in csv files\n",
    "df = pd.read_csv('crime-data_crime-data_crimestat.csv', low_memory=False)"
   ]
  },
  {
   "cell_type": "code",
   "execution_count": 4,
   "metadata": {},
   "outputs": [],
   "source": [
    "# convert column labels to lower case and remove spaces from column names\n",
    "df.columns = df.columns.str.replace(' ', '_')\n",
    "df.columns = map(str.lower, df.columns)"
   ]
  },
  {
   "cell_type": "code",
   "execution_count": 5,
   "metadata": {},
   "outputs": [
    {
     "data": {
      "text/html": [
       "<div>\n",
       "<style scoped>\n",
       "    .dataframe tbody tr th:only-of-type {\n",
       "        vertical-align: middle;\n",
       "    }\n",
       "\n",
       "    .dataframe tbody tr th {\n",
       "        vertical-align: top;\n",
       "    }\n",
       "\n",
       "    .dataframe thead th {\n",
       "        text-align: right;\n",
       "    }\n",
       "</style>\n",
       "<table border=\"1\" class=\"dataframe\">\n",
       "  <thead>\n",
       "    <tr style=\"text-align: right;\">\n",
       "      <th></th>\n",
       "      <th>inc_number</th>\n",
       "      <th>occurred_on</th>\n",
       "      <th>occurred_to</th>\n",
       "      <th>ucr_crime_category</th>\n",
       "      <th>100_block_addr</th>\n",
       "      <th>zip</th>\n",
       "      <th>premise_type</th>\n",
       "    </tr>\n",
       "  </thead>\n",
       "  <tbody>\n",
       "    <tr>\n",
       "      <td>0</td>\n",
       "      <td>201500002101405</td>\n",
       "      <td>11/01/2015  00:00</td>\n",
       "      <td>11/01/2015  05:00</td>\n",
       "      <td>MOTOR VEHICLE THEFT</td>\n",
       "      <td>102XX W MEDLOCK AVE</td>\n",
       "      <td>85307</td>\n",
       "      <td>SINGLE FAMILY HOUSE</td>\n",
       "    </tr>\n",
       "    <tr>\n",
       "      <td>1</td>\n",
       "      <td>201500002102668</td>\n",
       "      <td>11/01/2015  00:00</td>\n",
       "      <td>11/01/2015  11:50</td>\n",
       "      <td>MOTOR VEHICLE THEFT</td>\n",
       "      <td>69XX W WOOD ST</td>\n",
       "      <td>85043</td>\n",
       "      <td>SINGLE FAMILY HOUSE</td>\n",
       "    </tr>\n",
       "    <tr>\n",
       "      <td>2</td>\n",
       "      <td>201600000052855</td>\n",
       "      <td>11/01/2015  00:00</td>\n",
       "      <td>01/09/2016  00:00</td>\n",
       "      <td>MOTOR VEHICLE THEFT</td>\n",
       "      <td>N 43RD AVE &amp; W CACTUS RD</td>\n",
       "      <td>85029</td>\n",
       "      <td>SINGLE FAMILY HOUSE</td>\n",
       "    </tr>\n",
       "    <tr>\n",
       "      <td>3</td>\n",
       "      <td>201500002168686</td>\n",
       "      <td>11/01/2015  00:00</td>\n",
       "      <td>11/11/2015  09:30</td>\n",
       "      <td>LARCENY-THEFT</td>\n",
       "      <td>14XX E HIGHLAND AVE</td>\n",
       "      <td>85014</td>\n",
       "      <td>PARKING LOT</td>\n",
       "    </tr>\n",
       "    <tr>\n",
       "      <td>4</td>\n",
       "      <td>201700001722914</td>\n",
       "      <td>11/01/2015  00:00</td>\n",
       "      <td>NaN</td>\n",
       "      <td>LARCENY-THEFT</td>\n",
       "      <td>279XX N 23RD LN</td>\n",
       "      <td>85085</td>\n",
       "      <td>SINGLE FAMILY HOUSE</td>\n",
       "    </tr>\n",
       "  </tbody>\n",
       "</table>\n",
       "</div>"
      ],
      "text/plain": [
       "        inc_number        occurred_on        occurred_to   ucr_crime_category  \\\n",
       "0  201500002101405  11/01/2015  00:00  11/01/2015  05:00  MOTOR VEHICLE THEFT   \n",
       "1  201500002102668  11/01/2015  00:00  11/01/2015  11:50  MOTOR VEHICLE THEFT   \n",
       "2  201600000052855  11/01/2015  00:00  01/09/2016  00:00  MOTOR VEHICLE THEFT   \n",
       "3  201500002168686  11/01/2015  00:00  11/11/2015  09:30        LARCENY-THEFT   \n",
       "4  201700001722914  11/01/2015  00:00                NaN        LARCENY-THEFT   \n",
       "\n",
       "             100_block_addr   zip         premise_type  \n",
       "0       102XX W MEDLOCK AVE 85307  SINGLE FAMILY HOUSE  \n",
       "1            69XX W WOOD ST 85043  SINGLE FAMILY HOUSE  \n",
       "2  N 43RD AVE & W CACTUS RD 85029  SINGLE FAMILY HOUSE  \n",
       "3       14XX E HIGHLAND AVE 85014          PARKING LOT  \n",
       "4           279XX N 23RD LN 85085  SINGLE FAMILY HOUSE  "
      ]
     },
     "execution_count": 5,
     "metadata": {},
     "output_type": "execute_result"
    }
   ],
   "source": [
    "df.head()"
   ]
  },
  {
   "cell_type": "code",
   "execution_count": 6,
   "metadata": {},
   "outputs": [
    {
     "data": {
      "text/plain": [
       "inc_number             object\n",
       "occurred_on            object\n",
       "occurred_to            object\n",
       "ucr_crime_category     object\n",
       "100_block_addr         object\n",
       "zip                   float64\n",
       "premise_type           object\n",
       "dtype: object"
      ]
     },
     "execution_count": 6,
     "metadata": {},
     "output_type": "execute_result"
    }
   ],
   "source": [
    "df.dtypes"
   ]
  },
  {
   "cell_type": "code",
   "execution_count": 7,
   "metadata": {},
   "outputs": [],
   "source": [
    "# change date and time columns to datetime format\n",
    "df.occurred_on = pd.to_datetime(df.occurred_on)\n",
    "df.occurred_to = pd.to_datetime(df.occurred_to)"
   ]
  },
  {
   "cell_type": "code",
   "execution_count": 8,
   "metadata": {},
   "outputs": [],
   "source": [
    "# add datetime features\n",
    "df['occ_on_month'] = df['occurred_on'].dt.month\n",
    "df['occ_on_year'] = df['occurred_on'].dt.year"
   ]
  },
  {
   "cell_type": "code",
   "execution_count": 9,
   "metadata": {},
   "outputs": [
    {
     "data": {
      "text/plain": [
       "(253000, 9)"
      ]
     },
     "execution_count": 9,
     "metadata": {},
     "output_type": "execute_result"
    }
   ],
   "source": [
    "# how large is the dataset\n",
    "df.shape"
   ]
  },
  {
   "cell_type": "markdown",
   "metadata": {},
   "source": [
    "### Explore Data"
   ]
  },
  {
   "cell_type": "code",
   "execution_count": 10,
   "metadata": {},
   "outputs": [
    {
     "data": {
      "text/plain": [
       "LARCENY-THEFT                            128579\n",
       "BURGLARY                                  40684\n",
       "MOTOR VEHICLE THEFT                       26801\n",
       "DRUG OFFENSE                              21111\n",
       "AGGRAVATED ASSAULT                        19280\n",
       "ROBBERY                                   10744\n",
       "RAPE                                       3722\n",
       "ARSON                                      1568\n",
       "MURDER AND NON-NEGLIGENT MANSLAUGHTER       511\n",
       "Name: ucr_crime_category, dtype: int64"
      ]
     },
     "execution_count": 10,
     "metadata": {},
     "output_type": "execute_result"
    }
   ],
   "source": [
    "# how many different types of crime are there?\n",
    "df.ucr_crime_category.value_counts()"
   ]
  },
  {
   "cell_type": "code",
   "execution_count": 11,
   "metadata": {},
   "outputs": [],
   "source": [
    "# create column for hour of day\n",
    "df['occ_on_hr'] = df.occurred_on.dt.hour"
   ]
  },
  {
   "cell_type": "code",
   "execution_count": 12,
   "metadata": {},
   "outputs": [
    {
     "data": {
      "text/plain": [
       "ucr_crime_category\n",
       "AGGRAVATED ASSAULT                      12.95\n",
       "ARSON                                   10.55\n",
       "BURGLARY                                11.44\n",
       "DRUG OFFENSE                            12.89\n",
       "LARCENY-THEFT                           13.15\n",
       "MOTOR VEHICLE THEFT                     13.06\n",
       "MURDER AND NON-NEGLIGENT MANSLAUGHTER   11.75\n",
       "RAPE                                    10.10\n",
       "ROBBERY                                 12.90\n",
       "Name: occ_on_hr, dtype: float64"
      ]
     },
     "execution_count": 12,
     "metadata": {},
     "output_type": "execute_result"
    }
   ],
   "source": [
    "# this doesn't work\n",
    "# df.groupby(df.ucr_crime_category)['occurred_on'].dt.hour.mean()\n",
    "\n",
    "pd.options.display.float_format = '{:.2f}'.format\n",
    "df.groupby(df.ucr_crime_category)['occ_on_hr'].mean()"
   ]
  },
  {
   "cell_type": "code",
   "execution_count": 13,
   "metadata": {},
   "outputs": [
    {
     "data": {
      "text/plain": [
       "0.00     68872\n",
       "-1.00    17501\n",
       "-2.00     7756\n",
       "-3.00     5402\n",
       "-4.00     4581\n",
       "dtype: int64"
      ]
     },
     "execution_count": 13,
     "metadata": {},
     "output_type": "execute_result"
    }
   ],
   "source": [
    "# difference in time between when crime began and ended\n",
    "# why are there so many negative numbers?\n",
    "\n",
    "(df.occurred_on.dt.hour - df.occurred_to.dt.hour).value_counts().head()"
   ]
  },
  {
   "cell_type": "code",
   "execution_count": 14,
   "metadata": {},
   "outputs": [
    {
     "data": {
      "text/plain": [
       "18XX W BELL RD            1619\n",
       "61XX N 35TH AVE           1333\n",
       "57XX N 19TH AVE           1225\n",
       "16XX W BETHANY HOME RD    1056\n",
       "37XX E THOMAS RD          1044\n",
       "Name: 100_block_addr, dtype: int64"
      ]
     },
     "execution_count": 14,
     "metadata": {},
     "output_type": "execute_result"
    }
   ],
   "source": [
    "# which street locations have the most crimes\n",
    "df['100_block_addr'].value_counts().head()"
   ]
  },
  {
   "cell_type": "code",
   "execution_count": 15,
   "metadata": {},
   "outputs": [
    {
     "data": {
      "text/plain": [
       "SINGLE FAMILY HOUSE                    44658\n",
       "APARTMENT                              28929\n",
       "STREET / ROADWAY / ALLEY / SIDEWALK    25542\n",
       "PARKING LOT                            25361\n",
       "RETAIL BUSINESS                        19515\n",
       "VEHICLE                                13107\n",
       "CONVENIENCE MARKET / STORE              9192\n",
       "DEPARTMENT / DISCOUNT STORE             8872\n",
       "DRIVEWAY                                8833\n",
       "GROCERY / SUPER MARKET                  6917\n",
       "Name: premise_type, dtype: int64"
      ]
     },
     "execution_count": 15,
     "metadata": {},
     "output_type": "execute_result"
    }
   ],
   "source": [
    "# where do most crimes take place at?\n",
    "df.premise_type.value_counts().head(10)"
   ]
  },
  {
   "cell_type": "markdown",
   "metadata": {},
   "source": [
    "### Motor Vehicle Thefts"
   ]
  },
  {
   "cell_type": "code",
   "execution_count": 65,
   "metadata": {},
   "outputs": [
    {
     "data": {
      "text/plain": [
       "<matplotlib.axes._subplots.AxesSubplot at 0x243653e5908>"
      ]
     },
     "execution_count": 65,
     "metadata": {},
     "output_type": "execute_result"
    },
    {
     "data": {
      "image/png": "[encoded data removed]",
      "text/plain": [
       "<Figure size 432x288 with 1 Axes>"
      ]
     },
     "metadata": {
      "needs_background": "light"
     },
     "output_type": "display_data"
    }
   ],
   "source": [
    "# zips with the most vehicle thefts\n",
    "df.groupby(df.ucr_crime_category).get_group('MOTOR VEHICLE THEFT').loc[:,'zip'] \\\n",
    "    .value_counts().plot(use_index=False)"
   ]
  },
  {
   "cell_type": "code",
   "execution_count": 72,
   "metadata": {},
   "outputs": [
    {
     "data": {
      "text/html": [
       "<div>\n",
       "<style scoped>\n",
       "    .dataframe tbody tr th:only-of-type {\n",
       "        vertical-align: middle;\n",
       "    }\n",
       "\n",
       "    .dataframe tbody tr th {\n",
       "        vertical-align: top;\n",
       "    }\n",
       "\n",
       "    .dataframe thead th {\n",
       "        text-align: right;\n",
       "    }\n",
       "</style>\n",
       "<table border=\"1\" class=\"dataframe\">\n",
       "  <thead>\n",
       "    <tr style=\"text-align: right;\">\n",
       "      <th></th>\n",
       "      <th>index</th>\n",
       "      <th>zip</th>\n",
       "    </tr>\n",
       "  </thead>\n",
       "  <tbody>\n",
       "    <tr>\n",
       "      <td>0</td>\n",
       "      <td>85009</td>\n",
       "      <td>1714</td>\n",
       "    </tr>\n",
       "    <tr>\n",
       "      <td>1</td>\n",
       "      <td>85041</td>\n",
       "      <td>1543</td>\n",
       "    </tr>\n",
       "    <tr>\n",
       "      <td>2</td>\n",
       "      <td>85033</td>\n",
       "      <td>1388</td>\n",
       "    </tr>\n",
       "    <tr>\n",
       "      <td>3</td>\n",
       "      <td>85043</td>\n",
       "      <td>1300</td>\n",
       "    </tr>\n",
       "    <tr>\n",
       "      <td>4</td>\n",
       "      <td>85035</td>\n",
       "      <td>1289</td>\n",
       "    </tr>\n",
       "    <tr>\n",
       "      <td>5</td>\n",
       "      <td>85008</td>\n",
       "      <td>1263</td>\n",
       "    </tr>\n",
       "    <tr>\n",
       "      <td>6</td>\n",
       "      <td>85017</td>\n",
       "      <td>1109</td>\n",
       "    </tr>\n",
       "    <tr>\n",
       "      <td>7</td>\n",
       "      <td>85015</td>\n",
       "      <td>1033</td>\n",
       "    </tr>\n",
       "    <tr>\n",
       "      <td>8</td>\n",
       "      <td>85051</td>\n",
       "      <td>1023</td>\n",
       "    </tr>\n",
       "    <tr>\n",
       "      <td>9</td>\n",
       "      <td>85040</td>\n",
       "      <td>930</td>\n",
       "    </tr>\n",
       "  </tbody>\n",
       "</table>\n",
       "</div>"
      ],
      "text/plain": [
       "   index   zip\n",
       "0  85009  1714\n",
       "1  85041  1543\n",
       "2  85033  1388\n",
       "3  85043  1300\n",
       "4  85035  1289\n",
       "5  85008  1263\n",
       "6  85017  1109\n",
       "7  85015  1033\n",
       "8  85051  1023\n",
       "9  85040   930"
      ]
     },
     "execution_count": 72,
     "metadata": {},
     "output_type": "execute_result"
    }
   ],
   "source": [
    "df.groupby(df.ucr_crime_category).get_group('MOTOR VEHICLE THEFT').loc[:,'zip'] \\\n",
    "    .value_counts().reset_index().head(10)"
   ]
  },
  {
   "cell_type": "code",
   "execution_count": 60,
   "metadata": {},
   "outputs": [
    {
     "data": {
      "text/plain": [
       "<matplotlib.axes._subplots.AxesSubplot at 0x24365391d30>"
      ]
     },
     "execution_count": 60,
     "metadata": {},
     "output_type": "execute_result"
    },
    {
     "data": {
      "image/png": "[encoded data removed]",
      "text/plain": [
       "<Figure size 432x288 with 1 Axes>"
      ]
     },
     "metadata": {
      "needs_background": "light"
     },
     "output_type": "display_data"
    }
   ],
   "source": [
    "# what time of the day do most vehicle thefts take place at?\n",
    "pd.options.display.float_format = '{:.0f}'.format\n",
    "df.groupby(df.ucr_crime_category).get_group('MOTOR VEHICLE THEFT').loc[:,'occ_on_hr'] \\\n",
    "    .value_counts(sort=False).sort_index().plot(ylim=(0, 2500))"
   ]
  },
  {
   "cell_type": "code",
   "execution_count": 61,
   "metadata": {},
   "outputs": [
    {
     "data": {
      "text/plain": [
       "<matplotlib.axes._subplots.AxesSubplot at 0x2436512a470>"
      ]
     },
     "execution_count": 61,
     "metadata": {},
     "output_type": "execute_result"
    },
    {
     "data": {
      "image/png": "[encoded data removed]",
      "text/plain": [
       "<Figure size 432x288 with 1 Axes>"
      ]
     },
     "metadata": {
      "needs_background": "light"
     },
     "output_type": "display_data"
    }
   ],
   "source": [
    "# how do vehicle thefts change during the year?\n",
    "df.groupby(df.ucr_crime_category).get_group('MOTOR VEHICLE THEFT').loc[:,'occ_on_month'] \\\n",
    "    .value_counts().sort_index().plot(ylim=(0, 3000))"
   ]
  },
  {
   "cell_type": "code",
   "execution_count": null,
   "metadata": {},
   "outputs": [],
   "source": []
  },
  {
   "cell_type": "code",
   "execution_count": null,
   "metadata": {},
   "outputs": [],
   "source": []
  },
  {
   "cell_type": "code",
   "execution_count": null,
   "metadata": {},
   "outputs": [],
   "source": []
  }
 ],
 "metadata": {
  "kernelspec": {
   "display_name": "Python 3",
   "language": "python",
   "name": "python3"
  },
  "language_info": {
   "codemirror_mode": {
    "name": "ipython",
    "version": 3
   },
   "file_extension": ".py",
   "mimetype": "text/x-python",
   "name": "python",
   "nbconvert_exporter": "python",
   "pygments_lexer": "ipython3",
   "version": "3.7.3"
  }
 },
 "nbformat": 4,
 "nbformat_minor": 4
}
