{
 "cells": [
  {
   "cell_type": "markdown",
   "metadata": {},
   "source": [
    "### Capstone 2 - Narrative Analytics and Experimentation\n",
    "\n",
    "[Dataset](https://www.phoenixopendata.com/dataset/crime-data) downloaded on 9/25/2019 from the City of Phoenix Open Data Portal.  Includes crime data from 2016 to the present.\n",
    "\n",
    "#### General Structure\n",
    "1. Analysis that highlights your experimental hypothesis.\n",
    "    - I have identified the top 5 zip codes that motor vehicle thefts take place in.  Additionaly I have identified the months of the year and the hours of the day associated with the highest number of motor vehicle thefts.\n",
    "    - I propose that additional police intervention within the highest risk zip codes, at the highest risk times of the day, during the highest risk month of the year will result in a reduction in the number of vehicle thefts within the the highest risk zip codes.\n",
    "1. A rollout plan showing how you would implement and rollout the experiment\n",
    "    - I propose to increase the police presence in the top 5 zip codes by 10% during the periods of the day and the month of the year when vehicle thefts are most likely to take place\n",
    "1. An evaluation plan showing what constitutes success in this experiment\n",
    "    - compare vehicle theft volumes in each of the top 5 zip codes after implementing the experiement with theft volumes before the experiment\n",
    "    - if the decrease in theft volumes is statistically significant, then this experiment would be proved successful."
   ]
  },
  {
   "cell_type": "code",
   "execution_count": 2,
   "metadata": {},
   "outputs": [],
   "source": [
    "import pandas as pd\n",
    "import numpy as np\n",
    "from scipy.stats import ttest_ind\n",
    "import matplotlib.pyplot as plt\n",
    "import matplotlib.ticker as ticker\n",
    "import seaborn as sns\n",
    "import datetime\n",
    "%matplotlib inline \n",
    "plt.style.use('bmh')\n",
    "# pd.options.display.max_rows = 999\n",
    "pd.options.display.float_format = '{:.0f}'.format"
   ]
  },
  {
   "cell_type": "code",
   "execution_count": 3,
   "metadata": {},
   "outputs": [],
   "source": [
    "# read in csv files\n",
    "df = pd.read_csv('crime-data_crime-data_crimestat.csv', low_memory=False)"
   ]
  },
  {
   "cell_type": "code",
   "execution_count": 4,
   "metadata": {},
   "outputs": [],
   "source": [
    "# convert column labels to lower case and remove spaces from column names\n",
    "df.columns = df.columns.str.replace(' ', '_')\n",
    "df.columns = map(str.lower, df.columns)"
   ]
  },
  {
   "cell_type": "code",
   "execution_count": 5,
   "metadata": {},
   "outputs": [
    {
     "data": {
      "text/html": [
       "<div>\n",
       "<style scoped>\n",
       "    .dataframe tbody tr th:only-of-type {\n",
       "        vertical-align: middle;\n",
       "    }\n",
       "\n",
       "    .dataframe tbody tr th {\n",
       "        vertical-align: top;\n",
       "    }\n",
       "\n",
       "    .dataframe thead th {\n",
       "        text-align: right;\n",
       "    }\n",
       "</style>\n",
       "<table border=\"1\" class=\"dataframe\">\n",
       "  <thead>\n",
       "    <tr style=\"text-align: right;\">\n",
       "      <th></th>\n",
       "      <th>inc_number</th>\n",
       "      <th>occurred_on</th>\n",
       "      <th>occurred_to</th>\n",
       "      <th>ucr_crime_category</th>\n",
       "      <th>100_block_addr</th>\n",
       "      <th>zip</th>\n",
       "      <th>premise_type</th>\n",
       "    </tr>\n",
       "  </thead>\n",
       "  <tbody>\n",
       "    <tr>\n",
       "      <td>0</td>\n",
       "      <td>201500002101405</td>\n",
       "      <td>11/01/2015  00:00</td>\n",
       "      <td>11/01/2015  05:00</td>\n",
       "      <td>MOTOR VEHICLE THEFT</td>\n",
       "      <td>102XX W MEDLOCK AVE</td>\n",
       "      <td>85307</td>\n",
       "      <td>SINGLE FAMILY HOUSE</td>\n",
       "    </tr>\n",
       "    <tr>\n",
       "      <td>1</td>\n",
       "      <td>201500002102668</td>\n",
       "      <td>11/01/2015  00:00</td>\n",
       "      <td>11/01/2015  11:50</td>\n",
       "      <td>MOTOR VEHICLE THEFT</td>\n",
       "      <td>69XX W WOOD ST</td>\n",
       "      <td>85043</td>\n",
       "      <td>SINGLE FAMILY HOUSE</td>\n",
       "    </tr>\n",
       "    <tr>\n",
       "      <td>2</td>\n",
       "      <td>201600000052855</td>\n",
       "      <td>11/01/2015  00:00</td>\n",
       "      <td>01/09/2016  00:00</td>\n",
       "      <td>MOTOR VEHICLE THEFT</td>\n",
       "      <td>N 43RD AVE &amp; W CACTUS RD</td>\n",
       "      <td>85029</td>\n",
       "      <td>SINGLE FAMILY HOUSE</td>\n",
       "    </tr>\n",
       "    <tr>\n",
       "      <td>3</td>\n",
       "      <td>201500002168686</td>\n",
       "      <td>11/01/2015  00:00</td>\n",
       "      <td>11/11/2015  09:30</td>\n",
       "      <td>LARCENY-THEFT</td>\n",
       "      <td>14XX E HIGHLAND AVE</td>\n",
       "      <td>85014</td>\n",
       "      <td>PARKING LOT</td>\n",
       "    </tr>\n",
       "    <tr>\n",
       "      <td>4</td>\n",
       "      <td>201700001722914</td>\n",
       "      <td>11/01/2015  00:00</td>\n",
       "      <td>NaN</td>\n",
       "      <td>LARCENY-THEFT</td>\n",
       "      <td>279XX N 23RD LN</td>\n",
       "      <td>85085</td>\n",
       "      <td>SINGLE FAMILY HOUSE</td>\n",
       "    </tr>\n",
       "  </tbody>\n",
       "</table>\n",
       "</div>"
      ],
      "text/plain": [
       "        inc_number        occurred_on        occurred_to   ucr_crime_category  \\\n",
       "0  201500002101405  11/01/2015  00:00  11/01/2015  05:00  MOTOR VEHICLE THEFT   \n",
       "1  201500002102668  11/01/2015  00:00  11/01/2015  11:50  MOTOR VEHICLE THEFT   \n",
       "2  201600000052855  11/01/2015  00:00  01/09/2016  00:00  MOTOR VEHICLE THEFT   \n",
       "3  201500002168686  11/01/2015  00:00  11/11/2015  09:30        LARCENY-THEFT   \n",
       "4  201700001722914  11/01/2015  00:00                NaN        LARCENY-THEFT   \n",
       "\n",
       "             100_block_addr   zip         premise_type  \n",
       "0       102XX W MEDLOCK AVE 85307  SINGLE FAMILY HOUSE  \n",
       "1            69XX W WOOD ST 85043  SINGLE FAMILY HOUSE  \n",
       "2  N 43RD AVE & W CACTUS RD 85029  SINGLE FAMILY HOUSE  \n",
       "3       14XX E HIGHLAND AVE 85014          PARKING LOT  \n",
       "4           279XX N 23RD LN 85085  SINGLE FAMILY HOUSE  "
      ]
     },
     "execution_count": 5,
     "metadata": {},
     "output_type": "execute_result"
    }
   ],
   "source": [
    "df.head()"
   ]
  },
  {
   "cell_type": "code",
   "execution_count": 6,
   "metadata": {},
   "outputs": [
    {
     "data": {
      "text/plain": [
       "inc_number             object\n",
       "occurred_on            object\n",
       "occurred_to            object\n",
       "ucr_crime_category     object\n",
       "100_block_addr         object\n",
       "zip                   float64\n",
       "premise_type           object\n",
       "dtype: object"
      ]
     },
     "execution_count": 6,
     "metadata": {},
     "output_type": "execute_result"
    }
   ],
   "source": [
    "df.dtypes"
   ]
  },
  {
   "cell_type": "code",
   "execution_count": 7,
   "metadata": {},
   "outputs": [],
   "source": [
    "# change date and time columns to datetime format\n",
    "df.occurred_on = pd.to_datetime(df.occurred_on)\n",
    "df.occurred_to = pd.to_datetime(df.occurred_to)"
   ]
  },
  {
   "cell_type": "code",
   "execution_count": 8,
   "metadata": {},
   "outputs": [],
   "source": [
    "# add datetime features\n",
    "df['occ_on_month'] = df['occurred_on'].dt.month\n",
    "df['occ_on_year'] = df['occurred_on'].dt.year"
   ]
  },
  {
   "cell_type": "code",
   "execution_count": 9,
   "metadata": {},
   "outputs": [
    {
     "data": {
      "text/plain": [
       "(253000, 9)"
      ]
     },
     "execution_count": 9,
     "metadata": {},
     "output_type": "execute_result"
    }
   ],
   "source": [
    "# how large is the dataset\n",
    "df.shape"
   ]
  },
  {
   "cell_type": "markdown",
   "metadata": {},
   "source": [
    "## 1. Analysis that highlights experimental hypothesis."
   ]
  },
  {
   "cell_type": "markdown",
   "metadata": {},
   "source": [
    "#### Motor vehicle thefts occur at a higher rate in some Phoenix zip codes."
   ]
  },
  {
   "cell_type": "code",
   "execution_count": 164,
   "metadata": {},
   "outputs": [
    {
     "data": {
      "text/plain": [
       "85009    1714\n",
       "85041    1543\n",
       "85033    1388\n",
       "85043    1300\n",
       "85035    1289\n",
       "Name: zip, dtype: int64"
      ]
     },
     "execution_count": 164,
     "metadata": {},
     "output_type": "execute_result"
    }
   ],
   "source": [
    "# which zip codes are associated with the most vehicle thefts?\n",
    "\n",
    "df.groupby(df.ucr_crime_category).get_group('MOTOR VEHICLE THEFT').loc[:,'zip'] \\\n",
    "    .value_counts().head()"
   ]
  },
  {
   "cell_type": "code",
   "execution_count": 111,
   "metadata": {},
   "outputs": [
    {
     "name": "stdout",
     "output_type": "stream",
     "text": [
      "The number of unique zip codes that vehicle thefts have taken place at: 73\n"
     ]
    }
   ],
   "source": [
    "# how many unique zip codes have vehicle thefts taken place at?\n",
    "\n",
    "print('The number of unique zip codes that vehicle thefts have taken place at:',\n",
    "\n",
    "df.groupby(df.ucr_crime_category).get_group('MOTOR VEHICLE THEFT').loc[:,'zip'] \\\n",
    "    .value_counts().count())"
   ]
  },
  {
   "cell_type": "code",
   "execution_count": 109,
   "metadata": {},
   "outputs": [
    {
     "name": "stdout",
     "output_type": "stream",
     "text": [
      "Percent of vehicle thefts take place within the top 5 zip codes: 0.27\n"
     ]
    }
   ],
   "source": [
    "# what percent of vehicle thefts take place within the top 5 zip codes?\n",
    "\n",
    "print('Percent of vehicle thefts take place within the top 5 zip codes:',\n",
    "\n",
    "round(df.groupby(df.ucr_crime_category).get_group('MOTOR VEHICLE THEFT').loc[:,'zip'] \\\n",
    "    .value_counts().head().sum() / \\\n",
    "df.groupby(df.ucr_crime_category).get_group('MOTOR VEHICLE THEFT').loc[:,'zip'] \\\n",
    "    .value_counts().sum(), 2))"
   ]
  },
  {
   "cell_type": "markdown",
   "metadata": {},
   "source": [
    "#### Vehicle thefts are more likely to take place within certain areas within a zip code."
   ]
  },
  {
   "cell_type": "code",
   "execution_count": 35,
   "metadata": {},
   "outputs": [
    {
     "data": {
      "text/plain": [
       "PARKING LOT                            7092\n",
       "STREET / ROADWAY / ALLEY / SIDEWALK    4911\n",
       "SINGLE FAMILY HOUSE                    4175\n",
       "APARTMENT                              3491\n",
       "DRIVEWAY                               1883\n",
       "Name: premise_type, dtype: int64"
      ]
     },
     "execution_count": 35,
     "metadata": {},
     "output_type": "execute_result"
    }
   ],
   "source": [
    "# within zip codes, what premises are associated with the largest number of vehicle thefts?\n",
    "df.groupby(df.ucr_crime_category).get_group('MOTOR VEHICLE THEFT').loc[:,'premise_type'] \\\n",
    "    .value_counts().head()"
   ]
  },
  {
   "cell_type": "code",
   "execution_count": 108,
   "metadata": {},
   "outputs": [
    {
     "name": "stdout",
     "output_type": "stream",
     "text": [
      "Percent of total vehicle thefts take place in parking lots: 0.27\n"
     ]
    }
   ],
   "source": [
    "# what percent of total vehicle thefts take place in parking lots?\n",
    "\n",
    "print('Percent of total vehicle thefts take place in parking lots:',\n",
    "\n",
    "round(df.groupby(df.ucr_crime_category).get_group('MOTOR VEHICLE THEFT').loc[:,'premise_type'] \\\n",
    "    .value_counts()[0] / \\\n",
    "df.groupby(df.ucr_crime_category).get_group('MOTOR VEHICLE THEFT').loc[:,'premise_type'] \\\n",
    "    .value_counts().sum(), 2))"
   ]
  },
  {
   "cell_type": "markdown",
   "metadata": {},
   "source": [
    "#### Vehicle thefts are more likely to take place at certain times of the day."
   ]
  },
  {
   "cell_type": "code",
   "execution_count": 100,
   "metadata": {},
   "outputs": [
    {
     "data": {
      "text/plain": [
       "[Text(0, 0.5, 'Count'), Text(0.5, 0, 'Hours of the Day')]"
      ]
     },
     "execution_count": 100,
     "metadata": {},
     "output_type": "execute_result"
    },
    {
     "data": {
      "image/png": "[encoded data removed]",
      "text/plain": [
       "<Figure size 432x288 with 1 Axes>"
      ]
     },
     "metadata": {
      "needs_background": "light"
     },
     "output_type": "display_data"
    }
   ],
   "source": [
    "# what time of the day do most vehicle thefts take place at?\n",
    "\n",
    "pd.options.display.float_format = '{:.0f}'.format\n",
    "ax = df.groupby(df.ucr_crime_category).get_group('MOTOR VEHICLE THEFT').loc[:,'occ_on_hr'] \\\n",
    "    .value_counts(sort=False).sort_index().plot(ylim=(0, 2500))\n",
    "\n",
    "ax.set(xlabel=\"Hours of the Day\", ylabel=\"Count\")"
   ]
  },
  {
   "cell_type": "code",
   "execution_count": 61,
   "metadata": {},
   "outputs": [
    {
     "data": {
      "text/plain": [
       "0     2283\n",
       "22    2055\n",
       "21    1947\n",
       "20    1797\n",
       "23    1536\n",
       "Name: occ_on_hr, dtype: int64"
      ]
     },
     "execution_count": 61,
     "metadata": {},
     "output_type": "execute_result"
    }
   ],
   "source": [
    "# which hours of the day are associated with the highest number of vehicle thefts?\n",
    "\n",
    "df.groupby(df.ucr_crime_category).get_group('MOTOR VEHICLE THEFT').loc[:,'occ_on_hr'] \\\n",
    "    .value_counts().head()"
   ]
  },
  {
   "cell_type": "code",
   "execution_count": 106,
   "metadata": {},
   "outputs": [
    {
     "name": "stdout",
     "output_type": "stream",
     "text": [
      "Percent of vehicle thefts take place between 9pm and 11pm: 0.15\n"
     ]
    }
   ],
   "source": [
    "# what percent of vehicle thefts take place between 9pm and 11pm?\n",
    "\n",
    "print('Percent of vehicle thefts take place between 9pm and 11pm:',\n",
    "      \n",
    "round(df.groupby(df.ucr_crime_category).get_group('MOTOR VEHICLE THEFT').loc[:,'occ_on_hr'] \\\n",
    "    .value_counts().loc[[21,22]].sum()/ \\\n",
    "df.groupby(df.ucr_crime_category).get_group('MOTOR VEHICLE THEFT').loc[:,'occ_on_hr'] \\\n",
    "    .value_counts().sum(), 2))"
   ]
  },
  {
   "cell_type": "markdown",
   "metadata": {},
   "source": [
    "#### Vehicle thefts are more likely to take place at certain months of the year."
   ]
  },
  {
   "cell_type": "code",
   "execution_count": 101,
   "metadata": {},
   "outputs": [
    {
     "data": {
      "text/plain": [
       "[Text(0, 0.5, 'Count'), Text(0.5, 0, 'Month of the Year')]"
      ]
     },
     "execution_count": 101,
     "metadata": {},
     "output_type": "execute_result"
    },
    {
     "data": {
      "image/png": "[encoded data removed]",
      "text/plain": [
       "<Figure size 432x288 with 1 Axes>"
      ]
     },
     "metadata": {
      "needs_background": "light"
     },
     "output_type": "display_data"
    }
   ],
   "source": [
    "# how does vehicle theft frequency change during the year?\n",
    "ax = df.groupby(df.ucr_crime_category).get_group('MOTOR VEHICLE THEFT').loc[:,'occ_on_month'] \\\n",
    "    .value_counts().sort_index().plot(ylim=(0, 3000))\n",
    "\n",
    "ax.set(xlabel=\"Month of the Year\", ylabel=\"Count\")"
   ]
  },
  {
   "cell_type": "code",
   "execution_count": 66,
   "metadata": {},
   "outputs": [
    {
     "data": {
      "text/plain": [
       "8     2433\n",
       "7     2414\n",
       "1     2355\n",
       "6     2342\n",
       "12    2333\n",
       "Name: occ_on_month, dtype: int64"
      ]
     },
     "execution_count": 66,
     "metadata": {},
     "output_type": "execute_result"
    }
   ],
   "source": [
    "# which month of the year is associated with the highest occurance of vehicle thefts?\n",
    "\n",
    "df.groupby(df.ucr_crime_category).get_group('MOTOR VEHICLE THEFT').loc[:,'occ_on_month'] \\\n",
    "    .value_counts().head()"
   ]
  },
  {
   "cell_type": "code",
   "execution_count": 117,
   "metadata": {},
   "outputs": [
    {
     "name": "stdout",
     "output_type": "stream",
     "text": [
      "Percent of vehicle thefts take place between June and August, the months with the most vehicle thefts: 0.27\n"
     ]
    }
   ],
   "source": [
    "print('Percent of vehicle thefts take place between June and August, the months with the most vehicle thefts:',\n",
    "round(df.groupby(df.ucr_crime_category).get_group('MOTOR VEHICLE THEFT').loc[:,'occ_on_month'] \\\n",
    "    .value_counts().loc[[6, 7, 8]].sum() / \\\n",
    "df.groupby(df.ucr_crime_category).get_group('MOTOR VEHICLE THEFT').loc[:,'occ_on_month'] \\\n",
    "    .value_counts().sum(), 2))"
   ]
  },
  {
   "cell_type": "markdown",
   "metadata": {},
   "source": [
    "#### Hypothesis:\n",
    "Null Hypothesis(Ho) = with additional police officers there is no difference between the volume of vehicle thefts that take place within the top 5 zip codes.\n",
    "\n",
    "Alternative Hypothesis(Ha) = with additional police officers there is a decrease in the number of vehicle thefts that take place within the top 5 zip codes."
   ]
  },
  {
   "cell_type": "markdown",
   "metadata": {},
   "source": [
    "## 2. Rollout Plan"
   ]
  },
  {
   "cell_type": "markdown",
   "metadata": {},
   "source": [
    "During June - August (the months of the year with the highest vehicle thefts), within the top 5 zip codes (85009, 85041, 85033, 85043, 85035) that make up the largest share of vehicle thefts, assign a 10% increase in police offiers to patrol parking lots (the place where most vehicle thefts take place)."
   ]
  },
  {
   "cell_type": "markdown",
   "metadata": {},
   "source": [
    "## 3. Evaluation Plan."
   ]
  },
  {
   "cell_type": "markdown",
   "metadata": {},
   "source": [
    "Compare the volume of vehicle thefts that have taken place between June - August within the top 5 zip codes against the mean volumes of vehicle thefts that have take place within these zip codes during June - August of prior years.\n",
    "\n",
    "### $$t = \\frac{\\bar{y_1}-\\bar{y_2}}{\\sqrt{s^2_1/N_1+s^2_2/N_2}}$$\n",
    "\n",
    "\n",
    "\n",
    "$\\bar{y_1}$ represents the mean of vehicle thefts that have take place between June - August within the top 5 zip codes.\n",
    "\n",
    "$\\bar{y_2}$ represents the historical mean of vehicle thefts that have take place between June - August within the top 5 zip codes.\n",
    "\n",
    "$s_1$ represents the standard deviation of vehicle thefts that have take place between June - August within the top 5 zip codes.\n",
    "\n",
    "$s_2$ represents the historical standard deviation of vehicle thefts that have take place between June - August within the top 5 zip codes..\n",
    "\n",
    "$N_1$ represents the sample size of vehicle thefts that have take place between June - August within the top 5 zip codes.\n",
    "\n",
    "$N_2$ represents the historical mean sample size of vehicle thefts that have take place between June - August within the top 5 zip codes."
   ]
  },
  {
   "cell_type": "markdown",
   "metadata": {},
   "source": [
    "### Success Metric\n",
    "Mean vehicle thefts within the top 5 zip codes that are lower than mean vehicle thefts of prior years."
   ]
  },
  {
   "cell_type": "markdown",
   "metadata": {},
   "source": [
    "#### Prior Years Statistics Computed"
   ]
  },
  {
   "cell_type": "code",
   "execution_count": 290,
   "metadata": {},
   "outputs": [
    {
     "data": {
      "text/html": [
       "<div>\n",
       "<style scoped>\n",
       "    .dataframe tbody tr th:only-of-type {\n",
       "        vertical-align: middle;\n",
       "    }\n",
       "\n",
       "    .dataframe tbody tr th {\n",
       "        vertical-align: top;\n",
       "    }\n",
       "\n",
       "    .dataframe thead th {\n",
       "        text-align: right;\n",
       "    }\n",
       "</style>\n",
       "<table border=\"1\" class=\"dataframe\">\n",
       "  <thead>\n",
       "    <tr style=\"text-align: right;\">\n",
       "      <th></th>\n",
       "      <th>zip</th>\n",
       "      <th>85009.00</th>\n",
       "      <th>85033.00</th>\n",
       "      <th>85035.00</th>\n",
       "      <th>85041.00</th>\n",
       "      <th>85043.00</th>\n",
       "    </tr>\n",
       "    <tr>\n",
       "      <th>occ_on_month</th>\n",
       "      <th>occ_on_year</th>\n",
       "      <th></th>\n",
       "      <th></th>\n",
       "      <th></th>\n",
       "      <th></th>\n",
       "      <th></th>\n",
       "    </tr>\n",
       "  </thead>\n",
       "  <tbody>\n",
       "    <tr>\n",
       "      <td rowspan=\"4\" valign=\"top\">6.00</td>\n",
       "      <td>2016.00</td>\n",
       "      <td>47</td>\n",
       "      <td>27</td>\n",
       "      <td>23</td>\n",
       "      <td>34</td>\n",
       "      <td>15</td>\n",
       "    </tr>\n",
       "    <tr>\n",
       "      <td>2017.00</td>\n",
       "      <td>36</td>\n",
       "      <td>25</td>\n",
       "      <td>26</td>\n",
       "      <td>38</td>\n",
       "      <td>26</td>\n",
       "    </tr>\n",
       "    <tr>\n",
       "      <td>2018.00</td>\n",
       "      <td>34</td>\n",
       "      <td>36</td>\n",
       "      <td>31</td>\n",
       "      <td>26</td>\n",
       "      <td>33</td>\n",
       "    </tr>\n",
       "    <tr>\n",
       "      <td>2019.00</td>\n",
       "      <td>48</td>\n",
       "      <td>35</td>\n",
       "      <td>23</td>\n",
       "      <td>37</td>\n",
       "      <td>40</td>\n",
       "    </tr>\n",
       "    <tr>\n",
       "      <td rowspan=\"4\" valign=\"top\">7.00</td>\n",
       "      <td>2016.00</td>\n",
       "      <td>35</td>\n",
       "      <td>28</td>\n",
       "      <td>20</td>\n",
       "      <td>41</td>\n",
       "      <td>33</td>\n",
       "    </tr>\n",
       "    <tr>\n",
       "      <td>2017.00</td>\n",
       "      <td>35</td>\n",
       "      <td>17</td>\n",
       "      <td>28</td>\n",
       "      <td>36</td>\n",
       "      <td>27</td>\n",
       "    </tr>\n",
       "    <tr>\n",
       "      <td>2018.00</td>\n",
       "      <td>27</td>\n",
       "      <td>45</td>\n",
       "      <td>28</td>\n",
       "      <td>33</td>\n",
       "      <td>30</td>\n",
       "    </tr>\n",
       "    <tr>\n",
       "      <td>2019.00</td>\n",
       "      <td>32</td>\n",
       "      <td>24</td>\n",
       "      <td>27</td>\n",
       "      <td>36</td>\n",
       "      <td>21</td>\n",
       "    </tr>\n",
       "    <tr>\n",
       "      <td rowspan=\"4\" valign=\"top\">8.00</td>\n",
       "      <td>2016.00</td>\n",
       "      <td>38</td>\n",
       "      <td>35</td>\n",
       "      <td>32</td>\n",
       "      <td>32</td>\n",
       "      <td>23</td>\n",
       "    </tr>\n",
       "    <tr>\n",
       "      <td>2017.00</td>\n",
       "      <td>41</td>\n",
       "      <td>24</td>\n",
       "      <td>23</td>\n",
       "      <td>29</td>\n",
       "      <td>23</td>\n",
       "    </tr>\n",
       "    <tr>\n",
       "      <td>2018.00</td>\n",
       "      <td>43</td>\n",
       "      <td>36</td>\n",
       "      <td>26</td>\n",
       "      <td>36</td>\n",
       "      <td>25</td>\n",
       "    </tr>\n",
       "    <tr>\n",
       "      <td>2019.00</td>\n",
       "      <td>28</td>\n",
       "      <td>18</td>\n",
       "      <td>11</td>\n",
       "      <td>37</td>\n",
       "      <td>38</td>\n",
       "    </tr>\n",
       "  </tbody>\n",
       "</table>\n",
       "</div>"
      ],
      "text/plain": [
       "zip                       85009.00  85033.00  85035.00  85041.00  85043.00\n",
       "occ_on_month occ_on_year                                                  \n",
       "6.00         2016.00            47        27        23        34        15\n",
       "             2017.00            36        25        26        38        26\n",
       "             2018.00            34        36        31        26        33\n",
       "             2019.00            48        35        23        37        40\n",
       "7.00         2016.00            35        28        20        41        33\n",
       "             2017.00            35        17        28        36        27\n",
       "             2018.00            27        45        28        33        30\n",
       "             2019.00            32        24        27        36        21\n",
       "8.00         2016.00            38        35        32        32        23\n",
       "             2017.00            41        24        23        29        23\n",
       "             2018.00            43        36        26        36        25\n",
       "             2019.00            28        18        11        37        38"
      ]
     },
     "execution_count": 290,
     "metadata": {},
     "output_type": "execute_result"
    }
   ],
   "source": [
    "# count of vehicle thefts \n",
    "# during June, July, and August\n",
    "# within top 5 zip codes\n",
    "# across all years of data available\n",
    "\n",
    "df.loc[(df.ucr_crime_category == 'MOTOR VEHICLE THEFT') & \\\n",
    "       (df.zip.isin(df.groupby(df.ucr_crime_category).get_group('MOTOR VEHICLE THEFT').loc[:,'zip'] \\\n",
    "       .value_counts().head().index)) &\n",
    "       ((df.occ_on_month == 6) | \\\n",
    "       (df.occ_on_month == 7) | \\\n",
    "       (df.occ_on_month == 8))].groupby([df.occ_on_month, df.occ_on_year, df.zip])['occ_on_month'].count().unstack()"
   ]
  },
  {
   "cell_type": "code",
   "execution_count": 341,
   "metadata": {},
   "outputs": [],
   "source": [
    "pd.options.display.float_format = '{:.2f}'.format\n",
    "\n",
    "# filter and compute summary statistics\n",
    "zip_stats = df.loc[(df.ucr_crime_category == 'MOTOR VEHICLE THEFT') & \\\n",
    "       # filter for only top 5 zips\n",
    "       (df.zip.isin(df.groupby(df.ucr_crime_category).get_group('MOTOR VEHICLE THEFT').loc[:,'zip'] \\\n",
    "       .value_counts().head().index)) &             \n",
    "       # filter for only June, July, and August months\n",
    "       ((df.occ_on_month == 6) | \\\n",
    "       (df.occ_on_month == 7) | \\\n",
    "       (df.occ_on_month == 8))] \\\n",
    "        .groupby([df.occ_on_month, df.occ_on_year, df.zip])['occ_on_month'].count() \\\n",
    "        .groupby(level=2).agg(['mean', 'std', 'sum'])"
   ]
  },
  {
   "cell_type": "code",
   "execution_count": 293,
   "metadata": {},
   "outputs": [],
   "source": [
    "zip_stats.rename(columns={'sum': 'sample_size', 'std': 'standard_deviation'}, inplace=True)"
   ]
  },
  {
   "cell_type": "code",
   "execution_count": 280,
   "metadata": {},
   "outputs": [],
   "source": [
    "zip_agg = zip_stats[['mean','standard_deviation','sample_size']].mean().to_frame()"
   ]
  },
  {
   "cell_type": "code",
   "execution_count": 281,
   "metadata": {},
   "outputs": [],
   "source": [
    "zip_agg.rename(columns={0: 'historical'}, inplace=True)"
   ]
  },
  {
   "cell_type": "code",
   "execution_count": 346,
   "metadata": {},
   "outputs": [],
   "source": [
    "zip_agg.loc['mean', 'study_results'] = 'y2'\n",
    "zip_agg.loc['standard_deviation', 'study_results'] = 's2'\n",
    "zip_agg.loc['sample_size', 'study_results'] = 'N2'"
   ]
  },
  {
   "cell_type": "code",
   "execution_count": 347,
   "metadata": {},
   "outputs": [
    {
     "data": {
      "text/html": [
       "<div>\n",
       "<style scoped>\n",
       "    .dataframe tbody tr th:only-of-type {\n",
       "        vertical-align: middle;\n",
       "    }\n",
       "\n",
       "    .dataframe tbody tr th {\n",
       "        vertical-align: top;\n",
       "    }\n",
       "\n",
       "    .dataframe thead th {\n",
       "        text-align: right;\n",
       "    }\n",
       "</style>\n",
       "<table border=\"1\" class=\"dataframe\">\n",
       "  <thead>\n",
       "    <tr style=\"text-align: right;\">\n",
       "      <th></th>\n",
       "      <th>historical</th>\n",
       "      <th>study_results</th>\n",
       "    </tr>\n",
       "  </thead>\n",
       "  <tbody>\n",
       "    <tr>\n",
       "      <td>mean</td>\n",
       "      <td>30.68</td>\n",
       "      <td>y2</td>\n",
       "    </tr>\n",
       "    <tr>\n",
       "      <td>standard_deviation</td>\n",
       "      <td>6.40</td>\n",
       "      <td>s2</td>\n",
       "    </tr>\n",
       "    <tr>\n",
       "      <td>sample_size</td>\n",
       "      <td>368.20</td>\n",
       "      <td>N2</td>\n",
       "    </tr>\n",
       "  </tbody>\n",
       "</table>\n",
       "</div>"
      ],
      "text/plain": [
       "                    historical study_results\n",
       "mean                     30.68            y2\n",
       "standard_deviation        6.40            s2\n",
       "sample_size             368.20            N2"
      ]
     },
     "execution_count": 347,
     "metadata": {},
     "output_type": "execute_result"
    }
   ],
   "source": [
    "zip_agg"
   ]
  },
  {
   "cell_type": "markdown",
   "metadata": {},
   "source": [
    "### $$t = \\frac{{\\bar{y_2}-30.68}}{\\sqrt{s^2_2/N_2+6.40^2/368}}$$\n"
   ]
  },
  {
   "cell_type": "markdown",
   "metadata": {},
   "source": [
    "Evaluate the mean quantity of reported vehicle thefts that have taken place within the top 5 zip codes.  If the mean quantity is greater than the mean of prior year, the test has failed.\n",
    "\n",
    "If, on the other hand, the mean quantity of vehicle thefts is lower than in prior years - use a paired sample t-test with a significance level of .05, and a one-tail t-distribution table.  If the p-value is less than .05, we have determined the reduction in vehicle thefts is strong enough to preclude the reduction from happening by chance.  We can conclude that the experiment has been a success."
   ]
  },
  {
   "cell_type": "markdown",
   "metadata": {},
   "source": [
    "### Secondary Metrics\n",
    "1. Do the people who are stealing cars simply move into different areas of town?  Does the volume of vehicle thefts in zip codes other than those that have had an increase in policing change significantly?\n",
    "\n",
    "1. The number of people caught while attempting to steal cars.  This number may increase sharply at the beginning of August within the top 5 zip codes, and taper towards the end of the month as the vehicle thiefs may notice the increased the police presence and modify their behavior accordingly (possibly moving to other areas of town, as a result this metric may be related to the above metric).\n",
    "\n"
   ]
  }
 ],
 "metadata": {
  "kernelspec": {
   "display_name": "Python 3",
   "language": "python",
   "name": "python3"
  },
  "language_info": {
   "codemirror_mode": {
    "name": "ipython",
    "version": 3
   },
   "file_extension": ".py",
   "mimetype": "text/x-python",
   "name": "python",
   "nbconvert_exporter": "python",
   "pygments_lexer": "ipython3",
   "version": "3.7.3"
  }
 },
 "nbformat": 4,
 "nbformat_minor": 4
}
