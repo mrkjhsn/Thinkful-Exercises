{
 "cells": [
  {
   "cell_type": "markdown",
   "metadata": {},
   "source": [
    "## Data Cleaning & Validation Exercise"
   ]
  },
  {
   "cell_type": "code",
   "execution_count": 430,
   "metadata": {},
   "outputs": [],
   "source": [
    "import pandas as pd\n",
    "import numpy as np\n",
    "import spacy\n",
    "import en_core_web_sm\n",
    "nlp = en_core_web_sm.load()\n",
    "\n",
    "pd.options.display.max_rows = 999"
   ]
  },
  {
   "cell_type": "code",
   "execution_count": 431,
   "metadata": {},
   "outputs": [],
   "source": [
    "df = pd.read_csv(r'data\\WELLCOME_APCspend2013_forThinkful.csv', encoding = 'unicode_escape')"
   ]
  },
  {
   "cell_type": "code",
   "execution_count": 432,
   "metadata": {},
   "outputs": [
    {
     "data": {
      "text/plain": [
       "PMID/PMCID                                             object\n",
       "Publisher                                              object\n",
       "Journal title                                          object\n",
       "Article title                                          object\n",
       "COST (£) charged to Wellcome (inc VAT when charged)    object\n",
       "dtype: object"
      ]
     },
     "execution_count": 432,
     "metadata": {},
     "output_type": "execute_result"
    }
   ],
   "source": [
    "# I'm going to want to change the cost column to int data type to be able to perform math\n",
    "df.dtypes"
   ]
  },
  {
   "cell_type": "code",
   "execution_count": 433,
   "metadata": {},
   "outputs": [],
   "source": [
    "# remove spaces, change to lowercase\n",
    "df.columns = df.columns.str.replace(' ', '_')\n",
    "df.columns = map(str.lower, df.columns)\n",
    "\n",
    "# abbreviate cost column\n",
    "df.rename(columns={'cost_(£)_charged_to_wellcome_(inc_vat_when_charged)': \"cost\"}, inplace=True)"
   ]
  },
  {
   "cell_type": "code",
   "execution_count": 434,
   "metadata": {},
   "outputs": [
    {
     "data": {
      "text/html": [
       "<div>\n",
       "<style scoped>\n",
       "    .dataframe tbody tr th:only-of-type {\n",
       "        vertical-align: middle;\n",
       "    }\n",
       "\n",
       "    .dataframe tbody tr th {\n",
       "        vertical-align: top;\n",
       "    }\n",
       "\n",
       "    .dataframe thead th {\n",
       "        text-align: right;\n",
       "    }\n",
       "</style>\n",
       "<table border=\"1\" class=\"dataframe\">\n",
       "  <thead>\n",
       "    <tr style=\"text-align: right;\">\n",
       "      <th></th>\n",
       "      <th>pmid/pmcid</th>\n",
       "      <th>publisher</th>\n",
       "      <th>journal_title</th>\n",
       "      <th>article_title</th>\n",
       "      <th>cost</th>\n",
       "    </tr>\n",
       "  </thead>\n",
       "  <tbody>\n",
       "    <tr>\n",
       "      <td>0</td>\n",
       "      <td>NaN</td>\n",
       "      <td>CUP</td>\n",
       "      <td>Psychological Medicine</td>\n",
       "      <td>Reduced parahippocampal cortical thickness in ...</td>\n",
       "      <td>£0.00</td>\n",
       "    </tr>\n",
       "    <tr>\n",
       "      <td>1</td>\n",
       "      <td>PMC3679557</td>\n",
       "      <td>ACS</td>\n",
       "      <td>Biomacromolecules</td>\n",
       "      <td>Structural characterization of a Model Gram-ne...</td>\n",
       "      <td>£2381.04</td>\n",
       "    </tr>\n",
       "    <tr>\n",
       "      <td>2</td>\n",
       "      <td>23043264  PMC3506128</td>\n",
       "      <td>ACS</td>\n",
       "      <td>J Med Chem</td>\n",
       "      <td>Fumaroylamino-4,5-epoxymorphinans and related ...</td>\n",
       "      <td>£642.56</td>\n",
       "    </tr>\n",
       "    <tr>\n",
       "      <td>3</td>\n",
       "      <td>23438330 PMC3646402</td>\n",
       "      <td>ACS</td>\n",
       "      <td>J Med Chem</td>\n",
       "      <td>Orvinols with mixed kappa/mu opioid receptor a...</td>\n",
       "      <td>£669.64</td>\n",
       "    </tr>\n",
       "    <tr>\n",
       "      <td>4</td>\n",
       "      <td>23438216 PMC3601604</td>\n",
       "      <td>ACS</td>\n",
       "      <td>J Org Chem</td>\n",
       "      <td>Regioselective opening of myo-inositol orthoes...</td>\n",
       "      <td>£685.88</td>\n",
       "    </tr>\n",
       "  </tbody>\n",
       "</table>\n",
       "</div>"
      ],
      "text/plain": [
       "              pmid/pmcid publisher           journal_title  \\\n",
       "0                    NaN       CUP  Psychological Medicine   \n",
       "1             PMC3679557       ACS       Biomacromolecules   \n",
       "2  23043264  PMC3506128        ACS              J Med Chem   \n",
       "3    23438330 PMC3646402       ACS              J Med Chem   \n",
       "4   23438216 PMC3601604        ACS              J Org Chem   \n",
       "\n",
       "                                       article_title      cost  \n",
       "0  Reduced parahippocampal cortical thickness in ...     £0.00  \n",
       "1  Structural characterization of a Model Gram-ne...  £2381.04  \n",
       "2  Fumaroylamino-4,5-epoxymorphinans and related ...   £642.56  \n",
       "3  Orvinols with mixed kappa/mu opioid receptor a...   £669.64  \n",
       "4  Regioselective opening of myo-inositol orthoes...   £685.88  "
      ]
     },
     "execution_count": 434,
     "metadata": {},
     "output_type": "execute_result"
    }
   ],
   "source": [
    "df.head()"
   ]
  },
  {
   "cell_type": "code",
   "execution_count": 435,
   "metadata": {},
   "outputs": [
    {
     "data": {
      "text/plain": [
       "(2127, 5)"
      ]
     },
     "execution_count": 435,
     "metadata": {},
     "output_type": "execute_result"
    }
   ],
   "source": [
    "df.shape"
   ]
  },
  {
   "cell_type": "markdown",
   "metadata": {},
   "source": [
    "## 1. Determine the five most common journals and the total articles for each. "
   ]
  },
  {
   "cell_type": "code",
   "execution_count": 436,
   "metadata": {},
   "outputs": [
    {
     "data": {
      "text/plain": [
       "PLoS One                                           92\n",
       "PLoS ONE                                           62\n",
       "Journal of Biological Chemistry                    48\n",
       "Nucleic Acids Research                             21\n",
       "Proceedings of the National Academy of Sciences    19\n",
       "Name: journal_title, dtype: int64"
      ]
     },
     "execution_count": 436,
     "metadata": {},
     "output_type": "execute_result"
    }
   ],
   "source": [
    "# text clearly isn't consistent between journal articles\n",
    "df.journal_title.value_counts().head()"
   ]
  },
  {
   "cell_type": "code",
   "execution_count": 437,
   "metadata": {},
   "outputs": [],
   "source": [
    "# lowercase journal names\n",
    "df.journal_title = df.journal_title.apply(lambda x: str(x).lower())\n",
    "\n",
    "# strip whitespace\n",
    "df.journal_title = df.journal_title.apply(lambda x: str(x).strip())"
   ]
  },
  {
   "cell_type": "code",
   "execution_count": 438,
   "metadata": {},
   "outputs": [
    {
     "data": {
      "text/plain": [
       "plos one                                           190\n",
       "journal of biological chemistry                     53\n",
       "neuroimage                                          29\n",
       "nucleic acids research                              26\n",
       "plos pathogens                                      24\n",
       "plos genetics                                       24\n",
       "proceedings of the national academy of sciences     22\n",
       "plos neglected tropical diseases                    20\n",
       "nature communications                               19\n",
       "human molecular genetics                            19\n",
       "movement disorders                                  15\n",
       "bmc public health                                   14\n",
       "brain                                               14\n",
       "journal of neuroscience                             13\n",
       "developmental cell                                  12\n",
       "biochemical journal                                 12\n",
       "current biology                                     11\n",
       "journal of general virology                         11\n",
       "malaria journal                                     10\n",
       "bmj                                                 10\n",
       "Name: journal_title, dtype: int64"
      ]
     },
     "execution_count": 438,
     "metadata": {},
     "output_type": "execute_result"
    }
   ],
   "source": [
    "df.journal_title.value_counts().head(20)"
   ]
  },
  {
   "cell_type": "code",
   "execution_count": 439,
   "metadata": {},
   "outputs": [
    {
     "data": {
      "text/plain": [
       "plos one                            190\n",
       "plos genetics                        24\n",
       "plos pathogens                       24\n",
       "plos neglected tropical diseases     20\n",
       "plosone                               9\n",
       "plos computational biology            9\n",
       "plos 1                                7\n",
       "plos                                  4\n",
       "plos medicine                         4\n",
       "plos biology                          2\n",
       "plos  computational biology           1\n",
       "plos ntd                              1\n",
       "plos  one                             1\n",
       "plos negected tropical diseases       1\n",
       "plos medicine journal                 1\n",
       "Name: journal_title, dtype: int64"
      ]
     },
     "execution_count": 439,
     "metadata": {},
     "output_type": "execute_result"
    }
   ],
   "source": [
    "# how many journal articles contain 'plos'\n",
    "df.loc[df.journal_title.str.contains('plos'), 'journal_title'].value_counts()"
   ]
  },
  {
   "cell_type": "code",
   "execution_count": 440,
   "metadata": {},
   "outputs": [],
   "source": [
    "# create list of values to change based on similarities\n",
    "plos_one = ['plos 1',\n",
    "            'plos  one',\n",
    "            'plosone',\n",
    "            'plos']"
   ]
  },
  {
   "cell_type": "code",
   "execution_count": 441,
   "metadata": {},
   "outputs": [],
   "source": [
    "# is there a better way to do this with a lambda function?\n",
    "df.loc[df.journal_title.isin(plos_one), 'journal_title'] = 'plos one'"
   ]
  },
  {
   "cell_type": "code",
   "execution_count": 442,
   "metadata": {},
   "outputs": [
    {
     "data": {
      "text/plain": [
       "plos one                            211\n",
       "plos genetics                        24\n",
       "plos pathogens                       24\n",
       "plos neglected tropical diseases     20\n",
       "plos computational biology            9\n",
       "plos medicine                         4\n",
       "plos biology                          2\n",
       "plos  computational biology           1\n",
       "plos ntd                              1\n",
       "plos negected tropical diseases       1\n",
       "plos medicine journal                 1\n",
       "Name: journal_title, dtype: int64"
      ]
     },
     "execution_count": 442,
     "metadata": {},
     "output_type": "execute_result"
    }
   ],
   "source": [
    "# now verify value counts\n",
    "df.loc[df.journal_title.str.contains('plos'), 'journal_title'].value_counts()"
   ]
  },
  {
   "cell_type": "code",
   "execution_count": 443,
   "metadata": {},
   "outputs": [
    {
     "data": {
      "text/plain": [
       "0            psychological medicine\n",
       "1                 biomacromolecules\n",
       "2                        j med chem\n",
       "3                        j med chem\n",
       "4                        j org chem\n",
       "5    journal of medicinal chemistry\n",
       "6      journal of proteome research\n",
       "7                         mol pharm\n",
       "8              acs chemical biology\n",
       "9              acs chemical biology\n",
       "Name: journal_title, dtype: object"
      ]
     },
     "execution_count": 443,
     "metadata": {},
     "output_type": "execute_result"
    }
   ],
   "source": [
    "# there are still a number of similar names\n",
    "df.journal_title.sort_index().head(10)"
   ]
  },
  {
   "cell_type": "code",
   "execution_count": 444,
   "metadata": {},
   "outputs": [
    {
     "data": {
      "text/plain": [
       "plos one                           211\n",
       "journal of biological chemistry     53\n",
       "neuroimage                          29\n",
       "nucleic acids research              26\n",
       "plos pathogens                      24\n",
       "Name: journal_title, dtype: int64"
      ]
     },
     "execution_count": 444,
     "metadata": {},
     "output_type": "execute_result"
    }
   ],
   "source": [
    "df.journal_title.value_counts().head()"
   ]
  },
  {
   "cell_type": "markdown",
   "metadata": {},
   "source": [
    "## 2. Next, calculate the mean, median, and standard deviation of the open-access cost per article for each journal."
   ]
  },
  {
   "cell_type": "code",
   "execution_count": 445,
   "metadata": {},
   "outputs": [],
   "source": [
    "# strip the £ character off the front\n",
    "df.cost = df.cost.apply(lambda x: x[1:])\n",
    "\n",
    "# I could have also use the .str.replace('£', '') to do the same as the above"
   ]
  },
  {
   "cell_type": "code",
   "execution_count": 446,
   "metadata": {},
   "outputs": [],
   "source": [
    "# remove $ character\n",
    "df.cost = df.cost.str.replace('$', '')"
   ]
  },
  {
   "cell_type": "code",
   "execution_count": 447,
   "metadata": {},
   "outputs": [],
   "source": [
    "# change format of column to numeric\n",
    "df.cost = pd.to_numeric(df.cost)"
   ]
  },
  {
   "cell_type": "code",
   "execution_count": 448,
   "metadata": {},
   "outputs": [
    {
     "data": {
      "text/plain": [
       "pmid/pmcid        object\n",
       "publisher         object\n",
       "journal_title     object\n",
       "article_title     object\n",
       "cost             float64\n",
       "dtype: object"
      ]
     },
     "execution_count": 448,
     "metadata": {},
     "output_type": "execute_result"
    }
   ],
   "source": [
    "# verify data types are correct\n",
    "df.dtypes"
   ]
  },
  {
   "cell_type": "code",
   "execution_count": 449,
   "metadata": {},
   "outputs": [
    {
     "data": {
      "text/plain": [
       "2040.00      94\n",
       "999999.00    47\n",
       "1500.00      37\n",
       "2400.00      32\n",
       "2100.00      30\n",
       "1800.00      28\n",
       "3000.00      26\n",
       "1700.00      21\n",
       "825.68       19\n",
       "1834.77      18\n",
       "Name: cost, dtype: int64"
      ]
     },
     "execution_count": 449,
     "metadata": {},
     "output_type": "execute_result"
    }
   ],
   "source": [
    "df.cost.value_counts().head(10)"
   ]
  },
  {
   "cell_type": "code",
   "execution_count": 450,
   "metadata": {},
   "outputs": [],
   "source": [
    "# remove values that seem out of proportion\n",
    "replace = {\n",
    "    999999.0: 0\n",
    "}\n",
    "\n",
    "df.replace({'cost': replace}, inplace=True)"
   ]
  },
  {
   "cell_type": "code",
   "execution_count": 451,
   "metadata": {},
   "outputs": [
    {
     "data": {
      "text/html": [
       "<div>\n",
       "<style scoped>\n",
       "    .dataframe tbody tr th:only-of-type {\n",
       "        vertical-align: middle;\n",
       "    }\n",
       "\n",
       "    .dataframe tbody tr th {\n",
       "        vertical-align: top;\n",
       "    }\n",
       "\n",
       "    .dataframe thead th {\n",
       "        text-align: right;\n",
       "    }\n",
       "</style>\n",
       "<table border=\"1\" class=\"dataframe\">\n",
       "  <thead>\n",
       "    <tr style=\"text-align: right;\">\n",
       "      <th></th>\n",
       "      <th>mean</th>\n",
       "      <th>median</th>\n",
       "      <th>std</th>\n",
       "    </tr>\n",
       "    <tr>\n",
       "      <th>journal_title</th>\n",
       "      <th></th>\n",
       "      <th></th>\n",
       "      <th></th>\n",
       "    </tr>\n",
       "  </thead>\n",
       "  <tbody>\n",
       "    <tr>\n",
       "      <td>movement disorders</td>\n",
       "      <td>15176.788000</td>\n",
       "      <td>2010.24</td>\n",
       "      <td>51414.460186</td>\n",
       "    </tr>\n",
       "    <tr>\n",
       "      <td>nan</td>\n",
       "      <td>13200.000000</td>\n",
       "      <td>13200.00</td>\n",
       "      <td>NaN</td>\n",
       "    </tr>\n",
       "    <tr>\n",
       "      <td>public service review</td>\n",
       "      <td>6000.000000</td>\n",
       "      <td>6000.00</td>\n",
       "      <td>NaN</td>\n",
       "    </tr>\n",
       "    <tr>\n",
       "      <td>the lancet neurology</td>\n",
       "      <td>5040.000000</td>\n",
       "      <td>5040.00</td>\n",
       "      <td>1018.233765</td>\n",
       "    </tr>\n",
       "    <tr>\n",
       "      <td>the lancet</td>\n",
       "      <td>4558.003333</td>\n",
       "      <td>4554.01</td>\n",
       "      <td>240.024915</td>\n",
       "    </tr>\n",
       "    <tr>\n",
       "      <td>cell host &amp; microbe</td>\n",
       "      <td>4226.040000</td>\n",
       "      <td>4226.04</td>\n",
       "      <td>NaN</td>\n",
       "    </tr>\n",
       "    <tr>\n",
       "      <td>curr biol.</td>\n",
       "      <td>4151.770000</td>\n",
       "      <td>4151.77</td>\n",
       "      <td>NaN</td>\n",
       "    </tr>\n",
       "    <tr>\n",
       "      <td>cell journal</td>\n",
       "      <td>4041.050000</td>\n",
       "      <td>4041.05</td>\n",
       "      <td>NaN</td>\n",
       "    </tr>\n",
       "    <tr>\n",
       "      <td>immunity</td>\n",
       "      <td>3934.750000</td>\n",
       "      <td>3934.75</td>\n",
       "      <td>190.791552</td>\n",
       "    </tr>\n",
       "    <tr>\n",
       "      <td>cell metabolism</td>\n",
       "      <td>3924.260000</td>\n",
       "      <td>3904.46</td>\n",
       "      <td>151.324659</td>\n",
       "    </tr>\n",
       "  </tbody>\n",
       "</table>\n",
       "</div>"
      ],
      "text/plain": [
       "                               mean    median           std\n",
       "journal_title                                              \n",
       "movement disorders     15176.788000   2010.24  51414.460186\n",
       "nan                    13200.000000  13200.00           NaN\n",
       "public service review   6000.000000   6000.00           NaN\n",
       "the lancet neurology    5040.000000   5040.00   1018.233765\n",
       "the lancet              4558.003333   4554.01    240.024915\n",
       "cell host & microbe     4226.040000   4226.04           NaN\n",
       "curr biol.              4151.770000   4151.77           NaN\n",
       "cell journal            4041.050000   4041.05           NaN\n",
       "immunity                3934.750000   3934.75    190.791552\n",
       "cell metabolism         3924.260000   3904.46    151.324659"
      ]
     },
     "execution_count": 451,
     "metadata": {},
     "output_type": "execute_result"
    }
   ],
   "source": [
    "df.groupby('journal_title')['cost'].agg(['mean', 'median', 'std']) \\\n",
    "  .sort_values(by='mean', ascending=False).head(10)"
   ]
  },
  {
   "cell_type": "markdown",
   "metadata": {},
   "source": [
    "## 3. Identify the open access prices paid by subject area."
   ]
  },
  {
   "cell_type": "markdown",
   "metadata": {},
   "source": [
    "### Identify Top Journal Keywords"
   ]
  },
  {
   "cell_type": "code",
   "execution_count": 452,
   "metadata": {},
   "outputs": [
    {
     "data": {
      "text/html": [
       "<div>\n",
       "<style scoped>\n",
       "    .dataframe tbody tr th:only-of-type {\n",
       "        vertical-align: middle;\n",
       "    }\n",
       "\n",
       "    .dataframe tbody tr th {\n",
       "        vertical-align: top;\n",
       "    }\n",
       "\n",
       "    .dataframe thead th {\n",
       "        text-align: right;\n",
       "    }\n",
       "</style>\n",
       "<table border=\"1\" class=\"dataframe\">\n",
       "  <thead>\n",
       "    <tr style=\"text-align: right;\">\n",
       "      <th></th>\n",
       "      <th>pmid/pmcid</th>\n",
       "      <th>publisher</th>\n",
       "      <th>journal_title</th>\n",
       "      <th>article_title</th>\n",
       "      <th>cost</th>\n",
       "    </tr>\n",
       "  </thead>\n",
       "  <tbody>\n",
       "    <tr>\n",
       "      <td>0</td>\n",
       "      <td>NaN</td>\n",
       "      <td>CUP</td>\n",
       "      <td>psychological medicine</td>\n",
       "      <td>Reduced parahippocampal cortical thickness in ...</td>\n",
       "      <td>0.00</td>\n",
       "    </tr>\n",
       "    <tr>\n",
       "      <td>1</td>\n",
       "      <td>PMC3679557</td>\n",
       "      <td>ACS</td>\n",
       "      <td>biomacromolecules</td>\n",
       "      <td>Structural characterization of a Model Gram-ne...</td>\n",
       "      <td>2381.04</td>\n",
       "    </tr>\n",
       "    <tr>\n",
       "      <td>2</td>\n",
       "      <td>23043264  PMC3506128</td>\n",
       "      <td>ACS</td>\n",
       "      <td>j med chem</td>\n",
       "      <td>Fumaroylamino-4,5-epoxymorphinans and related ...</td>\n",
       "      <td>642.56</td>\n",
       "    </tr>\n",
       "    <tr>\n",
       "      <td>3</td>\n",
       "      <td>23438330 PMC3646402</td>\n",
       "      <td>ACS</td>\n",
       "      <td>j med chem</td>\n",
       "      <td>Orvinols with mixed kappa/mu opioid receptor a...</td>\n",
       "      <td>669.64</td>\n",
       "    </tr>\n",
       "    <tr>\n",
       "      <td>4</td>\n",
       "      <td>23438216 PMC3601604</td>\n",
       "      <td>ACS</td>\n",
       "      <td>j org chem</td>\n",
       "      <td>Regioselective opening of myo-inositol orthoes...</td>\n",
       "      <td>685.88</td>\n",
       "    </tr>\n",
       "  </tbody>\n",
       "</table>\n",
       "</div>"
      ],
      "text/plain": [
       "              pmid/pmcid publisher           journal_title  \\\n",
       "0                    NaN       CUP  psychological medicine   \n",
       "1             PMC3679557       ACS       biomacromolecules   \n",
       "2  23043264  PMC3506128        ACS              j med chem   \n",
       "3    23438330 PMC3646402       ACS              j med chem   \n",
       "4   23438216 PMC3601604        ACS              j org chem   \n",
       "\n",
       "                                       article_title     cost  \n",
       "0  Reduced parahippocampal cortical thickness in ...     0.00  \n",
       "1  Structural characterization of a Model Gram-ne...  2381.04  \n",
       "2  Fumaroylamino-4,5-epoxymorphinans and related ...   642.56  \n",
       "3  Orvinols with mixed kappa/mu opioid receptor a...   669.64  \n",
       "4  Regioselective opening of myo-inositol orthoes...   685.88  "
      ]
     },
     "execution_count": 452,
     "metadata": {},
     "output_type": "execute_result"
    }
   ],
   "source": [
    "df.head()"
   ]
  },
  {
   "cell_type": "code",
   "execution_count": 453,
   "metadata": {},
   "outputs": [],
   "source": [
    "# break up tokens from journal titles\n",
    "# find the count of each token\n",
    "# based on the tokens with the highest counts, form buckets\n",
    "\n",
    "journal_words = []\n",
    "\n",
    "for row in df.journal_title.str.split():\n",
    "    for word in row:\n",
    "        if len(word) > 3:\n",
    "            journal_words.append(word)\n",
    "\n",
    "journal_words_df = pd.DataFrame(journal_words, columns=['tokens'])\n",
    "\n",
    "journal_words_df_count = journal_words_df.groupby('tokens')['tokens'] \\\n",
    "    .count() \\\n",
    "    .reset_index(name= 'token_count') \\\n",
    "    .sort_values(by='token_count', ascending=False)"
   ]
  },
  {
   "cell_type": "code",
   "execution_count": 454,
   "metadata": {},
   "outputs": [
    {
     "data": {
      "text/html": [
       "<div>\n",
       "<style scoped>\n",
       "    .dataframe tbody tr th:only-of-type {\n",
       "        vertical-align: middle;\n",
       "    }\n",
       "\n",
       "    .dataframe tbody tr th {\n",
       "        vertical-align: top;\n",
       "    }\n",
       "\n",
       "    .dataframe thead th {\n",
       "        text-align: right;\n",
       "    }\n",
       "</style>\n",
       "<table border=\"1\" class=\"dataframe\">\n",
       "  <thead>\n",
       "    <tr style=\"text-align: right;\">\n",
       "      <th></th>\n",
       "      <th>tokens</th>\n",
       "      <th>token_count</th>\n",
       "    </tr>\n",
       "  </thead>\n",
       "  <tbody>\n",
       "    <tr>\n",
       "      <td>371</td>\n",
       "      <td>journal</td>\n",
       "      <td>528</td>\n",
       "    </tr>\n",
       "    <tr>\n",
       "      <td>539</td>\n",
       "      <td>plos</td>\n",
       "      <td>298</td>\n",
       "    </tr>\n",
       "    <tr>\n",
       "      <td>96</td>\n",
       "      <td>biology</td>\n",
       "      <td>92</td>\n",
       "    </tr>\n",
       "    <tr>\n",
       "      <td>595</td>\n",
       "      <td>research</td>\n",
       "      <td>91</td>\n",
       "    </tr>\n",
       "    <tr>\n",
       "      <td>423</td>\n",
       "      <td>molecular</td>\n",
       "      <td>88</td>\n",
       "    </tr>\n",
       "  </tbody>\n",
       "</table>\n",
       "</div>"
      ],
      "text/plain": [
       "        tokens  token_count\n",
       "371    journal          528\n",
       "539       plos          298\n",
       "96     biology           92\n",
       "595   research           91\n",
       "423  molecular           88"
      ]
     },
     "execution_count": 454,
     "metadata": {},
     "output_type": "execute_result"
    }
   ],
   "source": [
    "journal_words_df_count.head()"
   ]
  },
  {
   "cell_type": "code",
   "execution_count": 455,
   "metadata": {},
   "outputs": [],
   "source": [
    "# lemmatize and tag jornal bag of words\n",
    "# https://stackoverflow.com/questions/44395656/applying-spacy-parser-to-pandas-dataframe-w-multiprocessing\n",
    "\n",
    "lemma = []\n",
    "pos = []\n",
    "tag = []\n",
    "\n",
    "for doc in nlp.pipe(journal_words_df_count['tokens'].astype('unicode').values, batch_size=50):\n",
    "    lemma.append([n.lemma_ for n in doc])\n",
    "    pos.append([n.pos_ for n in doc])\n",
    "    tag.append([n.tag_ for n in doc])\n",
    "\n",
    "journal_words_df_count['lemma'] = lemma\n",
    "journal_words_df_count['pos'] = pos\n",
    "journal_words_df_count['tag'] = tag"
   ]
  },
  {
   "cell_type": "code",
   "execution_count": 456,
   "metadata": {},
   "outputs": [],
   "source": [
    "# change format of columns from list to string\n",
    "journal_words_df_count.lemma = journal_words_df_count.lemma.apply(''.join)\n",
    "journal_words_df_count.pos = journal_words_df_count.pos.apply(''.join)"
   ]
  },
  {
   "cell_type": "code",
   "execution_count": 457,
   "metadata": {},
   "outputs": [
    {
     "data": {
      "text/html": [
       "<div>\n",
       "<style scoped>\n",
       "    .dataframe tbody tr th:only-of-type {\n",
       "        vertical-align: middle;\n",
       "    }\n",
       "\n",
       "    .dataframe tbody tr th {\n",
       "        vertical-align: top;\n",
       "    }\n",
       "\n",
       "    .dataframe thead th {\n",
       "        text-align: right;\n",
       "    }\n",
       "</style>\n",
       "<table border=\"1\" class=\"dataframe\">\n",
       "  <thead>\n",
       "    <tr style=\"text-align: right;\">\n",
       "      <th></th>\n",
       "      <th>tokens</th>\n",
       "      <th>token_count</th>\n",
       "      <th>lemma</th>\n",
       "      <th>pos</th>\n",
       "      <th>tag</th>\n",
       "    </tr>\n",
       "  </thead>\n",
       "  <tbody>\n",
       "    <tr>\n",
       "      <td>371</td>\n",
       "      <td>journal</td>\n",
       "      <td>528</td>\n",
       "      <td>journal</td>\n",
       "      <td>NOUN</td>\n",
       "      <td>[NN]</td>\n",
       "    </tr>\n",
       "    <tr>\n",
       "      <td>539</td>\n",
       "      <td>plos</td>\n",
       "      <td>298</td>\n",
       "      <td>plo</td>\n",
       "      <td>NOUN</td>\n",
       "      <td>[NNS]</td>\n",
       "    </tr>\n",
       "    <tr>\n",
       "      <td>96</td>\n",
       "      <td>biology</td>\n",
       "      <td>92</td>\n",
       "      <td>biology</td>\n",
       "      <td>NOUN</td>\n",
       "      <td>[NN]</td>\n",
       "    </tr>\n",
       "    <tr>\n",
       "      <td>595</td>\n",
       "      <td>research</td>\n",
       "      <td>91</td>\n",
       "      <td>research</td>\n",
       "      <td>NOUN</td>\n",
       "      <td>[NN]</td>\n",
       "    </tr>\n",
       "    <tr>\n",
       "      <td>423</td>\n",
       "      <td>molecular</td>\n",
       "      <td>88</td>\n",
       "      <td>molecular</td>\n",
       "      <td>ADJ</td>\n",
       "      <td>[JJ]</td>\n",
       "    </tr>\n",
       "  </tbody>\n",
       "</table>\n",
       "</div>"
      ],
      "text/plain": [
       "        tokens  token_count      lemma   pos    tag\n",
       "371    journal          528    journal  NOUN   [NN]\n",
       "539       plos          298        plo  NOUN  [NNS]\n",
       "96     biology           92    biology  NOUN   [NN]\n",
       "595   research           91   research  NOUN   [NN]\n",
       "423  molecular           88  molecular   ADJ   [JJ]"
      ]
     },
     "execution_count": 457,
     "metadata": {},
     "output_type": "execute_result"
    }
   ],
   "source": [
    "journal_words_df_count.head()"
   ]
  },
  {
   "cell_type": "code",
   "execution_count": 458,
   "metadata": {},
   "outputs": [],
   "source": [
    "# lemmatize journal titles\n",
    "lemma = []\n",
    "\n",
    "for doc in nlp.pipe(df.journal_title.astype('unicode').values, batch_size=50):\n",
    "    lemma.append([n.lemma_ for n in doc])\n",
    "#     pos.append([n.pos_ for n in doc])\n",
    "\n",
    "df['journal_lemma'] = lemma"
   ]
  },
  {
   "cell_type": "code",
   "execution_count": 459,
   "metadata": {},
   "outputs": [
    {
     "data": {
      "text/html": [
       "<div>\n",
       "<style scoped>\n",
       "    .dataframe tbody tr th:only-of-type {\n",
       "        vertical-align: middle;\n",
       "    }\n",
       "\n",
       "    .dataframe tbody tr th {\n",
       "        vertical-align: top;\n",
       "    }\n",
       "\n",
       "    .dataframe thead th {\n",
       "        text-align: right;\n",
       "    }\n",
       "</style>\n",
       "<table border=\"1\" class=\"dataframe\">\n",
       "  <thead>\n",
       "    <tr style=\"text-align: right;\">\n",
       "      <th></th>\n",
       "      <th>pmid/pmcid</th>\n",
       "      <th>publisher</th>\n",
       "      <th>journal_title</th>\n",
       "      <th>article_title</th>\n",
       "      <th>cost</th>\n",
       "      <th>journal_lemma</th>\n",
       "    </tr>\n",
       "  </thead>\n",
       "  <tbody>\n",
       "    <tr>\n",
       "      <td>0</td>\n",
       "      <td>NaN</td>\n",
       "      <td>CUP</td>\n",
       "      <td>psychological medicine</td>\n",
       "      <td>Reduced parahippocampal cortical thickness in ...</td>\n",
       "      <td>0.00</td>\n",
       "      <td>[psychological, medicine]</td>\n",
       "    </tr>\n",
       "    <tr>\n",
       "      <td>1</td>\n",
       "      <td>PMC3679557</td>\n",
       "      <td>ACS</td>\n",
       "      <td>biomacromolecules</td>\n",
       "      <td>Structural characterization of a Model Gram-ne...</td>\n",
       "      <td>2381.04</td>\n",
       "      <td>[biomacromolecule]</td>\n",
       "    </tr>\n",
       "    <tr>\n",
       "      <td>2</td>\n",
       "      <td>23043264  PMC3506128</td>\n",
       "      <td>ACS</td>\n",
       "      <td>j med chem</td>\n",
       "      <td>Fumaroylamino-4,5-epoxymorphinans and related ...</td>\n",
       "      <td>642.56</td>\n",
       "      <td>[j, med, chem]</td>\n",
       "    </tr>\n",
       "    <tr>\n",
       "      <td>3</td>\n",
       "      <td>23438330 PMC3646402</td>\n",
       "      <td>ACS</td>\n",
       "      <td>j med chem</td>\n",
       "      <td>Orvinols with mixed kappa/mu opioid receptor a...</td>\n",
       "      <td>669.64</td>\n",
       "      <td>[j, med, chem]</td>\n",
       "    </tr>\n",
       "    <tr>\n",
       "      <td>4</td>\n",
       "      <td>23438216 PMC3601604</td>\n",
       "      <td>ACS</td>\n",
       "      <td>j org chem</td>\n",
       "      <td>Regioselective opening of myo-inositol orthoes...</td>\n",
       "      <td>685.88</td>\n",
       "      <td>[j, org, chem]</td>\n",
       "    </tr>\n",
       "  </tbody>\n",
       "</table>\n",
       "</div>"
      ],
      "text/plain": [
       "              pmid/pmcid publisher           journal_title  \\\n",
       "0                    NaN       CUP  psychological medicine   \n",
       "1             PMC3679557       ACS       biomacromolecules   \n",
       "2  23043264  PMC3506128        ACS              j med chem   \n",
       "3    23438330 PMC3646402       ACS              j med chem   \n",
       "4   23438216 PMC3601604        ACS              j org chem   \n",
       "\n",
       "                                       article_title     cost  \\\n",
       "0  Reduced parahippocampal cortical thickness in ...     0.00   \n",
       "1  Structural characterization of a Model Gram-ne...  2381.04   \n",
       "2  Fumaroylamino-4,5-epoxymorphinans and related ...   642.56   \n",
       "3  Orvinols with mixed kappa/mu opioid receptor a...   669.64   \n",
       "4  Regioselective opening of myo-inositol orthoes...   685.88   \n",
       "\n",
       "               journal_lemma  \n",
       "0  [psychological, medicine]  \n",
       "1         [biomacromolecule]  \n",
       "2             [j, med, chem]  \n",
       "3             [j, med, chem]  \n",
       "4             [j, org, chem]  "
      ]
     },
     "execution_count": 459,
     "metadata": {},
     "output_type": "execute_result"
    }
   ],
   "source": [
    "df.head()"
   ]
  },
  {
   "cell_type": "markdown",
   "metadata": {},
   "source": [
    "### 1st Method - Using spaCy Lemmatization\n",
    "I felt that spaCy didn't find a very deep root of the word.  Resulting in less effective binning"
   ]
  },
  {
   "cell_type": "code",
   "execution_count": 460,
   "metadata": {},
   "outputs": [
    {
     "data": {
      "text/plain": [
       "96       biology\n",
       "595     research\n",
       "148    chemistry\n",
       "135         cell\n",
       "292      genetic\n",
       "Name: lemma, dtype: object"
      ]
     },
     "execution_count": 460,
     "metadata": {},
     "output_type": "execute_result"
    }
   ],
   "source": [
    "# idenfity only nouns\n",
    "# exclude the top 2 since they are not meaningful\n",
    "journal_words_df_count.loc[journal_words_df_count.pos == 'NOUN', 'lemma'][2:52].head()"
   ]
  },
  {
   "cell_type": "code",
   "execution_count": 461,
   "metadata": {},
   "outputs": [],
   "source": [
    "# iterate through journal lemma words\n",
    "# then bin based on word \n",
    "# ranked most highly in the bag of words\n",
    "def bin_based_on_stem(stemmed_journal):\n",
    "    for word in stemmed_journal:\n",
    "        if word in journal_words_df_count.loc[journal_words_df_count.pos == 'NOUN', 'lemma'][2:52].values:\n",
    "            return word\n",
    "    return np.nan"
   ]
  },
  {
   "cell_type": "code",
   "execution_count": 462,
   "metadata": {},
   "outputs": [],
   "source": [
    "df['lemma_bin'] = df.journal_lemma.apply(bin_based_on_stem)"
   ]
  },
  {
   "cell_type": "code",
   "execution_count": 463,
   "metadata": {},
   "outputs": [
    {
     "data": {
      "text/html": [
       "<div>\n",
       "<style scoped>\n",
       "    .dataframe tbody tr th:only-of-type {\n",
       "        vertical-align: middle;\n",
       "    }\n",
       "\n",
       "    .dataframe tbody tr th {\n",
       "        vertical-align: top;\n",
       "    }\n",
       "\n",
       "    .dataframe thead th {\n",
       "        text-align: right;\n",
       "    }\n",
       "</style>\n",
       "<table border=\"1\" class=\"dataframe\">\n",
       "  <thead>\n",
       "    <tr style=\"text-align: right;\">\n",
       "      <th></th>\n",
       "      <th>pmid/pmcid</th>\n",
       "      <th>publisher</th>\n",
       "      <th>journal_title</th>\n",
       "      <th>article_title</th>\n",
       "      <th>cost</th>\n",
       "      <th>journal_lemma</th>\n",
       "      <th>lemma_bin</th>\n",
       "    </tr>\n",
       "  </thead>\n",
       "  <tbody>\n",
       "    <tr>\n",
       "      <td>0</td>\n",
       "      <td>NaN</td>\n",
       "      <td>CUP</td>\n",
       "      <td>psychological medicine</td>\n",
       "      <td>Reduced parahippocampal cortical thickness in ...</td>\n",
       "      <td>0.00</td>\n",
       "      <td>[psychological, medicine]</td>\n",
       "      <td>medicine</td>\n",
       "    </tr>\n",
       "    <tr>\n",
       "      <td>1</td>\n",
       "      <td>PMC3679557</td>\n",
       "      <td>ACS</td>\n",
       "      <td>biomacromolecules</td>\n",
       "      <td>Structural characterization of a Model Gram-ne...</td>\n",
       "      <td>2381.04</td>\n",
       "      <td>[biomacromolecule]</td>\n",
       "      <td>NaN</td>\n",
       "    </tr>\n",
       "    <tr>\n",
       "      <td>2</td>\n",
       "      <td>23043264  PMC3506128</td>\n",
       "      <td>ACS</td>\n",
       "      <td>j med chem</td>\n",
       "      <td>Fumaroylamino-4,5-epoxymorphinans and related ...</td>\n",
       "      <td>642.56</td>\n",
       "      <td>[j, med, chem]</td>\n",
       "      <td>NaN</td>\n",
       "    </tr>\n",
       "    <tr>\n",
       "      <td>3</td>\n",
       "      <td>23438330 PMC3646402</td>\n",
       "      <td>ACS</td>\n",
       "      <td>j med chem</td>\n",
       "      <td>Orvinols with mixed kappa/mu opioid receptor a...</td>\n",
       "      <td>669.64</td>\n",
       "      <td>[j, med, chem]</td>\n",
       "      <td>NaN</td>\n",
       "    </tr>\n",
       "    <tr>\n",
       "      <td>4</td>\n",
       "      <td>23438216 PMC3601604</td>\n",
       "      <td>ACS</td>\n",
       "      <td>j org chem</td>\n",
       "      <td>Regioselective opening of myo-inositol orthoes...</td>\n",
       "      <td>685.88</td>\n",
       "      <td>[j, org, chem]</td>\n",
       "      <td>NaN</td>\n",
       "    </tr>\n",
       "  </tbody>\n",
       "</table>\n",
       "</div>"
      ],
      "text/plain": [
       "              pmid/pmcid publisher           journal_title  \\\n",
       "0                    NaN       CUP  psychological medicine   \n",
       "1             PMC3679557       ACS       biomacromolecules   \n",
       "2  23043264  PMC3506128        ACS              j med chem   \n",
       "3    23438330 PMC3646402       ACS              j med chem   \n",
       "4   23438216 PMC3601604        ACS              j org chem   \n",
       "\n",
       "                                       article_title     cost  \\\n",
       "0  Reduced parahippocampal cortical thickness in ...     0.00   \n",
       "1  Structural characterization of a Model Gram-ne...  2381.04   \n",
       "2  Fumaroylamino-4,5-epoxymorphinans and related ...   642.56   \n",
       "3  Orvinols with mixed kappa/mu opioid receptor a...   669.64   \n",
       "4  Regioselective opening of myo-inositol orthoes...   685.88   \n",
       "\n",
       "               journal_lemma lemma_bin  \n",
       "0  [psychological, medicine]  medicine  \n",
       "1         [biomacromolecule]       NaN  \n",
       "2             [j, med, chem]       NaN  \n",
       "3             [j, med, chem]       NaN  \n",
       "4             [j, org, chem]       NaN  "
      ]
     },
     "execution_count": 463,
     "metadata": {},
     "output_type": "execute_result"
    }
   ],
   "source": [
    "df.head()"
   ]
  },
  {
   "cell_type": "code",
   "execution_count": 464,
   "metadata": {},
   "outputs": [
    {
     "data": {
      "text/plain": [
       "chemistry       83\n",
       "cell            81\n",
       "genetic         80\n",
       "biology         76\n",
       "medicine        57\n",
       "disease         55\n",
       "health          48\n",
       "research        46\n",
       "neuroscience    41\n",
       "proceeding      40\n",
       "Name: lemma_bin, dtype: int64"
      ]
     },
     "execution_count": 464,
     "metadata": {},
     "output_type": "execute_result"
    }
   ],
   "source": [
    "# top 10 bins\n",
    "df.lemma_bin.value_counts().head(10)"
   ]
  },
  {
   "cell_type": "code",
   "execution_count": 465,
   "metadata": {},
   "outputs": [
    {
     "data": {
      "text/plain": [
       "607"
      ]
     },
     "execution_count": 465,
     "metadata": {},
     "output_type": "execute_result"
    }
   ],
   "source": [
    "# how many journals were included in the top 10 bins?\n",
    "df.lemma_bin.value_counts().head(10).sum()"
   ]
  },
  {
   "cell_type": "code",
   "execution_count": 466,
   "metadata": {},
   "outputs": [
    {
     "data": {
      "text/plain": [
       "1307"
      ]
     },
     "execution_count": 466,
     "metadata": {},
     "output_type": "execute_result"
    }
   ],
   "source": [
    "# how many journals were assigned?\n",
    "df.lemma_bin.value_counts().sum()"
   ]
  },
  {
   "cell_type": "code",
   "execution_count": 467,
   "metadata": {},
   "outputs": [
    {
     "data": {
      "text/plain": [
       "2127"
      ]
     },
     "execution_count": 467,
     "metadata": {},
     "output_type": "execute_result"
    }
   ],
   "source": [
    "# how many journals in total\n",
    "df.shape[0]"
   ]
  },
  {
   "cell_type": "code",
   "execution_count": 468,
   "metadata": {},
   "outputs": [
    {
     "data": {
      "text/plain": [
       "0.614480488951575"
      ]
     },
     "execution_count": 468,
     "metadata": {},
     "output_type": "execute_result"
    }
   ],
   "source": [
    "# what percent of journals were assigned?\n",
    "df.lemma_bin.value_counts().sum() / \\\n",
    "df.shape[0]"
   ]
  },
  {
   "cell_type": "code",
   "execution_count": 469,
   "metadata": {},
   "outputs": [
    {
     "data": {
      "text/html": [
       "<div>\n",
       "<style scoped>\n",
       "    .dataframe tbody tr th:only-of-type {\n",
       "        vertical-align: middle;\n",
       "    }\n",
       "\n",
       "    .dataframe tbody tr th {\n",
       "        vertical-align: top;\n",
       "    }\n",
       "\n",
       "    .dataframe thead th {\n",
       "        text-align: right;\n",
       "    }\n",
       "</style>\n",
       "<table border=\"1\" class=\"dataframe\">\n",
       "  <thead>\n",
       "    <tr style=\"text-align: right;\">\n",
       "      <th></th>\n",
       "      <th>pmid/pmcid</th>\n",
       "      <th>publisher</th>\n",
       "      <th>journal_title</th>\n",
       "      <th>article_title</th>\n",
       "      <th>cost</th>\n",
       "      <th>journal_lemma</th>\n",
       "      <th>lemma_bin</th>\n",
       "    </tr>\n",
       "  </thead>\n",
       "  <tbody>\n",
       "    <tr>\n",
       "      <td>1</td>\n",
       "      <td>PMC3679557</td>\n",
       "      <td>ACS</td>\n",
       "      <td>biomacromolecules</td>\n",
       "      <td>Structural characterization of a Model Gram-ne...</td>\n",
       "      <td>2381.04</td>\n",
       "      <td>[biomacromolecule]</td>\n",
       "      <td>NaN</td>\n",
       "    </tr>\n",
       "    <tr>\n",
       "      <td>2</td>\n",
       "      <td>23043264  PMC3506128</td>\n",
       "      <td>ACS</td>\n",
       "      <td>j med chem</td>\n",
       "      <td>Fumaroylamino-4,5-epoxymorphinans and related ...</td>\n",
       "      <td>642.56</td>\n",
       "      <td>[j, med, chem]</td>\n",
       "      <td>NaN</td>\n",
       "    </tr>\n",
       "    <tr>\n",
       "      <td>3</td>\n",
       "      <td>23438330 PMC3646402</td>\n",
       "      <td>ACS</td>\n",
       "      <td>j med chem</td>\n",
       "      <td>Orvinols with mixed kappa/mu opioid receptor a...</td>\n",
       "      <td>669.64</td>\n",
       "      <td>[j, med, chem]</td>\n",
       "      <td>NaN</td>\n",
       "    </tr>\n",
       "    <tr>\n",
       "      <td>4</td>\n",
       "      <td>23438216 PMC3601604</td>\n",
       "      <td>ACS</td>\n",
       "      <td>j org chem</td>\n",
       "      <td>Regioselective opening of myo-inositol orthoes...</td>\n",
       "      <td>685.88</td>\n",
       "      <td>[j, org, chem]</td>\n",
       "      <td>NaN</td>\n",
       "    </tr>\n",
       "    <tr>\n",
       "      <td>7</td>\n",
       "      <td>23057412 PMC3495574</td>\n",
       "      <td>ACS</td>\n",
       "      <td>mol pharm</td>\n",
       "      <td>Quantitative silencing of EGFP reporter gene b...</td>\n",
       "      <td>649.33</td>\n",
       "      <td>[mol, pharm]</td>\n",
       "      <td>NaN</td>\n",
       "    </tr>\n",
       "  </tbody>\n",
       "</table>\n",
       "</div>"
      ],
      "text/plain": [
       "              pmid/pmcid publisher      journal_title  \\\n",
       "1             PMC3679557       ACS  biomacromolecules   \n",
       "2  23043264  PMC3506128        ACS         j med chem   \n",
       "3    23438330 PMC3646402       ACS         j med chem   \n",
       "4   23438216 PMC3601604        ACS         j org chem   \n",
       "7   23057412 PMC3495574        ACS          mol pharm   \n",
       "\n",
       "                                       article_title     cost  \\\n",
       "1  Structural characterization of a Model Gram-ne...  2381.04   \n",
       "2  Fumaroylamino-4,5-epoxymorphinans and related ...   642.56   \n",
       "3  Orvinols with mixed kappa/mu opioid receptor a...   669.64   \n",
       "4  Regioselective opening of myo-inositol orthoes...   685.88   \n",
       "7  Quantitative silencing of EGFP reporter gene b...   649.33   \n",
       "\n",
       "        journal_lemma lemma_bin  \n",
       "1  [biomacromolecule]       NaN  \n",
       "2      [j, med, chem]       NaN  \n",
       "3      [j, med, chem]       NaN  \n",
       "4      [j, org, chem]       NaN  \n",
       "7        [mol, pharm]       NaN  "
      ]
     },
     "execution_count": 469,
     "metadata": {},
     "output_type": "execute_result"
    }
   ],
   "source": [
    "# a glance at the journals that weren't binned with this method\n",
    "df[df.lemma_bin.isna()].head()"
   ]
  },
  {
   "cell_type": "markdown",
   "metadata": {},
   "source": [
    "### 2nd Method - Using First 4 Journal Name Characters\n",
    "This is a bit more crude, however I felt as if it did a better job overall"
   ]
  },
  {
   "cell_type": "code",
   "execution_count": 470,
   "metadata": {},
   "outputs": [],
   "source": [
    "# further refine words based on the first 4 digits\n",
    "journal_words_df_count['first_4_char'] = journal_words_df_count.lemma.apply(lambda x: str(x)[0:4])"
   ]
  },
  {
   "cell_type": "code",
   "execution_count": 471,
   "metadata": {},
   "outputs": [
    {
     "data": {
      "text/plain": [
       "Index(['neur', 'chem', 'tran', 'psyc', 'gene', 'immu', 'biom', 'expe', 'bioc',\n",
       "       'bioe', 'inte', 'micr', 'prot', 'biol', 'soci', 'arch', 'geno', 'beha',\n",
       "       'reso', 'infe', 'proc', 'stat', 'medi', 'anti', 'para', 'chil', 'crys',\n",
       "       'scie', 'bios', 'phys', 'cell', 'clin', 'diab', 'deve', 'phil', 'card',\n",
       "       'biop', 'resp', 'radi', 'repr', 'onco', 'circ', 'comm', 'comp', 'nano',\n",
       "       'derm', 'ange', 'viro', 'meta', 'jour', 'epid', 'infl', 'ther', 'hist',\n",
       "       'heal', 'haem', 'afri', 'amer', 'visu', 'phar', 'evol', 'epil', 'plan',\n",
       "       'geog', 'inve', 'ethn', 'info', 'huma', 'fron', 'expr', 'cent', 'chro',\n",
       "       'phot', 'oxid', 'hear', 'pedi', 'func', 'hepa', 'joun', 'cogn', 'epig',\n",
       "       'diff', 'mode', 'mole', 'dise', 'econ', 'magn', 'muta', 'lond', 'neph',\n",
       "       'nerv', 'leuk', 'cyto', 'nutr', 'curr', 'cult', 'endo', 'engi', 'opin',\n",
       "       'opth'],\n",
       "      dtype='object', name='first_4_char')"
      ]
     },
     "execution_count": 471,
     "metadata": {},
     "output_type": "execute_result"
    }
   ],
   "source": [
    "# groupby first 4 characters and order by largest number of tokens consolidated\n",
    "journal_words_df_count.groupby('first_4_char')['first_4_char'].count().sort_values(ascending=False).head(100).index"
   ]
  },
  {
   "cell_type": "code",
   "execution_count": 472,
   "metadata": {},
   "outputs": [],
   "source": [
    "# iterate through first 4 characters of journal lemma words\n",
    "# then bin based on word \n",
    "def bin_based_on_stem(stemmed_journal):\n",
    "    for word in stemmed_journal:\n",
    "        if word[0:4] in journal_words_df_count.groupby('first_4_char')['first_4_char'].count().sort_values(ascending=False).head(100).index:\n",
    "            if word[0:4] != 'jour':\n",
    "                return word\n",
    "    return np.nan"
   ]
  },
  {
   "cell_type": "code",
   "execution_count": 473,
   "metadata": {},
   "outputs": [],
   "source": [
    "df['first_4_char_bin'] = df.journal_lemma.apply(bin_based_on_stem)"
   ]
  },
  {
   "cell_type": "code",
   "execution_count": 474,
   "metadata": {},
   "outputs": [
    {
     "data": {
      "text/html": [
       "<div>\n",
       "<style scoped>\n",
       "    .dataframe tbody tr th:only-of-type {\n",
       "        vertical-align: middle;\n",
       "    }\n",
       "\n",
       "    .dataframe tbody tr th {\n",
       "        vertical-align: top;\n",
       "    }\n",
       "\n",
       "    .dataframe thead th {\n",
       "        text-align: right;\n",
       "    }\n",
       "</style>\n",
       "<table border=\"1\" class=\"dataframe\">\n",
       "  <thead>\n",
       "    <tr style=\"text-align: right;\">\n",
       "      <th></th>\n",
       "      <th>pmid/pmcid</th>\n",
       "      <th>publisher</th>\n",
       "      <th>journal_title</th>\n",
       "      <th>article_title</th>\n",
       "      <th>cost</th>\n",
       "      <th>journal_lemma</th>\n",
       "      <th>lemma_bin</th>\n",
       "      <th>first_4_char_bin</th>\n",
       "    </tr>\n",
       "  </thead>\n",
       "  <tbody>\n",
       "    <tr>\n",
       "      <td>0</td>\n",
       "      <td>NaN</td>\n",
       "      <td>CUP</td>\n",
       "      <td>psychological medicine</td>\n",
       "      <td>Reduced parahippocampal cortical thickness in ...</td>\n",
       "      <td>0.00</td>\n",
       "      <td>[psychological, medicine]</td>\n",
       "      <td>medicine</td>\n",
       "      <td>psychological</td>\n",
       "    </tr>\n",
       "    <tr>\n",
       "      <td>1</td>\n",
       "      <td>PMC3679557</td>\n",
       "      <td>ACS</td>\n",
       "      <td>biomacromolecules</td>\n",
       "      <td>Structural characterization of a Model Gram-ne...</td>\n",
       "      <td>2381.04</td>\n",
       "      <td>[biomacromolecule]</td>\n",
       "      <td>NaN</td>\n",
       "      <td>biomacromolecule</td>\n",
       "    </tr>\n",
       "    <tr>\n",
       "      <td>2</td>\n",
       "      <td>23043264  PMC3506128</td>\n",
       "      <td>ACS</td>\n",
       "      <td>j med chem</td>\n",
       "      <td>Fumaroylamino-4,5-epoxymorphinans and related ...</td>\n",
       "      <td>642.56</td>\n",
       "      <td>[j, med, chem]</td>\n",
       "      <td>NaN</td>\n",
       "      <td>chem</td>\n",
       "    </tr>\n",
       "    <tr>\n",
       "      <td>3</td>\n",
       "      <td>23438330 PMC3646402</td>\n",
       "      <td>ACS</td>\n",
       "      <td>j med chem</td>\n",
       "      <td>Orvinols with mixed kappa/mu opioid receptor a...</td>\n",
       "      <td>669.64</td>\n",
       "      <td>[j, med, chem]</td>\n",
       "      <td>NaN</td>\n",
       "      <td>chem</td>\n",
       "    </tr>\n",
       "    <tr>\n",
       "      <td>4</td>\n",
       "      <td>23438216 PMC3601604</td>\n",
       "      <td>ACS</td>\n",
       "      <td>j org chem</td>\n",
       "      <td>Regioselective opening of myo-inositol orthoes...</td>\n",
       "      <td>685.88</td>\n",
       "      <td>[j, org, chem]</td>\n",
       "      <td>NaN</td>\n",
       "      <td>chem</td>\n",
       "    </tr>\n",
       "  </tbody>\n",
       "</table>\n",
       "</div>"
      ],
      "text/plain": [
       "              pmid/pmcid publisher           journal_title  \\\n",
       "0                    NaN       CUP  psychological medicine   \n",
       "1             PMC3679557       ACS       biomacromolecules   \n",
       "2  23043264  PMC3506128        ACS              j med chem   \n",
       "3    23438330 PMC3646402       ACS              j med chem   \n",
       "4   23438216 PMC3601604        ACS              j org chem   \n",
       "\n",
       "                                       article_title     cost  \\\n",
       "0  Reduced parahippocampal cortical thickness in ...     0.00   \n",
       "1  Structural characterization of a Model Gram-ne...  2381.04   \n",
       "2  Fumaroylamino-4,5-epoxymorphinans and related ...   642.56   \n",
       "3  Orvinols with mixed kappa/mu opioid receptor a...   669.64   \n",
       "4  Regioselective opening of myo-inositol orthoes...   685.88   \n",
       "\n",
       "               journal_lemma lemma_bin  first_4_char_bin  \n",
       "0  [psychological, medicine]  medicine     psychological  \n",
       "1         [biomacromolecule]       NaN  biomacromolecule  \n",
       "2             [j, med, chem]       NaN              chem  \n",
       "3             [j, med, chem]       NaN              chem  \n",
       "4             [j, org, chem]       NaN              chem  "
      ]
     },
     "execution_count": 474,
     "metadata": {},
     "output_type": "execute_result"
    }
   ],
   "source": [
    "df.head()"
   ]
  },
  {
   "cell_type": "code",
   "execution_count": 475,
   "metadata": {},
   "outputs": [
    {
     "data": {
      "text/plain": [
       "biological       71\n",
       "cell             60\n",
       "molecular        54\n",
       "international    47\n",
       "clinical         43\n",
       "proceeding       40\n",
       "american         39\n",
       "health           37\n",
       "genetic          35\n",
       "neuroimage       34\n",
       "Name: first_4_char_bin, dtype: int64"
      ]
     },
     "execution_count": 475,
     "metadata": {},
     "output_type": "execute_result"
    }
   ],
   "source": [
    "# top 10 bins\n",
    "df.first_4_char_bin.value_counts().head(10)"
   ]
  },
  {
   "cell_type": "code",
   "execution_count": 476,
   "metadata": {},
   "outputs": [
    {
     "data": {
      "text/plain": [
       "460"
      ]
     },
     "execution_count": 476,
     "metadata": {},
     "output_type": "execute_result"
    }
   ],
   "source": [
    "# how many journals were included in the top 10 bins?\n",
    "df.first_4_char_bin.value_counts().head(10).sum()"
   ]
  },
  {
   "cell_type": "code",
   "execution_count": 477,
   "metadata": {},
   "outputs": [
    {
     "data": {
      "text/plain": [
       "1520"
      ]
     },
     "execution_count": 477,
     "metadata": {},
     "output_type": "execute_result"
    }
   ],
   "source": [
    "# how many journals were assigned?\n",
    "df.first_4_char_bin.value_counts().sum()"
   ]
  },
  {
   "cell_type": "code",
   "execution_count": 478,
   "metadata": {},
   "outputs": [
    {
     "data": {
      "text/plain": [
       "2127"
      ]
     },
     "execution_count": 478,
     "metadata": {},
     "output_type": "execute_result"
    }
   ],
   "source": [
    "# how many journals in total\n",
    "df.shape[0]"
   ]
  },
  {
   "cell_type": "code",
   "execution_count": 479,
   "metadata": {},
   "outputs": [
    {
     "data": {
      "text/plain": [
       "0.7146215326751293"
      ]
     },
     "execution_count": 479,
     "metadata": {},
     "output_type": "execute_result"
    }
   ],
   "source": [
    "# what percent of journals were assigned?\n",
    "df.first_4_char_bin.value_counts().sum() / \\\n",
    "df.shape[0]"
   ]
  },
  {
   "cell_type": "code",
   "execution_count": 480,
   "metadata": {},
   "outputs": [
    {
     "data": {
      "text/html": [
       "<div>\n",
       "<style scoped>\n",
       "    .dataframe tbody tr th:only-of-type {\n",
       "        vertical-align: middle;\n",
       "    }\n",
       "\n",
       "    .dataframe tbody tr th {\n",
       "        vertical-align: top;\n",
       "    }\n",
       "\n",
       "    .dataframe thead th {\n",
       "        text-align: right;\n",
       "    }\n",
       "</style>\n",
       "<table border=\"1\" class=\"dataframe\">\n",
       "  <thead>\n",
       "    <tr style=\"text-align: right;\">\n",
       "      <th></th>\n",
       "      <th>pmid/pmcid</th>\n",
       "      <th>publisher</th>\n",
       "      <th>journal_title</th>\n",
       "      <th>article_title</th>\n",
       "      <th>cost</th>\n",
       "      <th>journal_lemma</th>\n",
       "      <th>lemma_bin</th>\n",
       "      <th>first_4_char_bin</th>\n",
       "    </tr>\n",
       "  </thead>\n",
       "  <tbody>\n",
       "    <tr>\n",
       "      <td>15</td>\n",
       "      <td>PMC3572711</td>\n",
       "      <td>AGA Institute</td>\n",
       "      <td>gastroenterology</td>\n",
       "      <td>Much of the genetic risk of colorectal cancer ...</td>\n",
       "      <td>238.08</td>\n",
       "      <td>[gastroenterology]</td>\n",
       "      <td>NaN</td>\n",
       "      <td>NaN</td>\n",
       "    </tr>\n",
       "    <tr>\n",
       "      <td>35</td>\n",
       "      <td>PMC3673662</td>\n",
       "      <td>American College of Chest Physicians</td>\n",
       "      <td>chest</td>\n",
       "      <td>Synthetic response of stimulated respiratory e...</td>\n",
       "      <td>2383.94</td>\n",
       "      <td>[chest]</td>\n",
       "      <td>NaN</td>\n",
       "      <td>NaN</td>\n",
       "    </tr>\n",
       "    <tr>\n",
       "      <td>48</td>\n",
       "      <td>PMC3444304</td>\n",
       "      <td>American Psychological Association</td>\n",
       "      <td>emotion</td>\n",
       "      <td>Subjective responses to emotional stimuli duri...</td>\n",
       "      <td>2534.53</td>\n",
       "      <td>[emotion]</td>\n",
       "      <td>NaN</td>\n",
       "      <td>NaN</td>\n",
       "    </tr>\n",
       "    <tr>\n",
       "      <td>92</td>\n",
       "      <td>PMC3754575</td>\n",
       "      <td>American Society for Microbiology</td>\n",
       "      <td>journal of bacteriology</td>\n",
       "      <td>The agr locus sregulates virulence and coloniz...</td>\n",
       "      <td>1343.82</td>\n",
       "      <td>[journal, of, bacteriology]</td>\n",
       "      <td>NaN</td>\n",
       "      <td>NaN</td>\n",
       "    </tr>\n",
       "    <tr>\n",
       "      <td>96</td>\n",
       "      <td>PMCID:\\n    PMC3518918\\n\\n</td>\n",
       "      <td>American Society for Microbiology</td>\n",
       "      <td>mbio</td>\n",
       "      <td>EspZ of enteropathogenic and enterohemorrhagic...</td>\n",
       "      <td>1586.75</td>\n",
       "      <td>[mbio]</td>\n",
       "      <td>NaN</td>\n",
       "      <td>NaN</td>\n",
       "    </tr>\n",
       "  </tbody>\n",
       "</table>\n",
       "</div>"
      ],
      "text/plain": [
       "                    pmid/pmcid                             publisher  \\\n",
       "15                  PMC3572711                         AGA Institute   \n",
       "35                  PMC3673662  American College of Chest Physicians   \n",
       "48                  PMC3444304    American Psychological Association   \n",
       "92                  PMC3754575     American Society for Microbiology   \n",
       "96  PMCID:\\n    PMC3518918\\n\\n     American Society for Microbiology   \n",
       "\n",
       "              journal_title  \\\n",
       "15         gastroenterology   \n",
       "35                    chest   \n",
       "48                  emotion   \n",
       "92  journal of bacteriology   \n",
       "96                     mbio   \n",
       "\n",
       "                                        article_title     cost  \\\n",
       "15  Much of the genetic risk of colorectal cancer ...   238.08   \n",
       "35  Synthetic response of stimulated respiratory e...  2383.94   \n",
       "48  Subjective responses to emotional stimuli duri...  2534.53   \n",
       "92  The agr locus sregulates virulence and coloniz...  1343.82   \n",
       "96  EspZ of enteropathogenic and enterohemorrhagic...  1586.75   \n",
       "\n",
       "                  journal_lemma lemma_bin first_4_char_bin  \n",
       "15           [gastroenterology]       NaN              NaN  \n",
       "35                      [chest]       NaN              NaN  \n",
       "48                    [emotion]       NaN              NaN  \n",
       "92  [journal, of, bacteriology]       NaN              NaN  \n",
       "96                       [mbio]       NaN              NaN  "
      ]
     },
     "execution_count": 480,
     "metadata": {},
     "output_type": "execute_result"
    }
   ],
   "source": [
    "# which journal titles weren't binned using this method\n",
    "df[df.first_4_char_bin.isna()].head()"
   ]
  },
  {
   "cell_type": "markdown",
   "metadata": {},
   "source": [
    "### 3rd Method - Using First 4 Journal Name Characters With Multiple Tags\n",
    "Similar to the above, trying to get at a core root of the key words.\n",
    "\n",
    "But using multiple keywords combined."
   ]
  },
  {
   "cell_type": "code",
   "execution_count": 481,
   "metadata": {},
   "outputs": [],
   "source": [
    "# iterate through first 4 characters of journal lemma words\n",
    "# then bin based on key tags \n",
    "def bin_based_on_stem(stemmed_journal):\n",
    "    tags = []\n",
    "    for word in stemmed_journal:\n",
    "        if len(word) > 6:\n",
    "            if word[0:4] != 'jour':\n",
    "                tags.append(word[0:4])\n",
    "    \n",
    "    # if list is empty, return NaN\n",
    "    if not tags: \n",
    "        return np.nan\n",
    "    \n",
    "    tags.sort() \n",
    "    return ', '.join(tags)  \n",
    "#     return np.nan"
   ]
  },
  {
   "cell_type": "code",
   "execution_count": 482,
   "metadata": {},
   "outputs": [],
   "source": [
    "df['multiple_tags'] = df.journal_lemma.apply(bin_based_on_stem)"
   ]
  },
  {
   "cell_type": "code",
   "execution_count": 483,
   "metadata": {},
   "outputs": [
    {
     "data": {
      "text/html": [
       "<div>\n",
       "<style scoped>\n",
       "    .dataframe tbody tr th:only-of-type {\n",
       "        vertical-align: middle;\n",
       "    }\n",
       "\n",
       "    .dataframe tbody tr th {\n",
       "        vertical-align: top;\n",
       "    }\n",
       "\n",
       "    .dataframe thead th {\n",
       "        text-align: right;\n",
       "    }\n",
       "</style>\n",
       "<table border=\"1\" class=\"dataframe\">\n",
       "  <thead>\n",
       "    <tr style=\"text-align: right;\">\n",
       "      <th></th>\n",
       "      <th>pmid/pmcid</th>\n",
       "      <th>publisher</th>\n",
       "      <th>journal_title</th>\n",
       "      <th>article_title</th>\n",
       "      <th>cost</th>\n",
       "      <th>journal_lemma</th>\n",
       "      <th>lemma_bin</th>\n",
       "      <th>first_4_char_bin</th>\n",
       "      <th>multiple_tags</th>\n",
       "    </tr>\n",
       "  </thead>\n",
       "  <tbody>\n",
       "    <tr>\n",
       "      <td>0</td>\n",
       "      <td>NaN</td>\n",
       "      <td>CUP</td>\n",
       "      <td>psychological medicine</td>\n",
       "      <td>Reduced parahippocampal cortical thickness in ...</td>\n",
       "      <td>0.00</td>\n",
       "      <td>[psychological, medicine]</td>\n",
       "      <td>medicine</td>\n",
       "      <td>psychological</td>\n",
       "      <td>medi, psyc</td>\n",
       "    </tr>\n",
       "    <tr>\n",
       "      <td>1</td>\n",
       "      <td>PMC3679557</td>\n",
       "      <td>ACS</td>\n",
       "      <td>biomacromolecules</td>\n",
       "      <td>Structural characterization of a Model Gram-ne...</td>\n",
       "      <td>2381.04</td>\n",
       "      <td>[biomacromolecule]</td>\n",
       "      <td>NaN</td>\n",
       "      <td>biomacromolecule</td>\n",
       "      <td>biom</td>\n",
       "    </tr>\n",
       "    <tr>\n",
       "      <td>2</td>\n",
       "      <td>23043264  PMC3506128</td>\n",
       "      <td>ACS</td>\n",
       "      <td>j med chem</td>\n",
       "      <td>Fumaroylamino-4,5-epoxymorphinans and related ...</td>\n",
       "      <td>642.56</td>\n",
       "      <td>[j, med, chem]</td>\n",
       "      <td>NaN</td>\n",
       "      <td>chem</td>\n",
       "      <td>NaN</td>\n",
       "    </tr>\n",
       "    <tr>\n",
       "      <td>3</td>\n",
       "      <td>23438330 PMC3646402</td>\n",
       "      <td>ACS</td>\n",
       "      <td>j med chem</td>\n",
       "      <td>Orvinols with mixed kappa/mu opioid receptor a...</td>\n",
       "      <td>669.64</td>\n",
       "      <td>[j, med, chem]</td>\n",
       "      <td>NaN</td>\n",
       "      <td>chem</td>\n",
       "      <td>NaN</td>\n",
       "    </tr>\n",
       "    <tr>\n",
       "      <td>4</td>\n",
       "      <td>23438216 PMC3601604</td>\n",
       "      <td>ACS</td>\n",
       "      <td>j org chem</td>\n",
       "      <td>Regioselective opening of myo-inositol orthoes...</td>\n",
       "      <td>685.88</td>\n",
       "      <td>[j, org, chem]</td>\n",
       "      <td>NaN</td>\n",
       "      <td>chem</td>\n",
       "      <td>NaN</td>\n",
       "    </tr>\n",
       "  </tbody>\n",
       "</table>\n",
       "</div>"
      ],
      "text/plain": [
       "              pmid/pmcid publisher           journal_title  \\\n",
       "0                    NaN       CUP  psychological medicine   \n",
       "1             PMC3679557       ACS       biomacromolecules   \n",
       "2  23043264  PMC3506128        ACS              j med chem   \n",
       "3    23438330 PMC3646402       ACS              j med chem   \n",
       "4   23438216 PMC3601604        ACS              j org chem   \n",
       "\n",
       "                                       article_title     cost  \\\n",
       "0  Reduced parahippocampal cortical thickness in ...     0.00   \n",
       "1  Structural characterization of a Model Gram-ne...  2381.04   \n",
       "2  Fumaroylamino-4,5-epoxymorphinans and related ...   642.56   \n",
       "3  Orvinols with mixed kappa/mu opioid receptor a...   669.64   \n",
       "4  Regioselective opening of myo-inositol orthoes...   685.88   \n",
       "\n",
       "               journal_lemma lemma_bin  first_4_char_bin multiple_tags  \n",
       "0  [psychological, medicine]  medicine     psychological    medi, psyc  \n",
       "1         [biomacromolecule]       NaN  biomacromolecule          biom  \n",
       "2             [j, med, chem]       NaN              chem           NaN  \n",
       "3             [j, med, chem]       NaN              chem           NaN  \n",
       "4             [j, org, chem]       NaN              chem           NaN  "
      ]
     },
     "execution_count": 483,
     "metadata": {},
     "output_type": "execute_result"
    }
   ],
   "source": [
    "df.head()"
   ]
  },
  {
   "cell_type": "code",
   "execution_count": 484,
   "metadata": {},
   "outputs": [
    {
     "data": {
      "text/plain": [
       "neur                      122\n",
       "biol, chem                 72\n",
       "gene                       32\n",
       "nucl, rese                 29\n",
       "path                       28\n",
       "deve                       27\n",
       "acad, nati, proc, scie     25\n",
       "biol                       24\n",
       "dise, negl, trop           22\n",
       "gene, mole                 20\n",
       "Name: multiple_tags, dtype: int64"
      ]
     },
     "execution_count": 484,
     "metadata": {},
     "output_type": "execute_result"
    }
   ],
   "source": [
    "# top 10 journal tag combinations\n",
    "df.multiple_tags.value_counts().head(10)"
   ]
  },
  {
   "cell_type": "code",
   "execution_count": 485,
   "metadata": {},
   "outputs": [
    {
     "data": {
      "text/plain": [
       "401"
      ]
     },
     "execution_count": 485,
     "metadata": {},
     "output_type": "execute_result"
    }
   ],
   "source": [
    "# how many journals are captured within 10 tag combinations\n",
    "df.multiple_tags.value_counts().head(10).sum()"
   ]
  },
  {
   "cell_type": "code",
   "execution_count": 486,
   "metadata": {},
   "outputs": [
    {
     "data": {
      "text/plain": [
       "1644"
      ]
     },
     "execution_count": 486,
     "metadata": {},
     "output_type": "execute_result"
    }
   ],
   "source": [
    "# how many journals were assigned?\n",
    "df.multiple_tags.value_counts().sum()"
   ]
  },
  {
   "cell_type": "code",
   "execution_count": 487,
   "metadata": {},
   "outputs": [
    {
     "data": {
      "text/plain": [
       "2127"
      ]
     },
     "execution_count": 487,
     "metadata": {},
     "output_type": "execute_result"
    }
   ],
   "source": [
    "# how many journals in total\n",
    "df.shape[0]"
   ]
  },
  {
   "cell_type": "code",
   "execution_count": 488,
   "metadata": {},
   "outputs": [
    {
     "data": {
      "text/plain": [
       "0.7729196050775741"
      ]
     },
     "execution_count": 488,
     "metadata": {},
     "output_type": "execute_result"
    }
   ],
   "source": [
    "# what percent of journals were assigned?\n",
    "df.multiple_tags.value_counts().sum() / \\\n",
    "df.shape[0]"
   ]
  },
  {
   "cell_type": "markdown",
   "metadata": {},
   "source": [
    "a higher percentage of journals were assigned with this method, however, fewer journals were captured within the top 10 categories"
   ]
  },
  {
   "cell_type": "code",
   "execution_count": 489,
   "metadata": {},
   "outputs": [
    {
     "data": {
      "text/html": [
       "<div>\n",
       "<style scoped>\n",
       "    .dataframe tbody tr th:only-of-type {\n",
       "        vertical-align: middle;\n",
       "    }\n",
       "\n",
       "    .dataframe tbody tr th {\n",
       "        vertical-align: top;\n",
       "    }\n",
       "\n",
       "    .dataframe thead th {\n",
       "        text-align: right;\n",
       "    }\n",
       "</style>\n",
       "<table border=\"1\" class=\"dataframe\">\n",
       "  <thead>\n",
       "    <tr style=\"text-align: right;\">\n",
       "      <th></th>\n",
       "      <th>pmid/pmcid</th>\n",
       "      <th>publisher</th>\n",
       "      <th>journal_title</th>\n",
       "      <th>article_title</th>\n",
       "      <th>cost</th>\n",
       "      <th>journal_lemma</th>\n",
       "      <th>lemma_bin</th>\n",
       "      <th>first_4_char_bin</th>\n",
       "      <th>multiple_tags</th>\n",
       "    </tr>\n",
       "  </thead>\n",
       "  <tbody>\n",
       "    <tr>\n",
       "      <td>2</td>\n",
       "      <td>23043264  PMC3506128</td>\n",
       "      <td>ACS</td>\n",
       "      <td>j med chem</td>\n",
       "      <td>Fumaroylamino-4,5-epoxymorphinans and related ...</td>\n",
       "      <td>642.56</td>\n",
       "      <td>[j, med, chem]</td>\n",
       "      <td>NaN</td>\n",
       "      <td>chem</td>\n",
       "      <td>NaN</td>\n",
       "    </tr>\n",
       "    <tr>\n",
       "      <td>3</td>\n",
       "      <td>23438330 PMC3646402</td>\n",
       "      <td>ACS</td>\n",
       "      <td>j med chem</td>\n",
       "      <td>Orvinols with mixed kappa/mu opioid receptor a...</td>\n",
       "      <td>669.64</td>\n",
       "      <td>[j, med, chem]</td>\n",
       "      <td>NaN</td>\n",
       "      <td>chem</td>\n",
       "      <td>NaN</td>\n",
       "    </tr>\n",
       "    <tr>\n",
       "      <td>4</td>\n",
       "      <td>23438216 PMC3601604</td>\n",
       "      <td>ACS</td>\n",
       "      <td>j org chem</td>\n",
       "      <td>Regioselective opening of myo-inositol orthoes...</td>\n",
       "      <td>685.88</td>\n",
       "      <td>[j, org, chem]</td>\n",
       "      <td>NaN</td>\n",
       "      <td>chem</td>\n",
       "      <td>NaN</td>\n",
       "    </tr>\n",
       "    <tr>\n",
       "      <td>7</td>\n",
       "      <td>23057412 PMC3495574</td>\n",
       "      <td>ACS</td>\n",
       "      <td>mol pharm</td>\n",
       "      <td>Quantitative silencing of EGFP reporter gene b...</td>\n",
       "      <td>649.33</td>\n",
       "      <td>[mol, pharm]</td>\n",
       "      <td>NaN</td>\n",
       "      <td>pharm</td>\n",
       "      <td>NaN</td>\n",
       "    </tr>\n",
       "    <tr>\n",
       "      <td>23</td>\n",
       "      <td>PMCID: 3584654</td>\n",
       "      <td>AMERICAN CHEMICAL SOCIETY</td>\n",
       "      <td>acs nano</td>\n",
       "      <td>HYDROXY-TERMINATED CONJUGATED POLYMER NANOPART...</td>\n",
       "      <td>642.89</td>\n",
       "      <td>[acs, nano]</td>\n",
       "      <td>NaN</td>\n",
       "      <td>nano</td>\n",
       "      <td>NaN</td>\n",
       "    </tr>\n",
       "  </tbody>\n",
       "</table>\n",
       "</div>"
      ],
      "text/plain": [
       "               pmid/pmcid                  publisher journal_title  \\\n",
       "2   23043264  PMC3506128                         ACS    j med chem   \n",
       "3     23438330 PMC3646402                        ACS    j med chem   \n",
       "4    23438216 PMC3601604                         ACS    j org chem   \n",
       "7    23057412 PMC3495574                         ACS     mol pharm   \n",
       "23         PMCID: 3584654  AMERICAN CHEMICAL SOCIETY      acs nano   \n",
       "\n",
       "                                        article_title    cost   journal_lemma  \\\n",
       "2   Fumaroylamino-4,5-epoxymorphinans and related ...  642.56  [j, med, chem]   \n",
       "3   Orvinols with mixed kappa/mu opioid receptor a...  669.64  [j, med, chem]   \n",
       "4   Regioselective opening of myo-inositol orthoes...  685.88  [j, org, chem]   \n",
       "7   Quantitative silencing of EGFP reporter gene b...  649.33    [mol, pharm]   \n",
       "23  HYDROXY-TERMINATED CONJUGATED POLYMER NANOPART...  642.89     [acs, nano]   \n",
       "\n",
       "   lemma_bin first_4_char_bin multiple_tags  \n",
       "2        NaN             chem           NaN  \n",
       "3        NaN             chem           NaN  \n",
       "4        NaN             chem           NaN  \n",
       "7        NaN            pharm           NaN  \n",
       "23       NaN             nano           NaN  "
      ]
     },
     "execution_count": 489,
     "metadata": {},
     "output_type": "execute_result"
    }
   ],
   "source": [
    "# which journal titles weren't binned using this method\n",
    "df[df.multiple_tags.isna()].head()"
   ]
  },
  {
   "cell_type": "markdown",
   "metadata": {},
   "source": [
    "## Prices by Subject Area"
   ]
  },
  {
   "cell_type": "markdown",
   "metadata": {},
   "source": [
    "### 1st Method"
   ]
  },
  {
   "cell_type": "code",
   "execution_count": 490,
   "metadata": {},
   "outputs": [
    {
     "data": {
      "text/html": [
       "<div>\n",
       "<style scoped>\n",
       "    .dataframe tbody tr th:only-of-type {\n",
       "        vertical-align: middle;\n",
       "    }\n",
       "\n",
       "    .dataframe tbody tr th {\n",
       "        vertical-align: top;\n",
       "    }\n",
       "\n",
       "    .dataframe thead th {\n",
       "        text-align: right;\n",
       "    }\n",
       "</style>\n",
       "<table border=\"1\" class=\"dataframe\">\n",
       "  <thead>\n",
       "    <tr style=\"text-align: right;\">\n",
       "      <th></th>\n",
       "      <th>mean</th>\n",
       "      <th>count</th>\n",
       "    </tr>\n",
       "    <tr>\n",
       "      <th>lemma_bin</th>\n",
       "      <th></th>\n",
       "      <th></th>\n",
       "    </tr>\n",
       "  </thead>\n",
       "  <tbody>\n",
       "    <tr>\n",
       "      <td>chemistry</td>\n",
       "      <td>1384.629277</td>\n",
       "      <td>83</td>\n",
       "    </tr>\n",
       "    <tr>\n",
       "      <td>cell</td>\n",
       "      <td>2527.133086</td>\n",
       "      <td>81</td>\n",
       "    </tr>\n",
       "    <tr>\n",
       "      <td>genetic</td>\n",
       "      <td>1859.493375</td>\n",
       "      <td>80</td>\n",
       "    </tr>\n",
       "    <tr>\n",
       "      <td>biology</td>\n",
       "      <td>1920.936842</td>\n",
       "      <td>76</td>\n",
       "    </tr>\n",
       "    <tr>\n",
       "      <td>medicine</td>\n",
       "      <td>1829.141053</td>\n",
       "      <td>57</td>\n",
       "    </tr>\n",
       "    <tr>\n",
       "      <td>disease</td>\n",
       "      <td>1904.603455</td>\n",
       "      <td>55</td>\n",
       "    </tr>\n",
       "    <tr>\n",
       "      <td>health</td>\n",
       "      <td>1580.639583</td>\n",
       "      <td>48</td>\n",
       "    </tr>\n",
       "    <tr>\n",
       "      <td>research</td>\n",
       "      <td>1708.614565</td>\n",
       "      <td>46</td>\n",
       "    </tr>\n",
       "    <tr>\n",
       "      <td>neuroscience</td>\n",
       "      <td>1993.016341</td>\n",
       "      <td>41</td>\n",
       "    </tr>\n",
       "    <tr>\n",
       "      <td>proceeding</td>\n",
       "      <td>990.149250</td>\n",
       "      <td>40</td>\n",
       "    </tr>\n",
       "  </tbody>\n",
       "</table>\n",
       "</div>"
      ],
      "text/plain": [
       "                     mean  count\n",
       "lemma_bin                       \n",
       "chemistry     1384.629277     83\n",
       "cell          2527.133086     81\n",
       "genetic       1859.493375     80\n",
       "biology       1920.936842     76\n",
       "medicine      1829.141053     57\n",
       "disease       1904.603455     55\n",
       "health        1580.639583     48\n",
       "research      1708.614565     46\n",
       "neuroscience  1993.016341     41\n",
       "proceeding     990.149250     40"
      ]
     },
     "execution_count": 490,
     "metadata": {},
     "output_type": "execute_result"
    }
   ],
   "source": [
    "df.groupby(df.lemma_bin)['cost'].agg(['mean', 'count']).sort_values(by='count', ascending=False).head(10)"
   ]
  },
  {
   "cell_type": "markdown",
   "metadata": {},
   "source": [
    "### 2nd Method"
   ]
  },
  {
   "cell_type": "code",
   "execution_count": 491,
   "metadata": {},
   "outputs": [
    {
     "data": {
      "text/html": [
       "<div>\n",
       "<style scoped>\n",
       "    .dataframe tbody tr th:only-of-type {\n",
       "        vertical-align: middle;\n",
       "    }\n",
       "\n",
       "    .dataframe tbody tr th {\n",
       "        vertical-align: top;\n",
       "    }\n",
       "\n",
       "    .dataframe thead th {\n",
       "        text-align: right;\n",
       "    }\n",
       "</style>\n",
       "<table border=\"1\" class=\"dataframe\">\n",
       "  <thead>\n",
       "    <tr style=\"text-align: right;\">\n",
       "      <th></th>\n",
       "      <th>mean</th>\n",
       "      <th>count</th>\n",
       "    </tr>\n",
       "    <tr>\n",
       "      <th>first_4_char_bin</th>\n",
       "      <th></th>\n",
       "      <th></th>\n",
       "    </tr>\n",
       "  </thead>\n",
       "  <tbody>\n",
       "    <tr>\n",
       "      <td>biological</td>\n",
       "      <td>1420.729718</td>\n",
       "      <td>71</td>\n",
       "    </tr>\n",
       "    <tr>\n",
       "      <td>cell</td>\n",
       "      <td>2444.991667</td>\n",
       "      <td>60</td>\n",
       "    </tr>\n",
       "    <tr>\n",
       "      <td>molecular</td>\n",
       "      <td>2063.303889</td>\n",
       "      <td>54</td>\n",
       "    </tr>\n",
       "    <tr>\n",
       "      <td>international</td>\n",
       "      <td>1837.500851</td>\n",
       "      <td>47</td>\n",
       "    </tr>\n",
       "    <tr>\n",
       "      <td>clinical</td>\n",
       "      <td>2126.326279</td>\n",
       "      <td>43</td>\n",
       "    </tr>\n",
       "    <tr>\n",
       "      <td>proceeding</td>\n",
       "      <td>990.149250</td>\n",
       "      <td>40</td>\n",
       "    </tr>\n",
       "    <tr>\n",
       "      <td>american</td>\n",
       "      <td>2024.160000</td>\n",
       "      <td>39</td>\n",
       "    </tr>\n",
       "    <tr>\n",
       "      <td>health</td>\n",
       "      <td>1577.875135</td>\n",
       "      <td>37</td>\n",
       "    </tr>\n",
       "    <tr>\n",
       "      <td>genetic</td>\n",
       "      <td>1576.329714</td>\n",
       "      <td>35</td>\n",
       "    </tr>\n",
       "    <tr>\n",
       "      <td>neuroimage</td>\n",
       "      <td>2050.756176</td>\n",
       "      <td>34</td>\n",
       "    </tr>\n",
       "  </tbody>\n",
       "</table>\n",
       "</div>"
      ],
      "text/plain": [
       "                         mean  count\n",
       "first_4_char_bin                    \n",
       "biological        1420.729718     71\n",
       "cell              2444.991667     60\n",
       "molecular         2063.303889     54\n",
       "international     1837.500851     47\n",
       "clinical          2126.326279     43\n",
       "proceeding         990.149250     40\n",
       "american          2024.160000     39\n",
       "health            1577.875135     37\n",
       "genetic           1576.329714     35\n",
       "neuroimage        2050.756176     34"
      ]
     },
     "execution_count": 491,
     "metadata": {},
     "output_type": "execute_result"
    }
   ],
   "source": [
    "df.groupby(df.first_4_char_bin)['cost'].agg(['mean', 'count']).sort_values(by='count', ascending=False).head(10)"
   ]
  },
  {
   "cell_type": "markdown",
   "metadata": {},
   "source": [
    "### 3rd Method"
   ]
  },
  {
   "cell_type": "code",
   "execution_count": 492,
   "metadata": {},
   "outputs": [
    {
     "data": {
      "text/html": [
       "<div>\n",
       "<style scoped>\n",
       "    .dataframe tbody tr th:only-of-type {\n",
       "        vertical-align: middle;\n",
       "    }\n",
       "\n",
       "    .dataframe tbody tr th {\n",
       "        vertical-align: top;\n",
       "    }\n",
       "\n",
       "    .dataframe thead th {\n",
       "        text-align: right;\n",
       "    }\n",
       "</style>\n",
       "<table border=\"1\" class=\"dataframe\">\n",
       "  <thead>\n",
       "    <tr style=\"text-align: right;\">\n",
       "      <th></th>\n",
       "      <th>mean</th>\n",
       "      <th>count</th>\n",
       "    </tr>\n",
       "    <tr>\n",
       "      <th>multiple_tags</th>\n",
       "      <th></th>\n",
       "      <th></th>\n",
       "    </tr>\n",
       "  </thead>\n",
       "  <tbody>\n",
       "    <tr>\n",
       "      <td>neur</td>\n",
       "      <td>2082.501803</td>\n",
       "      <td>122</td>\n",
       "    </tr>\n",
       "    <tr>\n",
       "      <td>biol, chem</td>\n",
       "      <td>1352.705972</td>\n",
       "      <td>72</td>\n",
       "    </tr>\n",
       "    <tr>\n",
       "      <td>gene</td>\n",
       "      <td>1523.751250</td>\n",
       "      <td>32</td>\n",
       "    </tr>\n",
       "    <tr>\n",
       "      <td>nucl, rese</td>\n",
       "      <td>1162.344828</td>\n",
       "      <td>29</td>\n",
       "    </tr>\n",
       "    <tr>\n",
       "      <td>path</td>\n",
       "      <td>1304.495357</td>\n",
       "      <td>28</td>\n",
       "    </tr>\n",
       "    <tr>\n",
       "      <td>deve</td>\n",
       "      <td>2536.937407</td>\n",
       "      <td>27</td>\n",
       "    </tr>\n",
       "    <tr>\n",
       "      <td>acad, nati, proc, scie</td>\n",
       "      <td>788.272400</td>\n",
       "      <td>25</td>\n",
       "    </tr>\n",
       "    <tr>\n",
       "      <td>biol</td>\n",
       "      <td>1353.404583</td>\n",
       "      <td>24</td>\n",
       "    </tr>\n",
       "    <tr>\n",
       "      <td>dise, negl, trop</td>\n",
       "      <td>1748.653636</td>\n",
       "      <td>22</td>\n",
       "    </tr>\n",
       "    <tr>\n",
       "      <td>bioc</td>\n",
       "      <td>1765.056000</td>\n",
       "      <td>20</td>\n",
       "    </tr>\n",
       "  </tbody>\n",
       "</table>\n",
       "</div>"
      ],
      "text/plain": [
       "                               mean  count\n",
       "multiple_tags                             \n",
       "neur                    2082.501803    122\n",
       "biol, chem              1352.705972     72\n",
       "gene                    1523.751250     32\n",
       "nucl, rese              1162.344828     29\n",
       "path                    1304.495357     28\n",
       "deve                    2536.937407     27\n",
       "acad, nati, proc, scie   788.272400     25\n",
       "biol                    1353.404583     24\n",
       "dise, negl, trop        1748.653636     22\n",
       "bioc                    1765.056000     20"
      ]
     },
     "execution_count": 492,
     "metadata": {},
     "output_type": "execute_result"
    }
   ],
   "source": [
    "df.groupby(df.multiple_tags)['cost'].agg(['mean', 'count']).sort_values(by='count', ascending=False).head(10)"
   ]
  }
 ],
 "metadata": {
  "kernelspec": {
   "display_name": "Python 3",
   "language": "python",
   "name": "python3"
  },
  "language_info": {
   "codemirror_mode": {
    "name": "ipython",
    "version": 3
   },
   "file_extension": ".py",
   "mimetype": "text/x-python",
   "name": "python",
   "nbconvert_exporter": "python",
   "pygments_lexer": "ipython3",
   "version": "3.7.3"
  }
 },
 "nbformat": 4,
 "nbformat_minor": 4
}
